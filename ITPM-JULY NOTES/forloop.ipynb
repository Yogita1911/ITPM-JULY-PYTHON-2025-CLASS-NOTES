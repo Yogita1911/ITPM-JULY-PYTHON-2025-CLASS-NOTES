{
 "cells": [
  {
   "cell_type": "markdown",
   "id": "f6dcf1f8",
   "metadata": {},
   "source": [
    "# 1.For :\n",
    "syntax in c : for (i,cond,incr/dec);\n",
    "syntax in python : for itrative_variable (i) in seques/range:"
   ]
  },
  {
   "cell_type": "code",
   "execution_count": null,
   "id": "ce8808b3",
   "metadata": {},
   "outputs": [
    {
     "name": "stdout",
     "output_type": "stream",
     "text": [
      "1\n",
      "2\n",
      "3\n",
      "4\n",
      "5\n",
      "6\n",
      "7\n",
      "8\n",
      "9\n",
      "10\n"
     ]
    }
   ],
   "source": [
    "#1.Wap to print 1 to 10 numbers using for loop.\n",
    "for i in range(1,11): #\n",
    "    print(i)"
   ]
  },
  {
   "cell_type": "code",
   "execution_count": null,
   "id": "62bd5dac",
   "metadata": {},
   "outputs": [
    {
     "name": "stdout",
     "output_type": "stream",
     "text": [
      "2\n",
      "4\n",
      "6\n",
      "8\n",
      "10\n"
     ]
    }
   ],
   "source": [
    "#2.Wap to print even numbers from 1 to 10.\n",
    "for i in range(1,11):\n",
    "    if i%2==0:\n",
    "     print(i)"
   ]
  },
  {
   "cell_type": "code",
   "execution_count": null,
   "id": "fc6114ed",
   "metadata": {},
   "outputs": [
    {
     "name": "stdout",
     "output_type": "stream",
     "text": [
      "2\n",
      "4\n",
      "6\n",
      "8\n",
      "10\n"
     ]
    }
   ],
   "source": [
    "for i in range(2,11,2): # range(start:end:steps)\n",
    "    print(i)"
   ]
  },
  {
   "cell_type": "code",
   "execution_count": null,
   "id": "a8a5a44e",
   "metadata": {},
   "outputs": [
    {
     "name": "stdout",
     "output_type": "stream",
     "text": [
      "10\n",
      "9\n",
      "8\n",
      "7\n",
      "6\n",
      "5\n",
      "4\n",
      "3\n",
      "2\n",
      "1\n"
     ]
    }
   ],
   "source": [
    "#3.Wap to print 1 to 10 numbers in reverse order.\n",
    "for i in range(10,0,-1):\n",
    "    print(i)"
   ]
  },
  {
   "cell_type": "code",
   "execution_count": null,
   "id": "a220a7d5",
   "metadata": {},
   "outputs": [
    {
     "name": "stdout",
     "output_type": "stream",
     "text": [
      "10\n",
      "8\n",
      "6\n",
      "4\n",
      "2\n"
     ]
    }
   ],
   "source": [
    "#4.Wap to print Even numbers from 1 to 10 in reverse order.\n",
    "for i in range(10,0,-2):\n",
    "    print(i)"
   ]
  },
  {
   "cell_type": "code",
   "execution_count": null,
   "id": "a17b8f57",
   "metadata": {},
   "outputs": [
    {
     "name": "stdout",
     "output_type": "stream",
     "text": [
      "9\n",
      "7\n",
      "5\n",
      "3\n",
      "1\n"
     ]
    }
   ],
   "source": [
    "#5.Wap to print odd numbers from 1 to 10 in reverse order.\n",
    "for i in range(9,0,-2):\n",
    "    print(i)"
   ]
  },
  {
   "cell_type": "code",
   "execution_count": null,
   "id": "c3199df8",
   "metadata": {},
   "outputs": [
    {
     "name": "stdout",
     "output_type": "stream",
     "text": [
      "3\n",
      "6\n",
      "9\n"
     ]
    }
   ],
   "source": [
    "#6.Wap to print the numbers from t 1 to 10 which are divisible by 3 .\n",
    "for i in range(1,11):\n",
    "    if i%3==0:\n",
    "        print(i)"
   ]
  },
  {
   "cell_type": "code",
   "execution_count": 10,
   "id": "8f0778b7",
   "metadata": {},
   "outputs": [
    {
     "name": "stdout",
     "output_type": "stream",
     "text": [
      "3\n",
      "6\n",
      "9\n"
     ]
    }
   ],
   "source": [
    "for i in range(3,11,3):\n",
    "    print(i)"
   ]
  },
  {
   "cell_type": "code",
   "execution_count": 11,
   "id": "314d9dea",
   "metadata": {},
   "outputs": [
    {
     "name": "stdout",
     "output_type": "stream",
     "text": [
      "55\n"
     ]
    }
   ],
   "source": [
    "#7.Wap to print addition of all numbers from 1 to 10.\n",
    "sum = 0\n",
    "for i in range(1,11):\n",
    "    sum = sum+i\n",
    "print(sum)"
   ]
  },
  {
   "cell_type": "code",
   "execution_count": 12,
   "id": "6da0f187",
   "metadata": {},
   "outputs": [
    {
     "name": "stdout",
     "output_type": "stream",
     "text": [
      "1\n",
      "3\n",
      "6\n",
      "10\n",
      "15\n",
      "21\n",
      "28\n",
      "36\n",
      "45\n",
      "55\n"
     ]
    }
   ],
   "source": [
    "#8.Wap to print cumelative sum of nummbers from 1 to 10.\n",
    "sum = 0\n",
    "for i in range(1,11):\n",
    "    sum = sum+i\n",
    "    print(sum)"
   ]
  },
  {
   "cell_type": "code",
   "execution_count": null,
   "id": "380d015a",
   "metadata": {},
   "outputs": [
    {
     "name": "stdout",
     "output_type": "stream",
     "text": [
      "12\n",
      "32\n",
      "43\n",
      "21\n",
      "1\n",
      "45\n",
      "65\n",
      "78\n",
      "100\n"
     ]
    }
   ],
   "source": [
    "#9.Wap to print   all elements in a list./wap to itrat over a given seq.\n",
    "list1 = [12,32,43,21,1,45,65,78,100]\n",
    "for i in list1:\n",
    "    print(i)\n",
    "    "
   ]
  },
  {
   "cell_type": "code",
   "execution_count": 14,
   "id": "50e72cfc",
   "metadata": {},
   "outputs": [
    {
     "name": "stdout",
     "output_type": "stream",
     "text": [
      "A\n",
      "n\n",
      "k\n",
      "i\n",
      "t\n"
     ]
    }
   ],
   "source": [
    "#10.Wap to itrate over a given string and print all elements in a string.\n",
    "str1 = \"Ankit\"\n",
    "for i in str1:\n",
    "    print(i)"
   ]
  },
  {
   "cell_type": "code",
   "execution_count": 15,
   "id": "e4f28e92",
   "metadata": {},
   "outputs": [
    {
     "name": "stdout",
     "output_type": "stream",
     "text": [
      "['S', 'a', 'n', 'k', 'e', 't']\n"
     ]
    }
   ],
   "source": [
    "#10.Wap to itrate over a given string and print all elements in a list\n",
    "# I/o : \"Sanket\" o/p : [S,a,n,k,e,t]\n",
    "str2 = \"Sanket\"\n",
    "list2 = []\n",
    "for i in str2:\n",
    "    list2.append(i)\n",
    "    \n",
    "print(list2)"
   ]
  },
  {
   "cell_type": "code",
   "execution_count": null,
   "id": "b0ec3b31",
   "metadata": {},
   "outputs": [
    {
     "ename": "TypeError",
     "evalue": "'dict' object is not callable",
     "output_type": "error",
     "traceback": [
      "\u001b[31m---------------------------------------------------------------------------\u001b[39m",
      "\u001b[31mTypeError\u001b[39m                                 Traceback (most recent call last)",
      "\u001b[36mCell\u001b[39m\u001b[36m \u001b[39m\u001b[32mIn[25]\u001b[39m\u001b[32m, line 7\u001b[39m\n\u001b[32m      5\u001b[39m \u001b[38;5;28;01mfor\u001b[39;00m i \u001b[38;5;129;01min\u001b[39;00m string1:\n\u001b[32m      6\u001b[39m     list1.append(i)\n\u001b[32m----> \u001b[39m\u001b[32m7\u001b[39m set1=\u001b[38;5;28;43mset\u001b[39;49m\u001b[43m(\u001b[49m\u001b[43mlist1\u001b[49m\u001b[43m)\u001b[49m\n\u001b[32m      8\u001b[39m \u001b[38;5;28mprint\u001b[39m(set1)\n",
      "\u001b[31mTypeError\u001b[39m: 'dict' object is not callable"
     ]
    }
   ],
   "source": [
    "#11.WAp to print itrate over a given string and \n",
    "# print only unique elements from give String.\n",
    "string1 = \"Nayana\"\n",
    "list1 = []\n",
    "for i in string1:\n",
    "    list1.append(i)\n",
    "set1=set(list1)\n",
    "print(set1)"
   ]
  },
  {
   "cell_type": "code",
   "execution_count": null,
   "id": "4241a2bf",
   "metadata": {},
   "outputs": [
    {
     "name": "stdout",
     "output_type": "stream",
     "text": [
      "Totol Number of Vowels in String: 7\n",
      "This is the list of Vowels in String ['I', 'a', 'o', 'I', 'u', 'o', 'a']\n"
     ]
    }
   ],
   "source": [
    "#12.Wap to print all vowels from give string and print total number of vowels also.\n",
    "string1 = \"I am from Itpm july python batch\"\n",
    "vowels = \"aeiouAEIOU\"\n",
    "Vowels_in_String = []\n",
    "Vowel_Counter = 0\n",
    "for i in string1:\n",
    "    if i in vowels:\n",
    "        Vowel_Counter +=1\n",
    "        Vowels_in_String.append(i)\n",
    "        \n",
    "print(\"Totol Number of Vowels in String:\",Vowel_Counter)\n",
    "print(\"This is the list of Vowels in String\",Vowels_in_String)\n",
    "        "
   ]
  },
  {
   "cell_type": "code",
   "execution_count": null,
   "id": "721e8ba5",
   "metadata": {},
   "outputs": [
    {
     "name": "stdout",
     "output_type": "stream",
     "text": [
      "Totol Number of Vowels in String: 7\n",
      "This is the list of Vowels in String ['I', 'a', 'o', 'I', 'u', 'o', 'a']\n",
      "Totol Number of Consonant in String: 25\n",
      "This is the list of Consonant in String [' ', 'm', ' ', 'f', 'r', 'm', ' ', 't', 'p', 'm', ' ', 'j', 'l', 'y', ' ', 'p', 'y', 't', 'h', 'n', ' ', 'b', 't', 'c', 'h']\n"
     ]
    }
   ],
   "source": [
    "#13.\n",
    "string1 = \"I am from Itpm july python batch\"\n",
    "vowels = \"aeiouAEIOU\"\n",
    "Vowels_in_String = []\n",
    "Vowel_Counter = 0\n",
    "Consonant_Counter = 0\n",
    "Consonant_in_String = []\n",
    "for i in string1:\n",
    "    if i in vowels:\n",
    "        Vowel_Counter +=1\n",
    "        Vowels_in_String.append(i)\n",
    "    else:\n",
    "        Consonant_Counter +=1\n",
    "        Consonant_in_String.append(i)\n",
    "        \n",
    "        \n",
    "print(\"Totol Number of Vowels in String:\",Vowel_Counter)\n",
    "print(\"This is the list of Vowels in String\",Vowels_in_String)\n",
    "print(\"Totol Number of Consonant in String:\",Consonant_Counter)\n",
    "print(\"This is the list of Consonant in String\",Consonant_in_String)\n",
    "\n",
    "        "
   ]
  },
  {
   "cell_type": "code",
   "execution_count": null,
   "id": "a2fe4e54",
   "metadata": {},
   "outputs": [
    {
     "name": "stdout",
     "output_type": "stream",
     "text": [
      "Totol Number of Vowels in String: 7\n",
      "This is the list of Vowels in String ['I', 'a', 'o', 'I', 'u', 'o', 'a']\n",
      "Totol Number of Consonant in String: 19\n",
      "This is the list of Consonant in String ['m', 'f', 'r', 'm', 't', 'p', 'm', 'j', 'l', 'y', 'p', 'y', 't', 'h', 'n', 'b', 't', 'c', 'h']\n",
      "This is the number of special symbols in String 3\n",
      "This is the list of Special Symbols in String ['$', '#', '@']\n",
      "This is the total of Digits in String 5\n",
      "This is the list of Consonant in String ['1', '3', '2', '3', '4']\n",
      "This is the total of Space in String 9\n"
     ]
    }
   ],
   "source": [
    "#string1 = \"I am1 from $ Itpm july3 python# batch @ 234\"\n",
    "#14.Wap Count and print Vowels,Consonant,digits,Special symbols and space.string1 = \"I am from Itpm july python batch\"\n",
    "string1 = \"I am1 from $ Itpm july3 python# batch @ 234\"\n",
    "vowels = \"aeiouAEIOU\"\n",
    "Space = \" \"\n",
    "Digit = \"0123456789\"\n",
    "Symbol = \"!@#$%^&*(){}[]~/?><\"\n",
    "Vowels_in_String = []\n",
    "Digit_in_String = []\n",
    "Special_symbols = []\n",
    "Consonant_in_String =[]\n",
    "Vowel_Counter = 0\n",
    "Consonant_Counter = 0\n",
    "Digit_in_String_Counter = 0\n",
    "Special_symbols_Counter = 0\n",
    "Space_Counter = 0\n",
    "\n",
    "Consonant_in_String = []\n",
    "for i in string1:\n",
    "    if i in vowels:\n",
    "        Vowel_Counter +=1\n",
    "        Vowels_in_String.append(i)\n",
    "    elif i in Symbol:\n",
    "        Special_symbols_Counter+=1\n",
    "        Special_symbols.append(i)\n",
    "    elif i in Digit :\n",
    "        Digit_in_String_Counter+=1\n",
    "        Digit_in_String.append(i)\n",
    "    elif i in Space:\n",
    "        Space_Counter+=1\n",
    "    else:\n",
    "        Consonant_Counter +=1\n",
    "        Consonant_in_String.append(i)\n",
    "        \n",
    "        \n",
    "print(\"Totol Number of Vowels in String:\",Vowel_Counter)\n",
    "print(\"This is the list of Vowels in String\",Vowels_in_String)\n",
    "print(\"Totol Number of Consonant in String:\",Consonant_Counter)\n",
    "print(\"This is the list of Consonant in String\",Consonant_in_String)\n",
    "print(\"This is the number of special symbols in String\",Special_symbols_Counter)\n",
    "print(\"This is the list of Special Symbols in String\",Special_symbols)\n",
    "print(\"This is the total of Digits in String\",Digit_in_String_Counter)\n",
    "print(\"This is the list of Consonant in String\",Digit_in_String)\n",
    "print(\"This is the total of Space in String\",Space_Counter)"
   ]
  },
  {
   "cell_type": "code",
   "execution_count": null,
   "id": "ab84e103",
   "metadata": {},
   "outputs": [],
   "source": [
    "#15.Wap to print Prime numbers from 1 to 100.\n",
    "#16.Wap to print Prime numbers from given list. List1 = [7,13,24,21,23,19,22,26]"
   ]
  },
  {
   "cell_type": "code",
   "execution_count": 7,
   "id": "1a1b1e5a",
   "metadata": {},
   "outputs": [
    {
     "name": "stdout",
     "output_type": "stream",
     "text": [
      "2 3 5 7 11 13 17 19 23 29 31 37 41 43 47 53 59 61 67 71 73 79 83 89 97 "
     ]
    }
   ],
   "source": [
    "#15.Wap to print Prime numbers from 1 to 100.\n",
    "for num in range(1,101):\n",
    "    if num>1:\n",
    "        for i in range(2,num):#4%2=0,\n",
    "            if num%i ==0:\n",
    "                break\n",
    "        else:\n",
    "            print(num,end=\" \")"
   ]
  }
 ],
 "metadata": {
  "kernelspec": {
   "display_name": "Python 3",
   "language": "python",
   "name": "python3"
  },
  "language_info": {
   "codemirror_mode": {
    "name": "ipython",
    "version": 3
   },
   "file_extension": ".py",
   "mimetype": "text/x-python",
   "name": "python",
   "nbconvert_exporter": "python",
   "pygments_lexer": "ipython3",
   "version": "3.11.9"
  }
 },
 "nbformat": 4,
 "nbformat_minor": 5
}
