{
 "cells": [
  {
   "cell_type": "code",
   "execution_count": null,
   "id": "ad6f5194",
   "metadata": {},
   "outputs": [
    {
     "name": "stdout",
     "output_type": "stream",
     "text": [
      "-----Menu Driven Program--------\n",
      "Menues are:\n",
      "1.Breakfast\n",
      "2.Main Course\n",
      "3.Drinks\n",
      "4.Exit\n"
     ]
    },
    {
     "name": "stdout",
     "output_type": "stream",
     "text": [
      "please enter your choices\n",
      "Options in breakfast are:\n",
      "    1.Poha  RS.20\n",
      "    2.Upma  Rs.30\n",
      "    3.Idli  RS.50 \n",
      "your order for 2 plate poha is recived\n",
      "your order for 3 plate upma is recived\n",
      "exit from the breakfast options\n"
     ]
    }
   ],
   "source": [
    "print(\"-----Menu Driven Program--------\")\n",
    "print('''Menues are:\n",
    "1.Breakfast\n",
    "2.Main Course\n",
    "3.Drinks\n",
    "4.Exit''')\n",
    "while True:\n",
    "    choice=int(input(\"enter your choice\"))\n",
    "    print(\"please enter your choices\")\n",
    "    if choice==1:\n",
    "        print('''Options in breakfast are:\n",
    "                1.Poha  RS.20\n",
    "                2.Upma  Rs.30\n",
    "                3.Idli  RS.50 ''')\n",
    "    \n",
    "    while True:\n",
    "         sub_choice=int(input(\"enter your sub-choice\"))\n",
    "         Quantity=int(input(\"Plz Enter Quentity\"))\n",
    "         if sub_choice==1:\n",
    "            print(f\"your order for {Quantity} plate poha is recived\")\n",
    "         elif sub_choice==2:\n",
    "            print(f\"your order for {Quantity} plate upma is recived\")\n",
    "         elif sub_choice==3:\n",
    "            print(f\"your order for {Quantity} plate Idli is recived\")\n",
    "         elif sub_choice==4:\n",
    "             print(\"exit from the breakfast options\")\n",
    "             break\n",
    "         else:\n",
    "             print(\"You have Enter wrong choice.plz enter a valid choice\")\n",
    "            \n",
    "\n",
    "    elif choice==2:\n",
    "        print('''Options in Main course are:\n",
    "                 1.Paneer Masala + 2 chapati\n",
    "    2.pav-Bhaji\n",
    "    3.Pulav''')\n",
    "    sub_choice=int(input(\"enter your sub-choice\"))\n",
    "    if sub_choice==1:\n",
    "        print(\"your order is for Paneer Masala + 2 chapati\")\n",
    "    elif sub_choice==2:\n",
    "        print(\"your order is for pav-Bhaji\")\n",
    "    elif sub_choice==3:\n",
    "        print(\"your order is for Pulav\")\n",
    "    else:\n",
    "        print(\"exit from the Main-course options\")\n",
    "        \n",
    "elif choice==3:\n",
    "    print('''Options in Drinks are:\n",
    "    1.Cold-Drink\n",
    "    2.Hot-coffee\n",
    "    3.Black-tea''')\n",
    "    sub_choice=int(input(\"enter your sub-choice\"))\n",
    "    if sub_choice==1:\n",
    "        print(\"your order is for Cold-Drink\")\n",
    "    elif sub_choice==2:\n",
    "        print(\"your order is for Hot-coffee\")\n",
    "    elif sub_choice==3:\n",
    "        print(\"your order is for Black-tea\")\n",
    "    else:\n",
    "        print(\"exit from the Main-course options\")\n",
    "\n",
    "elif choice==4:\n",
    "    print(\"you have no choice so you can exit from the program\")\n",
    "\n",
    "else:\n",
    "    print(\"exit from the programs\")\n"
   ]
  },
  {
   "cell_type": "code",
   "execution_count": null,
   "id": "1a11eb2f",
   "metadata": {},
   "outputs": [],
   "source": [
    "\n"
   ]
  },
  {
   "cell_type": "code",
   "execution_count": null,
   "id": "200fed9d",
   "metadata": {},
   "outputs": [],
   "source": [
    "def Breakfast():\n",
    "    \n",
    "    print(\"-----Menu Driven Program--------\")\n",
    "    print('''Menues are:\n",
    "            1.Breakfast\n",
    "            2.Main Course\n",
    "            3.Drinks\n",
    "            4.Exit''')\n",
    "    choice=int(input(\"enter your choice\"))\n",
    "    print(\"please enter your choices\")\n",
    "    if choice==1:\n",
    "        print('''Options in breakfast are:\n",
    "                1.Poha  RS.20\n",
    "                2.Upma  Rs.30\n",
    "                3.Idli  RS.50 ''')\n",
    "    \n",
    "    while True:\n",
    "         sub_choice=int(input(\"enter your sub-choice\"))\n",
    "         Quantity=int(input(\"Plz Enter Quentity\"))\n",
    "         if sub_choice==1:\n",
    "            print(f\"your order for {Quantity} plate poha is recived\")\n",
    "         elif sub_choice==2:\n",
    "            print(f\"your order for {Quantity} plate upma is recived\")\n",
    "         elif sub_choice==3:\n",
    "            print(f\"your order for {Quantity} plate Idli is recived\")\n",
    "         elif sub_choice==4:\n",
    "             print(\"exit from the breakfast options\")\n",
    "             break\n",
    "         else:\n",
    "             print(\"You have Enter wrong choice.plz enter a valid choice\")\n",
    "            \n"
   ]
  },
  {
   "cell_type": "code",
   "execution_count": 19,
   "id": "0fd3fdd8",
   "metadata": {},
   "outputs": [
    {
     "name": "stdout",
     "output_type": "stream",
     "text": [
      "......Wel-come to Our Hotel......\n",
      ".....Menu......\n",
      "     1.Poha\n",
      "     2.Upma\n",
      "     3.Dosa\n",
      "     4.Idli\n",
      "     5.Exit  \n",
      "Your order for poha is reciver\n",
      "your order for Dosa is Recived\n",
      "Thank you for Visiting.....\n"
     ]
    }
   ],
   "source": [
    "\n",
    "print(\"......Wel-come to Our Hotel......\")\n",
    "print('''.....Menu......\n",
    "     1.Poha\n",
    "     2.Upma\n",
    "     3.Dosa\n",
    "     4.Idli\n",
    "     5.Exit  ''')\n",
    "def breakfast():\n",
    "    while True:\n",
    "        choice =int(input(\"....Plz Enter your Order....\"))\n",
    "\n",
    "        if choice ==1:\n",
    "            \n",
    "            print(f\"Your order for poha is reciver\")\n",
    "        elif choice==2:\n",
    "           print(f\"Your order for Upma is recived.\")\n",
    "        elif choice==3:\n",
    "           print(\"your order for Dosa is Recived\")\n",
    "        elif choice == 4:\n",
    "           print(\"your order for Idli is recived\")\n",
    "        elif choice == 5:\n",
    "            print(\"Thank you for Visiting.....\")\n",
    "            break\n",
    "        else:\n",
    "           print(\"You have Enter a wrong Choice .plz Enter a choice between 1 to 4 .\")\n",
    "\n",
    "    \n",
    "breakfast()  \n",
    " "
   ]
  },
  {
   "cell_type": "code",
   "execution_count": 23,
   "id": "651a9225",
   "metadata": {},
   "outputs": [
    {
     "name": "stdout",
     "output_type": "stream",
     "text": [
      "pop is Palimdrom\n",
      "nayan is Palimdrom\n",
      "Ankita is not Palimdrom\n"
     ]
    }
   ],
   "source": [
    "#WAp to print String is palimdrom or not using function.\n",
    "def Palimdrom(x):\n",
    "    y=x[::-1]\n",
    "    if x==y:\n",
    "        return f\"{x} is Palimdrom\"\n",
    "    else:\n",
    "        return f\"{x} is not Palimdrom\"\n",
    "        \n",
    "print(Palimdrom(\"pop\"))\n",
    "print(Palimdrom(\"nayan\"))\n",
    "print(Palimdrom(\"Ankita\"))"
   ]
  },
  {
   "cell_type": "code",
   "execution_count": 27,
   "id": "ea73c601",
   "metadata": {},
   "outputs": [
    {
     "name": "stdout",
     "output_type": "stream",
     "text": [
      "...Menu....\n",
      "      1.Addition\n",
      "      2.sub\n",
      "      3.Exit\n",
      "This is addition of 23 and 43 : 66\n"
     ]
    }
   ],
   "source": [
    "#WAp to print menu driven program to perform add,sub ,mul,div,True div of two number.\n",
    "#x = int(input(\"Enter your First number\"))\n",
    "#y = int(input(\"Enter your First number\"))\n",
    "print('''...Menu....\n",
    "      1.Addition\n",
    "      2.sub\n",
    "      3.Exit''')\n",
    "def Operation(x,y):\n",
    "    choice = int(input(\"Enter your choice\"))\n",
    "    if choice==1:\n",
    "        Addition = x+y\n",
    "        print(f\"This is addition of {x} and {y} : {Addition}\")\n",
    "    elif choice==2:\n",
    "        Sub = x-y\n",
    "        print(f\"This is addition of {x} and {y} : {Sub}\")\n",
    "    else:\n",
    "        print(\"Invlid Choice\")\n",
    "\n",
    "Operation(23,43)        \n"
   ]
  },
  {
   "cell_type": "code",
   "execution_count": 28,
   "id": "b004deac",
   "metadata": {},
   "outputs": [
    {
     "name": "stdout",
     "output_type": "stream",
     "text": [
      "This is addition of 34 and 54 : -20\n"
     ]
    }
   ],
   "source": [
    "Operation(34,54)"
   ]
  },
  {
   "cell_type": "code",
   "execution_count": 21,
   "id": "9f5482a1",
   "metadata": {},
   "outputs": [
    {
     "name": "stdout",
     "output_type": "stream",
     "text": [
      "False\n"
     ]
    }
   ],
   "source": [
    "Palimdrom(\"Sanket\")"
   ]
  },
  {
   "cell_type": "code",
   "execution_count": 33,
   "id": "4461736a",
   "metadata": {},
   "outputs": [
    {
     "name": "stdout",
     "output_type": "stream",
     "text": [
      "23 is prime Number\n",
      "24 is not Prime Number\n",
      "265 is prime Number\n"
     ]
    }
   ],
   "source": [
    "#Wap to print number is prime.\n",
    "def Prime_Number(x):\n",
    "    if x>1:\n",
    "        for i in range(2,x):\n",
    "           if x%i!=0:\n",
    "                return f\"{x} is prime Number\"\n",
    "                break\n",
    "           else:\n",
    "               return f\"{x} is not Prime Number\"\n",
    "\n",
    "print(Prime_Number(23))\n",
    "print(Prime_Number(24))\n",
    "print(Prime_Number(265))            "
   ]
  },
  {
   "cell_type": "code",
   "execution_count": null,
   "id": "10369ba6",
   "metadata": {},
   "outputs": [],
   "source": [
    "#Wap to find factorial of number using function.\n",
    "#Wap to print number in reverse order using function without using built_in function,indexing,slicing .Ex:1234 olp:4321\n",
    "#Wap to find sum of given number using Function.EX : 1234 olp:10\n",
    "#Wap to check string is Anagram or not using function.\n"
   ]
  },
  {
   "cell_type": "code",
   "execution_count": 1,
   "id": "333fbc5d",
   "metadata": {},
   "outputs": [
    {
     "name": "stdout",
     "output_type": "stream",
     "text": [
      "120\n",
      "2\n",
      "24\n"
     ]
    }
   ],
   "source": [
    "def factorial(x):\n",
    "    if x>0:\n",
    "     fact=1\n",
    "     for i in range(1,x+1):\n",
    "        fact *=i\n",
    "    return fact\n",
    "print(factorial(5))\n",
    "print(factorial(2))\n",
    "print(factorial(4))"
   ]
  },
  {
   "cell_type": "code",
   "execution_count": null,
   "id": "d2f80f67",
   "metadata": {},
   "outputs": [],
   "source": [
    "##Wap to print number in reverse order using function \n",
    "# without using built_in function,indexing,slicing .Ex:1234 olp:4321\n"
   ]
  },
  {
   "cell_type": "markdown",
   "id": "ef1a376e",
   "metadata": {},
   "source": [
    "1234\n",
    "n=4321\n",
    "4\n",
    "3\n",
    "2\n",
    "1\n",
    "rev = rev*10+n%10......\n",
    "n//=10"
   ]
  },
  {
   "cell_type": "code",
   "execution_count": null,
   "id": "43dd82a3",
   "metadata": {},
   "outputs": [
    {
     "name": "stdout",
     "output_type": "stream",
     "text": [
      "reverse of 1234 is :  4321\n"
     ]
    }
   ],
   "source": [
    "def reverse_num(n):#1234,123,12,1,0\n",
    "    rev = 0 #4,43,432,4321\n",
    "    #rev * 10 + n % 10 \n",
    "    #0+1234%10==4,\n",
    "    #4*10+123%10==40+3==43\n",
    "    #43*10+12%10=430+2==432\n",
    "    #432*10+1%10=4320+1=4321\n",
    "    while n > 0:\n",
    "        rev = rev * 10 + n % 10 # \n",
    "        n //= 10 #1234//10==123,123//10=12,12//10=1,1//10==0\n",
    "    return rev \n",
    "num = int(input(\"Enter a number\"))\n",
    "print(f\"reverse of {num} is : \", reverse_num(num))"
   ]
  },
  {
   "cell_type": "code",
   "execution_count": 6,
   "id": "cd5dff08",
   "metadata": {},
   "outputs": [
    {
     "name": "stdout",
     "output_type": "stream",
     "text": [
      "4\n",
      "123\n",
      "1\n",
      "0\n"
     ]
    }
   ],
   "source": [
    "x=1234\n",
    "print(x%10)\n",
    "print(x//10)\n",
    "print(1%10)\n",
    "print(1//10)"
   ]
  }
 ],
 "metadata": {
  "kernelspec": {
   "display_name": "Python 3",
   "language": "python",
   "name": "python3"
  },
  "language_info": {
   "codemirror_mode": {
    "name": "ipython",
    "version": 3
   },
   "file_extension": ".py",
   "mimetype": "text/x-python",
   "name": "python",
   "nbconvert_exporter": "python",
   "pygments_lexer": "ipython3",
   "version": "3.11.9"
  }
 },
 "nbformat": 4,
 "nbformat_minor": 5
}
