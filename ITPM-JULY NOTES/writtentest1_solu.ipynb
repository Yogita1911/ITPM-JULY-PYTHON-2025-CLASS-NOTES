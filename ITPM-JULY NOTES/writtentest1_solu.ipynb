{
 "cells": [
  {
   "cell_type": "markdown",
   "id": "571812d3",
   "metadata": {},
   "source": [
    "1.WAP  to Sort first half in ascending order and second half in descending order in an array. "
   ]
  },
  {
   "cell_type": "code",
   "execution_count": 1,
   "id": "409d1c35",
   "metadata": {},
   "outputs": [
    {
     "ename": "ModuleNotFoundError",
     "evalue": "No module named 'pandas'",
     "output_type": "error",
     "traceback": [
      "\u001b[31m---------------------------------------------------------------------------\u001b[39m",
      "\u001b[31mModuleNotFoundError\u001b[39m                       Traceback (most recent call last)",
      "\u001b[36mCell\u001b[39m\u001b[36m \u001b[39m\u001b[32mIn[1]\u001b[39m\u001b[32m, line 1\u001b[39m\n\u001b[32m----> \u001b[39m\u001b[32m1\u001b[39m \u001b[38;5;28;01mimport\u001b[39;00m\u001b[38;5;250m \u001b[39m\u001b[34;01mpandas\u001b[39;00m\u001b[38;5;250m \u001b[39m\u001b[38;5;28;01mas\u001b[39;00m\u001b[38;5;250m \u001b[39m\u001b[34;01mpd\u001b[39;00m\n",
      "\u001b[31mModuleNotFoundError\u001b[39m: No module named 'pandas'"
     ]
    }
   ],
   "source": [
    "import pandas as pd"
   ]
  },
  {
   "cell_type": "code",
   "execution_count": null,
   "id": "07dbab04",
   "metadata": {},
   "outputs": [],
   "source": [
    "df = pd.read_csv("
   ]
  },
  {
   "cell_type": "code",
   "execution_count": null,
   "id": "75c5504a",
   "metadata": {},
   "outputs": [],
   "source": []
  },
  {
   "cell_type": "code",
   "execution_count": 2,
   "id": "5b4b8aed",
   "metadata": {},
   "outputs": [
    {
     "name": "stdout",
     "output_type": "stream",
     "text": [
      "[32, 43, 55, 76, 24, 21]\n"
     ]
    }
   ],
   "source": [
    "list = [32,43,55,21,24,76] #32,43,55,76,24,21\n",
    "n = len(list)\n",
    "mid = n//2\n",
    "first_half = sorted(list[:mid])\n",
    "second_half = sorted(list[mid:],reverse = True)\n",
    "result = first_half+second_half\n",
    "print(result)"
   ]
  },
  {
   "cell_type": "markdown",
   "id": "36f2e566",
   "metadata": {},
   "source": [
    "2. Find the “Kth” max and min element of an list."
   ]
  },
  {
   "cell_type": "code",
   "execution_count": null,
   "id": "79cc7268",
   "metadata": {},
   "outputs": [
    {
     "name": "stdout",
     "output_type": "stream",
     "text": [
      "[21, 24, 32, 43, 55, 76]\n",
      "k-th max element 24\n",
      "k-th min elements 55\n"
     ]
    }
   ],
   "source": [
    "list =[32, 43, 55, 76, 24, 21]\n",
    "k = 2\n",
    "list.sort() \n",
    "print(list)\n",
    "print(\"k-th max element\",list[k-1])#2-1=1...second lowest value\n",
    "print(\"k-th min elements\",list[-k])"
   ]
  },
  {
   "cell_type": "markdown",
   "id": "9751e556",
   "metadata": {},
   "source": [
    "3. WAP To Print ” Programming” ,”Python” from given list.\n",
    " List1 = [1,2,3,”Adity”,[“Suyash”,[4,5,(6,”Python”,”Programming”,7),”Akash”]]]\n"
   ]
  },
  {
   "cell_type": "code",
   "execution_count": 7,
   "id": "752b839a",
   "metadata": {},
   "outputs": [
    {
     "name": "stdout",
     "output_type": "stream",
     "text": [
      "('Python', 'Programming')\n"
     ]
    }
   ],
   "source": [
    "List1 = [1,2,3,'Adity',['Suyash',[4,5,(6,'Python','Programming',7),'Akash']]]\n",
    "print(List1[4][1][2][1:3])\n"
   ]
  },
  {
   "cell_type": "markdown",
   "id": "d3eb6bfa",
   "metadata": {},
   "source": [
    "4. WAP   Number Triangle \n",
    "1 \n",
    "1 2 \n",
    "1 2 3 \n",
    "1 2 3 4 \n",
    "1 2 3 4 5\n"
   ]
  },
  {
   "cell_type": "code",
   "execution_count": 9,
   "id": "d105064d",
   "metadata": {},
   "outputs": [
    {
     "name": "stdout",
     "output_type": "stream",
     "text": [
      "1  \n",
      "1 2  \n",
      "1 2 3  \n",
      "1 2 3 4  \n",
      "1 2 3 4 5  \n"
     ]
    }
   ],
   "source": [
    "for i in range(1,6):\n",
    "    for j in range(1,i+1):\n",
    "        print(j,end=\" \")\n",
    "        \n",
    "    print(\" \")"
   ]
  },
  {
   "cell_type": "markdown",
   "id": "8df79571",
   "metadata": {},
   "source": [
    "5. Write a program to move all zeros in a list to the end while maintaining the order of other elements. Example: move_zeros([0, 1, 0, 3, 12]) should return [1, 3, 12, 0, 0] "
   ]
  },
  {
   "cell_type": "code",
   "execution_count": 10,
   "id": "e8c94551",
   "metadata": {},
   "outputs": [
    {
     "name": "stdout",
     "output_type": "stream",
     "text": [
      "[1, 3, 12, 0, 0]\n"
     ]
    }
   ],
   "source": [
    "list = [0, 1, 0, 3, 12]\n",
    "result = []\n",
    "zero = []\n",
    "for num in list:\n",
    "    if num==0:\n",
    "        zero.append(0)\n",
    "    else:\n",
    "        result.append(num)\n",
    "        \n",
    "order = result+zero\n",
    "print(order)"
   ]
  },
  {
   "cell_type": "markdown",
   "id": "9a8e505d",
   "metadata": {},
   "source": [
    "6. WAP To Find All Pairs in a List That Sum Up to a Given Number.\n",
    "k = 6\n",
    "list = [1,2,3,4,5]\n",
    "o/p=[1,5,2,4]"
   ]
  },
  {
   "cell_type": "code",
   "execution_count": 24,
   "id": "0d04ee8a",
   "metadata": {},
   "outputs": [
    {
     "name": "stdout",
     "output_type": "stream",
     "text": [
      "(1, 5) (2, 4) "
     ]
    }
   ],
   "source": [
    "list = [1,2,3,4,5]\n",
    "target = 6\n",
    "#pair=[]\n",
    "for i in range(len(list)):\n",
    "    for j in range((i+1),len(list)):\n",
    "        if list[i]+list[j]==target:\n",
    "           print((list[i],list[j]),end=\" \")\n",
    "        "
   ]
  },
  {
   "cell_type": "markdown",
   "id": "fad15350",
   "metadata": {},
   "source": [
    "7.WAP To Print * instead of Even Numbers and # instead of Odd numbers from 1 to 10 . if number is even print number of * . and if odd print Number of #."
   ]
  },
  {
   "cell_type": "code",
   "execution_count": 29,
   "id": "0830b167",
   "metadata": {},
   "outputs": [
    {
     "name": "stdout",
     "output_type": "stream",
     "text": [
      "#\n",
      "**\n",
      "###\n",
      "****\n",
      "#####\n",
      "******\n",
      "#######\n",
      "********\n",
      "#########\n",
      "**********\n"
     ]
    }
   ],
   "source": [
    "for i in range(1,11):\n",
    "    if i%2==0:\n",
    "        print(\"*\"*i)\n",
    "        \n",
    "    else:\n",
    "        print(\"#\"*i)"
   ]
  },
  {
   "cell_type": "markdown",
   "id": "69d02e9a",
   "metadata": {},
   "source": [
    "8.  WAP Keep Taking Input From the User Until They Enter 'exit'."
   ]
  },
  {
   "cell_type": "code",
   "execution_count": 31,
   "id": "bf3eb5c2",
   "metadata": {},
   "outputs": [
    {
     "name": "stdout",
     "output_type": "stream",
     "text": [
      "sanket\n",
      "exit\n"
     ]
    }
   ],
   "source": [
    "while True:\n",
    "    a=input(\"Enter the word\")\n",
    "    if a == \"Exit\":\n",
    "     break\n",
    "   \n",
    "    else:\n",
    "        print(a)\n",
    "  "
   ]
  },
  {
   "cell_type": "markdown",
   "id": "eb971674",
   "metadata": {},
   "source": [
    "9. WAP To Print All Prime Numbers Within a Given Range.\n"
   ]
  },
  {
   "cell_type": "code",
   "execution_count": 35,
   "id": "b85e54ca",
   "metadata": {},
   "outputs": [
    {
     "name": "stdout",
     "output_type": "stream",
     "text": [
      "2 3 5 7 11 13 17 19 23 29 31 37 41 43 47 53 59 61 67 71 73 79 83 89 97 "
     ]
    }
   ],
   "source": [
    "for i in range(1,101):\n",
    "    if i>1:\n",
    "        for j in range(2,i):\n",
    "           if i%j ==0:\n",
    "            break\n",
    "        else:\n",
    "           print(i,end=\" \")\n",
    "        "
   ]
  },
  {
   "cell_type": "markdown",
   "id": "d3fde928",
   "metadata": {},
   "source": [
    "10. WAP To Simulate a Basic Password Check That Limits to 3 Attempts."
   ]
  },
  {
   "cell_type": "code",
   "execution_count": null,
   "id": "3288aee8",
   "metadata": {},
   "outputs": [
    {
     "ename": "",
     "evalue": "",
     "output_type": "error",
     "traceback": [
      "\u001b[1;31mFailed to start the Kernel. \n",
      "\u001b[1;31mUnable to start Kernel 'Python 3.11.9' due to a timeout waiting for the ports to get used. \n",
      "\u001b[1;31mView Jupyter <a href='command:jupyter.viewOutput'>log</a> for further details."
     ]
    }
   ],
   "source": [
    "password = \"Itpm-July\"\n",
    "attempt = 3\n",
    "while attempt>0 :\n",
    "    pass1 = input(\"Enter password\")\n",
    "    if pass1 != password:\n",
    "        \n",
    "        attempt-=1\n",
    "        print(f\"You enter Wrong Password!plz try again you have {attempt} more attempt to try \")\n",
    "        if attempt ==0:\n",
    "            print(\"You Reached your limits......\")\n",
    "        \n",
    "    else:\n",
    "        print(\"Sucessfully login\")\n",
    "        break\n",
    "   "
   ]
  },
  {
   "cell_type": "markdown",
   "id": "435b00e4",
   "metadata": {},
   "source": [
    "11.  WAP To Keep Multiplying a Number by 2 Until It Becomes Greater Than 1000."
   ]
  },
  {
   "cell_type": "code",
   "execution_count": 2,
   "id": "b8a5cb3b",
   "metadata": {},
   "outputs": [
    {
     "name": "stdout",
     "output_type": "stream",
     "text": [
      "54 108 216 432 864 "
     ]
    }
   ],
   "source": [
    "num= int(input(\"Enter the number\"))\n",
    "while num<=1000:\n",
    "    print(num,end=\" \")\n",
    "    num*=2\n",
    "    "
   ]
  },
  {
   "cell_type": "markdown",
   "id": "5cba288e",
   "metadata": {},
   "source": [
    "12.Find the Factorial of a Given Number."
   ]
  },
  {
   "cell_type": "code",
   "execution_count": 5,
   "id": "2ba3c23b",
   "metadata": {},
   "outputs": [
    {
     "name": "stdout",
     "output_type": "stream",
     "text": [
      "factorial of number is  120\n"
     ]
    }
   ],
   "source": [
    "num=5\n",
    "fact=1 #1,2,6,24,120\n",
    "for i in range(1,num+1):#1,2,3,4,5\n",
    "    fact*=i #fact=fact*i.......fact=1*1=1,1*2=2,2*3=6,6*4=24,24*5=120\n",
    "print(\"factorial of number is \",fact)"
   ]
  },
  {
   "cell_type": "markdown",
   "id": "bc183740",
   "metadata": {},
   "source": [
    "13.Write a Program that takes a string and returns a dictionary with each character as a key and its frequency as the value.\n",
    "Example: char_frequency(\"hello\") should return {'h': 1, 'e': 1, 'l': 2, 'o': 1} \n"
   ]
  },
  {
   "cell_type": "code",
   "execution_count": 7,
   "id": "bc893851",
   "metadata": {},
   "outputs": [
    {
     "name": "stdout",
     "output_type": "stream",
     "text": [
      "{'h': 1, 'e': 1, 'l': 2, 'o': 1}\n"
     ]
    }
   ],
   "source": [
    "a=\"hello\"\n",
    "dict1 = {}\n",
    "for i in a:\n",
    "    dict1[i]=a.count(i)\n",
    "print(dict1)"
   ]
  },
  {
   "cell_type": "markdown",
   "id": "97d7e0fc",
   "metadata": {},
   "source": [
    "14.  WAP to Print count of even and odd numbers and print even numbes ,odd numbers list from the list. given list \n",
    "List1 = [23,54,67,89,76,54,32,100,43]\n"
   ]
  },
  {
   "cell_type": "code",
   "execution_count": 6,
   "id": "0b63b6bc",
   "metadata": {},
   "outputs": [
    {
     "name": "stdout",
     "output_type": "stream",
     "text": [
      "[54, 76, 54, 32, 100]\n",
      "5\n",
      "[23, 67, 89, 43]\n",
      "4\n"
     ]
    }
   ],
   "source": [
    "List1 = [23,54,67,89,76,54,32,100,43]\n",
    "even_list = []\n",
    "odd_list = []\n",
    "even_count = 0\n",
    "odd_count = 0\n",
    "for i in List1:\n",
    "    if i%2==0:\n",
    "        even_list.append(i)\n",
    "        even_count+=1\n",
    "    else:\n",
    "        odd_list.append(i)\n",
    "        odd_count+=1\n",
    "        \n",
    "print(even_list)\n",
    "print(even_count)\n",
    "print(odd_list)\n",
    "print(odd_count)\n",
    "    "
   ]
  },
  {
   "cell_type": "markdown",
   "id": "eac663a8",
   "metadata": {},
   "source": [
    "15.Find the Greatest Common Divisor (GCD) of Two Numbers."
   ]
  },
  {
   "cell_type": "code",
   "execution_count": 8,
   "id": "61c7b6f0",
   "metadata": {},
   "outputs": [
    {
     "name": "stdout",
     "output_type": "stream",
     "text": [
      "gcd 14\n"
     ]
    }
   ],
   "source": [
    "import math \n",
    "a=56\n",
    "b=98\n",
    "print(\"gcd\",math.gcd(a,b))\n",
    " "
   ]
  },
  {
   "cell_type": "markdown",
   "id": "0b59e5dc",
   "metadata": {},
   "source": [
    "56=2,4,7,8,14,28,56\n",
    "98=2,7,14,49,98\n",
    "2,7,14"
   ]
  },
  {
   "cell_type": "code",
   "execution_count": null,
   "id": "6f2ca1ef",
   "metadata": {},
   "outputs": [
    {
     "name": "stdout",
     "output_type": "stream",
     "text": [
      "Gcd 98\n",
      "Gcd 56\n",
      "Gcd 42\n",
      "Gcd 14\n"
     ]
    }
   ],
   "source": [
    "a = int(input(\"enter the number\"))\n",
    "b = int(input(\"Enter the second number\"))\n",
    "while b!=0:\n",
    "    a,b = b,a%b #a,b = b,a%b..........a=b,b=a%b......a=56,b56%98\n",
    "    print(\"Gcd\",a)"
   ]
  },
  {
   "cell_type": "code",
   "execution_count": null,
   "id": "c8525206",
   "metadata": {},
   "outputs": [],
   "source": [
    "x,y = 1,2.....x=1,y=2\n",
    "a,b = b,a%b......a=b,b=a%b#......a=98,b=56%98=42\n",
    "a=56,b=98....."
   ]
  },
  {
   "cell_type": "markdown",
   "id": "8e0b7141",
   "metadata": {},
   "source": [
    "16.WAP to count the number of  Vowel and Consonant and special character digits ,even digit and odd Digit and space in a given string .             (5 marks)\n",
    "String = \" ! 12 I @ 25Gmail.com Like Python 3.12 Programming ~ \"\n"
   ]
  },
  {
   "cell_type": "code",
   "execution_count": 17,
   "id": "3e6be6aa",
   "metadata": {},
   "outputs": [
    {
     "name": "stdout",
     "output_type": "stream",
     "text": [
      "Totol Number of Vowels in String: 7\n",
      "This is the list of Vowels in String ['I', 'a', 'o', 'I', 'u', 'o', 'a']\n",
      "Totol Number of Consonant in String: 19\n",
      "This is the list of Consonant in String ['m', 'f', 'r', 'm', 't', 'p', 'm', 'j', 'l', 'y', 'p', 'y', 't', 'h', 'n', 'b', 't', 'c', 'h']\n",
      "This is the number of special symbols in String 3\n",
      "This is the list of Special Symbols in String ['$', '#', '@']\n",
      "This is the total of Digits in String 5\n",
      "This is the list of Consonant in String ['1', '3', '2', '3', '4']\n",
      "This is the list of even numbers in String 0\n",
      "This is the list of odd numbers in String 5\n",
      "This is the total of Space in String 12\n"
     ]
    }
   ],
   "source": [
    "#string1 = \"I am1 from $ Itpm july3 python# batch @ 234\"\n",
    "#16.Wap Count and print Vowels,Consonant,digits,Special symbols and space.string1 = \"I am from Itpm july python batch\"\n",
    "string1 = \"I am1 from $ Itpm july 3 python# batch @ 2 3 4\"\n",
    "vowels = \"aeiouAEIOU\"\n",
    "Space = \" \"\n",
    "Digit = \"0123456789\"\n",
    "Symbol = \"!@#$%^&*(){}[]~/?><\"\n",
    "Vowels_in_String = []\n",
    "Digit_in_String = []\n",
    "Special_symbols = []\n",
    "Consonant_in_String =[]\n",
    "Vowel_Counter = 0\n",
    "Consonant_Counter = 0\n",
    "Digit_in_String_Counter = 0\n",
    "even_counter = 0\n",
    "odd_counter = 0\n",
    "Special_symbols_Counter = 0\n",
    "Space_Counter = 0\n",
    "\n",
    "Consonant_in_String = []\n",
    "for i in string1:\n",
    "    if i in vowels:\n",
    "        Vowel_Counter +=1\n",
    "        Vowels_in_String.append(i)\n",
    "    elif i in Symbol:\n",
    "        Special_symbols_Counter+=1\n",
    "        Special_symbols.append(i)\n",
    "    elif i.isdigit() :\n",
    "        Digit_in_String_Counter+=1\n",
    "        Digit_in_String.append(i)\n",
    "        if i.isdigit()%2==0:\n",
    "            even_counter+=1\n",
    "        else:\n",
    "            odd_counter+=1\n",
    "    \n",
    "    elif i in Space:\n",
    "        Space_Counter+=1\n",
    "    else:\n",
    "        Consonant_Counter +=1\n",
    "        Consonant_in_String.append(i)\n",
    "        \n",
    "        \n",
    "print(\"Totol Number of Vowels in String:\",Vowel_Counter)\n",
    "print(\"This is the list of Vowels in String\",Vowels_in_String)\n",
    "print(\"Totol Number of Consonant in String:\",Consonant_Counter)\n",
    "print(\"This is the list of Consonant in String\",Consonant_in_String)\n",
    "print(\"This is the number of special symbols in String\",Special_symbols_Counter)\n",
    "print(\"This is the list of Special Symbols in String\",Special_symbols)\n",
    "print(\"This is the total of Digits in String\",Digit_in_String_Counter)\n",
    "print(\"This is the list of Consonant in String\",Digit_in_String)\n",
    "print(\"This is the list of even numbers in String\",even_counter)\n",
    "print(\"This is the list of odd numbers in String\",odd_counter)\n",
    "print(\"This is the total of Space in String\",Space_Counter)"
   ]
  }
 ],
 "metadata": {
  "kernelspec": {
   "display_name": "Python 3",
   "language": "python",
   "name": "python3"
  },
  "language_info": {
   "codemirror_mode": {
    "name": "ipython",
    "version": 3
   },
   "file_extension": ".py",
   "mimetype": "text/x-python",
   "name": "python",
   "nbconvert_exporter": "python",
   "pygments_lexer": "ipython3",
   "version": "3.11.9"
  }
 },
 "nbformat": 4,
 "nbformat_minor": 5
}
