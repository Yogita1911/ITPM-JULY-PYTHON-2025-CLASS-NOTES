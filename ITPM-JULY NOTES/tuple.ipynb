{
 "cells": [
  {
   "cell_type": "markdown",
   "id": "713d5eea",
   "metadata": {},
   "source": [
    "Tuple:\n",
    "1.concatinate\n",
    "2.multiplication\n",
    "3.min\n",
    "4.max\n",
    "5.count\n",
    "6.sum\n",
    "7.in\n",
    "8.index()\n",
    "9.slicing\n",
    "10.nesting\n",
    "11.sorted\n",
    "12.len\n",
    "13.indexing\n",
    "14.clear()\n",
    "15.del\n"
   ]
  },
  {
   "cell_type": "code",
   "execution_count": 1,
   "id": "23f2b1b9",
   "metadata": {},
   "outputs": [
    {
     "data": {
      "text/plain": [
       "(1, 2, 3, 4, 5)"
      ]
     },
     "execution_count": 1,
     "metadata": {},
     "output_type": "execute_result"
    }
   ],
   "source": [
    "tuple = (1,2,3,4,5)\n",
    "tuple"
   ]
  },
  {
   "cell_type": "code",
   "execution_count": 3,
   "id": "94badc90",
   "metadata": {},
   "outputs": [
    {
     "name": "stdout",
     "output_type": "stream",
     "text": [
      "(1, 2, 3, 4, 5, 6, 7, 8, 9, 10)\n",
      "(1, 2, 3, 4, 5, 1, 2, 3, 4, 5, 1, 2, 3, 4, 5)\n"
     ]
    }
   ],
   "source": [
    "t1 = (1,2,3,4,5)\n",
    "t2 = (6,7,8,9,10)\n",
    "print(t1+t2)\n",
    "print(t1*3)\n"
   ]
  },
  {
   "cell_type": "code",
   "execution_count": 7,
   "id": "4a3b093e",
   "metadata": {},
   "outputs": [
    {
     "data": {
      "text/plain": [
       "2"
      ]
     },
     "execution_count": 7,
     "metadata": {},
     "output_type": "execute_result"
    }
   ],
   "source": [
    "t3 = (23,43,56,32,12,24,12)\n",
    "t3.count(12)\n"
   ]
  },
  {
   "cell_type": "code",
   "execution_count": 8,
   "id": "889611b3",
   "metadata": {},
   "outputs": [
    {
     "name": "stdout",
     "output_type": "stream",
     "text": [
      "True\n"
     ]
    }
   ],
   "source": [
    "name = (\"sanket\",\"Sushant\",\"prnav\",\"adi\",\"Gaurav\")\n",
    "print(\"sanket\" in name)"
   ]
  },
  {
   "cell_type": "code",
   "execution_count": 9,
   "id": "54cc6476",
   "metadata": {},
   "outputs": [
    {
     "name": "stdout",
     "output_type": "stream",
     "text": [
      "5\n"
     ]
    }
   ],
   "source": [
    "print(len(name))"
   ]
  },
  {
   "cell_type": "code",
   "execution_count": null,
   "id": "4b4f2b1e",
   "metadata": {},
   "outputs": [
    {
     "name": "stdout",
     "output_type": "stream",
     "text": [
      "23\n",
      "92\n"
     ]
    }
   ],
   "source": [
    "marks = (23,54,34,65,76,89,92,54)\n",
    "print(min(marks))\n",
    "print(max(marks))"
   ]
  },
  {
   "cell_type": "code",
   "execution_count": 17,
   "id": "8b423d20",
   "metadata": {},
   "outputs": [
    {
     "name": "stdout",
     "output_type": "stream",
     "text": [
      "54\n",
      "2\n"
     ]
    }
   ],
   "source": [
    "print(marks[1])\n",
    "print(marks.index(34))"
   ]
  },
  {
   "cell_type": "code",
   "execution_count": 18,
   "id": "17c24521",
   "metadata": {},
   "outputs": [
    {
     "name": "stdout",
     "output_type": "stream",
     "text": [
      "(20, 40)\n"
     ]
    }
   ],
   "source": [
    "#slicing\n",
    "tuple1 = (10,20,30,40,50)\n",
    "print(tuple1[1:4:2])"
   ]
  },
  {
   "cell_type": "code",
   "execution_count": 19,
   "id": "0ae27fbd",
   "metadata": {},
   "outputs": [
    {
     "name": "stdout",
     "output_type": "stream",
     "text": [
      "(50, 40, 30, 20, 10)\n"
     ]
    }
   ],
   "source": [
    "print(tuple1[::-1])"
   ]
  },
  {
   "cell_type": "code",
   "execution_count": 20,
   "id": "d361b3ee",
   "metadata": {},
   "outputs": [
    {
     "name": "stdout",
     "output_type": "stream",
     "text": [
      "150\n"
     ]
    }
   ],
   "source": [
    "print(sum(tuple1))"
   ]
  },
  {
   "cell_type": "code",
   "execution_count": 34,
   "id": "7047079b",
   "metadata": {},
   "outputs": [
    {
     "name": "stdout",
     "output_type": "stream",
     "text": [
      "[23, 54, 76, 43, 32]\n",
      "[76, 54, 43, 32, 23]\n"
     ]
    }
   ],
   "source": [
    "List1 = [23,54,76,43,32]\n",
    "print(List1)\n",
    "List1.sort(reverse=True)\n",
    "print(List1)"
   ]
  },
  {
   "cell_type": "code",
   "execution_count": 30,
   "id": "62e7e367",
   "metadata": {},
   "outputs": [
    {
     "name": "stdout",
     "output_type": "stream",
     "text": [
      "43\n"
     ]
    }
   ],
   "source": [
    "print(List1[2])"
   ]
  },
  {
   "cell_type": "code",
   "execution_count": 33,
   "id": "2dc9f90c",
   "metadata": {},
   "outputs": [
    {
     "name": "stdout",
     "output_type": "stream",
     "text": [
      "[23, 54, 76, 43, 32]\n",
      "[23, 32, 43, 54, 76]\n",
      "[23, 54, 76, 43, 32]\n"
     ]
    }
   ],
   "source": [
    "List1 = [23,54,76,43,32]\n",
    "print(List1)\n",
    "print(sorted(List1))\n",
    "print(List1)"
   ]
  },
  {
   "cell_type": "code",
   "execution_count": null,
   "id": "26208587",
   "metadata": {},
   "outputs": [],
   "source": []
  }
 ],
 "metadata": {
  "kernelspec": {
   "display_name": "Python 3",
   "language": "python",
   "name": "python3"
  },
  "language_info": {
   "codemirror_mode": {
    "name": "ipython",
    "version": 3
   },
   "file_extension": ".py",
   "mimetype": "text/x-python",
   "name": "python",
   "nbconvert_exporter": "python",
   "pygments_lexer": "ipython3",
   "version": "3.11.9"
  }
 },
 "nbformat": 4,
 "nbformat_minor": 5
}
