{
 "cells": [
  {
   "cell_type": "markdown",
   "id": "26619ae5",
   "metadata": {},
   "source": [
    "#Bitwise opertors\n",
    "1.&\n",
    "2.|\n",
    "3.^\n",
    "4.~\n",
    "5.<<\n",
    "6.>>"
   ]
  },
  {
   "cell_type": "code",
   "execution_count": null,
   "id": "524823b0",
   "metadata": {},
   "outputs": [
    {
     "name": "stdout",
     "output_type": "stream",
     "text": [
      "2\n"
     ]
    }
   ],
   "source": [
    "x=2\n",
    "y=3\n",
    "print(x&y)"
   ]
  },
  {
   "cell_type": "markdown",
   "id": "d5385b35",
   "metadata": {},
   "source": [
    "x dec 2 bin 0010\n",
    "y dec 3 bin 0011\n",
    "--------------------\n",
    "x&y         0010   convert this into dec 2\n"
   ]
  },
  {
   "cell_type": "code",
   "execution_count": 2,
   "id": "f8d85968",
   "metadata": {},
   "outputs": [
    {
     "name": "stdout",
     "output_type": "stream",
     "text": [
      "12\n"
     ]
    }
   ],
   "source": [
    "x=15\n",
    "y=12\n",
    "print(x&y)"
   ]
  },
  {
   "cell_type": "markdown",
   "id": "2229db04",
   "metadata": {},
   "source": [
    "if both bits are 1 then only it will print 1 otherwise it will print 0.\n",
    "bit  bit   and 0r  ex-or not(x)\n",
    "1     1     1   1  0      0\n",
    "1     0     0   1  1      0 \n",
    "0     1     0   1  1      1\n",
    "0     0     0   0  0      1"
   ]
  },
  {
   "cell_type": "markdown",
   "id": "fad0ec51",
   "metadata": {},
   "source": [
    "x dec 15 convert in bin 1111\n",
    "y dec 12 covert in bin  1100\n",
    "------------------------------------\n",
    "x&y                     1100...............its in dec 12"
   ]
  },
  {
   "cell_type": "markdown",
   "id": "39821e37",
   "metadata": {},
   "source": []
  },
  {
   "cell_type": "code",
   "execution_count": 4,
   "id": "55762b5c",
   "metadata": {},
   "outputs": [
    {
     "name": "stdout",
     "output_type": "stream",
     "text": [
      "23\n",
      "3\n"
     ]
    }
   ],
   "source": [
    "x=23\n",
    "y=20\n",
    "print(x|y)\n",
    "print(x^y)"
   ]
  },
  {
   "cell_type": "markdown",
   "id": "675de643",
   "metadata": {},
   "source": [
    "x dec 23 bin 10111\n",
    "y dec 20 bin 10100\n",
    "----------------------------\n",
    "x|y          10111..............dec 23\n",
    "x^y          00011..............dec 3"
   ]
  },
  {
   "cell_type": "code",
   "execution_count": 6,
   "id": "a2295af5",
   "metadata": {},
   "outputs": [
    {
     "name": "stdout",
     "output_type": "stream",
     "text": [
      "-3\n"
     ]
    }
   ],
   "source": [
    "x = 2\n",
    "print(~x)"
   ]
  },
  {
   "cell_type": "code",
   "execution_count": 7,
   "id": "23c7b3e4",
   "metadata": {},
   "outputs": [
    {
     "name": "stdout",
     "output_type": "stream",
     "text": [
      "-21\n"
     ]
    }
   ],
   "source": [
    "y=20\n",
    "print(~y)"
   ]
  },
  {
   "cell_type": "markdown",
   "id": "1e5a73bb",
   "metadata": {},
   "source": [
    "x dec 2 bin 10\n",
    "           + 1\n",
    "           -------\n",
    "             -11..................-3"
   ]
  },
  {
   "cell_type": "code",
   "execution_count": 9,
   "id": "a3a5b502",
   "metadata": {},
   "outputs": [
    {
     "name": "stdout",
     "output_type": "stream",
     "text": [
      "4\n",
      "1\n"
     ]
    }
   ],
   "source": [
    "x=2\n",
    "print(x<<1)\n",
    "print(x>>1)"
   ]
  },
  {
   "cell_type": "markdown",
   "id": "1cb7383a",
   "metadata": {},
   "source": [
    "x dec 2 bin    0010\n",
    "x left shift   0100.........dec 4\n",
    "x right shift  0001.........dec 1"
   ]
  },
  {
   "cell_type": "code",
   "execution_count": 10,
   "id": "191a2f79",
   "metadata": {},
   "outputs": [
    {
     "name": "stdout",
     "output_type": "stream",
     "text": [
      "16\n",
      "1\n"
     ]
    }
   ],
   "source": [
    "y = 4\n",
    "print(y<<2)\n",
    "print(y>>2)"
   ]
  },
  {
   "cell_type": "markdown",
   "id": "397ae73f",
   "metadata": {},
   "source": [
    "y dec 4 bin        00100\n",
    "y left shift by 2  10000..............16\n",
    "y right shift by 2 00001...............1"
   ]
  }
 ],
 "metadata": {
  "kernelspec": {
   "display_name": "Python 3",
   "language": "python",
   "name": "python3"
  },
  "language_info": {
   "codemirror_mode": {
    "name": "ipython",
    "version": 3
   },
   "file_extension": ".py",
   "mimetype": "text/x-python",
   "name": "python",
   "nbconvert_exporter": "python",
   "pygments_lexer": "ipython3",
   "version": "3.11.9"
  }
 },
 "nbformat": 4,
 "nbformat_minor": 5
}
