{
 "cells": [
  {
   "cell_type": "markdown",
   "id": "dea54972",
   "metadata": {},
   "source": [
    "****Abstraction in python****\n",
    "\n",
    "Defn: Abstraction is a key concept in object-oriented programming (OOP) that involves hiding the complex implementation details of a system and exposing only the essential features to the user. This makes the system easier to use and maintain by focusing on what an object does rather than how it does it.\n",
    "                                     or\n",
    "Data abstraction is a programming (and design) technique that relies on the separation of interface and implementation.\n",
    "                                    or\n",
    "\n",
    "Data abstraction refers to providing only essential information to the outside world and hiding their background details, i.e., to represent the needed information in program without presenting the details                                   or .\n",
    "\n",
    " Abstraction means hiding the complexity and only showing the essential features of the obje                                   or ct.\n",
    "\n",
    " An abstract class can have both a normal method and an abstract method\n",
    "\n",
    " An abstract class cannot be instantiated, ie., we cannot create objects for the abstract class\n",
    "w\n",
    "\n",
    "Ex.1: When a user gets a phone call, he can only see the green button(To pickup the call) and red button(to decline the call). He cannot see the technicalities and the mechanism built behind this buttons because its none of his use.\n",
    "\n",
    "\n",
    "Ex.2: When we use a calculate,we just enter the operands(numbers which are operated to determine the result value). And just press the operator such as,\"+,-,*,/,%\".Suppose we press \"+\", the code which is written for addition function gets called.And all of this goes behind the scene. We can see only the numbers,operators & result value and not the code of the same. This is called abstraction.\n",
    "\n",
    "Abstract Classes:\n",
    "\n",
    "1) We cannot create the object of abstract class directly. These classes serve as a blueprint for other classes.\n",
    "2) They are defined using the abc (Abstract Base Classes) module in Python.\n",
    "3) Abstract classes can have one or more abstract methods (methods declared but not implemented).\n",
    "\n",
    "Abstract Methods:\n",
    "\n",
    "1) These are methods defined in an abstract class but lack implementation.\n",
    "2) Subclasses that are inherited from an abstract class must implement all abstract methods.\n",
    "\n",
    "Encapsulation:\n",
    "\n",
    "Often used alongside abstraction, encapsulation restricts access to certain components of an object to prevent unintended interference.\n"
   ]
  },
  {
   "cell_type": "code",
   "execution_count": null,
   "id": "2eb1b01a",
   "metadata": {},
   "outputs": [],
   "source": [
    "from abc import ABC, abstractmethod\n",
    "class BaseClass(ABC):  # create abstract class\n",
    "    @abstractmethod       # decorator\n",
    "    def method_1(self):    # Abstract method\n",
    "         #empty body\n",
    "         pass"
   ]
  },
  {
   "cell_type": "code",
   "execution_count": null,
   "id": "9840a2b5",
   "metadata": {},
   "outputs": [],
   "source": [
    "from abc import ABC, abstractmethod        # Importing module & decorator. \n",
    "\n",
    "# Abstract class\n",
    "class Shape(ABC):\n",
    "    \n",
    "    @abstractmethod                     # declaring abstract method with the help of decorator.\n",
    "    def area(self):\n",
    "        pass  # Abstract method\n",
    "\n",
    "    @abstractmethod\n",
    "    def perimeter(self):\n",
    "        pass  # Abstract method\n",
    "\n",
    "# Concrete class inheriting the abstract class\n",
    "class Rectangle(Shape):\n",
    "    def __init__(self, width, height):\n",
    "        self.width = width\n",
    "        self.height = height\n",
    "\n",
    "    def area(self):\n",
    "        return self.width * self.height\n",
    "\n",
    "    def perimeter(self):\n",
    "        return 2 * (self.width + self.height)\n",
    "\n",
    "# Instantiate concrete class\n",
    "rectangle = Rectangle(10, 20)\n",
    "print(f\"Area: {rectangle.area()}\")\n",
    "print(f\"Perimeter: {rectangle.perimeter()}\")\n"
   ]
  },
  {
   "cell_type": "code",
   "execution_count": 2,
   "id": "f608bfbc",
   "metadata": {},
   "outputs": [
    {
     "name": "stdout",
     "output_type": "stream",
     "text": [
      "Disconnect Call\n"
     ]
    }
   ],
   "source": [
    "from abc import ABC, abstractmethod\n",
    "class Calling(ABC):  # create abstract class\n",
    "    @abstractmethod       # decorator\n",
    "    def Green(self):    # Abstract method\n",
    "         #empty body\n",
    "         pass\n",
    "    @abstractmethod \n",
    "    def Red(self):\n",
    "         pass\n",
    "    \n",
    "class Details(Calling):\n",
    "     def Green(self):\n",
    "          return f\"Plz Recive call\"\n",
    "     def Red(self):\n",
    "          return f\"Disconnect Call\"\n",
    " \n",
    "obj1 = Details()\n",
    "#print(obj1.Green())\n",
    "print(obj1.Red())         "
   ]
  },
  {
   "cell_type": "code",
   "execution_count": 4,
   "id": "810f33a3",
   "metadata": {},
   "outputs": [
    {
     "name": "stdout",
     "output_type": "stream",
     "text": [
      "314.0\n",
      "144.44\n"
     ]
    }
   ],
   "source": [
    "from abc import ABC , abstractmethod \n",
    "class Circle(ABC):\n",
    "    @abstractmethod\n",
    "    def Area(self):\n",
    "        pass\n",
    "    def Perimetere(self):\n",
    "        pass\n",
    "    \n",
    "class details(Circle):\n",
    "    def Area(self,r):\n",
    "        self.r = r\n",
    "        return 3.14*r*r\n",
    "    def Perimetere(self,r):\n",
    "        self.r=r\n",
    "        return 2*3.14*r\n",
    "obj1 = details()\n",
    "print(obj1.Area(10))   \n",
    "print(obj1.Perimetere(23))         "
   ]
  }
 ],
 "metadata": {
  "kernelspec": {
   "display_name": "Python 3",
   "language": "python",
   "name": "python3"
  },
  "language_info": {
   "codemirror_mode": {
    "name": "ipython",
    "version": 3
   },
   "file_extension": ".py",
   "mimetype": "text/x-python",
   "name": "python",
   "nbconvert_exporter": "python",
   "pygments_lexer": "ipython3",
   "version": "3.11.9"
  }
 },
 "nbformat": 4,
 "nbformat_minor": 5
}
