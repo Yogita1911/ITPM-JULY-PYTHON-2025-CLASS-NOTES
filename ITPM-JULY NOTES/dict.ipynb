{
 "cells": [
  {
   "cell_type": "markdown",
   "id": "05183367",
   "metadata": {},
   "source": [
    "Dictionary:\n",
    "            Dict. is collection of Different types of data where we store data in the formate of key and value pair.\n",
    "            We represent dict. using {}\n",
    "            keys and values are seperte by : .\n",
    "            dict's key are unique in nature"
   ]
  },
  {
   "cell_type": "code",
   "execution_count": 2,
   "id": "0b112622",
   "metadata": {},
   "outputs": [
    {
     "name": "stdout",
     "output_type": "stream",
     "text": [
      "{101: 'Python Notes', 102: 'UI Notes', 103: 'Apti notes', 104: 'Apti notes'}\n"
     ]
    }
   ],
   "source": [
    "dict1 = {101:\"Python Notes\",102:\"UI Notes\",103:\"Apti notes\",104 : \"Apti notes\"}\n",
    "print(dict1)"
   ]
  },
  {
   "cell_type": "code",
   "execution_count": 5,
   "id": "0e88824d",
   "metadata": {},
   "outputs": [
    {
     "data": {
      "text/plain": [
       "{'Name': 'Ankita', 'Age': 22, 101: 'Python nots'}"
      ]
     },
     "execution_count": 5,
     "metadata": {},
     "output_type": "execute_result"
    }
   ],
   "source": [
    "dict2 = {\"Name\":\"Ankita\",\"Age\":22,101:\"Python nots\"}\n",
    "dict2"
   ]
  },
  {
   "cell_type": "code",
   "execution_count": 7,
   "id": "f558d3e9",
   "metadata": {},
   "outputs": [
    {
     "data": {
      "text/plain": [
       "dict_keys(['Name', 'Age', 101])"
      ]
     },
     "execution_count": 7,
     "metadata": {},
     "output_type": "execute_result"
    }
   ],
   "source": [
    "dict2.keys()"
   ]
  },
  {
   "cell_type": "code",
   "execution_count": 10,
   "id": "47939086",
   "metadata": {},
   "outputs": [
    {
     "data": {
      "text/plain": [
       "dict_values(['Ankita', 22, 'Python nots'])"
      ]
     },
     "execution_count": 10,
     "metadata": {},
     "output_type": "execute_result"
    }
   ],
   "source": [
    "dict2.values()"
   ]
  },
  {
   "cell_type": "code",
   "execution_count": 21,
   "id": "a41b05ef",
   "metadata": {},
   "outputs": [
    {
     "name": "stdout",
     "output_type": "stream",
     "text": [
      "True\n"
     ]
    }
   ],
   "source": [
    "print(\"Name\" in dict2)"
   ]
  },
  {
   "cell_type": "code",
   "execution_count": 15,
   "id": "29f8eda4",
   "metadata": {},
   "outputs": [
    {
     "data": {
      "text/plain": [
       "'Ankita'"
      ]
     },
     "execution_count": 15,
     "metadata": {},
     "output_type": "execute_result"
    }
   ],
   "source": [
    "dict2[\"Name\"]"
   ]
  },
  {
   "cell_type": "code",
   "execution_count": 16,
   "id": "66d608ac",
   "metadata": {},
   "outputs": [
    {
     "data": {
      "text/plain": [
       "3"
      ]
     },
     "execution_count": 16,
     "metadata": {},
     "output_type": "execute_result"
    }
   ],
   "source": [
    "len(dict2)"
   ]
  },
  {
   "cell_type": "code",
   "execution_count": 18,
   "id": "3f7062b7",
   "metadata": {},
   "outputs": [
    {
     "name": "stdout",
     "output_type": "stream",
     "text": [
      "{101: 'Prnav', 'Marks': 90, 'age': 22}\n",
      "{101: 'Prnav', 'Marks': 99, 'age': 22}\n"
     ]
    }
   ],
   "source": [
    "dict3 = {101:\"Prnav\",\"Marks\":90,\"age\":22}\n",
    "print(dict3)\n",
    "dict3[\"Marks\"] = 99\n",
    "print(dict3)"
   ]
  },
  {
   "cell_type": "code",
   "execution_count": 19,
   "id": "547effb3",
   "metadata": {},
   "outputs": [
    {
     "data": {
      "text/plain": [
       "{}"
      ]
     },
     "execution_count": 19,
     "metadata": {},
     "output_type": "execute_result"
    }
   ],
   "source": [
    "dict3.clear()\n",
    "dict3"
   ]
  },
  {
   "cell_type": "code",
   "execution_count": 20,
   "id": "e542563e",
   "metadata": {},
   "outputs": [
    {
     "ename": "NameError",
     "evalue": "name 'dict3' is not defined",
     "output_type": "error",
     "traceback": [
      "\u001b[31m---------------------------------------------------------------------------\u001b[39m",
      "\u001b[31mNameError\u001b[39m                                 Traceback (most recent call last)",
      "\u001b[36mCell\u001b[39m\u001b[36m \u001b[39m\u001b[32mIn[20]\u001b[39m\u001b[32m, line 2\u001b[39m\n\u001b[32m      1\u001b[39m \u001b[38;5;28;01mdel\u001b[39;00m dict3\n\u001b[32m----> \u001b[39m\u001b[32m2\u001b[39m \u001b[43mdict3\u001b[49m\n",
      "\u001b[31mNameError\u001b[39m: name 'dict3' is not defined"
     ]
    }
   ],
   "source": [
    "del dict3\n",
    "dict3"
   ]
  },
  {
   "cell_type": "code",
   "execution_count": null,
   "id": "cce3f580",
   "metadata": {},
   "outputs": [],
   "source": [
    "#Wap flaten a nested list.\n",
    "#I/p [1,2,[3,4],[5,6]] o/p [1,2,3,4,5,6]\n",
    "#WAp to roatate a list by n position.\n",
    "# [1,2,3,4,5,6] ...... n = 3 o/p: [4,5,6,1,2,3]"
   ]
  },
  {
   "cell_type": "code",
   "execution_count": null,
   "id": "a40e8dd0",
   "metadata": {},
   "outputs": [],
   "source": [
    "#Wap to print find frequency of each char in given string.and store in dict\n",
    "#strng = \"Python\" o/p : dict = {\"p\":1,\"y\":1......}"
   ]
  },
  {
   "cell_type": "code",
   "execution_count": null,
   "id": "f8c9dbbd",
   "metadata": {},
   "outputs": [],
   "source": [
    "\n",
    "#WAp to sort 1st half in asecnding order and second half in desending order.\n",
    "#i/p l1 = [32,21,44,4,51,20] o/p [21,32,44,51,20,4]\n",
    "#WAp to replace all zero at end of list.list1=[,0,1,2,0,3,0,4] olp:[1,2,3,4,0,0,0]"
   ]
  },
  {
   "cell_type": "code",
   "execution_count": 28,
   "id": "8ec4f1ef",
   "metadata": {},
   "outputs": [
    {
     "name": "stdout",
     "output_type": "stream",
     "text": [
      "54\n"
     ]
    }
   ],
   "source": [
    "#WAP TO FIND OUT SECOND HIGHEST element from tuple.\n",
    "tuple1 = (23,43,54,65,32,21)\n",
    "print(sorted(tuple1)[-2])"
   ]
  },
  {
   "cell_type": "code",
   "execution_count": null,
   "id": "79cfc448",
   "metadata": {},
   "outputs": [],
   "source": [
    "#WAp to sort 1st half in asecnding order and second half in desending order.\n",
    "#i/p l1 = [32,21,44,4,51,20] o/p [21,32,44,51,20,4]\n",
    "l1 = [32,21,44,4,51,20]\n"
   ]
  }
 ],
 "metadata": {
  "kernelspec": {
   "display_name": "Python 3",
   "language": "python",
   "name": "python3"
  },
  "language_info": {
   "codemirror_mode": {
    "name": "ipython",
    "version": 3
   },
   "file_extension": ".py",
   "mimetype": "text/x-python",
   "name": "python",
   "nbconvert_exporter": "python",
   "pygments_lexer": "ipython3",
   "version": "3.11.9"
  }
 },
 "nbformat": 4,
 "nbformat_minor": 5
}
