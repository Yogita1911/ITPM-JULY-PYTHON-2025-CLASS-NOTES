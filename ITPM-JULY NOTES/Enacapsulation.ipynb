{
 "cells": [
  {
   "cell_type": "markdown",
   "id": "b5769ea4",
   "metadata": {},
   "source": [
    "Encapsulation:Binding data and its related methods into single unit.\n",
    "\n"
   ]
  },
  {
   "cell_type": "code",
   "execution_count": 1,
   "id": "7abb3538",
   "metadata": {},
   "outputs": [
    {
     "name": "stdout",
     "output_type": "stream",
     "text": [
      "('Ankit', 'Adi')\n",
      "('Vaishnavi', 'Rutuja')\n"
     ]
    }
   ],
   "source": [
    "class Stud:\n",
    "    def Itpm_july(self,name1,name2):\n",
    "        self.name1=name1\n",
    "        self.name2=name2\n",
    "        return name1,name2\n",
    "    def Itpm_Aug(self,std1,std2):\n",
    "        self.std1=std1\n",
    "        self.std2=std2\n",
    "        return std1,std2\n",
    "    \n",
    "obj1 = Stud()\n",
    "print(obj1.Itpm_july(\"Ankit\",\"Adi\"))\n",
    "print(obj1.Itpm_Aug(\"Vaishnavi\",\"Rutuja\"))    "
   ]
  },
  {
   "cell_type": "code",
   "execution_count": null,
   "id": "70488e5d",
   "metadata": {},
   "outputs": [
    {
     "name": "stdout",
     "output_type": "stream",
     "text": [
      "Show the Balance\n",
      "Money Credited to your account\n",
      "Show the Balance\n"
     ]
    }
   ],
   "source": [
    "from abc import ABC,abstractmethod\n",
    "class Atm(ABC):\n",
    "    @abstractmethod\n",
    "    def balance(self):\n",
    "        pass\n",
    "    @abstractmethod\n",
    "    def Credit(self):\n",
    "        pass\n",
    "    @abstractmethod\n",
    "    def Deposite(self):\n",
    "        pass\n",
    "class Customer(Atm):\n",
    "    def balance(self):\n",
    "        return f\"Show the Balance\"\n",
    "    def Credit(self):\n",
    "        return f\"Money Credited to your account\"\n",
    "    def Deposite(self):\n",
    "        return f\"Money Deposited\"\n",
    "C1 = Customer()\n",
    "print(C1.balance())    \n",
    "c2 = Customer()\n",
    "print(c2.Credit())\n",
    "print(c2.balance())\n",
    "    \n",
    "            "
   ]
  },
  {
   "cell_type": "markdown",
   "id": "31ffee5f",
   "metadata": {},
   "source": [
    "Access Modifiers:\n",
    "1.Public\n",
    "2.Private\n",
    "3.Protected"
   ]
  },
  {
   "cell_type": "code",
   "execution_count": 10,
   "id": "a37f2978",
   "metadata": {},
   "outputs": [
    {
     "name": "stdout",
     "output_type": "stream",
     "text": [
      "Value of Num1 is 2\n",
      "Value of Num2 is 3\n",
      "2\n"
     ]
    }
   ],
   "source": [
    "#1.Public\n",
    "class Number:\n",
    "    def __init__(self,a,b):\n",
    "        self.a = a #we declear a as a public variable\n",
    "        self.b = b\n",
    "    def Num1(self):\n",
    "        return f\"Value of Num1 is {self.a}\"\n",
    "    def Num2(self):\n",
    "        return f\"Value of Num2 is {self.b}\"\n",
    "class Num2(Number):\n",
    "    def N1(self):\n",
    "        return self.a    \n",
    "n2 = Num2(2,3)\n",
    "print(n2.Num1())\n",
    "print(n2.Num2()) \n",
    "print(n2.N1())   \n",
    "    "
   ]
  },
  {
   "cell_type": "code",
   "execution_count": 7,
   "id": "0bfaf4ff",
   "metadata": {},
   "outputs": [
    {
     "name": "stdout",
     "output_type": "stream",
     "text": [
      "Value of Num1 is 2\n",
      "Value of Num2 is 3\n",
      "Value of Num1 is 2\n"
     ]
    }
   ],
   "source": [
    "class Number:\n",
    "    def __init__(self,a,b):\n",
    "        self._a = a #we declear a as a protected variable\n",
    "        self._b = b\n",
    "    def Num1(self):\n",
    "        return f\"Value of Num1 is {self._a}\"\n",
    "    def Num2(self):\n",
    "        return f\"Value of Num2 is {self._b}\"\n",
    "class Number2(Number):\n",
    "    def Num3(self):\n",
    "        return f\"Value of Num1 is {self._a}\"    \n",
    "n2 = Number2(2,3)\n",
    "print(n2.Num1())\n",
    "print(n2.Num2())    \n",
    "print(n2.Num3())"
   ]
  },
  {
   "cell_type": "code",
   "execution_count": null,
   "id": "7f6033b3",
   "metadata": {},
   "outputs": [
    {
     "name": "stdout",
     "output_type": "stream",
     "text": [
      "Addition of two numbers is : 5\n"
     ]
    }
   ],
   "source": [
    "#private\n",
    "class Cal1:\n",
    "    def __init__(self,a,b):\n",
    "        self.__a=a\n",
    "        self.__b=b\n",
    "        \n",
    "    def add(self):\n",
    "        return f\"Addition of two numbers is : {self.__a + self.__b}\"\n",
    "obj1 = Cal1(2,3)\n",
    "print(obj1.add())    \n"
   ]
  },
  {
   "cell_type": "code",
   "execution_count": 17,
   "id": "594ef43a",
   "metadata": {},
   "outputs": [
    {
     "name": "stdout",
     "output_type": "stream",
     "text": [
      "Addition of two numbers is : 5\n"
     ]
    },
    {
     "ename": "AttributeError",
     "evalue": "'Cal2' object has no attribute 'a'",
     "output_type": "error",
     "traceback": [
      "\u001b[31m---------------------------------------------------------------------------\u001b[39m",
      "\u001b[31mAttributeError\u001b[39m                            Traceback (most recent call last)",
      "\u001b[36mCell\u001b[39m\u001b[36m \u001b[39m\u001b[32mIn[17]\u001b[39m\u001b[32m, line 17\u001b[39m\n\u001b[32m     15\u001b[39m \u001b[38;5;28mprint\u001b[39m(obj1.add()) \n\u001b[32m     16\u001b[39m obj2 = Cal2()\n\u001b[32m---> \u001b[39m\u001b[32m17\u001b[39m \u001b[38;5;28mprint\u001b[39m(\u001b[43mobj2\u001b[49m\u001b[43m.\u001b[49m\u001b[43mnumber1\u001b[49m\u001b[43m(\u001b[49m\u001b[43m)\u001b[49m)  \n",
      "\u001b[36mCell\u001b[39m\u001b[36m \u001b[39m\u001b[32mIn[17]\u001b[39m\u001b[32m, line 11\u001b[39m, in \u001b[36mCal2.number1\u001b[39m\u001b[34m(self)\u001b[39m\n\u001b[32m     10\u001b[39m \u001b[38;5;28;01mdef\u001b[39;00m\u001b[38;5;250m \u001b[39m\u001b[34mnumber1\u001b[39m(\u001b[38;5;28mself\u001b[39m):\n\u001b[32m---> \u001b[39m\u001b[32m11\u001b[39m     \u001b[38;5;28;01mreturn\u001b[39;00m \u001b[33mf\u001b[39m\u001b[33m\"\u001b[39m\u001b[33mValue of a and b is \u001b[39m\u001b[38;5;132;01m{\u001b[39;00m\u001b[38;5;28;43mself\u001b[39;49m\u001b[43m.\u001b[49m\u001b[43ma\u001b[49m\u001b[38;5;132;01m}\u001b[39;00m\u001b[33m and \u001b[39m\u001b[38;5;132;01m{\u001b[39;00m\u001b[38;5;28mself\u001b[39m.b\u001b[38;5;132;01m}\u001b[39;00m\u001b[33m\"\u001b[39m\n",
      "\u001b[31mAttributeError\u001b[39m: 'Cal2' object has no attribute 'a'"
     ]
    }
   ],
   "source": [
    "# private variables can't access outside class\n",
    "class Cal1:\n",
    "    def __init__(self,a,b):\n",
    "        self.__a=a\n",
    "        self.__b=b\n",
    "        \n",
    "    def add(self):\n",
    "        return f\"Addition of two numbers is : {self.__a + self.__b}\"\n",
    "class Cal2:\n",
    "    def number1(self):\n",
    "        return f\"Value of a and b is {self.a} and {self.b}\"\n",
    "    \n",
    "\n",
    "obj1 = Cal1(2,3)\n",
    "print(obj1.add()) \n",
    "obj2 = Cal2()\n",
    "print(obj2.number1())  "
   ]
  },
  {
   "cell_type": "code",
   "execution_count": 18,
   "id": "8afef32e",
   "metadata": {},
   "outputs": [
    {
     "name": "stdout",
     "output_type": "stream",
     "text": [
      "Addition of two numbers is : 5\n"
     ]
    },
    {
     "ename": "AttributeError",
     "evalue": "'Cal2' object has no attribute 'a'",
     "output_type": "error",
     "traceback": [
      "\u001b[31m---------------------------------------------------------------------------\u001b[39m",
      "\u001b[31mAttributeError\u001b[39m                            Traceback (most recent call last)",
      "\u001b[36mCell\u001b[39m\u001b[36m \u001b[39m\u001b[32mIn[18]\u001b[39m\u001b[32m, line 16\u001b[39m\n\u001b[32m     14\u001b[39m obj1 = Cal2(\u001b[32m2\u001b[39m,\u001b[32m3\u001b[39m)\n\u001b[32m     15\u001b[39m \u001b[38;5;28mprint\u001b[39m(obj1.add()) \n\u001b[32m---> \u001b[39m\u001b[32m16\u001b[39m \u001b[38;5;28mprint\u001b[39m(\u001b[43mobj1\u001b[49m\u001b[43m.\u001b[49m\u001b[43mnumber1\u001b[49m\u001b[43m(\u001b[49m\u001b[43m)\u001b[49m)  \n",
      "\u001b[36mCell\u001b[39m\u001b[36m \u001b[39m\u001b[32mIn[18]\u001b[39m\u001b[32m, line 11\u001b[39m, in \u001b[36mCal2.number1\u001b[39m\u001b[34m(self)\u001b[39m\n\u001b[32m     10\u001b[39m \u001b[38;5;28;01mdef\u001b[39;00m\u001b[38;5;250m \u001b[39m\u001b[34mnumber1\u001b[39m(\u001b[38;5;28mself\u001b[39m):\n\u001b[32m---> \u001b[39m\u001b[32m11\u001b[39m     \u001b[38;5;28;01mreturn\u001b[39;00m \u001b[33mf\u001b[39m\u001b[33m\"\u001b[39m\u001b[33mValue of a and b is \u001b[39m\u001b[38;5;132;01m{\u001b[39;00m\u001b[38;5;28;43mself\u001b[39;49m\u001b[43m.\u001b[49m\u001b[43ma\u001b[49m\u001b[38;5;132;01m}\u001b[39;00m\u001b[33m and \u001b[39m\u001b[38;5;132;01m{\u001b[39;00m\u001b[38;5;28mself\u001b[39m.b\u001b[38;5;132;01m}\u001b[39;00m\u001b[33m\"\u001b[39m\n",
      "\u001b[31mAttributeError\u001b[39m: 'Cal2' object has no attribute 'a'"
     ]
    }
   ],
   "source": [
    "# private variables can't access in child class also\n",
    "class Cal1:\n",
    "    def __init__(self,a,b):\n",
    "        self.__a=a\n",
    "        self.__b=b\n",
    "        \n",
    "    def add(self):\n",
    "        return f\"Addition of two numbers is : {self.__a + self.__b}\"\n",
    "class Cal2(Cal1):\n",
    "    def number1(self):\n",
    "        return f\"Value of a and b is {self.a} and {self.b}\"\n",
    "    \n",
    "\n",
    "obj1 = Cal2(2,3)\n",
    "print(obj1.add()) \n",
    "print(obj1.number1())  "
   ]
  }
 ],
 "metadata": {
  "kernelspec": {
   "display_name": "Python 3",
   "language": "python",
   "name": "python3"
  },
  "language_info": {
   "codemirror_mode": {
    "name": "ipython",
    "version": 3
   },
   "file_extension": ".py",
   "mimetype": "text/x-python",
   "name": "python",
   "nbconvert_exporter": "python",
   "pygments_lexer": "ipython3",
   "version": "3.11.9"
  }
 },
 "nbformat": 4,
 "nbformat_minor": 5
}
