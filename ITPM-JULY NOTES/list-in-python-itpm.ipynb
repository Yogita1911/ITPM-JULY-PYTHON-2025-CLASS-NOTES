{
 "cells": [
  {
   "cell_type": "markdown",
   "metadata": {},
   "source": [
    "## list:\n",
    "#### A list is a data structure in Python that is a mutable or changeable in nature and store ordered sequence of elements."
   ]
  },
  {
   "cell_type": "code",
   "execution_count": null,
   "metadata": {
    "execution": {
     "iopub.execute_input": "2025-04-25T09:05:40.360897Z",
     "iopub.status.busy": "2025-04-25T09:05:40.360086Z",
     "iopub.status.idle": "2025-04-25T09:05:40.399518Z",
     "shell.execute_reply": "2025-04-25T09:05:40.397907Z",
     "shell.execute_reply.started": "2025-04-25T09:05:40.360836Z"
    },
    "trusted": true
   },
   "outputs": [],
   "source": [
    "#List is het type of data\n",
    "L1 = [\"Chetan\",101,\"Pune\",99.90,(90,92,91)]\n",
    "print(L1)"
   ]
  },
  {
   "cell_type": "code",
   "execution_count": null,
   "metadata": {
    "execution": {
     "iopub.execute_input": "2025-06-25T09:02:36.283275Z",
     "iopub.status.busy": "2025-06-25T09:02:36.282856Z",
     "iopub.status.idle": "2025-06-25T09:02:36.331854Z",
     "shell.execute_reply": "2025-06-25T09:02:36.330671Z",
     "shell.execute_reply.started": "2025-06-25T09:02:36.283229Z"
    },
    "trusted": true
   },
   "outputs": [],
   "source": [
    "l1=[1,2,3,4,5]\n",
    "l2=[1.2,2.3,4.5]\n",
    "l3=[\"Dipak\",\"Tushar\",\"Prtik\"]\n",
    "l4=[\"Nisha\",23,93.23,(1,2,3)]\n",
    "print(l1,l2,l3,l4)\n"
   ]
  },
  {
   "cell_type": "code",
   "execution_count": null,
   "metadata": {
    "execution": {
     "iopub.execute_input": "2025-06-25T09:04:33.938928Z",
     "iopub.status.busy": "2025-06-25T09:04:33.938379Z",
     "iopub.status.idle": "2025-06-25T09:04:33.946094Z",
     "shell.execute_reply": "2025-06-25T09:04:33.944541Z",
     "shell.execute_reply.started": "2025-06-25T09:04:33.938887Z"
    },
    "trusted": true
   },
   "outputs": [],
   "source": [
    "List1=[1,2,3,4,5]\n",
    "List1.append(6)\n",
    "print(List1)"
   ]
  },
  {
   "cell_type": "code",
   "execution_count": null,
   "metadata": {
    "execution": {
     "iopub.execute_input": "2025-06-25T09:07:00.730245Z",
     "iopub.status.busy": "2025-06-25T09:07:00.729734Z",
     "iopub.status.idle": "2025-06-25T09:07:00.737533Z",
     "shell.execute_reply": "2025-06-25T09:07:00.735831Z",
     "shell.execute_reply.started": "2025-06-25T09:07:00.730205Z"
    },
    "trusted": true
   },
   "outputs": [],
   "source": [
    "List2=[23,43,65,76]\n",
    "List2.append(2)\n",
    "print(List2)"
   ]
  },
  {
   "cell_type": "code",
   "execution_count": null,
   "metadata": {
    "execution": {
     "iopub.execute_input": "2025-06-25T09:07:46.499103Z",
     "iopub.status.busy": "2025-06-25T09:07:46.498006Z",
     "iopub.status.idle": "2025-06-25T09:07:46.507664Z",
     "shell.execute_reply": "2025-06-25T09:07:46.506365Z",
     "shell.execute_reply.started": "2025-06-25T09:07:46.499058Z"
    },
    "trusted": true
   },
   "outputs": [],
   "source": [
    "List1.pop()\n",
    "List1"
   ]
  },
  {
   "cell_type": "code",
   "execution_count": null,
   "metadata": {
    "execution": {
     "iopub.execute_input": "2025-04-25T09:09:22.262904Z",
     "iopub.status.busy": "2025-04-25T09:09:22.262300Z",
     "iopub.status.idle": "2025-04-25T09:09:22.268453Z",
     "shell.execute_reply": "2025-04-25T09:09:22.267366Z",
     "shell.execute_reply.started": "2025-04-25T09:09:22.262856Z"
    },
    "trusted": true
   },
   "outputs": [],
   "source": [
    "L1.append(34)\n",
    "print(L1)"
   ]
  },
  {
   "cell_type": "code",
   "execution_count": null,
   "metadata": {
    "execution": {
     "iopub.execute_input": "2025-06-25T09:10:04.926563Z",
     "iopub.status.busy": "2025-06-25T09:10:04.926159Z",
     "iopub.status.idle": "2025-06-25T09:10:04.932785Z",
     "shell.execute_reply": "2025-06-25T09:10:04.931740Z",
     "shell.execute_reply.started": "2025-06-25T09:10:04.926532Z"
    },
    "trusted": true
   },
   "outputs": [],
   "source": [
    "list1 = [1,2,3,4,5]\n",
    "list2 = [3,4,2,5,1]\n",
    "print(list1==list2)"
   ]
  },
  {
   "cell_type": "code",
   "execution_count": null,
   "metadata": {
    "execution": {
     "iopub.execute_input": "2024-12-26T08:53:48.492946Z",
     "iopub.status.busy": "2024-12-26T08:53:48.492448Z",
     "iopub.status.idle": "2024-12-26T08:53:48.539091Z",
     "shell.execute_reply": "2024-12-26T08:53:48.537602Z",
     "shell.execute_reply.started": "2024-12-26T08:53:48.492905Z"
    },
    "trusted": true
   },
   "outputs": [],
   "source": [
    "# list is a collection hetrogenieous type of data\n",
    "list1 = [1,2,3.4,\"name\",[1,2]]\n",
    "print(list1)"
   ]
  },
  {
   "cell_type": "code",
   "execution_count": null,
   "metadata": {
    "execution": {
     "iopub.execute_input": "2025-02-10T05:59:39.494571Z",
     "iopub.status.busy": "2025-02-10T05:59:39.494279Z",
     "iopub.status.idle": "2025-02-10T05:59:39.527120Z",
     "shell.execute_reply": "2025-02-10T05:59:39.525924Z",
     "shell.execute_reply.started": "2025-02-10T05:59:39.494545Z"
    },
    "trusted": true
   },
   "outputs": [],
   "source": [
    "#list is a mutable\n",
    "list1 = [1,2,3]\n",
    "list1.append(4)\n",
    "list1"
   ]
  },
  {
   "cell_type": "code",
   "execution_count": null,
   "metadata": {
    "execution": {
     "iopub.execute_input": "2025-02-10T06:00:38.742511Z",
     "iopub.status.busy": "2025-02-10T06:00:38.742130Z",
     "iopub.status.idle": "2025-02-10T06:00:38.747873Z",
     "shell.execute_reply": "2025-02-10T06:00:38.746812Z",
     "shell.execute_reply.started": "2025-02-10T06:00:38.742481Z"
    },
    "trusted": true
   },
   "outputs": [],
   "source": [
    "l1 = [1,3,4,2]\n",
    "print(l1)"
   ]
  },
  {
   "cell_type": "code",
   "execution_count": null,
   "metadata": {
    "execution": {
     "iopub.execute_input": "2025-02-10T06:01:35.535331Z",
     "iopub.status.busy": "2025-02-10T06:01:35.534922Z",
     "iopub.status.idle": "2025-02-10T06:01:35.541941Z",
     "shell.execute_reply": "2025-02-10T06:01:35.540855Z",
     "shell.execute_reply.started": "2025-02-10T06:01:35.535302Z"
    },
    "trusted": true
   },
   "outputs": [],
   "source": [
    "s1 = {1,3,4,2}\n",
    "s1"
   ]
  },
  {
   "cell_type": "code",
   "execution_count": null,
   "metadata": {
    "execution": {
     "iopub.execute_input": "2025-02-10T06:02:52.934192Z",
     "iopub.status.busy": "2025-02-10T06:02:52.933849Z",
     "iopub.status.idle": "2025-02-10T06:02:52.939403Z",
     "shell.execute_reply": "2025-02-10T06:02:52.938387Z",
     "shell.execute_reply.started": "2025-02-10T06:02:52.934163Z"
    },
    "trusted": true
   },
   "outputs": [],
   "source": [
    "# order collection\n",
    "l1 = [1,2,3,4]\n",
    "l2 = [2,1,3,4]\n",
    "print(l1==l2)"
   ]
  },
  {
   "cell_type": "code",
   "execution_count": null,
   "metadata": {
    "execution": {
     "iopub.execute_input": "2025-05-08T08:09:07.284817Z",
     "iopub.status.busy": "2025-05-08T08:09:07.284430Z",
     "iopub.status.idle": "2025-05-08T08:09:07.309909Z",
     "shell.execute_reply": "2025-05-08T08:09:07.308213Z",
     "shell.execute_reply.started": "2025-05-08T08:09:07.284785Z"
    },
    "trusted": true
   },
   "outputs": [],
   "source": [
    "\n"
   ]
  },
  {
   "cell_type": "code",
   "execution_count": null,
   "metadata": {
    "execution": {
     "iopub.execute_input": "2025-02-10T06:03:23.012489Z",
     "iopub.status.busy": "2025-02-10T06:03:23.012074Z",
     "iopub.status.idle": "2025-02-10T06:03:23.018485Z",
     "shell.execute_reply": "2025-02-10T06:03:23.017305Z",
     "shell.execute_reply.started": "2025-02-10T06:03:23.012455Z"
    },
    "trusted": true
   },
   "outputs": [],
   "source": [
    "l1 = {1,2,3,4}\n",
    "l2 = {2,1,3,4}\n",
    "print(l1==l2)"
   ]
  },
  {
   "cell_type": "code",
   "execution_count": null,
   "metadata": {},
   "outputs": [],
   "source": [
    "List operations :\n",
    "    1.append \n",
    "    2.extend\n",
    "    3.insert\n",
    "    4.pop\n",
    "    5.remove\n",
    "    6.clear\n",
    "    7.delete\n",
    "    8.count\n",
    "    9.length   # l1.len()\n",
    "    10.MIN\n",
    "    11.MAX\n",
    "    12.reverse\n",
    "    13.sort\n",
    "    14.sorted\n",
    "    15.concate\n",
    "    16.multiplication\n",
    "\n",
    "    \n",
    "### Indexing in list\n",
    "18.Indexing \n",
    "19.Negative indexing\n",
    "20.indexing in multi-list\n",
    "21.slicing\n",
    "22. slicing with step"
   ]
  },
  {
   "cell_type": "code",
   "execution_count": null,
   "metadata": {
    "execution": {
     "iopub.execute_input": "2025-04-25T09:11:57.107369Z",
     "iopub.status.busy": "2025-04-25T09:11:57.106969Z",
     "iopub.status.idle": "2025-04-25T09:11:57.114244Z",
     "shell.execute_reply": "2025-04-25T09:11:57.112737Z",
     "shell.execute_reply.started": "2025-04-25T09:11:57.107339Z"
    },
    "trusted": true
   },
   "outputs": [],
   "source": [
    "print(L1)"
   ]
  },
  {
   "cell_type": "code",
   "execution_count": null,
   "metadata": {
    "execution": {
     "iopub.execute_input": "2025-06-25T09:20:18.515313Z",
     "iopub.status.busy": "2025-06-25T09:20:18.514812Z",
     "iopub.status.idle": "2025-06-25T09:20:18.523957Z",
     "shell.execute_reply": "2025-06-25T09:20:18.522627Z",
     "shell.execute_reply.started": "2025-06-25T09:20:18.515279Z"
    },
    "trusted": true
   },
   "outputs": [],
   "source": [
    "list1.append(7)\n",
    "list1"
   ]
  },
  {
   "cell_type": "code",
   "execution_count": null,
   "metadata": {
    "execution": {
     "iopub.execute_input": "2025-06-25T09:23:47.615020Z",
     "iopub.status.busy": "2025-06-25T09:23:47.614570Z",
     "iopub.status.idle": "2025-06-25T09:23:47.623648Z",
     "shell.execute_reply": "2025-06-25T09:23:47.622183Z",
     "shell.execute_reply.started": "2025-06-25T09:23:47.614988Z"
    },
    "trusted": true
   },
   "outputs": [],
   "source": [
    "list1.extend([8,9])\n",
    "list1\n"
   ]
  },
  {
   "cell_type": "code",
   "execution_count": null,
   "metadata": {
    "trusted": true
   },
   "outputs": [],
   "source": []
  },
  {
   "cell_type": "code",
   "execution_count": null,
   "metadata": {
    "execution": {
     "iopub.execute_input": "2025-04-25T09:14:05.959563Z",
     "iopub.status.busy": "2025-04-25T09:14:05.959215Z",
     "iopub.status.idle": "2025-04-25T09:14:05.965320Z",
     "shell.execute_reply": "2025-04-25T09:14:05.964306Z",
     "shell.execute_reply.started": "2025-04-25T09:14:05.959537Z"
    },
    "trusted": true
   },
   "outputs": [],
   "source": [
    "L1.extend([34,54,87,87])\n",
    "print(L1)"
   ]
  },
  {
   "cell_type": "code",
   "execution_count": null,
   "metadata": {
    "execution": {
     "iopub.execute_input": "2025-06-25T09:28:03.366147Z",
     "iopub.status.busy": "2025-06-25T09:28:03.365698Z",
     "iopub.status.idle": "2025-06-25T09:28:03.373480Z",
     "shell.execute_reply": "2025-06-25T09:28:03.371854Z",
     "shell.execute_reply.started": "2025-06-25T09:28:03.366115Z"
    },
    "trusted": true
   },
   "outputs": [],
   "source": [
    "l1=[1,2,4,5]\n",
    "l1.append(3)\n",
    "print(l1)\n",
    "l1.insert(2,3)\n",
    "print(l1)"
   ]
  },
  {
   "cell_type": "code",
   "execution_count": null,
   "metadata": {
    "execution": {
     "iopub.execute_input": "2025-06-25T09:29:33.217848Z",
     "iopub.status.busy": "2025-06-25T09:29:33.216640Z",
     "iopub.status.idle": "2025-06-25T09:29:33.224547Z",
     "shell.execute_reply": "2025-06-25T09:29:33.223452Z",
     "shell.execute_reply.started": "2025-06-25T09:29:33.217810Z"
    },
    "trusted": true
   },
   "outputs": [],
   "source": [
    "l1=[1,2,3,4,5]\n",
    "l1"
   ]
  },
  {
   "cell_type": "code",
   "execution_count": null,
   "metadata": {
    "execution": {
     "iopub.execute_input": "2025-04-25T09:15:28.029715Z",
     "iopub.status.busy": "2025-04-25T09:15:28.029334Z",
     "iopub.status.idle": "2025-04-25T09:15:28.035744Z",
     "shell.execute_reply": "2025-04-25T09:15:28.034688Z",
     "shell.execute_reply.started": "2025-04-25T09:15:28.029687Z"
    },
    "trusted": true
   },
   "outputs": [],
   "source": [
    "L1.insert(2,4)\n",
    "print(L1)"
   ]
  },
  {
   "cell_type": "code",
   "execution_count": null,
   "metadata": {
    "execution": {
     "iopub.execute_input": "2025-04-25T09:22:45.987885Z",
     "iopub.status.busy": "2025-04-25T09:22:45.986392Z",
     "iopub.status.idle": "2025-04-25T09:22:45.994283Z",
     "shell.execute_reply": "2025-04-25T09:22:45.992912Z",
     "shell.execute_reply.started": "2025-04-25T09:22:45.987829Z"
    },
    "trusted": true
   },
   "outputs": [],
   "source": [
    "Name = [\"Jay\",\"Rugved\",\"Akash\",\"Chetan\",\"Yash\"]\n",
    "Name.append(\"Surabh\")\n",
    "print(Name)\n",
    "Name.extend([\"Vishwali\",\"Richa\",\"Rutuja\"])\n",
    "print(Name)\n",
    "Name.insert(5,\"Sartaj\")\n",
    "print(Name)\n",
    "\n"
   ]
  },
  {
   "cell_type": "code",
   "execution_count": null,
   "metadata": {
    "execution": {
     "iopub.execute_input": "2024-11-08T04:11:27.992305Z",
     "iopub.status.busy": "2024-11-08T04:11:27.991869Z",
     "iopub.status.idle": "2024-11-08T04:11:27.998732Z",
     "shell.execute_reply": "2024-11-08T04:11:27.997668Z",
     "shell.execute_reply.started": "2024-11-08T04:11:27.992269Z"
    },
    "trusted": true
   },
   "outputs": [],
   "source": [
    "#list is collection of diff type of data\n",
    "l1 = [1,2,3,4,5] #...............\n",
    "print(l1)"
   ]
  },
  {
   "cell_type": "code",
   "execution_count": null,
   "metadata": {
    "execution": {
     "iopub.execute_input": "2025-02-10T06:05:10.558079Z",
     "iopub.status.busy": "2025-02-10T06:05:10.557718Z",
     "iopub.status.idle": "2025-02-10T06:05:10.564514Z",
     "shell.execute_reply": "2025-02-10T06:05:10.563406Z",
     "shell.execute_reply.started": "2025-02-10T06:05:10.558043Z"
    },
    "trusted": true
   },
   "outputs": [],
   "source": [
    "List = [1,2,3,4,5,6]\n",
    "List.append(7)\n",
    "List\n"
   ]
  },
  {
   "cell_type": "code",
   "execution_count": null,
   "metadata": {
    "execution": {
     "iopub.execute_input": "2024-12-11T06:25:46.522600Z",
     "iopub.status.busy": "2024-12-11T06:25:46.522218Z",
     "iopub.status.idle": "2024-12-11T06:25:46.529667Z",
     "shell.execute_reply": "2024-12-11T06:25:46.528487Z",
     "shell.execute_reply.started": "2024-12-11T06:25:46.522570Z"
    },
    "trusted": true
   },
   "outputs": [],
   "source": [
    "Std_marks = [25,29,40,38]\n",
    "Std_marks.append(30)\n",
    "print(Std_marks)"
   ]
  },
  {
   "cell_type": "code",
   "execution_count": null,
   "metadata": {
    "execution": {
     "iopub.execute_input": "2024-12-11T06:27:33.534146Z",
     "iopub.status.busy": "2024-12-11T06:27:33.533739Z",
     "iopub.status.idle": "2024-12-11T06:27:33.541713Z",
     "shell.execute_reply": "2024-12-11T06:27:33.540625Z",
     "shell.execute_reply.started": "2024-12-11T06:27:33.534117Z"
    },
    "trusted": true
   },
   "outputs": [],
   "source": [
    "Name = [\"yash\",\"shubham\",\"Raj\"]\n",
    "Name.append(\"prtiksha\")\n",
    "Name"
   ]
  },
  {
   "cell_type": "code",
   "execution_count": null,
   "metadata": {
    "execution": {
     "iopub.execute_input": "2024-12-11T06:28:39.698703Z",
     "iopub.status.busy": "2024-12-11T06:28:39.698261Z",
     "iopub.status.idle": "2024-12-11T06:28:39.706534Z",
     "shell.execute_reply": "2024-12-11T06:28:39.705343Z",
     "shell.execute_reply.started": "2024-12-11T06:28:39.698663Z"
    },
    "trusted": true
   },
   "outputs": [],
   "source": [
    "L1 = [1,2.4,4.5]\n",
    "L1.append(5.5)\n",
    "L1"
   ]
  },
  {
   "cell_type": "code",
   "execution_count": null,
   "metadata": {
    "execution": {
     "iopub.execute_input": "2024-11-08T04:20:59.105283Z",
     "iopub.status.busy": "2024-11-08T04:20:59.104797Z",
     "iopub.status.idle": "2024-11-08T04:20:59.112682Z",
     "shell.execute_reply": "2024-11-08T04:20:59.111341Z",
     "shell.execute_reply.started": "2024-11-08T04:20:59.105245Z"
    },
    "trusted": true
   },
   "outputs": [],
   "source": [
    "#2.mutable\n",
    "l1=[1,2,3,4]\n",
    "l1.append(5)\n",
    "print(l1)"
   ]
  },
  {
   "cell_type": "code",
   "execution_count": null,
   "metadata": {},
   "outputs": [],
   "source": [
    "l1 = [1,2,3,4]   #........1D\n",
    "L2=[1,2,[3,4]]   #......2D\n",
    "L3=[[1,2],[3,4],[5,6]] #.....4D"
   ]
  },
  {
   "cell_type": "code",
   "execution_count": null,
   "metadata": {
    "execution": {
     "iopub.execute_input": "2024-11-08T04:40:52.733801Z",
     "iopub.status.busy": "2024-11-08T04:40:52.733286Z",
     "iopub.status.idle": "2024-11-08T04:40:52.741904Z",
     "shell.execute_reply": "2024-11-08T04:40:52.740574Z",
     "shell.execute_reply.started": "2024-11-08T04:40:52.733758Z"
    },
    "trusted": true
   },
   "outputs": [],
   "source": [
    "#accessing different elements from list\n",
    "L1 = [1,2,3,4]\n",
    "L1[0]"
   ]
  },
  {
   "cell_type": "code",
   "execution_count": null,
   "metadata": {
    "execution": {
     "iopub.execute_input": "2024-11-08T04:44:36.152580Z",
     "iopub.status.busy": "2024-11-08T04:44:36.152081Z",
     "iopub.status.idle": "2024-11-08T04:44:36.159209Z",
     "shell.execute_reply": "2024-11-08T04:44:36.157925Z",
     "shell.execute_reply.started": "2024-11-08T04:44:36.152547Z"
    },
    "trusted": true
   },
   "outputs": [],
   "source": [
    "# how to insert elements in list\n",
    "L1 = [1,2,3,4]\n",
    "L1.append(5)\n",
    "print(L1)"
   ]
  },
  {
   "cell_type": "code",
   "execution_count": null,
   "metadata": {
    "execution": {
     "iopub.execute_input": "2024-11-08T04:56:06.918479Z",
     "iopub.status.busy": "2024-11-08T04:56:06.917969Z",
     "iopub.status.idle": "2024-11-08T04:56:06.926161Z",
     "shell.execute_reply": "2024-11-08T04:56:06.924906Z",
     "shell.execute_reply.started": "2024-11-08T04:56:06.918442Z"
    },
    "trusted": true
   },
   "outputs": [],
   "source": [
    "#WAP to print all elements of list\n",
    "l1=[1,2,3,4]\n",
    "l1[0]\n",
    "l1[1]\n",
    "l1[2]\n",
    "l1[3]\n",
    "print(l1[0])\n",
    "print(l1[1])\n",
    "print(l1[2])\n",
    "print(l1[3])\n"
   ]
  },
  {
   "cell_type": "code",
   "execution_count": null,
   "metadata": {
    "execution": {
     "iopub.execute_input": "2024-11-08T04:56:40.707947Z",
     "iopub.status.busy": "2024-11-08T04:56:40.707443Z",
     "iopub.status.idle": "2024-11-08T04:56:40.714441Z",
     "shell.execute_reply": "2024-11-08T04:56:40.713251Z",
     "shell.execute_reply.started": "2024-11-08T04:56:40.707907Z"
    },
    "trusted": true
   },
   "outputs": [],
   "source": [
    "#WAP to insert single element in list using append function\n",
    "l1 = [1,2,3,4,5]\n",
    "l1.append(6)\n",
    "print(l1)"
   ]
  },
  {
   "cell_type": "code",
   "execution_count": null,
   "metadata": {
    "execution": {
     "iopub.execute_input": "2024-11-08T04:57:50.774231Z",
     "iopub.status.busy": "2024-11-08T04:57:50.773798Z",
     "iopub.status.idle": "2024-11-08T04:57:50.780774Z",
     "shell.execute_reply": "2024-11-08T04:57:50.779590Z",
     "shell.execute_reply.started": "2024-11-08T04:57:50.774196Z"
    },
    "trusted": true
   },
   "outputs": [],
   "source": [
    "#WAP TO ADD STRING IN LIST\n",
    "L1 = [1,2,3,4]\n",
    "L1.append(\"kanchan\")\n",
    "print(L1)"
   ]
  },
  {
   "cell_type": "code",
   "execution_count": null,
   "metadata": {
    "trusted": true
   },
   "outputs": [],
   "source": [
    "# how to extract 4 from list\n",
    "L1=[1,2,3,[4,5]]\n",
    "print([0])"
   ]
  },
  {
   "cell_type": "code",
   "execution_count": null,
   "metadata": {
    "execution": {
     "iopub.execute_input": "2025-02-10T06:13:48.216081Z",
     "iopub.status.busy": "2025-02-10T06:13:48.215723Z",
     "iopub.status.idle": "2025-02-10T06:13:48.221651Z",
     "shell.execute_reply": "2025-02-10T06:13:48.220596Z",
     "shell.execute_reply.started": "2025-02-10T06:13:48.216054Z"
    },
    "trusted": true
   },
   "outputs": [],
   "source": [
    "L1 = [1,2,3,4,5]\n",
    "L1.append(6)\n",
    "print(L1)"
   ]
  },
  {
   "cell_type": "code",
   "execution_count": null,
   "metadata": {
    "execution": {
     "iopub.execute_input": "2025-02-10T06:08:28.160318Z",
     "iopub.status.busy": "2025-02-10T06:08:28.159990Z",
     "iopub.status.idle": "2025-02-10T06:08:28.165806Z",
     "shell.execute_reply": "2025-02-10T06:08:28.164789Z",
     "shell.execute_reply.started": "2025-02-10T06:08:28.160293Z"
    },
    "trusted": true
   },
   "outputs": [],
   "source": [
    "L1 = [1,2,3,4,5]\n",
    "L1.extend([6,7])\n",
    "print(L1)"
   ]
  },
  {
   "cell_type": "code",
   "execution_count": null,
   "metadata": {
    "execution": {
     "iopub.execute_input": "2025-02-10T06:07:36.910138Z",
     "iopub.status.busy": "2025-02-10T06:07:36.909751Z",
     "iopub.status.idle": "2025-02-10T06:07:36.915909Z",
     "shell.execute_reply": "2025-02-10T06:07:36.914814Z",
     "shell.execute_reply.started": "2025-02-10T06:07:36.910107Z"
    },
    "trusted": true
   },
   "outputs": [],
   "source": [
    "L1 = [1,2,3,4,5]\n",
    "L1.extend([6,7])\n",
    "print(L1)"
   ]
  },
  {
   "cell_type": "code",
   "execution_count": null,
   "metadata": {
    "execution": {
     "iopub.execute_input": "2024-12-11T06:37:26.901365Z",
     "iopub.status.busy": "2024-12-11T06:37:26.900996Z",
     "iopub.status.idle": "2024-12-11T06:37:26.909027Z",
     "shell.execute_reply": "2024-12-11T06:37:26.907872Z",
     "shell.execute_reply.started": "2024-12-11T06:37:26.901339Z"
    },
    "trusted": true
   },
   "outputs": [],
   "source": [
    "L2 = [1,2,3,4,5,6]\n",
    "L2.extend([7,8])\n",
    "L2\n"
   ]
  },
  {
   "cell_type": "code",
   "execution_count": null,
   "metadata": {
    "trusted": true
   },
   "outputs": [],
   "source": []
  },
  {
   "cell_type": "code",
   "execution_count": null,
   "metadata": {
    "execution": {
     "iopub.execute_input": "2024-12-11T06:39:39.918721Z",
     "iopub.status.busy": "2024-12-11T06:39:39.918286Z",
     "iopub.status.idle": "2024-12-11T06:39:39.926521Z",
     "shell.execute_reply": "2024-12-11T06:39:39.925354Z",
     "shell.execute_reply.started": "2024-12-11T06:39:39.918685Z"
    },
    "trusted": true
   },
   "outputs": [],
   "source": [
    "Name = [\"yash\",\"shubham\",\"Raj\"]\n",
    "Name.append([\"P\",\"janvi\"])\n",
    "Name"
   ]
  },
  {
   "cell_type": "code",
   "execution_count": null,
   "metadata": {},
   "outputs": [],
   "source": [
    "# WAP TO INSERT ELEMENTS IN LIST USING APPEND AND EXTEND .\n",
    "# IS IT POSSIBLE TO ADD SINGLE ELEMENT IN LIST USING EXTEND()..IF YES THEN HOW \n",
    "# IS IT POSSIBLE TO ADD MULTIPLE ELEMENT IN LIST USING APPEND()..IF YES THEN HOW \n",
    "# WAP TO ADD INTEGER AND STRING IN LIST AT A TIME."
   ]
  },
  {
   "cell_type": "code",
   "execution_count": null,
   "metadata": {
    "execution": {
     "iopub.execute_input": "2024-12-11T06:40:05.191161Z",
     "iopub.status.busy": "2024-12-11T06:40:05.190630Z",
     "iopub.status.idle": "2024-12-11T06:40:05.197622Z",
     "shell.execute_reply": "2024-12-11T06:40:05.196478Z",
     "shell.execute_reply.started": "2024-12-11T06:40:05.191115Z"
    },
    "trusted": true
   },
   "outputs": [],
   "source": [
    "L1 = [1,2,3,4]\n",
    "L1.extend([5,\"sakshi\"])\n",
    "print(L1)"
   ]
  },
  {
   "cell_type": "code",
   "execution_count": null,
   "metadata": {
    "execution": {
     "iopub.execute_input": "2025-02-10T06:17:03.458207Z",
     "iopub.status.busy": "2025-02-10T06:17:03.457878Z",
     "iopub.status.idle": "2025-02-10T06:17:03.463606Z",
     "shell.execute_reply": "2025-02-10T06:17:03.462627Z",
     "shell.execute_reply.started": "2025-02-10T06:17:03.458182Z"
    },
    "trusted": true
   },
   "outputs": [],
   "source": [
    "L1 = [1,2,4,5] #[0=1,1=2,2=3,3=4,4=5]\n",
    "L1.insert(2,3)\n",
    "print(L1)"
   ]
  },
  {
   "cell_type": "code",
   "execution_count": null,
   "metadata": {
    "execution": {
     "iopub.execute_input": "2025-02-10T06:17:44.057333Z",
     "iopub.status.busy": "2025-02-10T06:17:44.056653Z",
     "iopub.status.idle": "2025-02-10T06:17:44.062559Z",
     "shell.execute_reply": "2025-02-10T06:17:44.061512Z",
     "shell.execute_reply.started": "2025-02-10T06:17:44.057301Z"
    },
    "trusted": true
   },
   "outputs": [],
   "source": [
    "L1 = [1,2,4,5]\n",
    "L1.insert(2,\"Nikhil\")\n",
    "print(L1)"
   ]
  },
  {
   "cell_type": "code",
   "execution_count": null,
   "metadata": {
    "execution": {
     "iopub.execute_input": "2025-02-10T06:18:23.745176Z",
     "iopub.status.busy": "2025-02-10T06:18:23.744834Z",
     "iopub.status.idle": "2025-02-10T06:18:23.750518Z",
     "shell.execute_reply": "2025-02-10T06:18:23.749439Z",
     "shell.execute_reply.started": "2025-02-10T06:18:23.745141Z"
    },
    "trusted": true
   },
   "outputs": [],
   "source": [
    "#WAP to add 6 in list at index 4.\n",
    "L1 = [1,2,3,4]\n",
    "L1.insert(4,6)\n",
    "print(L1)\n",
    "\n"
   ]
  },
  {
   "cell_type": "code",
   "execution_count": null,
   "metadata": {
    "execution": {
     "iopub.execute_input": "2025-02-10T06:19:43.097278Z",
     "iopub.status.busy": "2025-02-10T06:19:43.096861Z",
     "iopub.status.idle": "2025-02-10T06:19:43.102731Z",
     "shell.execute_reply": "2025-02-10T06:19:43.101652Z",
     "shell.execute_reply.started": "2025-02-10T06:19:43.097247Z"
    },
    "trusted": true
   },
   "outputs": [],
   "source": [
    "L1 = [1,4]\n",
    "L1.insert(1,2)\n",
    "L1.insert(2,3)\n",
    "print(L1)"
   ]
  },
  {
   "cell_type": "code",
   "execution_count": null,
   "metadata": {
    "execution": {
     "iopub.execute_input": "2025-02-10T06:24:14.386508Z",
     "iopub.status.busy": "2025-02-10T06:24:14.386124Z",
     "iopub.status.idle": "2025-02-10T06:24:14.391885Z",
     "shell.execute_reply": "2025-02-10T06:24:14.390917Z",
     "shell.execute_reply.started": "2025-02-10T06:24:14.386478Z"
    },
    "trusted": true
   },
   "outputs": [],
   "source": [
    "l1 = [1,2,3,4,5]\n",
    "l1.pop()   # end ele dele\n",
    "print(l1)"
   ]
  },
  {
   "cell_type": "code",
   "execution_count": null,
   "metadata": {
    "execution": {
     "iopub.execute_input": "2025-04-25T09:32:33.236168Z",
     "iopub.status.busy": "2025-04-25T09:32:33.234302Z",
     "iopub.status.idle": "2025-04-25T09:32:33.248064Z",
     "shell.execute_reply": "2025-04-25T09:32:33.246206Z",
     "shell.execute_reply.started": "2025-04-25T09:32:33.236055Z"
    },
    "trusted": true
   },
   "outputs": [],
   "source": [
    "L1"
   ]
  },
  {
   "cell_type": "code",
   "execution_count": null,
   "metadata": {
    "execution": {
     "iopub.execute_input": "2025-04-25T09:33:02.697060Z",
     "iopub.status.busy": "2025-04-25T09:33:02.696675Z",
     "iopub.status.idle": "2025-04-25T09:33:02.703563Z",
     "shell.execute_reply": "2025-04-25T09:33:02.701876Z",
     "shell.execute_reply.started": "2025-04-25T09:33:02.697031Z"
    },
    "trusted": true
   },
   "outputs": [],
   "source": [
    "L1.pop()\n",
    "print(L1)"
   ]
  },
  {
   "cell_type": "code",
   "execution_count": null,
   "metadata": {
    "execution": {
     "iopub.execute_input": "2025-04-25T09:34:49.025700Z",
     "iopub.status.busy": "2025-04-25T09:34:49.025277Z",
     "iopub.status.idle": "2025-04-25T09:34:49.032000Z",
     "shell.execute_reply": "2025-04-25T09:34:49.030590Z",
     "shell.execute_reply.started": "2025-04-25T09:34:49.025668Z"
    },
    "trusted": true
   },
   "outputs": [],
   "source": [
    "L1.pop()\n",
    "print(L1)"
   ]
  },
  {
   "cell_type": "code",
   "execution_count": null,
   "metadata": {
    "trusted": true
   },
   "outputs": [],
   "source": []
  },
  {
   "cell_type": "code",
   "execution_count": null,
   "metadata": {
    "execution": {
     "iopub.execute_input": "2025-06-25T09:42:56.896236Z",
     "iopub.status.busy": "2025-06-25T09:42:56.895838Z",
     "iopub.status.idle": "2025-06-25T09:42:56.903176Z",
     "shell.execute_reply": "2025-06-25T09:42:56.901864Z",
     "shell.execute_reply.started": "2025-06-25T09:42:56.896205Z"
    },
    "trusted": true
   },
   "outputs": [],
   "source": [
    "fruits = [\"mango\",\"apple\",\"banana\",\"orange\"]\n",
    "fruits.pop()\n",
    "print(fruits)"
   ]
  },
  {
   "cell_type": "code",
   "execution_count": null,
   "metadata": {
    "execution": {
     "iopub.execute_input": "2025-06-25T09:43:57.646361Z",
     "iopub.status.busy": "2025-06-25T09:43:57.645906Z",
     "iopub.status.idle": "2025-06-25T09:43:57.654559Z",
     "shell.execute_reply": "2025-06-25T09:43:57.653239Z",
     "shell.execute_reply.started": "2025-06-25T09:43:57.646327Z"
    },
    "trusted": true
   },
   "outputs": [],
   "source": [
    "fruits.pop(1)\n",
    "fruits"
   ]
  },
  {
   "cell_type": "code",
   "execution_count": null,
   "metadata": {
    "execution": {
     "iopub.execute_input": "2025-06-25T09:45:18.337793Z",
     "iopub.status.busy": "2025-06-25T09:45:18.337305Z",
     "iopub.status.idle": "2025-06-25T09:45:18.344912Z",
     "shell.execute_reply": "2025-06-25T09:45:18.343463Z",
     "shell.execute_reply.started": "2025-06-25T09:45:18.337755Z"
    },
    "trusted": true
   },
   "outputs": [],
   "source": [
    "L1 = [1,2,3,4,5,6,7]     # 1,2,3,4\n",
    "L1.pop(2)\n",
    "print(L1)\n"
   ]
  },
  {
   "cell_type": "code",
   "execution_count": null,
   "metadata": {
    "execution": {
     "iopub.execute_input": "2025-06-25T09:45:30.968536Z",
     "iopub.status.busy": "2025-06-25T09:45:30.968082Z",
     "iopub.status.idle": "2025-06-25T09:45:30.975563Z",
     "shell.execute_reply": "2025-06-25T09:45:30.974012Z",
     "shell.execute_reply.started": "2025-06-25T09:45:30.968503Z"
    },
    "trusted": true
   },
   "outputs": [],
   "source": [
    "L1.remove(4)\n",
    "print(L1)"
   ]
  },
  {
   "cell_type": "code",
   "execution_count": null,
   "metadata": {
    "execution": {
     "iopub.execute_input": "2025-06-25T09:52:14.000694Z",
     "iopub.status.busy": "2025-06-25T09:52:13.999314Z",
     "iopub.status.idle": "2025-06-25T09:52:14.009438Z",
     "shell.execute_reply": "2025-06-25T09:52:14.008284Z",
     "shell.execute_reply.started": "2025-06-25T09:52:14.000624Z"
    },
    "trusted": true
   },
   "outputs": [],
   "source": [
    "Name = [\"zakaulla\",\"Tushar\",\"Aastha\",\"Shivam\",\"Sakshi\"]\n",
    "Name.pop()\n",
    "print(Name)\n",
    "Name.pop(2)\n",
    "print(Name)\n",
    "Name.remove(\"Tushar\")\n",
    "print(Name)"
   ]
  },
  {
   "cell_type": "code",
   "execution_count": null,
   "metadata": {
    "execution": {
     "iopub.execute_input": "2025-06-25T10:02:30.871368Z",
     "iopub.status.busy": "2025-06-25T10:02:30.871005Z",
     "iopub.status.idle": "2025-06-25T10:02:30.877574Z",
     "shell.execute_reply": "2025-06-25T10:02:30.876112Z",
     "shell.execute_reply.started": "2025-06-25T10:02:30.871341Z"
    },
    "trusted": true
   },
   "outputs": [],
   "source": [
    "L11 = [1,2,3,4,5]  \n",
    "L11.clear()\n",
    "# 1,2,3,4\n",
    "\n",
    "\n"
   ]
  },
  {
   "cell_type": "code",
   "execution_count": null,
   "metadata": {
    "execution": {
     "iopub.execute_input": "2025-06-25T10:02:34.168096Z",
     "iopub.status.busy": "2025-06-25T10:02:34.167682Z",
     "iopub.status.idle": "2025-06-25T10:02:34.175029Z",
     "shell.execute_reply": "2025-06-25T10:02:34.173548Z",
     "shell.execute_reply.started": "2025-06-25T10:02:34.168068Z"
    },
    "trusted": true
   },
   "outputs": [],
   "source": [
    "print(L11)"
   ]
  },
  {
   "cell_type": "code",
   "execution_count": null,
   "metadata": {
    "execution": {
     "iopub.execute_input": "2025-06-25T10:04:22.360289Z",
     "iopub.status.busy": "2025-06-25T10:04:22.359804Z",
     "iopub.status.idle": "2025-06-25T10:04:22.366556Z",
     "shell.execute_reply": "2025-06-25T10:04:22.365011Z",
     "shell.execute_reply.started": "2025-06-25T10:04:22.360256Z"
    },
    "trusted": true
   },
   "outputs": [],
   "source": [
    "del L11"
   ]
  },
  {
   "cell_type": "code",
   "execution_count": null,
   "metadata": {
    "execution": {
     "iopub.execute_input": "2025-06-25T10:04:33.747595Z",
     "iopub.status.busy": "2025-06-25T10:04:33.746741Z",
     "iopub.status.idle": "2025-06-25T10:04:33.777773Z",
     "shell.execute_reply": "2025-06-25T10:04:33.774655Z",
     "shell.execute_reply.started": "2025-06-25T10:04:33.747557Z"
    },
    "trusted": true
   },
   "outputs": [],
   "source": [
    "L11"
   ]
  },
  {
   "cell_type": "code",
   "execution_count": null,
   "metadata": {},
   "outputs": [],
   "source": [
    "#Wap to remove last element in list."
   ]
  },
  {
   "cell_type": "code",
   "execution_count": null,
   "metadata": {
    "execution": {
     "iopub.execute_input": "2024-11-11T04:35:12.477222Z",
     "iopub.status.busy": "2024-11-11T04:35:12.476839Z",
     "iopub.status.idle": "2024-11-11T04:35:12.482726Z",
     "shell.execute_reply": "2024-11-11T04:35:12.481675Z",
     "shell.execute_reply.started": "2024-11-11T04:35:12.477188Z"
    },
    "trusted": true
   },
   "outputs": [],
   "source": [
    "L1 = [1,2,3,4,5,6,7,8]\n",
    "L1.remove(5)\n",
    "print(L1)"
   ]
  },
  {
   "cell_type": "code",
   "execution_count": null,
   "metadata": {
    "execution": {
     "iopub.execute_input": "2025-04-25T09:39:43.187676Z",
     "iopub.status.busy": "2025-04-25T09:39:43.187284Z",
     "iopub.status.idle": "2025-04-25T09:39:43.193177Z",
     "shell.execute_reply": "2025-04-25T09:39:43.192028Z",
     "shell.execute_reply.started": "2025-04-25T09:39:43.187647Z"
    },
    "trusted": true
   },
   "outputs": [],
   "source": [
    "L1\n",
    "print(L1)"
   ]
  },
  {
   "cell_type": "code",
   "execution_count": null,
   "metadata": {
    "execution": {
     "iopub.execute_input": "2025-04-25T09:40:17.845683Z",
     "iopub.status.busy": "2025-04-25T09:40:17.845176Z",
     "iopub.status.idle": "2025-04-25T09:40:17.852191Z",
     "shell.execute_reply": "2025-04-25T09:40:17.850847Z",
     "shell.execute_reply.started": "2025-04-25T09:40:17.845642Z"
    },
    "trusted": true
   },
   "outputs": [],
   "source": [
    "L1.clear()\n",
    "print(L1)"
   ]
  },
  {
   "cell_type": "code",
   "execution_count": null,
   "metadata": {
    "execution": {
     "iopub.execute_input": "2025-04-25T09:42:35.943485Z",
     "iopub.status.busy": "2025-04-25T09:42:35.943125Z",
     "iopub.status.idle": "2025-04-25T09:42:35.966526Z",
     "shell.execute_reply": "2025-04-25T09:42:35.965227Z",
     "shell.execute_reply.started": "2025-04-25T09:42:35.943458Z"
    },
    "trusted": true
   },
   "outputs": [],
   "source": [
    "del L1\n",
    "print(L1)"
   ]
  },
  {
   "cell_type": "code",
   "execution_count": null,
   "metadata": {
    "execution": {
     "iopub.execute_input": "2025-02-10T06:29:03.186110Z",
     "iopub.status.busy": "2025-02-10T06:29:03.185780Z",
     "iopub.status.idle": "2025-02-10T06:29:03.192845Z",
     "shell.execute_reply": "2025-02-10T06:29:03.191788Z",
     "shell.execute_reply.started": "2025-02-10T06:29:03.186085Z"
    },
    "trusted": true
   },
   "outputs": [],
   "source": [
    "L1 = [1,2,3,4,5,6,7,8]\n",
    "L1.clear()\n",
    "L1"
   ]
  },
  {
   "cell_type": "code",
   "execution_count": null,
   "metadata": {},
   "outputs": [],
   "source": [
    "# IS IT POSSIBLE TO REMOVE MULTIPLE ELEMENTS FROM LIST AT A TIME ...IS YES THEN HOW ...IF NOT THEN WHY NOT "
   ]
  },
  {
   "cell_type": "code",
   "execution_count": null,
   "metadata": {
    "execution": {
     "iopub.execute_input": "2025-04-25T09:55:47.766869Z",
     "iopub.status.busy": "2025-04-25T09:55:47.766486Z",
     "iopub.status.idle": "2025-04-25T09:55:47.773850Z",
     "shell.execute_reply": "2025-04-25T09:55:47.772631Z",
     "shell.execute_reply.started": "2025-04-25T09:55:47.766838Z"
    },
    "trusted": true
   },
   "outputs": [],
   "source": [
    "Number_List = [12,23,43,12,43,54,56,12]\n",
    "Number_List.count(2)"
   ]
  },
  {
   "cell_type": "code",
   "execution_count": null,
   "metadata": {
    "execution": {
     "iopub.execute_input": "2025-02-10T06:39:33.275987Z",
     "iopub.status.busy": "2025-02-10T06:39:33.275618Z",
     "iopub.status.idle": "2025-02-10T06:39:33.282846Z",
     "shell.execute_reply": "2025-02-10T06:39:33.281700Z",
     "shell.execute_reply.started": "2025-02-10T06:39:33.275957Z"
    },
    "trusted": true
   },
   "outputs": [],
   "source": [
    "marks = [12,20,19,12,18,18,19]\n",
    "marks.count(18)"
   ]
  },
  {
   "cell_type": "code",
   "execution_count": null,
   "metadata": {
    "execution": {
     "iopub.execute_input": "2025-06-25T10:12:41.117133Z",
     "iopub.status.busy": "2025-06-25T10:12:41.116181Z",
     "iopub.status.idle": "2025-06-25T10:12:41.124327Z",
     "shell.execute_reply": "2025-06-25T10:12:41.123248Z",
     "shell.execute_reply.started": "2025-06-25T10:12:41.117091Z"
    },
    "trusted": true
   },
   "outputs": [],
   "source": [
    "L1 = [1,2,3,4,5,4,6,3,4,7,4,4]\n",
    "L1.count(16)"
   ]
  },
  {
   "cell_type": "code",
   "execution_count": null,
   "metadata": {
    "trusted": true
   },
   "outputs": [],
   "source": []
  },
  {
   "cell_type": "code",
   "execution_count": null,
   "metadata": {
    "execution": {
     "iopub.execute_input": "2025-02-10T06:40:25.922575Z",
     "iopub.status.busy": "2025-02-10T06:40:25.921862Z",
     "iopub.status.idle": "2025-02-10T06:40:25.928334Z",
     "shell.execute_reply": "2025-02-10T06:40:25.927312Z",
     "shell.execute_reply.started": "2025-02-10T06:40:25.922540Z"
    },
    "trusted": true
   },
   "outputs": [],
   "source": [
    "furits = [\"apple\",\"banana\",\"mango\",\"apple\"]\n",
    "furits.count(\"apple\")"
   ]
  },
  {
   "cell_type": "code",
   "execution_count": null,
   "metadata": {},
   "outputs": [],
   "source": [
    "#WAP TO FIND OCCURANCE OF \"APPLE\" IN FRUITS.\n",
    "#WAP TO FIND HOW MANY TIME 4 IS IN GIVEN LIST [1,2,4,5,4,6,4,5,4,4,4,4]"
   ]
  },
  {
   "cell_type": "code",
   "execution_count": null,
   "metadata": {
    "execution": {
     "iopub.execute_input": "2025-02-10T06:41:25.343801Z",
     "iopub.status.busy": "2025-02-10T06:41:25.343411Z",
     "iopub.status.idle": "2025-02-10T06:41:25.350716Z",
     "shell.execute_reply": "2025-02-10T06:41:25.349592Z",
     "shell.execute_reply.started": "2025-02-10T06:41:25.343771Z"
    },
    "trusted": true
   },
   "outputs": [],
   "source": [
    "marks = [12,20,19,12,18,18,19]\n",
    "len(marks)"
   ]
  },
  {
   "cell_type": "code",
   "execution_count": null,
   "metadata": {
    "execution": {
     "iopub.execute_input": "2025-06-25T10:11:10.649556Z",
     "iopub.status.busy": "2025-06-25T10:11:10.647966Z",
     "iopub.status.idle": "2025-06-25T10:11:10.656299Z",
     "shell.execute_reply": "2025-06-25T10:11:10.654828Z",
     "shell.execute_reply.started": "2025-06-25T10:11:10.649498Z"
    },
    "trusted": true
   },
   "outputs": [],
   "source": [
    "Itpm = [\"python\",\"DA\",\"BA\",\"Mean\",\"Mern\",\"Java\"]\n",
    "print(len(Itpm))"
   ]
  },
  {
   "cell_type": "code",
   "execution_count": null,
   "metadata": {
    "execution": {
     "iopub.execute_input": "2025-04-25T09:57:24.369558Z",
     "iopub.status.busy": "2025-04-25T09:57:24.369208Z",
     "iopub.status.idle": "2025-04-25T09:57:24.376384Z",
     "shell.execute_reply": "2025-04-25T09:57:24.375240Z",
     "shell.execute_reply.started": "2025-04-25T09:57:24.369531Z"
    },
    "trusted": true
   },
   "outputs": [],
   "source": [
    "print(Number_List)\n",
    "len(Number_List)"
   ]
  },
  {
   "cell_type": "code",
   "execution_count": null,
   "metadata": {
    "execution": {
     "iopub.execute_input": "2024-12-26T10:05:03.928361Z",
     "iopub.status.busy": "2024-12-26T10:05:03.928002Z",
     "iopub.status.idle": "2024-12-26T10:05:03.936340Z",
     "shell.execute_reply": "2024-12-26T10:05:03.935064Z",
     "shell.execute_reply.started": "2024-12-26T10:05:03.928333Z"
    },
    "trusted": true
   },
   "outputs": [],
   "source": [
    "L1 = [1,2,3,4,5,4,6,3,4,7,4,4]\n",
    "len(L1) "
   ]
  },
  {
   "cell_type": "code",
   "execution_count": null,
   "metadata": {
    "execution": {
     "iopub.execute_input": "2025-06-25T10:13:20.150622Z",
     "iopub.status.busy": "2025-06-25T10:13:20.150205Z",
     "iopub.status.idle": "2025-06-25T10:13:20.158590Z",
     "shell.execute_reply": "2025-06-25T10:13:20.157106Z",
     "shell.execute_reply.started": "2025-06-25T10:13:20.150592Z"
    },
    "trusted": true
   },
   "outputs": [],
   "source": [
    "L1 = [1,2,3,4,5,4,6,3,4,7,4,4]\n",
    "min(L1)\n"
   ]
  },
  {
   "cell_type": "code",
   "execution_count": null,
   "metadata": {
    "execution": {
     "iopub.execute_input": "2025-04-25T10:08:33.758505Z",
     "iopub.status.busy": "2025-04-25T10:08:33.757260Z",
     "iopub.status.idle": "2025-04-25T10:08:33.763768Z",
     "shell.execute_reply": "2025-04-25T10:08:33.762746Z",
     "shell.execute_reply.started": "2025-04-25T10:08:33.758445Z"
    },
    "trusted": true
   },
   "outputs": [],
   "source": [
    "Marks = [28,39,10,2,28]\n",
    "print(min(Marks))\n",
    "print(max(Name))"
   ]
  },
  {
   "cell_type": "code",
   "execution_count": null,
   "metadata": {
    "execution": {
     "iopub.execute_input": "2025-06-25T10:19:49.380013Z",
     "iopub.status.busy": "2025-06-25T10:19:49.379573Z",
     "iopub.status.idle": "2025-06-25T10:19:49.386891Z",
     "shell.execute_reply": "2025-06-25T10:19:49.385548Z",
     "shell.execute_reply.started": "2025-06-25T10:19:49.379927Z"
    },
    "trusted": true
   },
   "outputs": [],
   "source": [
    "Name = ['zakaulla', 'shivam',\"dipak\",\"am\"]\n",
    "print(min(Name))\n",
    "print(max(Name))"
   ]
  },
  {
   "cell_type": "code",
   "execution_count": null,
   "metadata": {
    "execution": {
     "iopub.execute_input": "2025-06-25T10:13:29.427158Z",
     "iopub.status.busy": "2025-06-25T10:13:29.426719Z",
     "iopub.status.idle": "2025-06-25T10:13:29.435544Z",
     "shell.execute_reply": "2025-06-25T10:13:29.434062Z",
     "shell.execute_reply.started": "2025-06-25T10:13:29.427125Z"
    },
    "trusted": true
   },
   "outputs": [],
   "source": [
    "L1 = [1,2,3,4,5,4,6,3,4,7,4,4]\n",
    "max(L1)"
   ]
  },
  {
   "cell_type": "code",
   "execution_count": null,
   "metadata": {
    "execution": {
     "iopub.execute_input": "2025-06-25T10:20:12.177689Z",
     "iopub.status.busy": "2025-06-25T10:20:12.177323Z",
     "iopub.status.idle": "2025-06-25T10:20:12.184596Z",
     "shell.execute_reply": "2025-06-25T10:20:12.183023Z",
     "shell.execute_reply.started": "2025-06-25T10:20:12.177662Z"
    },
    "trusted": true
   },
   "outputs": [],
   "source": [
    "L1 = [1,2,3,4,5]\n",
    "L1.reverse()\n",
    "print(L1)\n"
   ]
  },
  {
   "cell_type": "code",
   "execution_count": null,
   "metadata": {
    "execution": {
     "iopub.execute_input": "2025-06-25T10:21:06.446068Z",
     "iopub.status.busy": "2025-06-25T10:21:06.445651Z",
     "iopub.status.idle": "2025-06-25T10:21:06.453711Z",
     "shell.execute_reply": "2025-06-25T10:21:06.451799Z",
     "shell.execute_reply.started": "2025-06-25T10:21:06.446035Z"
    },
    "trusted": true
   },
   "outputs": [],
   "source": [
    "L123 = [23,54,72,54,21,34]\n",
    "L123.reverse()\n",
    "print(L123)"
   ]
  },
  {
   "cell_type": "code",
   "execution_count": null,
   "metadata": {
    "execution": {
     "iopub.execute_input": "2025-02-10T06:47:50.994072Z",
     "iopub.status.busy": "2025-02-10T06:47:50.993705Z",
     "iopub.status.idle": "2025-02-10T06:47:51.001244Z",
     "shell.execute_reply": "2025-02-10T06:47:51.000087Z",
     "shell.execute_reply.started": "2025-02-10T06:47:50.994040Z"
    },
    "trusted": true
   },
   "outputs": [],
   "source": [
    "L1 = [1,2,3,4] \n",
    "L1[::-1]  \n"
   ]
  },
  {
   "cell_type": "code",
   "execution_count": null,
   "metadata": {
    "execution": {
     "iopub.execute_input": "2024-11-12T04:25:41.910239Z",
     "iopub.status.busy": "2024-11-12T04:25:41.909077Z",
     "iopub.status.idle": "2024-11-12T04:25:41.922378Z",
     "shell.execute_reply": "2024-11-12T04:25:41.920680Z",
     "shell.execute_reply.started": "2024-11-12T04:25:41.910175Z"
    },
    "trusted": true
   },
   "outputs": [],
   "source": [
    "L1 = [1,2,3,4,5]\n",
    "L1[1:4]\n",
    "L [::-1]\n",
    "\n"
   ]
  },
  {
   "cell_type": "code",
   "execution_count": null,
   "metadata": {
    "execution": {
     "iopub.execute_input": "2025-02-10T06:51:09.793743Z",
     "iopub.status.busy": "2025-02-10T06:51:09.793005Z",
     "iopub.status.idle": "2025-02-10T06:51:09.799050Z",
     "shell.execute_reply": "2025-02-10T06:51:09.798013Z",
     "shell.execute_reply.started": "2025-02-10T06:51:09.793710Z"
    },
    "trusted": true
   },
   "outputs": [],
   "source": [
    "Name=[\"om\",\"Dev\",\"Atul\"]\n",
    "Name.reverse()\n",
    "print(Name)"
   ]
  },
  {
   "cell_type": "code",
   "execution_count": null,
   "metadata": {
    "execution": {
     "iopub.execute_input": "2025-02-10T06:50:12.671799Z",
     "iopub.status.busy": "2025-02-10T06:50:12.671469Z",
     "iopub.status.idle": "2025-02-10T06:50:12.678002Z",
     "shell.execute_reply": "2025-02-10T06:50:12.676977Z",
     "shell.execute_reply.started": "2025-02-10T06:50:12.671775Z"
    },
    "trusted": true
   },
   "outputs": [],
   "source": [
    "Name=[\"om\",\"Dev\",\"Atul\"]\n",
    "Name[::-1]"
   ]
  },
  {
   "cell_type": "code",
   "execution_count": null,
   "metadata": {
    "execution": {
     "iopub.execute_input": "2024-11-12T03:57:52.557392Z",
     "iopub.status.busy": "2024-11-12T03:57:52.556920Z",
     "iopub.status.idle": "2024-11-12T03:57:52.564482Z",
     "shell.execute_reply": "2024-11-12T03:57:52.562886Z",
     "shell.execute_reply.started": "2024-11-12T03:57:52.557354Z"
    },
    "trusted": true
   },
   "outputs": [],
   "source": [
    "L1=[1,2,3,[4,5]]\n",
    "print(L1[-1][0])"
   ]
  },
  {
   "cell_type": "code",
   "execution_count": null,
   "metadata": {
    "execution": {
     "iopub.execute_input": "2025-02-10T06:55:20.123535Z",
     "iopub.status.busy": "2025-02-10T06:55:20.123151Z",
     "iopub.status.idle": "2025-02-10T06:55:20.129845Z",
     "shell.execute_reply": "2025-02-10T06:55:20.128771Z",
     "shell.execute_reply.started": "2025-02-10T06:55:20.123507Z"
    },
    "trusted": true
   },
   "outputs": [],
   "source": [
    "name = [\"Dev\",\"aiman\",\"Atul\",\"vaishnavi\",\"piyush\"]\n",
    "name[1:4]\n"
   ]
  },
  {
   "cell_type": "code",
   "execution_count": null,
   "metadata": {
    "execution": {
     "iopub.execute_input": "2025-02-10T07:00:17.076868Z",
     "iopub.status.busy": "2025-02-10T07:00:17.076509Z",
     "iopub.status.idle": "2025-02-10T07:00:17.083589Z",
     "shell.execute_reply": "2025-02-10T07:00:17.082418Z",
     "shell.execute_reply.started": "2025-02-10T07:00:17.076839Z"
    },
    "trusted": true
   },
   "outputs": [],
   "source": [
    "#WAP TO PRINT SUB LIST FROM GIVEN LIST\n",
    "L1 = [1,2,3,4,5]\n",
    "#o/p 2,3,4\n",
    "L1[1:4]\n",
    "#o/p 4,3,2\n",
    "L1[3:0:-1]"
   ]
  },
  {
   "cell_type": "markdown",
   "metadata": {},
   "source": [
    "#### list indexing"
   ]
  },
  {
   "cell_type": "code",
   "execution_count": null,
   "metadata": {
    "execution": {
     "iopub.execute_input": "2025-02-10T07:17:15.998118Z",
     "iopub.status.busy": "2025-02-10T07:17:15.997760Z",
     "iopub.status.idle": "2025-02-10T07:17:16.004713Z",
     "shell.execute_reply": "2025-02-10T07:17:16.003428Z",
     "shell.execute_reply.started": "2025-02-10T07:17:15.998087Z"
    },
    "trusted": true
   },
   "outputs": [],
   "source": [
    "L1 = [1,2,3,4,5,6,7]\n",
    "print(L1) #reg indexing\n",
    "print(L1[::-1])\n",
    "print(L1[5::-1])"
   ]
  },
  {
   "cell_type": "code",
   "execution_count": null,
   "metadata": {
    "execution": {
     "iopub.execute_input": "2025-02-10T07:14:36.630942Z",
     "iopub.status.busy": "2025-02-10T07:14:36.630140Z",
     "iopub.status.idle": "2025-02-10T07:14:36.637004Z",
     "shell.execute_reply": "2025-02-10T07:14:36.635999Z",
     "shell.execute_reply.started": "2025-02-10T07:14:36.630910Z"
    },
    "trusted": true
   },
   "outputs": [],
   "source": [
    "L1 = [1,2,3,4,5,6,7]\n",
    "L1[-1]\n",
    "L1[-3]"
   ]
  },
  {
   "cell_type": "code",
   "execution_count": null,
   "metadata": {
    "execution": {
     "iopub.execute_input": "2024-11-12T04:35:25.108269Z",
     "iopub.status.busy": "2024-11-12T04:35:25.107853Z",
     "iopub.status.idle": "2024-11-12T04:35:25.116551Z",
     "shell.execute_reply": "2024-11-12T04:35:25.115282Z",
     "shell.execute_reply.started": "2024-11-12T04:35:25.108233Z"
    },
    "trusted": true
   },
   "outputs": [],
   "source": [
    "L2 = [[1,2,3],[4,5,6]] \n",
    "#L2[0] = [1,2,3]\n",
    "#L2[1] = [4,5.6]\n",
    "L2[0]"
   ]
  },
  {
   "cell_type": "code",
   "execution_count": null,
   "metadata": {
    "execution": {
     "iopub.execute_input": "2024-11-12T04:38:03.304816Z",
     "iopub.status.busy": "2024-11-12T04:38:03.304301Z",
     "iopub.status.idle": "2024-11-12T04:38:03.314293Z",
     "shell.execute_reply": "2024-11-12T04:38:03.312806Z",
     "shell.execute_reply.started": "2024-11-12T04:38:03.304775Z"
    },
    "trusted": true
   },
   "outputs": [],
   "source": [
    "L2 = [[1,2,3],[4,5,6]]   # 1\n",
    "L2[0][0]\n",
    "\n"
   ]
  },
  {
   "cell_type": "code",
   "execution_count": null,
   "metadata": {},
   "outputs": [],
   "source": [
    "print(L2[0])\n",
    "print(L2[-1][0])"
   ]
  },
  {
   "cell_type": "markdown",
   "metadata": {},
   "source": [
    "### How to edit items from list"
   ]
  },
  {
   "cell_type": "code",
   "execution_count": null,
   "metadata": {
    "execution": {
     "iopub.execute_input": "2023-12-29T08:25:09.299045Z",
     "iopub.status.busy": "2023-12-29T08:25:09.298633Z",
     "iopub.status.idle": "2023-12-29T08:25:09.306803Z",
     "shell.execute_reply": "2023-12-29T08:25:09.305894Z",
     "shell.execute_reply.started": "2023-12-29T08:25:09.299013Z"
    },
    "trusted": true
   },
   "outputs": [],
   "source": [
    "L3 = [1,2,3,4,5]\n",
    "L3[0]=100\n",
    "print(L3)\n",
    "L3[-1]=500\n",
    "print(L3)\n",
    "L3[0:3]=[100,200,300,400]\n",
    "print([L3])"
   ]
  },
  {
   "cell_type": "markdown",
   "metadata": {},
   "source": [
    "### How to add items in list"
   ]
  },
  {
   "cell_type": "code",
   "execution_count": null,
   "metadata": {
    "execution": {
     "iopub.execute_input": "2023-12-29T08:34:25.696559Z",
     "iopub.status.busy": "2023-12-29T08:34:25.696085Z",
     "iopub.status.idle": "2023-12-29T08:34:25.705383Z",
     "shell.execute_reply": "2023-12-29T08:34:25.703580Z",
     "shell.execute_reply.started": "2023-12-29T08:34:25.696510Z"
    },
    "trusted": true
   },
   "outputs": [],
   "source": [
    "# add items using appnd()\n",
    "L4= [100, 200, 300, 400, 500]\n",
    "L4.append(600)\n",
    "print(L4)\n",
    "L4.append([700,800])\n",
    "print(L4)\n",
    "\n",
    "#add items using extend()\n",
    "L4.extend([900,1000])\n",
    "print(L4)\n",
    "\n",
    "\n",
    "# add item using insert\n",
    "L4.insert(1,\"hello\")\n",
    "print(L4)"
   ]
  },
  {
   "cell_type": "markdown",
   "metadata": {},
   "source": [
    "### How to delete items from list"
   ]
  },
  {
   "cell_type": "code",
   "execution_count": null,
   "metadata": {
    "execution": {
     "iopub.execute_input": "2023-12-29T08:36:38.852738Z",
     "iopub.status.busy": "2023-12-29T08:36:38.852322Z",
     "iopub.status.idle": "2023-12-29T08:36:38.886236Z",
     "shell.execute_reply": "2023-12-29T08:36:38.884904Z",
     "shell.execute_reply.started": "2023-12-29T08:36:38.852704Z"
    },
    "trusted": true
   },
   "outputs": [],
   "source": [
    "L5 = [1,2,3]\n",
    "del L5\n",
    "print(L5)"
   ]
  },
  {
   "cell_type": "code",
   "execution_count": null,
   "metadata": {
    "execution": {
     "iopub.execute_input": "2023-12-29T08:44:35.296525Z",
     "iopub.status.busy": "2023-12-29T08:44:35.296063Z",
     "iopub.status.idle": "2023-12-29T08:44:35.304607Z",
     "shell.execute_reply": "2023-12-29T08:44:35.303602Z",
     "shell.execute_reply.started": "2023-12-29T08:44:35.296486Z"
    },
    "trusted": true
   },
   "outputs": [],
   "source": [
    "# delete using del\n",
    "L6 = [100, 'hello', 200, 300, 400, 500, 600, [700, 800], 900, 1000]\n",
    "del L6[1]\n",
    "print(L6)\n",
    "\n",
    "\n",
    "#delete using remove\n",
    "L6.remove(500)\n",
    "print(L6)\n",
    "\n",
    "#using pop\n",
    "L6.pop()\n",
    "print(L6)\n",
    " \n",
    "\n",
    "#using clear\n",
    "L6.clear()\n",
    "print(L6)"
   ]
  },
  {
   "cell_type": "markdown",
   "metadata": {},
   "source": [
    "Different Operations on List."
   ]
  },
  {
   "cell_type": "code",
   "execution_count": null,
   "metadata": {
    "execution": {
     "iopub.execute_input": "2023-12-29T08:47:56.417833Z",
     "iopub.status.busy": "2023-12-29T08:47:56.417396Z",
     "iopub.status.idle": "2023-12-29T08:47:56.424601Z",
     "shell.execute_reply": "2023-12-29T08:47:56.423471Z",
     "shell.execute_reply.started": "2023-12-29T08:47:56.417799Z"
    },
    "trusted": true
   },
   "outputs": [],
   "source": [
    "### operations in list\n",
    "l1 =[1,2,3]\n",
    "l2 =[4,5,6]\n",
    "Y = l1 + l2\n",
    "print(Y)\n",
    "\n",
    "print(l1*3)\n"
   ]
  },
  {
   "cell_type": "code",
   "execution_count": null,
   "metadata": {
    "execution": {
     "iopub.execute_input": "2024-11-12T04:41:13.834527Z",
     "iopub.status.busy": "2024-11-12T04:41:13.834064Z",
     "iopub.status.idle": "2024-11-12T04:41:13.843180Z",
     "shell.execute_reply": "2024-11-12T04:41:13.841831Z",
     "shell.execute_reply.started": "2024-11-12T04:41:13.834490Z"
    },
    "trusted": true
   },
   "outputs": [],
   "source": [
    "L1 = [1,2,3]\n",
    "L2 = [4,5,6]\n",
    "L1+L2"
   ]
  },
  {
   "cell_type": "code",
   "execution_count": null,
   "metadata": {
    "execution": {
     "iopub.execute_input": "2024-12-26T10:18:40.718746Z",
     "iopub.status.busy": "2024-12-26T10:18:40.718377Z",
     "iopub.status.idle": "2024-12-26T10:18:40.725618Z",
     "shell.execute_reply": "2024-12-26T10:18:40.724039Z",
     "shell.execute_reply.started": "2024-12-26T10:18:40.718717Z"
    },
    "trusted": true
   },
   "outputs": [],
   "source": [
    "L1 = [1,2,3]\n",
    "L2 = [4,5,6]\n",
    "Y = L1+L2\n",
    "print(Y)\n"
   ]
  },
  {
   "cell_type": "code",
   "execution_count": null,
   "metadata": {
    "execution": {
     "iopub.execute_input": "2024-12-26T10:18:52.576486Z",
     "iopub.status.busy": "2024-12-26T10:18:52.576028Z",
     "iopub.status.idle": "2024-12-26T10:18:52.585878Z",
     "shell.execute_reply": "2024-12-26T10:18:52.584263Z",
     "shell.execute_reply.started": "2024-12-26T10:18:52.576452Z"
    },
    "trusted": true
   },
   "outputs": [],
   "source": [
    "L1 = [1,2,3]\n",
    "L1*2"
   ]
  },
  {
   "cell_type": "code",
   "execution_count": null,
   "metadata": {
    "execution": {
     "iopub.execute_input": "2025-06-26T08:46:32.332683Z",
     "iopub.status.busy": "2025-06-26T08:46:32.332371Z",
     "iopub.status.idle": "2025-06-26T08:46:32.371732Z",
     "shell.execute_reply": "2025-06-26T08:46:32.370627Z",
     "shell.execute_reply.started": "2025-06-26T08:46:32.332654Z"
    },
    "trusted": true
   },
   "outputs": [],
   "source": [
    "l=[2,3,4,6,7,8]\n",
    "print(len(l))"
   ]
  },
  {
   "cell_type": "code",
   "execution_count": null,
   "metadata": {
    "execution": {
     "iopub.execute_input": "2025-06-26T08:48:51.683116Z",
     "iopub.status.busy": "2025-06-26T08:48:51.682700Z",
     "iopub.status.idle": "2025-06-26T08:48:51.689045Z",
     "shell.execute_reply": "2025-06-26T08:48:51.687912Z",
     "shell.execute_reply.started": "2025-06-26T08:48:51.683084Z"
    },
    "trusted": true
   },
   "outputs": [],
   "source": [
    "marks = [4,54,76,32,12,43,65]\n",
    "marks.sort()\n",
    "print(marks)"
   ]
  },
  {
   "cell_type": "code",
   "execution_count": null,
   "metadata": {
    "execution": {
     "iopub.execute_input": "2025-06-26T08:50:18.595101Z",
     "iopub.status.busy": "2025-06-26T08:50:18.594706Z",
     "iopub.status.idle": "2025-06-26T08:50:18.601155Z",
     "shell.execute_reply": "2025-06-26T08:50:18.600070Z",
     "shell.execute_reply.started": "2025-06-26T08:50:18.595071Z"
    },
    "trusted": true
   },
   "outputs": [],
   "source": [
    "marks = [4,54,76,32,12,43,65]\n",
    "marks.sort(reverse = True)\n",
    "print(marks)"
   ]
  },
  {
   "cell_type": "code",
   "execution_count": null,
   "metadata": {
    "execution": {
     "iopub.execute_input": "2024-12-26T10:17:39.804297Z",
     "iopub.status.busy": "2024-12-26T10:17:39.803858Z",
     "iopub.status.idle": "2024-12-26T10:17:39.811612Z",
     "shell.execute_reply": "2024-12-26T10:17:39.810063Z",
     "shell.execute_reply.started": "2024-12-26T10:17:39.804267Z"
    },
    "trusted": true
   },
   "outputs": [],
   "source": [
    "L1 = [1,3,5,4,2,6,8,7,9]\n",
    "L1.sort()\n",
    "print(L1)"
   ]
  },
  {
   "cell_type": "code",
   "execution_count": null,
   "metadata": {
    "execution": {
     "iopub.execute_input": "2025-02-11T05:55:48.520237Z",
     "iopub.status.busy": "2025-02-11T05:55:48.519770Z",
     "iopub.status.idle": "2025-02-11T05:55:48.591911Z",
     "shell.execute_reply": "2025-02-11T05:55:48.590433Z",
     "shell.execute_reply.started": "2025-02-11T05:55:48.520192Z"
    },
    "trusted": true
   },
   "outputs": [],
   "source": [
    "itpm_jan_marks = [23,43,56,87,90,100,21,64,22]\n",
    "itpm_jan_marks.sort()\n",
    "print(itpm_jan_marks )\n"
   ]
  },
  {
   "cell_type": "code",
   "execution_count": null,
   "metadata": {
    "trusted": true
   },
   "outputs": [],
   "source": [
    "L1 =[1,3,4,5,2]"
   ]
  },
  {
   "cell_type": "code",
   "execution_count": null,
   "metadata": {
    "execution": {
     "iopub.execute_input": "2025-02-11T05:56:31.031723Z",
     "iopub.status.busy": "2025-02-11T05:56:31.031315Z",
     "iopub.status.idle": "2025-02-11T05:56:31.039026Z",
     "shell.execute_reply": "2025-02-11T05:56:31.036774Z",
     "shell.execute_reply.started": "2025-02-11T05:56:31.031692Z"
    },
    "trusted": true
   },
   "outputs": [],
   "source": [
    "itpm_jan_marks = [23,43,56,87,90,100,21,64,22]\n",
    "itpm_jan_marks.sort(reverse = True)\n",
    "print(itpm_jan_marks )\n"
   ]
  },
  {
   "cell_type": "code",
   "execution_count": null,
   "metadata": {
    "execution": {
     "iopub.execute_input": "2025-06-26T08:54:12.540726Z",
     "iopub.status.busy": "2025-06-26T08:54:12.540318Z",
     "iopub.status.idle": "2025-06-26T08:54:12.546875Z",
     "shell.execute_reply": "2025-06-26T08:54:12.545513Z",
     "shell.execute_reply.started": "2025-06-26T08:54:12.540696Z"
    },
    "trusted": true
   },
   "outputs": [],
   "source": [
    "L1 = [32,45,65,76,12,34]\n",
    "L2 = sorted(L1)\n",
    "print(L2)\n",
    "print(L1)"
   ]
  },
  {
   "cell_type": "code",
   "execution_count": null,
   "metadata": {
    "execution": {
     "iopub.execute_input": "2025-06-26T09:05:07.206088Z",
     "iopub.status.busy": "2025-06-26T09:05:07.205683Z",
     "iopub.status.idle": "2025-06-26T09:05:07.212069Z",
     "shell.execute_reply": "2025-06-26T09:05:07.210890Z",
     "shell.execute_reply.started": "2025-06-26T09:05:07.206057Z"
    },
    "trusted": true
   },
   "outputs": [],
   "source": [
    "Name = [\"Dev\",\"Atul\",\"Bhargavi\",\"Aiman\",\"Vaishnavi\"]\n",
    "Name.sort()\n",
    "print(Name)"
   ]
  },
  {
   "cell_type": "code",
   "execution_count": null,
   "metadata": {
    "execution": {
     "iopub.execute_input": "2025-02-11T06:13:08.869606Z",
     "iopub.status.busy": "2025-02-11T06:13:08.868294Z",
     "iopub.status.idle": "2025-02-11T06:13:08.875219Z",
     "shell.execute_reply": "2025-02-11T06:13:08.874017Z",
     "shell.execute_reply.started": "2025-02-11T06:13:08.869552Z"
    },
    "trusted": true
   },
   "outputs": [],
   "source": [
    "Name = [\"Dev\",\"Atul\",\"Bhargavi\",\"Aiman\",\"Vaishnavi\"]\n",
    "new_list = sorted(Name)\n",
    "print(Name)\n",
    "print(new_list)"
   ]
  },
  {
   "cell_type": "code",
   "execution_count": null,
   "metadata": {
    "execution": {
     "iopub.execute_input": "2025-02-11T06:08:42.537481Z",
     "iopub.status.busy": "2025-02-11T06:08:42.537094Z",
     "iopub.status.idle": "2025-02-11T06:08:42.544247Z",
     "shell.execute_reply": "2025-02-11T06:08:42.542871Z",
     "shell.execute_reply.started": "2025-02-11T06:08:42.537453Z"
    },
    "trusted": true
   },
   "outputs": [],
   "source": [
    "itpm_jan_marks = [23,43,56,87,90,100,21,64,22]\n",
    "sorted(itpm_jan_marks)\n",
    "print(sorted(itpm_jan_marks))\n",
    "print(itpm_jan_marks)"
   ]
  },
  {
   "cell_type": "code",
   "execution_count": null,
   "metadata": {
    "execution": {
     "iopub.execute_input": "2025-04-28T09:22:34.452265Z",
     "iopub.status.busy": "2025-04-28T09:22:34.451337Z",
     "iopub.status.idle": "2025-04-28T09:22:34.456986Z",
     "shell.execute_reply": "2025-04-28T09:22:34.455875Z",
     "shell.execute_reply.started": "2025-04-28T09:22:34.452230Z"
    },
    "trusted": true
   },
   "outputs": [],
   "source": [
    "L3.append(11)\n",
    "print(L3)"
   ]
  },
  {
   "cell_type": "code",
   "execution_count": null,
   "metadata": {
    "execution": {
     "iopub.execute_input": "2025-04-28T09:22:11.122707Z",
     "iopub.status.busy": "2025-04-28T09:22:11.121685Z",
     "iopub.status.idle": "2025-04-28T09:22:11.127857Z",
     "shell.execute_reply": "2025-04-28T09:22:11.126746Z",
     "shell.execute_reply.started": "2025-04-28T09:22:11.122669Z"
    },
    "trusted": true
   },
   "outputs": [],
   "source": [
    "L1 = [1,2,3,4,5]\n",
    "L2 = [6,7,8,9,10]\n",
    "L3 = L1+L2\n",
    "print(L3)"
   ]
  },
  {
   "cell_type": "code",
   "execution_count": null,
   "metadata": {
    "trusted": true
   },
   "outputs": [],
   "source": [
    "Student_info = [\"Angha\",23,\"pune\"]"
   ]
  },
  {
   "cell_type": "code",
   "execution_count": null,
   "metadata": {
    "execution": {
     "iopub.execute_input": "2025-06-26T09:07:35.584675Z",
     "iopub.status.busy": "2025-06-26T09:07:35.584320Z",
     "iopub.status.idle": "2025-06-26T09:07:35.590168Z",
     "shell.execute_reply": "2025-06-26T09:07:35.589094Z",
     "shell.execute_reply.started": "2025-06-26T09:07:35.584650Z"
    },
    "trusted": true
   },
   "outputs": [],
   "source": [
    "python_marks = [45,43,46,47,44]\n",
    "UI_marks = [43,45,42,47,48]\n",
    "print(python_marks + UI_marks)"
   ]
  },
  {
   "cell_type": "code",
   "execution_count": null,
   "metadata": {
    "trusted": true
   },
   "outputs": [],
   "source": []
  },
  {
   "cell_type": "code",
   "execution_count": null,
   "metadata": {
    "execution": {
     "iopub.execute_input": "2025-06-26T09:13:57.369260Z",
     "iopub.status.busy": "2025-06-26T09:13:57.368834Z",
     "iopub.status.idle": "2025-06-26T09:13:57.375286Z",
     "shell.execute_reply": "2025-06-26T09:13:57.374217Z",
     "shell.execute_reply.started": "2025-06-26T09:13:57.369228Z"
    },
    "trusted": true
   },
   "outputs": [],
   "source": [
    "List1 = [1,2,3,4,5]\n",
    "print(List1*3)"
   ]
  },
  {
   "cell_type": "code",
   "execution_count": null,
   "metadata": {
    "execution": {
     "execution_failed": "2025-04-28T10:14:30.691Z"
    },
    "trusted": true
   },
   "outputs": [],
   "source": [
    "List1 = [1,2,3,4,5]\n",
    "print(List1)"
   ]
  },
  {
   "cell_type": "code",
   "execution_count": null,
   "metadata": {
    "execution": {
     "execution_failed": "2025-04-28T10:14:30.684Z"
    },
    "trusted": true
   },
   "outputs": [],
   "source": []
  },
  {
   "cell_type": "markdown",
   "metadata": {},
   "source": [
    "### Indexing in list"
   ]
  },
  {
   "cell_type": "code",
   "execution_count": null,
   "metadata": {
    "execution": {
     "iopub.execute_input": "2025-06-26T09:17:20.977049Z",
     "iopub.status.busy": "2025-06-26T09:17:20.975876Z",
     "iopub.status.idle": "2025-06-26T09:17:20.982162Z",
     "shell.execute_reply": "2025-06-26T09:17:20.981076Z",
     "shell.execute_reply.started": "2025-06-26T09:17:20.976979Z"
    },
    "trusted": true
   },
   "outputs": [],
   "source": [
    "List = [23,43,54,65,76]\n",
    "print(List[1])\n",
    "print(List[4])"
   ]
  },
  {
   "cell_type": "code",
   "execution_count": null,
   "metadata": {
    "trusted": true
   },
   "outputs": [],
   "source": [
    "slicing[start:stop:step]"
   ]
  },
  {
   "cell_type": "code",
   "execution_count": null,
   "metadata": {
    "execution": {
     "iopub.execute_input": "2025-06-26T09:25:27.068667Z",
     "iopub.status.busy": "2025-06-26T09:25:27.068270Z",
     "iopub.status.idle": "2025-06-26T09:25:27.075115Z",
     "shell.execute_reply": "2025-06-26T09:25:27.073891Z",
     "shell.execute_reply.started": "2025-06-26T09:25:27.068637Z"
    },
    "trusted": true
   },
   "outputs": [],
   "source": [
    "Name = [\"Sakshi\",\"angha\",\"Nisha\",\"Anushka\",\"pooja\"]\n",
    "print(Name[1])\n",
    "print(Name[1:4])\n",
    "print(Name[0:5:2])"
   ]
  },
  {
   "cell_type": "code",
   "execution_count": null,
   "metadata": {
    "execution": {
     "iopub.execute_input": "2025-06-26T09:56:28.598040Z",
     "iopub.status.busy": "2025-06-26T09:56:28.597645Z",
     "iopub.status.idle": "2025-06-26T09:56:28.604581Z",
     "shell.execute_reply": "2025-06-26T09:56:28.603157Z",
     "shell.execute_reply.started": "2025-06-26T09:56:28.597991Z"
    },
    "trusted": true
   },
   "outputs": [],
   "source": [
    "name=[\"sakshi\",\"shiv\",\"tushar\",\"reem\",\"smit\",\"yogita\"]\n",
    "print(name[0:6:2])"
   ]
  },
  {
   "cell_type": "code",
   "execution_count": null,
   "metadata": {
    "execution": {
     "iopub.execute_input": "2025-06-26T09:51:05.562671Z",
     "iopub.status.busy": "2025-06-26T09:51:05.562284Z",
     "iopub.status.idle": "2025-06-26T09:51:05.569477Z",
     "shell.execute_reply": "2025-06-26T09:51:05.568387Z",
     "shell.execute_reply.started": "2025-06-26T09:51:05.562639Z"
    },
    "trusted": true
   },
   "outputs": [],
   "source": [
    "L1 = [1,2,3,4,5,6,7,8,9,10]\n",
    "print(L1[1:7])\n",
    "print(L1[1:7:2])\n",
    "print(L1[1:7:3])"
   ]
  },
  {
   "cell_type": "code",
   "execution_count": null,
   "metadata": {
    "execution": {
     "iopub.execute_input": "2025-06-26T09:30:57.813323Z",
     "iopub.status.busy": "2025-06-26T09:30:57.812880Z",
     "iopub.status.idle": "2025-06-26T09:30:57.819586Z",
     "shell.execute_reply": "2025-06-26T09:30:57.818480Z",
     "shell.execute_reply.started": "2025-06-26T09:30:57.813290Z"
    },
    "trusted": true
   },
   "outputs": [],
   "source": [
    "number = [1,3,4,5,6,7,8,9,10]\n",
    "print(number[1],number[2],number[3],number[4])\n",
    "print(number[1:6])"
   ]
  },
  {
   "cell_type": "code",
   "execution_count": null,
   "metadata": {
    "trusted": true
   },
   "outputs": [],
   "source": [
    "#1D list\n",
    "list1 = [1,2,3,4,5]\n",
    "\n",
    "# multi-diamensional list\n",
    "list2 = [1,2,3,[4,5],6,7]\n",
    "list2.1 = [1,2,3,[4,5],[6,7],8]\n",
    "list3 = [1,2,3,[4,[5,6]],7,8,9]"
   ]
  },
  {
   "cell_type": "code",
   "execution_count": null,
   "metadata": {
    "execution": {
     "iopub.execute_input": "2025-02-11T06:36:46.962469Z",
     "iopub.status.busy": "2025-02-11T06:36:46.962069Z",
     "iopub.status.idle": "2025-02-11T06:36:46.970307Z",
     "shell.execute_reply": "2025-02-11T06:36:46.968969Z",
     "shell.execute_reply.started": "2025-02-11T06:36:46.962439Z"
    },
    "trusted": true
   },
   "outputs": [],
   "source": [
    "l1=[1,2,3,[4,5],6]\n",
    "l1[3]"
   ]
  },
  {
   "cell_type": "code",
   "execution_count": null,
   "metadata": {
    "execution": {
     "iopub.execute_input": "2025-02-11T06:37:10.998027Z",
     "iopub.status.busy": "2025-02-11T06:37:10.997603Z",
     "iopub.status.idle": "2025-02-11T06:37:11.006303Z",
     "shell.execute_reply": "2025-02-11T06:37:11.004267Z",
     "shell.execute_reply.started": "2025-02-11T06:37:10.997994Z"
    },
    "trusted": true
   },
   "outputs": [],
   "source": [
    "l1=[1,2,3,[4,5],6]\n",
    "l1[3][0]"
   ]
  },
  {
   "cell_type": "code",
   "execution_count": null,
   "metadata": {
    "execution": {
     "iopub.execute_input": "2025-02-11T06:38:55.445146Z",
     "iopub.status.busy": "2025-02-11T06:38:55.444251Z",
     "iopub.status.idle": "2025-02-11T06:38:55.459054Z",
     "shell.execute_reply": "2025-02-11T06:38:55.457328Z",
     "shell.execute_reply.started": "2025-02-11T06:38:55.445084Z"
    },
    "trusted": true
   },
   "outputs": [],
   "source": [
    "l1 = [1,2,3,[4,5,6],7,[8,9],10] # o/p 8\n",
    "l1[5][0]"
   ]
  },
  {
   "cell_type": "code",
   "execution_count": null,
   "metadata": {
    "execution": {
     "iopub.execute_input": "2025-02-11T06:43:23.252266Z",
     "iopub.status.busy": "2025-02-11T06:43:23.251804Z",
     "iopub.status.idle": "2025-02-11T06:43:23.260002Z",
     "shell.execute_reply": "2025-02-11T06:43:23.258861Z",
     "shell.execute_reply.started": "2025-02-11T06:43:23.252234Z"
    },
    "trusted": true
   },
   "outputs": [],
   "source": [
    "l2 = [1,2,3,[4,[5,6],7,8],9,10] # o/p = 6\n",
    "l2[3][1][1]"
   ]
  },
  {
   "cell_type": "code",
   "execution_count": null,
   "metadata": {
    "execution": {
     "iopub.execute_input": "2025-02-11T06:43:56.211461Z",
     "iopub.status.busy": "2025-02-11T06:43:56.210255Z",
     "iopub.status.idle": "2025-02-11T06:43:56.219024Z",
     "shell.execute_reply": "2025-02-11T06:43:56.217675Z",
     "shell.execute_reply.started": "2025-02-11T06:43:56.211424Z"
    },
    "trusted": true
   },
   "outputs": [],
   "source": [
    "l2 = [1,2,3,[4,[5,6],7,8],9,10] # o/p = 6\n",
    "l2[3][2]"
   ]
  },
  {
   "cell_type": "code",
   "execution_count": null,
   "metadata": {
    "execution": {
     "iopub.execute_input": "2025-02-11T06:48:32.636566Z",
     "iopub.status.busy": "2025-02-11T06:48:32.636206Z",
     "iopub.status.idle": "2025-02-11T06:48:32.645273Z",
     "shell.execute_reply": "2025-02-11T06:48:32.643961Z",
     "shell.execute_reply.started": "2025-02-11T06:48:32.636540Z"
    },
    "trusted": true
   },
   "outputs": [],
   "source": [
    "l2 = [1,2,3,[4,[5,6],7,8],9,10] \n",
    "l2[3]"
   ]
  },
  {
   "cell_type": "code",
   "execution_count": null,
   "metadata": {
    "execution": {
     "iopub.execute_input": "2025-02-11T06:54:21.811209Z",
     "iopub.status.busy": "2025-02-11T06:54:21.810788Z",
     "iopub.status.idle": "2025-02-11T06:54:21.819289Z",
     "shell.execute_reply": "2025-02-11T06:54:21.818039Z",
     "shell.execute_reply.started": "2025-02-11T06:54:21.811177Z"
    },
    "trusted": true
   },
   "outputs": [],
   "source": [
    "Name = [\"I\",\"am\",\"Dev\" ,[\"i\",\"like\",[\"C\",\"python\",[\"language\"]],\"computer\"],\"itpm\"]\n",
    "Name[3][2]"
   ]
  },
  {
   "cell_type": "code",
   "execution_count": null,
   "metadata": {
    "trusted": true
   },
   "outputs": [],
   "source": [
    "number_list=[1,2,3,4,5,6]\n",
    "print(number_list[1:4])\n",
    "fruits = [\"apple\",\"banana\",\"mango\",\"Kivi\",\"orange\"]\n",
    "print(fruits[0:3])\n",
    "print(fruits[0:])\n",
    "print(fruits[ :4])"
   ]
  },
  {
   "cell_type": "code",
   "execution_count": null,
   "metadata": {
    "trusted": true
   },
   "outputs": [],
   "source": [
    "slicing list[start : end :steps]"
   ]
  },
  {
   "cell_type": "code",
   "execution_count": null,
   "metadata": {
    "execution": {
     "iopub.execute_input": "2025-04-29T09:18:12.554795Z",
     "iopub.status.busy": "2025-04-29T09:18:12.554450Z",
     "iopub.status.idle": "2025-04-29T09:18:12.560741Z",
     "shell.execute_reply": "2025-04-29T09:18:12.559714Z",
     "shell.execute_reply.started": "2025-04-29T09:18:12.554764Z"
    },
    "trusted": true
   },
   "outputs": [],
   "source": [
    "numbers = [1,2,3,4,5,6,7,8,9,10]\n",
    "print(numbers[1:10:2])\n",
    "marks = [12,34,54,65,32]\n",
    "print(marks[1: 3:2])\n",
    "print(numbers[0: :3])\n",
    "print(marks[1:3:2])\n",
    "\n"
   ]
  },
  {
   "cell_type": "code",
   "execution_count": null,
   "metadata": {
    "execution": {
     "iopub.execute_input": "2025-04-29T09:24:04.294251Z",
     "iopub.status.busy": "2025-04-29T09:24:04.293505Z",
     "iopub.status.idle": "2025-04-29T09:24:04.300365Z",
     "shell.execute_reply": "2025-04-29T09:24:04.299224Z",
     "shell.execute_reply.started": "2025-04-29T09:24:04.294216Z"
    },
    "trusted": true
   },
   "outputs": [],
   "source": [
    "numbers"
   ]
  },
  {
   "cell_type": "code",
   "execution_count": null,
   "metadata": {
    "execution": {
     "iopub.execute_input": "2025-04-29T09:31:33.348161Z",
     "iopub.status.busy": "2025-04-29T09:31:33.347430Z",
     "iopub.status.idle": "2025-04-29T09:31:33.353497Z",
     "shell.execute_reply": "2025-04-29T09:31:33.352522Z",
     "shell.execute_reply.started": "2025-04-29T09:31:33.348127Z"
    },
    "trusted": true
   },
   "outputs": [],
   "source": [
    "list1 = [23,43,54,65,32]\n",
    "#with using built-in function\n",
    "list1.reverse()\n",
    "print(list1)\n",
    "#without using \n",
    "list2 = [23,43,54,65,32]\n",
    "print(list2[::-1])"
   ]
  },
  {
   "cell_type": "code",
   "execution_count": null,
   "metadata": {
    "execution": {
     "iopub.execute_input": "2025-04-29T09:33:29.887153Z",
     "iopub.status.busy": "2025-04-29T09:33:29.886365Z",
     "iopub.status.idle": "2025-04-29T09:33:29.891945Z",
     "shell.execute_reply": "2025-04-29T09:33:29.891067Z",
     "shell.execute_reply.started": "2025-04-29T09:33:29.887116Z"
    },
    "trusted": true
   },
   "outputs": [],
   "source": [
    "print(numbers[::-1])\n",
    "print(numbers[8::-1])\n",
    "print(numbers[::-2])\n"
   ]
  },
  {
   "cell_type": "code",
   "execution_count": null,
   "metadata": {
    "execution": {
     "iopub.execute_input": "2025-04-29T10:00:33.979318Z",
     "iopub.status.busy": "2025-04-29T10:00:33.978445Z",
     "iopub.status.idle": "2025-04-29T10:00:33.984496Z",
     "shell.execute_reply": "2025-04-29T10:00:33.983470Z",
     "shell.execute_reply.started": "2025-04-29T10:00:33.979283Z"
    },
    "trusted": true
   },
   "outputs": [],
   "source": [
    "Number = [1,2,3,[4,5,[\"Richa\",\"Vaishnavi\",34,[\"itpm\",[\"Itpm-python\"],23,54],6]]]\n",
    "#print(Number[3][1:4])\n",
    "#print(Number[3][2][1:4])\n",
    "print(Number[3][2][1:4])\n"
   ]
  },
  {
   "cell_type": "code",
   "execution_count": null,
   "metadata": {
    "execution": {
     "iopub.execute_input": "2025-04-29T10:07:20.571745Z",
     "iopub.status.busy": "2025-04-29T10:07:20.571398Z",
     "iopub.status.idle": "2025-04-29T10:07:20.577266Z",
     "shell.execute_reply": "2025-04-29T10:07:20.576191Z",
     "shell.execute_reply.started": "2025-04-29T10:07:20.571716Z"
    },
    "trusted": true
   },
   "outputs": [],
   "source": [
    "numbers = [1,2,3,4,5,6,7,8,9,10] #o/p 9,6,3\n",
    "print(numbers[8:0:-3])\n"
   ]
  },
  {
   "cell_type": "code",
   "execution_count": null,
   "metadata": {
    "execution": {
     "iopub.execute_input": "2025-04-29T10:14:03.385167Z",
     "iopub.status.busy": "2025-04-29T10:14:03.384799Z",
     "iopub.status.idle": "2025-04-29T10:14:03.391563Z",
     "shell.execute_reply": "2025-04-29T10:14:03.390401Z",
     "shell.execute_reply.started": "2025-04-29T10:14:03.385136Z"
    },
    "trusted": true
   },
   "outputs": [],
   "source": [
    "\n",
    "Number = [1,2,3,[4,5,[\"Richa\",\"Vaishnavi\",34,[\"itpm\",[\"Itpm-python\"],23,54],6]]]\n",
    "list = [4,5,[\"Richa\",\"Vaishnavi\",34,[\"itpm\",[\"Itpm-python\"]]]\n",
    "\n",
    "                                    \n",
    "                                    "
   ]
  },
  {
   "cell_type": "code",
   "execution_count": null,
   "metadata": {
    "execution": {
     "iopub.execute_input": "2025-07-29T03:57:57.691012Z",
     "iopub.status.busy": "2025-07-29T03:57:57.690528Z",
     "iopub.status.idle": "2025-07-29T03:57:57.698762Z",
     "shell.execute_reply": "2025-07-29T03:57:57.697177Z",
     "shell.execute_reply.started": "2025-07-29T03:57:57.690977Z"
    },
    "trusted": true
   },
   "outputs": [],
   "source": [
    "#List is collection hetro.\n",
    "List1 = [1,2.3,\"Adinath\",3+4j]\n",
    "print(List1)"
   ]
  },
  {
   "cell_type": "code",
   "execution_count": null,
   "metadata": {
    "execution": {
     "iopub.execute_input": "2025-07-29T03:59:30.008620Z",
     "iopub.status.busy": "2025-07-29T03:59:30.006955Z",
     "iopub.status.idle": "2025-07-29T03:59:30.016905Z",
     "shell.execute_reply": "2025-07-29T03:59:30.014863Z",
     "shell.execute_reply.started": "2025-07-29T03:59:30.008562Z"
    },
    "trusted": true
   },
   "outputs": [],
   "source": [
    "#List is mutable in nature.\n",
    "Number = [1,2,3,4,5]\n",
    "print(Number)\n",
    "Number.append(6)\n",
    "print(Number)"
   ]
  },
  {
   "cell_type": "code",
   "execution_count": null,
   "metadata": {
    "execution": {
     "iopub.execute_input": "2025-07-29T04:01:54.451719Z",
     "iopub.status.busy": "2025-07-29T04:01:54.451244Z",
     "iopub.status.idle": "2025-07-29T04:01:54.459718Z",
     "shell.execute_reply": "2025-07-29T04:01:54.458065Z",
     "shell.execute_reply.started": "2025-07-29T04:01:54.451679Z"
    },
    "trusted": true
   },
   "outputs": [],
   "source": [
    "#list is a ordered collection of elements.\n",
    "L1 = [34,32,56,76]\n",
    "L2 = [32,34,76,56]\n",
    "print(L1==L2)"
   ]
  },
  {
   "cell_type": "code",
   "execution_count": null,
   "metadata": {
    "execution": {
     "iopub.execute_input": "2025-07-29T04:04:15.825294Z",
     "iopub.status.busy": "2025-07-29T04:04:15.824789Z",
     "iopub.status.idle": "2025-07-29T04:04:15.833895Z",
     "shell.execute_reply": "2025-07-29T04:04:15.831734Z",
     "shell.execute_reply.started": "2025-07-29T04:04:15.825219Z"
    },
    "trusted": true
   },
   "outputs": [],
   "source": [
    "#list allowed duplicates.\n",
    "L1 = [\"Sanket\",\"Ankit\",\"Ankita\",\"Sanket\"]\n",
    "print(L1)"
   ]
  },
  {
   "cell_type": "code",
   "execution_count": null,
   "metadata": {
    "execution": {
     "iopub.execute_input": "2025-07-29T04:07:10.933990Z",
     "iopub.status.busy": "2025-07-29T04:07:10.933070Z",
     "iopub.status.idle": "2025-07-29T04:07:10.940655Z",
     "shell.execute_reply": "2025-07-29T04:07:10.939350Z",
     "shell.execute_reply.started": "2025-07-29T04:07:10.933933Z"
    },
    "trusted": true
   },
   "outputs": [],
   "source": [
    "L1 = [1,2,3,4,5]\n",
    "L1.append(6)\n",
    "print(L1)"
   ]
  },
  {
   "cell_type": "code",
   "execution_count": null,
   "metadata": {
    "execution": {
     "iopub.execute_input": "2025-07-29T04:07:42.437143Z",
     "iopub.status.busy": "2025-07-29T04:07:42.436731Z",
     "iopub.status.idle": "2025-07-29T04:07:42.444830Z",
     "shell.execute_reply": "2025-07-29T04:07:42.443217Z",
     "shell.execute_reply.started": "2025-07-29T04:07:42.437110Z"
    },
    "trusted": true
   },
   "outputs": [],
   "source": [
    "L1 = [1,2,3,4,5,6]\n",
    "L1.extend([7,8])\n",
    "print(L1)"
   ]
  },
  {
   "cell_type": "code",
   "execution_count": null,
   "metadata": {
    "execution": {
     "iopub.execute_input": "2025-07-29T04:10:41.296158Z",
     "iopub.status.busy": "2025-07-29T04:10:41.295745Z",
     "iopub.status.idle": "2025-07-29T04:10:41.303528Z",
     "shell.execute_reply": "2025-07-29T04:10:41.302000Z",
     "shell.execute_reply.started": "2025-07-29T04:10:41.296124Z"
    },
    "trusted": true
   },
   "outputs": [],
   "source": [
    "L2 = [1,2,4,5,6]\n",
    "L2.insert(2,3)\n",
    "print(L2)"
   ]
  },
  {
   "cell_type": "code",
   "execution_count": null,
   "metadata": {
    "execution": {
     "iopub.execute_input": "2025-07-29T04:12:41.601100Z",
     "iopub.status.busy": "2025-07-29T04:12:41.600612Z",
     "iopub.status.idle": "2025-07-29T04:12:41.610649Z",
     "shell.execute_reply": "2025-07-29T04:12:41.608185Z",
     "shell.execute_reply.started": "2025-07-29T04:12:41.601060Z"
    },
    "trusted": true
   },
   "outputs": [],
   "source": [
    "Fruits = [\"Apple\",\"banana\",\"mango\"]\n",
    "Fruits.insert(0,\"Chikuu\")\n",
    "print(Fruits)"
   ]
  },
  {
   "cell_type": "code",
   "execution_count": null,
   "metadata": {
    "execution": {
     "iopub.execute_input": "2025-07-29T04:28:58.864478Z",
     "iopub.status.busy": "2025-07-29T04:28:58.863038Z",
     "iopub.status.idle": "2025-07-29T04:28:58.872240Z",
     "shell.execute_reply": "2025-07-29T04:28:58.870807Z",
     "shell.execute_reply.started": "2025-07-29T04:28:58.864397Z"
    },
    "trusted": true
   },
   "outputs": [],
   "source": [
    "Fruits = [\"Apple\",\"banana\",\"mango\"]\n",
    "Fruits.pop()\n",
    "print(Fruits)"
   ]
  },
  {
   "cell_type": "raw",
   "metadata": {},
   "source": []
  },
  {
   "cell_type": "code",
   "execution_count": null,
   "metadata": {
    "execution": {
     "iopub.execute_input": "2025-07-29T04:31:46.670012Z",
     "iopub.status.busy": "2025-07-29T04:31:46.669529Z",
     "iopub.status.idle": "2025-07-29T04:31:46.679933Z",
     "shell.execute_reply": "2025-07-29T04:31:46.678314Z",
     "shell.execute_reply.started": "2025-07-29T04:31:46.669971Z"
    },
    "trusted": true
   },
   "outputs": [],
   "source": [
    "Fruits.pop(1)\n",
    "Fruits"
   ]
  },
  {
   "cell_type": "code",
   "execution_count": null,
   "metadata": {
    "execution": {
     "iopub.execute_input": "2025-07-29T04:31:04.284224Z",
     "iopub.status.busy": "2025-07-29T04:31:04.283743Z",
     "iopub.status.idle": "2025-07-29T04:31:04.292026Z",
     "shell.execute_reply": "2025-07-29T04:31:04.290457Z",
     "shell.execute_reply.started": "2025-07-29T04:31:04.284185Z"
    },
    "trusted": true
   },
   "outputs": [],
   "source": [
    "Fruits = [\"Apple\",\"banana\",\"mango\"]\n",
    "Fruits.remove(\"banana\")\n",
    "print(Fruits)"
   ]
  },
  {
   "cell_type": "code",
   "execution_count": null,
   "metadata": {
    "execution": {
     "iopub.execute_input": "2025-07-29T04:33:54.948889Z",
     "iopub.status.busy": "2025-07-29T04:33:54.948497Z",
     "iopub.status.idle": "2025-07-29T04:33:54.956546Z",
     "shell.execute_reply": "2025-07-29T04:33:54.955110Z",
     "shell.execute_reply.started": "2025-07-29T04:33:54.948857Z"
    },
    "trusted": true
   },
   "outputs": [],
   "source": [
    "List1 = [23,54,65,76,87]\n",
    "List1.clear()\n",
    "print(List1)"
   ]
  },
  {
   "cell_type": "code",
   "execution_count": null,
   "metadata": {
    "trusted": true
   },
   "outputs": [],
   "source": [
    "del List1"
   ]
  },
  {
   "cell_type": "code",
   "execution_count": null,
   "metadata": {
    "execution": {
     "iopub.execute_input": "2025-07-29T04:44:10.846020Z",
     "iopub.status.busy": "2025-07-29T04:44:10.845524Z",
     "iopub.status.idle": "2025-07-29T04:44:10.854163Z",
     "shell.execute_reply": "2025-07-29T04:44:10.852368Z",
     "shell.execute_reply.started": "2025-07-29T04:44:10.845983Z"
    },
    "trusted": true
   },
   "outputs": [],
   "source": [
    "marks = [23,43,54,21,34,65,100]\n",
    "print(min(marks))\n",
    "print(max(marks))\n"
   ]
  },
  {
   "cell_type": "code",
   "execution_count": null,
   "metadata": {
    "execution": {
     "iopub.execute_input": "2025-07-29T04:44:36.046677Z",
     "iopub.status.busy": "2025-07-29T04:44:36.046203Z",
     "iopub.status.idle": "2025-07-29T04:44:36.055988Z",
     "shell.execute_reply": "2025-07-29T04:44:36.054557Z",
     "shell.execute_reply.started": "2025-07-29T04:44:36.046644Z"
    },
    "trusted": true
   },
   "outputs": [],
   "source": [
    "print(len(marks))"
   ]
  },
  {
   "cell_type": "code",
   "execution_count": null,
   "metadata": {
    "execution": {
     "iopub.execute_input": "2025-07-29T04:47:20.212659Z",
     "iopub.status.busy": "2025-07-29T04:47:20.212160Z",
     "iopub.status.idle": "2025-07-29T04:47:20.220800Z",
     "shell.execute_reply": "2025-07-29T04:47:20.219223Z",
     "shell.execute_reply.started": "2025-07-29T04:47:20.212621Z"
    },
    "trusted": true
   },
   "outputs": [],
   "source": [
    "l1 = [1,2,3,4,5,3,4,2,1,4,4,4]\n",
    "print(l1.count(4))\n",
    "print(l1.count(100))"
   ]
  },
  {
   "cell_type": "code",
   "execution_count": null,
   "metadata": {
    "execution": {
     "iopub.execute_input": "2025-07-29T04:52:03.244067Z",
     "iopub.status.busy": "2025-07-29T04:52:03.243575Z",
     "iopub.status.idle": "2025-07-29T04:52:03.345971Z",
     "shell.execute_reply": "2025-07-29T04:52:03.344026Z",
     "shell.execute_reply.started": "2025-07-29T04:52:03.244026Z"
    },
    "trusted": true
   },
   "outputs": [],
   "source": [
    "Name = [\"Trupti\",\"kamran\",\"Sanket\",\"Rutuja\",\"Priyanka\"]\n",
    "Name.Replace([2,\"Salokhe\"])\n",
    "print(Name)"
   ]
  },
  {
   "cell_type": "code",
   "execution_count": null,
   "metadata": {
    "execution": {
     "iopub.execute_input": "2025-07-29T05:01:16.279875Z",
     "iopub.status.busy": "2025-07-29T05:01:16.279416Z",
     "iopub.status.idle": "2025-07-29T05:01:16.289079Z",
     "shell.execute_reply": "2025-07-29T05:01:16.287285Z",
     "shell.execute_reply.started": "2025-07-29T05:01:16.279839Z"
    },
    "trusted": true
   },
   "outputs": [],
   "source": [
    "Name = [\"Trupti\",\"kamran\",\"Sanket\",\"Rutuja\",\"Priyanka\"]\n",
    "Name[2] = \"Salokhe\"\n",
    "print(Name)"
   ]
  },
  {
   "cell_type": "code",
   "execution_count": null,
   "metadata": {
    "execution": {
     "iopub.execute_input": "2025-07-29T04:58:48.523823Z",
     "iopub.status.busy": "2025-07-29T04:58:48.523375Z",
     "iopub.status.idle": "2025-07-29T04:58:48.531428Z",
     "shell.execute_reply": "2025-07-29T04:58:48.529778Z",
     "shell.execute_reply.started": "2025-07-29T04:58:48.523787Z"
    },
    "trusted": true
   },
   "outputs": [],
   "source": [
    "List1 = [23,43,54,1,32,22,21]\n",
    "List1.sort()\n",
    "print(List1)"
   ]
  },
  {
   "cell_type": "code",
   "execution_count": null,
   "metadata": {
    "execution": {
     "iopub.execute_input": "2025-07-29T04:59:40.904966Z",
     "iopub.status.busy": "2025-07-29T04:59:40.904438Z",
     "iopub.status.idle": "2025-07-29T04:59:40.912899Z",
     "shell.execute_reply": "2025-07-29T04:59:40.911003Z",
     "shell.execute_reply.started": "2025-07-29T04:59:40.904922Z"
    },
    "trusted": true
   },
   "outputs": [],
   "source": [
    "List1 = [23,43,54,1,32,22,21]\n",
    "List1.sort(reverse = True)\n",
    "print(List1)"
   ]
  },
  {
   "cell_type": "code",
   "execution_count": null,
   "metadata": {
    "execution": {
     "iopub.execute_input": "2025-07-30T04:08:28.500292Z",
     "iopub.status.busy": "2025-07-30T04:08:28.499976Z",
     "iopub.status.idle": "2025-07-30T04:08:28.534001Z",
     "shell.execute_reply": "2025-07-30T04:08:28.532691Z",
     "shell.execute_reply.started": "2025-07-30T04:08:28.500260Z"
    },
    "trusted": true
   },
   "outputs": [],
   "source": [
    "L1 = [34,54,65,32,21]\n",
    "L1.reverse()\n",
    "print(L1)"
   ]
  },
  {
   "cell_type": "code",
   "execution_count": null,
   "metadata": {
    "execution": {
     "iopub.execute_input": "2025-07-30T04:09:47.961397Z",
     "iopub.status.busy": "2025-07-30T04:09:47.961000Z",
     "iopub.status.idle": "2025-07-30T04:09:47.967139Z",
     "shell.execute_reply": "2025-07-30T04:09:47.966035Z",
     "shell.execute_reply.started": "2025-07-30T04:09:47.961364Z"
    },
    "trusted": true
   },
   "outputs": [],
   "source": [
    "L1=[1,2,3,4,5,6]\n",
    "L2=[7,8,9,10]\n",
    "print(L1+L2)"
   ]
  },
  {
   "cell_type": "code",
   "execution_count": null,
   "metadata": {
    "execution": {
     "iopub.execute_input": "2025-07-30T04:11:29.388667Z",
     "iopub.status.busy": "2025-07-30T04:11:29.388255Z",
     "iopub.status.idle": "2025-07-30T04:11:29.394138Z",
     "shell.execute_reply": "2025-07-30T04:11:29.393030Z",
     "shell.execute_reply.started": "2025-07-30T04:11:29.388631Z"
    },
    "trusted": true
   },
   "outputs": [],
   "source": [
    "L1 = [1,2,3,4,5]\n",
    "print(L1*3)"
   ]
  },
  {
   "cell_type": "code",
   "execution_count": null,
   "metadata": {
    "execution": {
     "iopub.execute_input": "2025-07-30T04:15:45.164205Z",
     "iopub.status.busy": "2025-07-30T04:15:45.163800Z",
     "iopub.status.idle": "2025-07-30T04:15:45.170542Z",
     "shell.execute_reply": "2025-07-30T04:15:45.168635Z",
     "shell.execute_reply.started": "2025-07-30T04:15:45.164171Z"
    },
    "trusted": true
   },
   "outputs": [],
   "source": [
    "Student = [\"Dishank\",\"sanket\",\"Ankit\",\"sandesh\",\"Gaurav\",\"Sushant\"]\n",
    "print(\"Ankit\" in Student)"
   ]
  },
  {
   "cell_type": "code",
   "execution_count": null,
   "metadata": {
    "execution": {
     "iopub.execute_input": "2025-07-30T04:18:36.599846Z",
     "iopub.status.busy": "2025-07-30T04:18:36.599405Z",
     "iopub.status.idle": "2025-07-30T04:18:36.605712Z",
     "shell.execute_reply": "2025-07-30T04:18:36.604564Z",
     "shell.execute_reply.started": "2025-07-30T04:18:36.599801Z"
    },
    "trusted": true
   },
   "outputs": [],
   "source": [
    "Student = [\"Dishank\",\"sanket\",\"Ankit\",\"sandesh\",\"Gaurav\",\"Sushant\"]\n",
    "print(Student[3])\n",
    "print(Student[5])"
   ]
  },
  {
   "cell_type": "code",
   "execution_count": null,
   "metadata": {
    "execution": {
     "iopub.execute_input": "2025-07-30T04:20:08.373395Z",
     "iopub.status.busy": "2025-07-30T04:20:08.373001Z",
     "iopub.status.idle": "2025-07-30T04:20:08.379414Z",
     "shell.execute_reply": "2025-07-30T04:20:08.378262Z",
     "shell.execute_reply.started": "2025-07-30T04:20:08.373361Z"
    },
    "trusted": true
   },
   "outputs": [],
   "source": [
    "Student = [\"Dishank\",\"sanket\",\"Ankit\",\"sandesh\",\"Gaurav\",\"Sushant\"]\n",
    "print(Student[-1])\n",
    "print(Student[-2])"
   ]
  },
  {
   "cell_type": "code",
   "execution_count": null,
   "metadata": {
    "trusted": true
   },
   "outputs": [],
   "source": [
    "slicing[start:Stop:Steps]"
   ]
  },
  {
   "cell_type": "code",
   "execution_count": null,
   "metadata": {
    "execution": {
     "iopub.execute_input": "2025-07-30T04:22:59.339751Z",
     "iopub.status.busy": "2025-07-30T04:22:59.338555Z",
     "iopub.status.idle": "2025-07-30T04:22:59.345095Z",
     "shell.execute_reply": "2025-07-30T04:22:59.344052Z",
     "shell.execute_reply.started": "2025-07-30T04:22:59.339708Z"
    },
    "trusted": true
   },
   "outputs": [],
   "source": [
    "Student = [\"Dishank\",\"sanket\",\"Ankit\",\"sandesh\",\"Gaurav\",\"Sushant\"]\n",
    "print(Student[1:5])"
   ]
  },
  {
   "cell_type": "code",
   "execution_count": null,
   "metadata": {
    "execution": {
     "iopub.execute_input": "2025-07-30T04:58:07.764172Z",
     "iopub.status.busy": "2025-07-30T04:58:07.763678Z",
     "iopub.status.idle": "2025-07-30T04:58:07.770452Z",
     "shell.execute_reply": "2025-07-30T04:58:07.769321Z",
     "shell.execute_reply.started": "2025-07-30T04:58:07.764128Z"
    },
    "trusted": true
   },
   "outputs": [],
   "source": [
    "list1 = [2,4,6,8,10,12,14,16]\n",
    "print(list1[2:7])"
   ]
  },
  {
   "cell_type": "code",
   "execution_count": null,
   "metadata": {
    "execution": {
     "iopub.execute_input": "2025-07-30T04:44:42.499620Z",
     "iopub.status.busy": "2025-07-30T04:44:42.499181Z",
     "iopub.status.idle": "2025-07-30T04:44:42.506427Z",
     "shell.execute_reply": "2025-07-30T04:44:42.505317Z",
     "shell.execute_reply.started": "2025-07-30T04:44:42.499584Z"
    },
    "trusted": true
   },
   "outputs": [],
   "source": [
    "list1 = [23,43,56,76,32,87,21,43,21,43,65,89,12,10,13]\n",
    "print(list1[2:-2:2])"
   ]
  },
  {
   "cell_type": "code",
   "execution_count": null,
   "metadata": {
    "execution": {
     "iopub.execute_input": "2025-07-30T04:54:14.425373Z",
     "iopub.status.busy": "2025-07-30T04:54:14.424298Z",
     "iopub.status.idle": "2025-07-30T04:54:14.430548Z",
     "shell.execute_reply": "2025-07-30T04:54:14.429320Z",
     "shell.execute_reply.started": "2025-07-30T04:54:14.425334Z"
    },
    "trusted": true
   },
   "outputs": [],
   "source": [
    "print(list1[-3:])"
   ]
  },
  {
   "cell_type": "code",
   "execution_count": null,
   "metadata": {
    "execution": {
     "iopub.execute_input": "2025-07-30T04:58:14.938296Z",
     "iopub.status.busy": "2025-07-30T04:58:14.937901Z",
     "iopub.status.idle": "2025-07-30T04:58:14.945031Z",
     "shell.execute_reply": "2025-07-30T04:58:14.943377Z",
     "shell.execute_reply.started": "2025-07-30T04:58:14.938264Z"
    },
    "trusted": true
   },
   "outputs": [],
   "source": [
    "print(list1[:8])\n",
    "print(list1[8:])\n",
    "print(list1[::])\n",
    "print(list1[::2])\n",
    "print(list1[::3])"
   ]
  },
  {
   "cell_type": "code",
   "execution_count": null,
   "metadata": {
    "execution": {
     "iopub.execute_input": "2025-07-30T04:58:22.539162Z",
     "iopub.status.busy": "2025-07-30T04:58:22.538340Z",
     "iopub.status.idle": "2025-07-30T04:58:22.544568Z",
     "shell.execute_reply": "2025-07-30T04:58:22.543403Z",
     "shell.execute_reply.started": "2025-07-30T04:58:22.539121Z"
    },
    "trusted": true
   },
   "outputs": [],
   "source": [
    "print(list1[::-2])"
   ]
  },
  {
   "cell_type": "code",
   "execution_count": null,
   "metadata": {
    "execution": {
     "iopub.execute_input": "2025-07-30T04:57:12.995416Z",
     "iopub.status.busy": "2025-07-30T04:57:12.995044Z",
     "iopub.status.idle": "2025-07-30T04:57:13.001738Z",
     "shell.execute_reply": "2025-07-30T04:57:13.000618Z",
     "shell.execute_reply.started": "2025-07-30T04:57:12.995385Z"
    },
    "trusted": true
   },
   "outputs": [],
   "source": [
    "list2 = [\"Sanket\",\"Adinath\",\"Sandesh\",\"priya\",\"Rutuja\",\"Ankita\"]\n",
    "print(list1[2:3])\n",
    "print(list1[2:4:2])"
   ]
  },
  {
   "cell_type": "code",
   "execution_count": null,
   "metadata": {
    "execution": {
     "iopub.execute_input": "2025-07-30T05:00:01.522543Z",
     "iopub.status.busy": "2025-07-30T05:00:01.522142Z",
     "iopub.status.idle": "2025-07-30T05:00:01.528723Z",
     "shell.execute_reply": "2025-07-30T05:00:01.527513Z",
     "shell.execute_reply.started": "2025-07-30T05:00:01.522508Z"
    },
    "trusted": true
   },
   "outputs": [],
   "source": [
    "list1 = [1,2,4,[5,6,7],8,9]\n",
    "print(list1)\n",
    "print(type(list1))"
   ]
  },
  {
   "cell_type": "code",
   "execution_count": null,
   "metadata": {
    "execution": {
     "iopub.execute_input": "2025-07-30T05:02:54.929254Z",
     "iopub.status.busy": "2025-07-30T05:02:54.928850Z",
     "iopub.status.idle": "2025-07-30T05:02:54.934808Z",
     "shell.execute_reply": "2025-07-30T05:02:54.933648Z",
     "shell.execute_reply.started": "2025-07-30T05:02:54.929221Z"
    },
    "trusted": true
   },
   "outputs": [],
   "source": [
    "print(list1[3][1])"
   ]
  },
  {
   "cell_type": "code",
   "execution_count": null,
   "metadata": {
    "execution": {
     "iopub.execute_input": "2025-07-30T05:02:22.479366Z",
     "iopub.status.busy": "2025-07-30T05:02:22.478369Z",
     "iopub.status.idle": "2025-07-30T05:02:22.484538Z",
     "shell.execute_reply": "2025-07-30T05:02:22.483444Z",
     "shell.execute_reply.started": "2025-07-30T05:02:22.479325Z"
    },
    "trusted": true
   },
   "outputs": [],
   "source": [
    "print(list1[3][1:3])"
   ]
  },
  {
   "cell_type": "code",
   "execution_count": null,
   "metadata": {
    "execution": {
     "iopub.execute_input": "2025-07-30T05:53:00.259402Z",
     "iopub.status.busy": "2025-07-30T05:53:00.258542Z",
     "iopub.status.idle": "2025-07-30T05:53:00.264627Z",
     "shell.execute_reply": "2025-07-30T05:53:00.263598Z",
     "shell.execute_reply.started": "2025-07-30T05:53:00.259363Z"
    },
    "trusted": true
   },
   "outputs": [],
   "source": [
    "list1 = [23,54,[1,2,3,\"I am\",[\"Pranav\"],4,5]]\n",
    "print(list1[2][3:5])"
   ]
  },
  {
   "cell_type": "code",
   "execution_count": null,
   "metadata": {
    "trusted": true
   },
   "outputs": [],
   "source": [
    "#std = [1,2,3,[4,5,[6,7,\"I\"],8,9,\"AM From\"],10,\"Itpm\",\"july\"]\n",
    "#olp: I am from itpm july"
   ]
  },
  {
   "cell_type": "code",
   "execution_count": 3,
   "metadata": {
    "execution": {
     "iopub.execute_input": "2025-07-31T03:56:14.516765Z",
     "iopub.status.busy": "2025-07-31T03:56:14.516043Z",
     "iopub.status.idle": "2025-07-31T03:56:14.522140Z",
     "shell.execute_reply": "2025-07-31T03:56:14.521131Z",
     "shell.execute_reply.started": "2025-07-31T03:56:14.516727Z"
    },
    "trusted": true
   },
   "outputs": [
    {
     "name": "stdout",
     "output_type": "stream",
     "text": [
      "I AM From Itpm july\n"
     ]
    }
   ],
   "source": [
    "std = [1,2,3,[4,5,[6,7,\"I\"],8,9,\"AM From\"],10,\"Itpm\",\"july\"]\n",
    "print(std[3][2][2],std[3][5],std[5],std[6])"
   ]
  },
  {
   "cell_type": "code",
   "execution_count": 7,
   "metadata": {
    "execution": {
     "iopub.execute_input": "2025-07-31T04:00:07.510112Z",
     "iopub.status.busy": "2025-07-31T04:00:07.509200Z",
     "iopub.status.idle": "2025-07-31T04:00:07.515863Z",
     "shell.execute_reply": "2025-07-31T04:00:07.514682Z",
     "shell.execute_reply.started": "2025-07-31T04:00:07.510075Z"
    },
    "trusted": true
   },
   "outputs": [
    {
     "name": "stdout",
     "output_type": "stream",
     "text": [
      "[7, 9, 11, 13, 15]\n"
     ]
    }
   ],
   "source": [
    "L1=[1,2,3,4,5]\n",
    "L2=[6,7,8,9,10]\n",
    "L3 = list(L1[i]+L2[i] for i in range(len(L1)))\n",
    "print(L3)"
   ]
  },
  {
   "cell_type": "code",
   "execution_count": 12,
   "metadata": {
    "execution": {
     "iopub.execute_input": "2025-07-31T04:00:51.676597Z",
     "iopub.status.busy": "2025-07-31T04:00:51.675866Z",
     "iopub.status.idle": "2025-07-31T04:00:51.681811Z",
     "shell.execute_reply": "2025-07-31T04:00:51.680697Z",
     "shell.execute_reply.started": "2025-07-31T04:00:51.676560Z"
    },
    "trusted": true
   },
   "outputs": [
    {
     "name": "stdout",
     "output_type": "stream",
     "text": [
      "[-5, -5, -5, -5, -5]\n"
     ]
    }
   ],
   "source": [
    "L4 = list(L1[i]-L2[i] for i in range(len(L1)))\n",
    "print(L4)"
   ]
  },
  {
   "cell_type": "code",
   "execution_count": 15,
   "metadata": {
    "execution": {
     "iopub.execute_input": "2025-07-31T04:02:31.952189Z",
     "iopub.status.busy": "2025-07-31T04:02:31.951826Z",
     "iopub.status.idle": "2025-07-31T04:02:31.957755Z",
     "shell.execute_reply": "2025-07-31T04:02:31.956596Z",
     "shell.execute_reply.started": "2025-07-31T04:02:31.952158Z"
    },
    "trusted": true
   },
   "outputs": [
    {
     "name": "stdout",
     "output_type": "stream",
     "text": [
      "[6, 14, 24, 36, 50]\n"
     ]
    }
   ],
   "source": [
    "L5 = list(L1[i]*L2[i] for i in range(len(L1)))\n",
    "print(L5)"
   ]
  }
 ],
 "metadata": {
  "kaggle": {
   "accelerator": "none",
   "dataSources": [],
   "dockerImageVersionId": 30626,
   "isGpuEnabled": false,
   "isInternetEnabled": true,
   "language": "python",
   "sourceType": "notebook"
  },
  "kernelspec": {
   "display_name": "Python 3",
   "language": "python",
   "name": "python3"
  },
  "language_info": {
   "codemirror_mode": {
    "name": "ipython",
    "version": 3
   },
   "file_extension": ".py",
   "mimetype": "text/x-python",
   "name": "python",
   "nbconvert_exporter": "python",
   "pygments_lexer": "ipython3",
   "version": "3.10.12"
  }
 },
 "nbformat": 4,
 "nbformat_minor": 4
}
