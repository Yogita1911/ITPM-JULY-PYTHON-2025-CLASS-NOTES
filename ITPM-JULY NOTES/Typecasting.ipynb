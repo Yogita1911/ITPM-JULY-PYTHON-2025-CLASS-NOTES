{
 "cells": [
  {
   "cell_type": "markdown",
   "id": "a81f32e4",
   "metadata": {},
   "source": [
    "TypeCasting:\n"
   ]
  },
  {
   "cell_type": "code",
   "execution_count": 1,
   "id": "ed6e8e49",
   "metadata": {},
   "outputs": [
    {
     "ename": "TypeError",
     "evalue": "can only concatenate str (not \"int\") to str",
     "output_type": "error",
     "traceback": [
      "\u001b[31m---------------------------------------------------------------------------\u001b[39m",
      "\u001b[31mTypeError\u001b[39m                                 Traceback (most recent call last)",
      "\u001b[36mCell\u001b[39m\u001b[36m \u001b[39m\u001b[32mIn[1]\u001b[39m\u001b[32m, line 3\u001b[39m\n\u001b[32m      1\u001b[39m Name = \u001b[33m\"\u001b[39m\u001b[33mAnkit\u001b[39m\u001b[33m\"\u001b[39m\n\u001b[32m      2\u001b[39m Age = \u001b[32m25\u001b[39m\n\u001b[32m----> \u001b[39m\u001b[32m3\u001b[39m \u001b[38;5;28mprint\u001b[39m(\u001b[43mName\u001b[49m\u001b[43m+\u001b[49m\u001b[43mAge\u001b[49m)\n",
      "\u001b[31mTypeError\u001b[39m: can only concatenate str (not \"int\") to str"
     ]
    }
   ],
   "source": [
    "Name = \"Ankit\"\n",
    "Age = 25\n",
    "print(Name+Age)"
   ]
  },
  {
   "cell_type": "code",
   "execution_count": null,
   "id": "ec679a68",
   "metadata": {},
   "outputs": [
    {
     "name": "stdout",
     "output_type": "stream",
     "text": [
      "46.54\n"
     ]
    }
   ],
   "source": [
    "x=12  #12.00\n",
    "y=34.54 #34\n",
    "print(x+y)"
   ]
  },
  {
   "cell_type": "code",
   "execution_count": null,
   "id": "784b87a4",
   "metadata": {},
   "outputs": [
    {
     "name": "stdout",
     "output_type": "stream",
     "text": [
      "35\n"
     ]
    }
   ],
   "source": [
    "x=34  #34\n",
    "y=True #1\n",
    "print(x+y)"
   ]
  },
  {
   "cell_type": "code",
   "execution_count": 22,
   "id": "f5a46910",
   "metadata": {},
   "outputs": [
    {
     "name": "stdout",
     "output_type": "stream",
     "text": [
      "12\n"
     ]
    }
   ],
   "source": [
    "x=12.99\n",
    "y=int(x)\n",
    "print(y)"
   ]
  },
  {
   "cell_type": "markdown",
   "id": "c39bfa9e",
   "metadata": {},
   "source": [
    "Typcasting:Converting one type of data into another type of data.\n",
    "Types:\n",
    "1.immplicit : Automatic during run time. \n",
    "   1.int\n",
    "   2.float\n",
    "   3.complex\n",
    "   4.bool\n",
    "\n",
    "Pairs:\n",
    "   1.int+float\n",
    "   2.int+complex\n",
    "   3.int+bool\n",
    "   4.float+complex\n",
    "   5.float+bool\n",
    "   6.complex+bool\n",
    "\n",
    "2.Explicit : Manulaly change\n",
    "     1.int\n",
    "     2.string\n",
    "     3.list\n",
    "     4.set\n",
    "     5.Tuple\n",
    "     6.dict\n",
    "  Pairs:\n",
    "  1.int to string.\n",
    "  2.string to list.\n",
    "  3.string to set.\n",
    "  4.string to tuple.\n",
    "  5.string to dict.\n",
    "  6.list to string.\n",
    "  7.list to set.\n",
    "  8.list to tuple.\n",
    "  9.list to dict.\n"
   ]
  },
  {
   "cell_type": "code",
   "execution_count": 9,
   "id": "30b8090c",
   "metadata": {},
   "outputs": [
    {
     "name": "stdout",
     "output_type": "stream",
     "text": [
      "22\n",
      "22.0\n",
      "<class 'float'>\n",
      "<class 'int'>\n",
      "22\n",
      "<class 'str'>\n"
     ]
    }
   ],
   "source": [
    "x=22\n",
    "print(x)\n",
    "#convert int into float\n",
    "y=float(x)\n",
    "print(y)\n",
    "print(type(y))\n",
    "print(type(x))\n",
    "#convert int to str\n",
    "z=str(x)\n",
    "print(z)\n",
    "print(type(z))"
   ]
  },
  {
   "cell_type": "code",
   "execution_count": 11,
   "id": "e364f63d",
   "metadata": {},
   "outputs": [
    {
     "name": "stdout",
     "output_type": "stream",
     "text": [
      "Dishank23\n"
     ]
    }
   ],
   "source": [
    "Name=\"Dishank\"\n",
    "Age = 23\n",
    "New_age = str(Age)\n",
    "print(Name+New_age)"
   ]
  },
  {
   "cell_type": "code",
   "execution_count": 13,
   "id": "1b63e201",
   "metadata": {},
   "outputs": [
    {
     "name": "stdout",
     "output_type": "stream",
     "text": [
      "Dishank 23\n"
     ]
    }
   ],
   "source": [
    "Name=\"Dishank\"\n",
    "Age = 23\n",
    "print(Name+\" \" +str(Age))"
   ]
  },
  {
   "cell_type": "code",
   "execution_count": null,
   "id": "948ad1c3",
   "metadata": {},
   "outputs": [
    {
     "ename": "TypeError",
     "evalue": "'int' object is not iterable",
     "output_type": "error",
     "traceback": [
      "\u001b[31m---------------------------------------------------------------------------\u001b[39m",
      "\u001b[31mTypeError\u001b[39m                                 Traceback (most recent call last)",
      "\u001b[36mCell\u001b[39m\u001b[36m \u001b[39m\u001b[32mIn[14]\u001b[39m\u001b[32m, line 2\u001b[39m\n\u001b[32m      1\u001b[39m x=\u001b[32m2\u001b[39m\n\u001b[32m----> \u001b[39m\u001b[32m2\u001b[39m list1 = \u001b[38;5;28;43mlist\u001b[39;49m\u001b[43m(\u001b[49m\u001b[43mx\u001b[49m\u001b[43m)\u001b[49m\n\u001b[32m      3\u001b[39m \u001b[38;5;28mprint\u001b[39m(list1)\n",
      "\u001b[31mTypeError\u001b[39m: 'int' object is not iterable"
     ]
    }
   ],
   "source": [
    "x=2\n",
    "list1 = list(x)\n",
    "print(list1)"
   ]
  },
  {
   "cell_type": "code",
   "execution_count": null,
   "id": "63182671",
   "metadata": {},
   "outputs": [],
   "source": [
    "x=12\n",
    "y=12.43\n",
    "z=True\n",
    "A=\"Vaishnavi\""
   ]
  },
  {
   "cell_type": "code",
   "execution_count": null,
   "id": "3565b141",
   "metadata": {},
   "outputs": [
    {
     "name": "stdout",
     "output_type": "stream",
     "text": [
      "{1, 2, 3, 4, 5}\n",
      "<class 'set'>\n",
      "(1, 2, 3, 4, 5)\n"
     ]
    }
   ],
   "source": [
    "#list\n",
    "l1 = [1,2,3,4,5]\n",
    "s1=set(l1)\n",
    "print(s1)\n",
    "print(type(s1))\n",
    "t1=tuple(l1)\n",
    "print(t1)\n"
   ]
  },
  {
   "cell_type": "code",
   "execution_count": 18,
   "id": "3f54ef74",
   "metadata": {},
   "outputs": [
    {
     "ename": "TypeError",
     "evalue": "cannot convert dictionary update sequence element #0 to a sequence",
     "output_type": "error",
     "traceback": [
      "\u001b[31m---------------------------------------------------------------------------\u001b[39m",
      "\u001b[31mTypeError\u001b[39m                                 Traceback (most recent call last)",
      "\u001b[36mCell\u001b[39m\u001b[36m \u001b[39m\u001b[32mIn[18]\u001b[39m\u001b[32m, line 2\u001b[39m\n\u001b[32m      1\u001b[39m \u001b[38;5;66;03m#list to dict\u001b[39;00m\n\u001b[32m----> \u001b[39m\u001b[32m2\u001b[39m dict1 = \u001b[38;5;28;43mdict\u001b[39;49m\u001b[43m(\u001b[49m\u001b[43ml1\u001b[49m\u001b[43m)\u001b[49m\n\u001b[32m      3\u001b[39m \u001b[38;5;28mprint\u001b[39m(dict1)\n",
      "\u001b[31mTypeError\u001b[39m: cannot convert dictionary update sequence element #0 to a sequence"
     ]
    }
   ],
   "source": [
    "#list to dict\n",
    "dict1 = dict(l1)\n",
    "print(dict1)"
   ]
  },
  {
   "cell_type": "code",
   "execution_count": 20,
   "id": "857e74ae",
   "metadata": {},
   "outputs": [
    {
     "name": "stdout",
     "output_type": "stream",
     "text": [
      "[1, 2, 3, 4, 5]\n",
      "<class 'str'>\n"
     ]
    }
   ],
   "source": [
    "str1 = str(l1)\n",
    "print(str1)\n",
    "print(type(str1))"
   ]
  },
  {
   "cell_type": "code",
   "execution_count": 21,
   "id": "61e7cb36",
   "metadata": {},
   "outputs": [
    {
     "ename": "TypeError",
     "evalue": "int() argument must be a string, a bytes-like object or a real number, not 'list'",
     "output_type": "error",
     "traceback": [
      "\u001b[31m---------------------------------------------------------------------------\u001b[39m",
      "\u001b[31mTypeError\u001b[39m                                 Traceback (most recent call last)",
      "\u001b[36mCell\u001b[39m\u001b[36m \u001b[39m\u001b[32mIn[21]\u001b[39m\u001b[32m, line 1\u001b[39m\n\u001b[32m----> \u001b[39m\u001b[32m1\u001b[39m x=\u001b[38;5;28;43mint\u001b[39;49m\u001b[43m(\u001b[49m\u001b[43ml1\u001b[49m\u001b[43m)\u001b[49m\n\u001b[32m      2\u001b[39m \u001b[38;5;28mprint\u001b[39m(x)\n",
      "\u001b[31mTypeError\u001b[39m: int() argument must be a string, a bytes-like object or a real number, not 'list'"
     ]
    }
   ],
   "source": [
    "x=int(l1)\n",
    "print(x)"
   ]
  }
 ],
 "metadata": {
  "kernelspec": {
   "display_name": "Python 3",
   "language": "python",
   "name": "python3"
  },
  "language_info": {
   "codemirror_mode": {
    "name": "ipython",
    "version": 3
   },
   "file_extension": ".py",
   "mimetype": "text/x-python",
   "name": "python",
   "nbconvert_exporter": "python",
   "pygments_lexer": "ipython3",
   "version": "3.11.9"
  }
 },
 "nbformat": 4,
 "nbformat_minor": 5
}
