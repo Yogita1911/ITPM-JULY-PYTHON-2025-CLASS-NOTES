{
 "cells": [
  {
   "cell_type": "markdown",
   "id": "7b589147",
   "metadata": {},
   "source": [
    "#String and its Operations:\n",
    "#String : collections of chart which is represented into ' ',\" \" ,''' '''\n",
    "Operations:\n",
    "1.upper()\n",
    "2.lower()\n",
    "3.capitalize()\n",
    "4.title()\n",
    "5.concate\n",
    "6.multiple string\n",
    "7.split()\n",
    "8.strip()\n",
    "9.in\n",
    "10.len()\n",
    "11.sorted\n",
    "12.indexing in string\n",
    "13.slicing \n",
    "14.join()\n",
    "15."
   ]
  },
  {
   "cell_type": "code",
   "execution_count": null,
   "id": "a3f1ada0",
   "metadata": {},
   "outputs": [
    {
     "name": "stdout",
     "output_type": "stream",
     "text": [
      "Sanket\n"
     ]
    }
   ],
   "source": [
    "string1='Sanket'\n",
    "print(string1)"
   ]
  },
  {
   "cell_type": "code",
   "execution_count": null,
   "id": "8fbf80da",
   "metadata": {},
   "outputs": [
    {
     "data": {
      "text/plain": [
       "'Pranav'"
      ]
     },
     "execution_count": 2,
     "metadata": {},
     "output_type": "execute_result"
    }
   ],
   "source": [
    "string2 = \"Pranav\"\n",
    "string2"
   ]
  },
  {
   "cell_type": "code",
   "execution_count": null,
   "id": "1ed3c0f5",
   "metadata": {},
   "outputs": [
    {
     "data": {
      "text/plain": [
       "' Trupti '"
      ]
     },
     "execution_count": 3,
     "metadata": {},
     "output_type": "execute_result"
    }
   ],
   "source": [
    "string3 = ''' Trupti '''\n",
    "string3"
   ]
  },
  {
   "cell_type": "code",
   "execution_count": null,
   "id": "101a8bc2",
   "metadata": {},
   "outputs": [
    {
     "data": {
      "text/plain": [
       "'Vaishnavi 87'"
      ]
     },
     "execution_count": 4,
     "metadata": {},
     "output_type": "execute_result"
    }
   ],
   "source": [
    "s1 = \"Vaishnavi 87\"\n",
    "s1"
   ]
  },
  {
   "cell_type": "code",
   "execution_count": null,
   "id": "9f77d648",
   "metadata": {},
   "outputs": [
    {
     "name": "stdout",
     "output_type": "stream",
     "text": [
      "<class 'str'>\n"
     ]
    },
    {
     "data": {
      "text/plain": [
       "'23'"
      ]
     },
     "execution_count": 6,
     "metadata": {},
     "output_type": "execute_result"
    }
   ],
   "source": [
    "s2 = \"23\"\n",
    "print(type(s2))\n",
    "s2"
   ]
  },
  {
   "cell_type": "code",
   "execution_count": null,
   "id": "e0129f78",
   "metadata": {},
   "outputs": [
    {
     "data": {
      "text/plain": [
       "'[1,2,3,4,5]'"
      ]
     },
     "execution_count": 7,
     "metadata": {},
     "output_type": "execute_result"
    }
   ],
   "source": [
    "s3 = \"[1,2,3,4,5]\"\n",
    "s3"
   ]
  },
  {
   "cell_type": "code",
   "execution_count": null,
   "id": "8118dc2e",
   "metadata": {},
   "outputs": [
    {
     "ename": "AttributeError",
     "evalue": "'str' object has no attribute 'append'",
     "output_type": "error",
     "traceback": [
      "\u001b[31m---------------------------------------------------------------------------\u001b[39m",
      "\u001b[31mAttributeError\u001b[39m                            Traceback (most recent call last)",
      "\u001b[36mCell\u001b[39m\u001b[36m \u001b[39m\u001b[32mIn[8]\u001b[39m\u001b[32m, line 2\u001b[39m\n\u001b[32m      1\u001b[39m s4 = \u001b[33m'\u001b[39m\u001b[33m[1,2,3,4,5]\u001b[39m\u001b[33m'\u001b[39m\n\u001b[32m----> \u001b[39m\u001b[32m2\u001b[39m \u001b[43ms4\u001b[49m\u001b[43m.\u001b[49m\u001b[43mappend\u001b[49m(\u001b[32m6\u001b[39m)\n\u001b[32m      3\u001b[39m s4\n",
      "\u001b[31mAttributeError\u001b[39m: 'str' object has no attribute 'append'"
     ]
    }
   ],
   "source": [
    "s4 = '[1,2,3,4,5]'\n",
    "s4.append(6)\n",
    "s4"
   ]
  },
  {
   "cell_type": "code",
   "execution_count": null,
   "id": "51e3d62f",
   "metadata": {},
   "outputs": [
    {
     "name": "stdout",
     "output_type": "stream",
     "text": [
      "SANDESH\n"
     ]
    }
   ],
   "source": [
    "s6 = 'sandesh'\n",
    "print(s6.upper())"
   ]
  },
  {
   "cell_type": "code",
   "execution_count": null,
   "id": "3d2394c6",
   "metadata": {},
   "outputs": [
    {
     "name": "stdout",
     "output_type": "stream",
     "text": [
      "sandesh\n",
      "SANDESH\n"
     ]
    }
   ],
   "source": [
    "s6 = 'sandesh'\n",
    "s7 = s6.upper()\n",
    "print(s6)\n",
    "print(s7)\n"
   ]
  },
  {
   "cell_type": "code",
   "execution_count": null,
   "id": "f739bdc1",
   "metadata": {},
   "outputs": [
    {
     "name": "stdout",
     "output_type": "stream",
     "text": [
      "adi\n"
     ]
    }
   ],
   "source": [
    "s8 = \"ADI\"\n",
    "print(s8.lower())"
   ]
  },
  {
   "cell_type": "code",
   "execution_count": null,
   "id": "12665b99",
   "metadata": {},
   "outputs": [
    {
     "name": "stdout",
     "output_type": "stream",
     "text": [
      "I am from itpm july\n"
     ]
    }
   ],
   "source": [
    "S9 = \"i am from itpm july\"\n",
    "print(S9.capitalize())"
   ]
  },
  {
   "cell_type": "code",
   "execution_count": null,
   "id": "94846786",
   "metadata": {},
   "outputs": [
    {
     "name": "stdout",
     "output_type": "stream",
     "text": [
      "I Am From Itpm July\n"
     ]
    }
   ],
   "source": [
    "print(S9.title())"
   ]
  },
  {
   "cell_type": "code",
   "execution_count": null,
   "id": "ea9cb399",
   "metadata": {},
   "outputs": [
    {
     "name": "stdout",
     "output_type": "stream",
     "text": [
      "Python is easy to learn\n",
      "Python Is Easy To Learn\n"
     ]
    }
   ],
   "source": [
    "s10 = \"python is easy to learn\"\n",
    "print(s10.capitalize())\n",
    "print(s10.title())"
   ]
  },
  {
   "cell_type": "code",
   "execution_count": null,
   "id": "292848a0",
   "metadata": {},
   "outputs": [
    {
     "name": "stdout",
     "output_type": "stream",
     "text": [
      "Python Is Easy To Learn\n",
      "Python is easy to learn\n"
     ]
    }
   ],
   "source": [
    "s11=\"python is Easy to Learn\"\n",
    "print(s11.title())\n",
    "print(s11.capitalize())"
   ]
  },
  {
   "cell_type": "code",
   "execution_count": null,
   "id": "3bc2aa6e",
   "metadata": {},
   "outputs": [
    {
     "name": "stdout",
     "output_type": "stream",
     "text": [
      "Ankit\n"
     ]
    }
   ],
   "source": [
    "s12 = \"aNKIT\"\n",
    "print(s12.capitalize())"
   ]
  },
  {
   "cell_type": "code",
   "execution_count": null,
   "id": "7bd7863a",
   "metadata": {},
   "outputs": [
    {
     "name": "stdout",
     "output_type": "stream",
     "text": [
      "Sushant Bhosale\n"
     ]
    }
   ],
   "source": [
    "s12 = \"Sushant\"\n",
    "s13 = \"Bhosale\"\n",
    "print(s12+\" \"+s13)"
   ]
  },
  {
   "cell_type": "code",
   "execution_count": null,
   "id": "b65bee59",
   "metadata": {},
   "outputs": [
    {
     "name": "stdout",
     "output_type": "stream",
     "text": [
      "Rutuja Rutuja Rutuja \n"
     ]
    }
   ],
   "source": [
    "s15 = \"Rutuja\"\n",
    "print((s15+\" \")*3)"
   ]
  },
  {
   "cell_type": "code",
   "execution_count": null,
   "id": "91d083ad",
   "metadata": {},
   "outputs": [
    {
     "name": "stdout",
     "output_type": "stream",
     "text": [
      "['Ankit', 'Sandesh', 'Gaurav', 'Sushan']\n"
     ]
    }
   ],
   "source": [
    "S16 = \" Ankit Sandesh Gaurav Sushan\"\n",
    "print(S16.split())"
   ]
  },
  {
   "cell_type": "code",
   "execution_count": null,
   "id": "0b7e5041",
   "metadata": {},
   "outputs": [
    {
     "name": "stdout",
     "output_type": "stream",
     "text": [
      "Sanket\n",
      "  Sanket  \n"
     ]
    }
   ],
   "source": [
    "s17 = '  Sanket  '\n",
    "print(s17.strip())\n",
    "print(s17)"
   ]
  },
  {
   "cell_type": "code",
   "execution_count": null,
   "id": "eba69639",
   "metadata": {},
   "outputs": [
    {
     "name": "stdout",
     "output_type": "stream",
     "text": [
      "I like Python Programming\n"
     ]
    }
   ],
   "source": [
    "s18 = \"     I like Python Programming   \"\n",
    "print(s18.strip())"
   ]
  },
  {
   "cell_type": "code",
   "execution_count": null,
   "id": "606fd824",
   "metadata": {},
   "outputs": [
    {
     "name": "stdout",
     "output_type": "stream",
     "text": [
      "True\n"
     ]
    }
   ],
   "source": [
    "s18 = \"I like Python Programming \"\n",
    "print(\"Python\" in s18)"
   ]
  },
  {
   "cell_type": "code",
   "execution_count": null,
   "id": "81b05e22",
   "metadata": {},
   "outputs": [
    {
     "name": "stdout",
     "output_type": "stream",
     "text": [
      "y\n"
     ]
    }
   ],
   "source": [
    "#indexing in string.\n",
    "s19 = \"python\"\n",
    "print(s19[1])"
   ]
  },
  {
   "cell_type": "code",
   "execution_count": null,
   "id": "4f140e2e",
   "metadata": {},
   "outputs": [
    {
     "name": "stdout",
     "output_type": "stream",
     "text": [
      " \n"
     ]
    }
   ],
   "source": [
    "s20 = \"Python Programming\"\n",
    "print(s20[6])"
   ]
  },
  {
   "cell_type": "markdown",
   "id": "aed51956",
   "metadata": {},
   "source": []
  },
  {
   "cell_type": "code",
   "execution_count": null,
   "id": "a8e5f971",
   "metadata": {},
   "outputs": [
    {
     "name": "stdout",
     "output_type": "stream",
     "text": [
      "Programming\n"
     ]
    }
   ],
   "source": [
    "s20 = \"Python Programming\"\n",
    "print(s20[7:])"
   ]
  },
  {
   "cell_type": "code",
   "execution_count": null,
   "id": "97022239",
   "metadata": {},
   "outputs": [
    {
     "name": "stdout",
     "output_type": "stream",
     "text": [
      "gnimmargorP nohtyP\n"
     ]
    }
   ],
   "source": [
    "s20 = \"Python Programming\"\n",
    "print(s20[::-1])"
   ]
  },
  {
   "cell_type": "code",
   "execution_count": null,
   "id": "28f96b21",
   "metadata": {},
   "outputs": [
    {
     "name": "stdout",
     "output_type": "stream",
     "text": [
      ".gnimmargorp nohtyp ekil i\n"
     ]
    }
   ],
   "source": [
    "s21 = 'i like python programming.'\n",
    "print(s21[::-1])"
   ]
  },
  {
   "cell_type": "code",
   "execution_count": null,
   "id": "b533f1d5",
   "metadata": {
    "vscode": {
     "languageId": "markdown"
    }
   },
   "outputs": [],
   "source": []
  },
  {
   "cell_type": "markdown",
   "id": "4055e327",
   "metadata": {},
   "source": [
    "s21 = 'i like python programming.'\n",
    "o/p : programmingpythonlikei\n",
    "o/p : programming python like i"
   ]
  },
  {
   "cell_type": "code",
   "execution_count": 62,
   "id": "4202c28d",
   "metadata": {},
   "outputs": [
    {
     "name": "stdout",
     "output_type": "stream",
     "text": [
      "programming python like i\n"
     ]
    }
   ],
   "source": [
    "s21 = \"i like python programming\"\n",
    "print(s21[14:],s21[7:13],s21[2:6],s21[0:1])"
   ]
  },
  {
   "cell_type": "code",
   "execution_count": 63,
   "id": "7b52151b",
   "metadata": {},
   "outputs": [
    {
     "name": "stdout",
     "output_type": "stream",
     "text": [
      "programming python like i\n"
     ]
    }
   ],
   "source": [
    "s21 = \"i like python programming\"\n",
    "print(\" \".join(s21.split()[::-1]))\n"
   ]
  },
  {
   "cell_type": "code",
   "execution_count": 67,
   "id": "3f8f3028",
   "metadata": {},
   "outputs": [
    {
     "name": "stdout",
     "output_type": "stream",
     "text": [
      "programming python like i\n"
     ]
    }
   ],
   "source": [
    "s21 = \"i like python programming\"\n",
    "print(\" \".join(s21.split()[::-1]))"
   ]
  },
  {
   "cell_type": "code",
   "execution_count": null,
   "id": "52f6dd71",
   "metadata": {},
   "outputs": [
    {
     "name": "stdout",
     "output_type": "stream",
     "text": [
      "8\n"
     ]
    }
   ],
   "source": [
    "#len\n",
    "S22 = \"Priyanka\"\n",
    "print(len(S22))"
   ]
  },
  {
   "cell_type": "code",
   "execution_count": null,
   "id": "d9671bb9",
   "metadata": {},
   "outputs": [],
   "source": [
    "s23 = \"gaurav like python Programming\"\n"
   ]
  },
  {
   "cell_type": "code",
   "execution_count": 55,
   "id": "61826602",
   "metadata": {},
   "outputs": [
    {
     "ename": "KeyboardInterrupt",
     "evalue": "Interrupted by user",
     "output_type": "error",
     "traceback": [
      "\u001b[31m---------------------------------------------------------------------------\u001b[39m",
      "\u001b[31mKeyboardInterrupt\u001b[39m                         Traceback (most recent call last)",
      "\u001b[36mCell\u001b[39m\u001b[36m \u001b[39m\u001b[32mIn[55]\u001b[39m\u001b[32m, line 2\u001b[39m\n\u001b[32m      1\u001b[39m \u001b[38;5;66;03m#WAp to check two string are equal or not.if they are equal print Equal Strings if not print Not Equal\u001b[39;00m\n\u001b[32m----> \u001b[39m\u001b[32m2\u001b[39m str1 = \u001b[38;5;28;43minput\u001b[39;49m\u001b[43m(\u001b[49m\u001b[33;43m\"\u001b[39;49m\u001b[33;43mEnter a string\u001b[39;49m\u001b[33;43m\"\u001b[39;49m\u001b[43m)\u001b[49m\n\u001b[32m      3\u001b[39m str2 = \u001b[38;5;28minput\u001b[39m(\u001b[33m\"\u001b[39m\u001b[33mEnter a second String\u001b[39m\u001b[33m\"\u001b[39m)\n\u001b[32m      4\u001b[39m \u001b[38;5;28;01mif\u001b[39;00m str1==str2:\n",
      "\u001b[36mFile \u001b[39m\u001b[32m~\\AppData\\Local\\Packages\\PythonSoftwareFoundation.Python.3.11_qbz5n2kfra8p0\\LocalCache\\local-packages\\Python311\\site-packages\\ipykernel\\kernelbase.py:1260\u001b[39m, in \u001b[36mKernel.raw_input\u001b[39m\u001b[34m(self, prompt)\u001b[39m\n\u001b[32m   1258\u001b[39m     msg = \u001b[33m\"\u001b[39m\u001b[33mraw_input was called, but this frontend does not support input requests.\u001b[39m\u001b[33m\"\u001b[39m\n\u001b[32m   1259\u001b[39m     \u001b[38;5;28;01mraise\u001b[39;00m StdinNotImplementedError(msg)\n\u001b[32m-> \u001b[39m\u001b[32m1260\u001b[39m \u001b[38;5;28;01mreturn\u001b[39;00m \u001b[38;5;28;43mself\u001b[39;49m\u001b[43m.\u001b[49m\u001b[43m_input_request\u001b[49m\u001b[43m(\u001b[49m\n\u001b[32m   1261\u001b[39m \u001b[43m    \u001b[49m\u001b[38;5;28;43mstr\u001b[39;49m\u001b[43m(\u001b[49m\u001b[43mprompt\u001b[49m\u001b[43m)\u001b[49m\u001b[43m,\u001b[49m\n\u001b[32m   1262\u001b[39m \u001b[43m    \u001b[49m\u001b[38;5;28;43mself\u001b[39;49m\u001b[43m.\u001b[49m\u001b[43m_parent_ident\u001b[49m\u001b[43m[\u001b[49m\u001b[33;43m\"\u001b[39;49m\u001b[33;43mshell\u001b[39;49m\u001b[33;43m\"\u001b[39;49m\u001b[43m]\u001b[49m\u001b[43m,\u001b[49m\n\u001b[32m   1263\u001b[39m \u001b[43m    \u001b[49m\u001b[38;5;28;43mself\u001b[39;49m\u001b[43m.\u001b[49m\u001b[43mget_parent\u001b[49m\u001b[43m(\u001b[49m\u001b[33;43m\"\u001b[39;49m\u001b[33;43mshell\u001b[39;49m\u001b[33;43m\"\u001b[39;49m\u001b[43m)\u001b[49m\u001b[43m,\u001b[49m\n\u001b[32m   1264\u001b[39m \u001b[43m    \u001b[49m\u001b[43mpassword\u001b[49m\u001b[43m=\u001b[49m\u001b[38;5;28;43;01mFalse\u001b[39;49;00m\u001b[43m,\u001b[49m\n\u001b[32m   1265\u001b[39m \u001b[43m\u001b[49m\u001b[43m)\u001b[49m\n",
      "\u001b[36mFile \u001b[39m\u001b[32m~\\AppData\\Local\\Packages\\PythonSoftwareFoundation.Python.3.11_qbz5n2kfra8p0\\LocalCache\\local-packages\\Python311\\site-packages\\ipykernel\\kernelbase.py:1305\u001b[39m, in \u001b[36mKernel._input_request\u001b[39m\u001b[34m(self, prompt, ident, parent, password)\u001b[39m\n\u001b[32m   1302\u001b[39m \u001b[38;5;28;01mexcept\u001b[39;00m \u001b[38;5;167;01mKeyboardInterrupt\u001b[39;00m:\n\u001b[32m   1303\u001b[39m     \u001b[38;5;66;03m# re-raise KeyboardInterrupt, to truncate traceback\u001b[39;00m\n\u001b[32m   1304\u001b[39m     msg = \u001b[33m\"\u001b[39m\u001b[33mInterrupted by user\u001b[39m\u001b[33m\"\u001b[39m\n\u001b[32m-> \u001b[39m\u001b[32m1305\u001b[39m     \u001b[38;5;28;01mraise\u001b[39;00m \u001b[38;5;167;01mKeyboardInterrupt\u001b[39;00m(msg) \u001b[38;5;28;01mfrom\u001b[39;00m\u001b[38;5;250m \u001b[39m\u001b[38;5;28;01mNone\u001b[39;00m\n\u001b[32m   1306\u001b[39m \u001b[38;5;28;01mexcept\u001b[39;00m \u001b[38;5;167;01mException\u001b[39;00m:\n\u001b[32m   1307\u001b[39m     \u001b[38;5;28mself\u001b[39m.log.warning(\u001b[33m\"\u001b[39m\u001b[33mInvalid Message:\u001b[39m\u001b[33m\"\u001b[39m, exc_info=\u001b[38;5;28;01mTrue\u001b[39;00m)\n",
      "\u001b[31mKeyboardInterrupt\u001b[39m: Interrupted by user"
     ]
    }
   ],
   "source": [
    "#WAp to check two string are equal or not.if they are equal print Equal Strings if not print Not Equal\n",
    "str1 = input(\"Enter a string\")\n",
    "str2 = input(\"Enter a second String\")\n",
    "if str1==str2:\n",
    "    print(\"Two Strings are equal\")\n",
    "else:\n",
    "    print(\"Two Strings are not equal\")"
   ]
  },
  {
   "cell_type": "code",
   "execution_count": 56,
   "id": "119e155f",
   "metadata": {},
   "outputs": [
    {
     "name": "stdout",
     "output_type": "stream",
     "text": [
      "Two Strings are not equal\n"
     ]
    }
   ],
   "source": [
    "str1 = \"Sanket\"\n",
    "str2 = \"Sushant\"\n",
    "if str1==str2:\n",
    "    print(\"Two Strings are equal\")\n",
    "else:\n",
    "    print(\"Two Strings are not equal\")"
   ]
  },
  {
   "cell_type": "code",
   "execution_count": 59,
   "id": "4ebf3994",
   "metadata": {},
   "outputs": [
    {
     "name": "stdout",
     "output_type": "stream",
     "text": [
      "Strings are palimdrom\n"
     ]
    }
   ],
   "source": [
    "#WAp to print two strings are palimdrom or not.\n",
    "str3 = \"nayan\"\n",
    "str4 = str3[::-1]\n",
    "if str3==str4:\n",
    "    print(\"Strings are palimdrom\")\n",
    "else:\n",
    "    print(\"Not\")"
   ]
  },
  {
   "cell_type": "code",
   "execution_count": 81,
   "id": "185ef333",
   "metadata": {},
   "outputs": [
    {
     "name": "stdout",
     "output_type": "stream",
     "text": [
      "Yes\n"
     ]
    }
   ],
   "source": [
    "#WAp to print two strings are anagram or not\n",
    "str1 =\"eat\"\n",
    "str2 =\"ate\"\n",
    "if sorted(str1)==sorted(str2):\n",
    "    print(\"Yes\")\n",
    "else :\n",
    "    print(\"No\")\n"
   ]
  },
  {
   "cell_type": "code",
   "execution_count": 80,
   "id": "321b7bdc",
   "metadata": {},
   "outputs": [
    {
     "name": "stdout",
     "output_type": "stream",
     "text": [
      "['a', 'e', 't']\n",
      "['a', 'e', 't']\n"
     ]
    }
   ],
   "source": [
    "print(sorted(str1))\n",
    "print(sorted(str2))\n"
   ]
  },
  {
   "cell_type": "code",
   "execution_count": null,
   "id": "90419d80",
   "metadata": {},
   "outputs": [],
   "source": [
    "#WAp to replace python with C in given string.\n",
    "s21 = \"i like python programming\""
   ]
  }
 ],
 "metadata": {
  "kernelspec": {
   "display_name": "Python 3",
   "language": "python",
   "name": "python3"
  },
  "language_info": {
   "codemirror_mode": {
    "name": "ipython",
    "version": 3
   },
   "file_extension": ".py",
   "mimetype": "text/x-python",
   "name": "python",
   "nbconvert_exporter": "python",
   "pygments_lexer": "ipython3",
   "version": "3.11.9"
  }
 },
 "nbformat": 4,
 "nbformat_minor": 5
}
