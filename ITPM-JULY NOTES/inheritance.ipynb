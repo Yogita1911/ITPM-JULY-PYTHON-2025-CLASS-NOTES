{
 "cells": [
  {
   "cell_type": "code",
   "execution_count": 1,
   "id": "e33314b9",
   "metadata": {},
   "outputs": [
    {
     "name": "stdout",
     "output_type": "stream",
     "text": [
      "Bhagat Nivas This is Parents home\n"
     ]
    }
   ],
   "source": [
    "class parent:\n",
    "    def home(self,Name):\n",
    "        self.Name = Name\n",
    "        return f\"{Name} This is Parents home\"\n",
    "        \n",
    "        \n",
    "class Child(parent):\n",
    "    pass\n",
    "obj1 = Child()\n",
    "print(obj1.home(\"Bhagat Nivas\"))"
   ]
  },
  {
   "cell_type": "code",
   "execution_count": 4,
   "id": "cf21e199",
   "metadata": {},
   "outputs": [
    {
     "name": "stdout",
     "output_type": "stream",
     "text": [
      "(12, 34)\n",
      "46\n"
     ]
    }
   ],
   "source": [
    "class parent:\n",
    "    def number(self,a,b):\n",
    "        self.a = a\n",
    "        self.b = b\n",
    "        return a,b\n",
    "    \n",
    "class child(parent):\n",
    "    def add(self):\n",
    "        return self.a+self.b \n",
    "    \n",
    "obj1 = child()\n",
    "print(obj1.number(12,34))\n",
    "print(obj1.add())       "
   ]
  },
  {
   "cell_type": "markdown",
   "id": "c9d5337d",
   "metadata": {},
   "source": [
    "Types of Inheritance\n",
    "1.single In"
   ]
  },
  {
   "cell_type": "code",
   "execution_count": null,
   "id": "d11c4df3",
   "metadata": {},
   "outputs": [],
   "source": [
    "#synatax class Parent:\n",
    "           stat\n",
    "        classs child:\n",
    "            stat"
   ]
  },
  {
   "cell_type": "markdown",
   "metadata": {},
   "source": [
    "T"
   ]
  },
  {
   "cell_type": "code",
   "execution_count": 5,
   "id": "b30ef70e",
   "metadata": {},
   "outputs": [
    {
     "name": "stdout",
     "output_type": "stream",
     "text": [
      "The value of Two numbers a=12 and b=13\n",
      "Multiplication of two numbers 12 and 13 is 156\n"
     ]
    }
   ],
   "source": [
    "#WAp to demo single inheritance\n",
    "class Parent:\n",
    "    def cal(self,a,b):\n",
    "        self.a=a\n",
    "        self.b=b\n",
    "        return f\"The value of Two numbers a={a} and b={b}\"\n",
    "class Child(Parent):\n",
    "\n",
    "    def Mul(self):\n",
    "        return f\"Multiplication of two numbers {self.a} and {self.b} is {self.a*self.b}\"\n",
    "    \n",
    "obj1 = Child()\n",
    "print(obj1.cal(12,13))\n",
    "print(obj1.Mul())\n",
    "        "
   ]
  },
  {
   "cell_type": "markdown",
   "id": "c58b9333",
   "metadata": {},
   "source": [
    "#2.Multiple Inh.\n",
    "Syntax:class Parent1:\n",
    "           stat\n",
    "       class Parent2:\n",
    "            sta\n",
    "       class child(parent1,parent2):\n",
    "           stat         "
   ]
  },
  {
   "cell_type": "code",
   "execution_count": 3,
   "id": "97426acd",
   "metadata": {},
   "outputs": [
    {
     "name": "stdout",
     "output_type": "stream",
     "text": [
      "The value of n is : 23\n",
      "The Value of n1 is :45\n",
      "Multiplication of Two numbers 23 and 45 is 1035\n"
     ]
    }
   ],
   "source": [
    "class Number :\n",
    "    def Num1(self,n):\n",
    "        self.n=n\n",
    "        return f\"The value of n is : {n}\"\n",
    "    \n",
    "class Number2:\n",
    "    def Num2(self,n1):\n",
    "        self.n1=n1\n",
    "        return f\"The Value of n1 is :{n1}\"\n",
    "    \n",
    "class Child(Number,Number2):\n",
    "    def Mul(self):\n",
    "        return f\"Multiplication of Two numbers {self.n} and {self.n1} is {self.n *self.n1}\"\n",
    "\n",
    "obj2 = Child()\n",
    "print(obj2.Num1(23))\n",
    "print(obj2.Num2(45))\n",
    "print(obj2.Mul())            "
   ]
  },
  {
   "cell_type": "code",
   "execution_count": null,
   "id": "dee3c7dd",
   "metadata": {},
   "outputs": [],
   "source": [
    "#Multi-level Inh.\n",
    "Syntax:\n",
    "    class Subperclass:\n",
    "        stat\n",
    "    class Parent(Superclass):\n",
    "        sta\n",
    "    class Child(Parent):\n",
    "        sta \n",
    "        \n",
    " obj1 = child              "
   ]
  },
  {
   "cell_type": "code",
   "execution_count": 6,
   "id": "46f16883",
   "metadata": {},
   "outputs": [
    {
     "name": "stdout",
     "output_type": "stream",
     "text": [
      "MY Grandparent Name is BapuSaheb\n",
      "My Parent Name is Ram Krushn\n",
      "My Name is Prnav , my papa's name is Ram Krushn and Dadaji's name is BapuSaheb\n"
     ]
    }
   ],
   "source": [
    "#MULTI-LEVEL INH\n",
    "class GrandParent:\n",
    "    def Name1(self,name):\n",
    "        self.name=name\n",
    "        return f\"MY Grandparent Name is {name}\"\n",
    "    \n",
    "class Parent(GrandParent):\n",
    "    def Name2(self,name1):\n",
    "        self.name1=name1 \n",
    "        return f\"My Parent Name is {name1}\"\n",
    "    \n",
    "class child(Parent):\n",
    "    def myname(self,name2):\n",
    "        self.name2=name2\n",
    "        return f\"My Name is {name2} , my papa's name is {self.name1} and Dadaji's name is {self.name}\" \n",
    "\n",
    "NAME = child()\n",
    "print(NAME.Name1(\"BapuSaheb\"))\n",
    "print(NAME.Name2(\"Ram Krushn\"))\n",
    "print(NAME.myname(\"Prnav\"))         \n"
   ]
  },
  {
   "cell_type": "code",
   "execution_count": 8,
   "id": "90818441",
   "metadata": {},
   "outputs": [
    {
     "name": "stdout",
     "output_type": "stream",
     "text": [
      "Value of a is 34,b is 32,c is 30\n",
      "Addition of Threee numbers 34,32,30 :96\n",
      "Value of a is 100,b is 10,c is 30\n",
      "SubStraction of Threee numbers 100,10,30 :60\n"
     ]
    }
   ],
   "source": [
    "#Hirch.Inh.\n",
    "class Calulation:\n",
    "    def Number(self,a,b,c):\n",
    "        self.a=a\n",
    "        self.b=b\n",
    "        self.c=c\n",
    "        return f\"Value of a is {a},b is {b},c is {c}\"\n",
    "    \n",
    "class Addition(Calulation):\n",
    "    def add(self):\n",
    "        return f\"Addition of Threee numbers {self.a},{self.b},{self.c} :{self.a+self.b+self.c}\"\n",
    " \n",
    "class Substraction(Calulation):\n",
    "    def sub(self):\n",
    "        return f\"SubStraction of Threee numbers {self.a},{self.b},{self.c} :{self.a-self.b-self.c}\"\n",
    "\n",
    "obj1 = Addition()\n",
    "print(obj1.Number(34,32,30))\n",
    "print(obj1.add())\n",
    "obj2 = Substraction()\n",
    "print(obj2.Number(100,10,30))\n",
    "print(obj2.sub())\n",
    "    \n",
    "          \n",
    "    \n",
    "           "
   ]
  },
  {
   "cell_type": "markdown",
   "id": "aad045c5",
   "metadata": {},
   "source": [
    "            *\n",
    "          *   *\n",
    "            *  \n",
    "            a\n",
    "         b     c\n",
    "            d"
   ]
  },
  {
   "cell_type": "code",
   "execution_count": null,
   "id": "4626bea1",
   "metadata": {},
   "outputs": [
    {
     "name": "stdout",
     "output_type": "stream",
     "text": [
      "Sanket am from parent class A\n",
      "Ankit am from class B which is Child of class A\n",
      "Adi am from class C which is child of class A\n",
      "Sandesh am from class D which is child class of class B and C\n"
     ]
    }
   ],
   "source": [
    "#Hybride Inh.\n",
    "class A:\n",
    "    def Name(self,a):\n",
    "        self.a=a\n",
    "        return f\"{a} am from parent class A\"\n",
    "    \n",
    "class B(A):\n",
    "    def Name1(self,b):\n",
    "        self.b = b \n",
    "        return f\"{b} am from class B which is Child of class A\"  \n",
    "class C(A):\n",
    "    def Name2(self,c):\n",
    "        self.c=c \n",
    "        return f\"{c} am from class C which is child of class A\"\n",
    "    \n",
    "class D(B,C):\n",
    "    def Name3(self,d):\n",
    "        self.d = d \n",
    "        return f\"{d} am from class D which is child class of class B and C\"          \n",
    "    \n",
    "obj1 = B()\n",
    "print(obj1.Name(\"Sanket\"))\n",
    "print(obj1.Name1(\"Ankit\"))\n",
    "obj2 = C()\n",
    "print(obj2.Name2(\"Adi\"))\n",
    "obj3 = D()  \n",
    "print(obj3.Name3(\"Sandesh\"))  "
   ]
  },
  {
   "cell_type": "markdown",
   "id": "2d77fb1d",
   "metadata": {},
   "source": [
    "                          Sanket\n",
    "                       Ankit    Adi\n",
    "                           Sandesh    "
   ]
  },
  {
   "cell_type": "code",
   "execution_count": 13,
   "id": "101b5b02",
   "metadata": {},
   "outputs": [
    {
     "name": "stdout",
     "output_type": "stream",
     "text": [
      "priya am from parent class A\n",
      "rutuja am from class B which is Child of class A\n",
      "trupti am from class C which is child of class A\n",
      "ankita am from class D which is child class of class B and C\n"
     ]
    }
   ],
   "source": [
    "class A:\n",
    "    def Name(self,a):\n",
    "        self.a=a\n",
    "        return f\"{a} am from parent class A\"\n",
    "    \n",
    "class B(A):\n",
    "    def Name1(self,b):\n",
    "        self.b = b \n",
    "        return f\"{b} am from class B which is Child of class A\"  \n",
    "class C(A):\n",
    "    def Name2(self,c):\n",
    "        self.c=c \n",
    "        return f\"{c} am from class C which is child of class A\"\n",
    "    \n",
    "class D(B,C):\n",
    "    def Name3(self,d):\n",
    "        self.d = d \n",
    "        return f\"{d} am from class D which is child class of class B and C\"          \n",
    "    \n",
    "obj1 = B()\n",
    "print(obj1.Name(input(\"Enter the name\")))\n",
    "print(obj1.Name1(input(\"Enter the name\")))\n",
    "obj2 = C()\n",
    "print(obj2.Name2(input(\"Enter the name\")))\n",
    "obj3 = D()  \n",
    "print(obj3.Name3(input(\"Enter the name\")))  "
   ]
  },
  {
   "cell_type": "markdown",
   "id": "8a724609",
   "metadata": {},
   "source": [
    "                                  Manager\n",
    "                            owner1       owner 2 \n",
    "                                    HR\n",
    "                            ass1  ass2    ass3    "
   ]
  },
  {
   "cell_type": "code",
   "execution_count": 2,
   "id": "62d8e182",
   "metadata": {},
   "outputs": [
    {
     "name": "stdout",
     "output_type": "stream",
     "text": [
      "a am From Manager class\n",
      "b am From Owner1 class\n",
      "c am From Owner2 class\n",
      "d am From HR class\n",
      "a ,b ,c ,d ,e\n",
      "a am From Manager class\n",
      "b am From Owner1 class\n",
      "c am From Owner2 class\n",
      "d am From HR class\n",
      "a ,b ,c ,d ,f\n",
      "a am From Manager class\n",
      "b am From Owner1 class\n",
      "c am From Owner2 class\n",
      "d am From HR class\n",
      "a ,b ,c ,d ,g\n"
     ]
    }
   ],
   "source": [
    "class Manager:\n",
    "    def display1(self,n1):\n",
    "      self.n1=n1\n",
    "      return f\"{n1} am From Manager class\" \n",
    "    \n",
    "class Owner1(Manager):\n",
    "    def display2(self,n2):\n",
    "        self.n2=n2\n",
    "        return f\"{n2} am From Owner1 class\"\n",
    "    \n",
    "class Owner2(Manager):\n",
    "    def display3(self,n3):\n",
    "        self.n3=n3\n",
    "        return f\"{n3} am From Owner2 class\"\n",
    "    \n",
    "class HR(Owner1,Owner2):\n",
    "    def display4(self,n4):\n",
    "        self.n4=n4\n",
    "        return f\"{n4} am From HR class\"\n",
    "    \n",
    "class Ass1(HR):\n",
    "    def display5(self, n5):\n",
    "        self.n5=n5\n",
    "        return f\"{self.n1} ,{self.n2} ,{self.n3} ,{self.n4} ,{n5}\"\n",
    "    \n",
    "class Ass2(HR):\n",
    "    def display6(self, n6):\n",
    "        self.n6=n6\n",
    "        return f\"{self.n1} ,{self.n2} ,{self.n3} ,{self.n4} ,{n6}\"\n",
    "    \n",
    "class Ass3(HR):\n",
    "    def display7(self, n7):\n",
    "        self.n7=n7\n",
    "        return f\"{self.n1} ,{self.n2} ,{self.n3} ,{self.n4} ,{n7}\"\n",
    "\n",
    "obj1=Ass1()\n",
    "print(obj1.display1(\"a\")) #display1 is from manager class\n",
    "print(obj1.display2(\"b\")) #display2 is from owner1 class\n",
    "print(obj1.display3(\"c\")) #display3 is from owner2 class\n",
    "print(obj1.display4(\"d\")) #display4 is from hr class\n",
    "print(obj1.display5(\"e\")) #display5 is from ass1 class\n",
    "\n",
    "obj2=Ass2()\n",
    "print(obj2.display1(\"a\"))\n",
    "print(obj2.display2(\"b\"))\n",
    "print(obj2.display3(\"c\"))\n",
    "print(obj2.display4(\"d\"))\n",
    "print(obj2.display6(\"f\"))\n",
    "\n",
    "    \n",
    "obj3=Ass3()\n",
    "print(obj3.display1(\"a\"))\n",
    "print(obj3.display2(\"b\"))\n",
    "print(obj3.display3(\"c\"))\n",
    "print(obj3.display4(\"d\"))\n",
    "print(obj3.display7(\"g\"))"
   ]
  },
  {
   "cell_type": "markdown",
   "id": "65e7a7be",
   "metadata": {},
   "source": [
    "                                          Manger\n",
    "\n",
    "                     owner1(Manager)                      owner2(manger) \n",
    "                                        hr(ower1,owner2) \n",
    "\n",
    "                        ass1(hr)          ass2(hr)       ass3(hr)   \n",
    "                        obj1=ass1,hr,o1,o2   "
   ]
  },
  {
   "cell_type": "code",
   "execution_count": 8,
   "id": "77ac03e4",
   "metadata": {},
   "outputs": [
    {
     "name": "stdout",
     "output_type": "stream",
     "text": [
      "Value of a=34 and b=30 from Parent class\n",
      "Addition of 34 and 30 : 64 \n",
      "Sub of 34 and 30 :4\n",
      "The value of Numbers are : 34 and 30 and Addition of these two numbers :64 Sub of these two number :4\n",
      "[<class '__main__.son'>, <class '__main__.child1'>, <class '__main__.child2'>, <class '__main__.Parent'>, <class 'object'>]\n",
      "[<class '__main__.child2'>, <class '__main__.Parent'>, <class 'object'>]\n"
     ]
    }
   ],
   "source": [
    "class Parent:\n",
    "    def Number(self,a,b):\n",
    "        self.a=a \n",
    "        self.b = b \n",
    "        return f\"Value of a={a} and b={b} from Parent class\"\n",
    "class child1(Parent):\n",
    "    def Add(self):\n",
    "        self.add = self.a+self.b\n",
    "        return f\"Addition of {self.a} and {self.b} : {self.add} \"\n",
    "class child2(Parent):\n",
    "    def Sub(self):\n",
    "        self.sub = self.a-self.b\n",
    "        return f\"Sub of {self.a} and {self.b} :{self.sub}\"\n",
    "class son(child1,child2):\n",
    "    def display(self):\n",
    "        return f\"The value of Numbers are : {self.a} and {self.b} and Addition of these two numbers :{self.add} Sub of these two number :{self.sub}\"\n",
    "    \n",
    "obj1 = son()\n",
    "print(obj1.Number(34,30))\n",
    "print(obj1.Add())\n",
    "print(obj1.Sub())\n",
    "print(obj1.display()) \n",
    "print(son.mro())  \n",
    "print(child2.mro()) \n",
    "    "
   ]
  },
  {
   "cell_type": "code",
   "execution_count": null,
   "id": "aa285329",
   "metadata": {},
   "outputs": [
    {
     "name": "stdout",
     "output_type": "stream",
     "text": [
      " I am Child and My home name is Shanti Niketan\n"
     ]
    }
   ],
   "source": [
    "#Method Overriding \n",
    "class Parent:\n",
    "    def Home_Name(self,name):\n",
    "        self.name = name\n",
    "        return f\" I am Parent and My home name is {name}\"\n",
    "class Child(Parent):\n",
    "    def Home_Name(self,name):\n",
    "        self.name = name\n",
    "        return f\" I am Child and My home name is {name}\"\n",
    "    \n",
    "obj1 = Child()\n",
    "print(obj1.Home_Name(\"Shanti Niketan\")) \n",
    "       "
   ]
  },
  {
   "cell_type": "code",
   "execution_count": 22,
   "id": "4fec0c4d",
   "metadata": {},
   "outputs": [
    {
     "name": "stdout",
     "output_type": "stream",
     "text": [
      " I am Child and My home name is Shanti Niketan\n"
     ]
    }
   ],
   "source": [
    "class Parent:\n",
    "    def Home_Name(self,name):\n",
    "        self.name = name\n",
    "        return f\" I am Parent and My home name is {name}\"\n",
    "class Child(Parent):\n",
    "    def Home_Name(self,name):\n",
    "        self.name = name\n",
    "        super().Home_Name(\"S1\")\n",
    "        return f\" I am Child and My home name is {name}\"\n",
    "    \n",
    "obj1 = Child()\n",
    "print(obj1.Home_Name(\"Shanti Niketan\")) \n",
    "#print(obj1.Home_Name(\"S1\"))"
   ]
  },
  {
   "cell_type": "code",
   "execution_count": 1,
   "id": "02071566",
   "metadata": {},
   "outputs": [],
   "source": [
    "class parent:\n",
    "    def name(self):\n",
    "        return \"I \"\n",
    "      "
   ]
  }
 ],
 "metadata": {
  "kernelspec": {
   "display_name": "Python 3",
   "language": "python",
   "name": "python3"
  },
  "language_info": {
   "codemirror_mode": {
    "name": "ipython",
    "version": 3
   },
   "file_extension": ".py",
   "mimetype": "text/x-python",
   "name": "python",
   "nbconvert_exporter": "python",
   "pygments_lexer": "ipython3",
   "version": "3.11.9"
  }
 },
 "nbformat": 4,
 "nbformat_minor": 5
}
