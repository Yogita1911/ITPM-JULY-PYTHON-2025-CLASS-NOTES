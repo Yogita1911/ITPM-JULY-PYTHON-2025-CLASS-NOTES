{
 "cells": [
  {
   "cell_type": "code",
   "execution_count": 1,
   "id": "e33314b9",
   "metadata": {},
   "outputs": [
    {
     "name": "stdout",
     "output_type": "stream",
     "text": [
      "Bhagat Nivas This is Parents home\n"
     ]
    }
   ],
   "source": [
    "class parent:\n",
    "    def home(self,Name):\n",
    "        self.Name = Name\n",
    "        return f\"{Name} This is Parents home\"\n",
    "        \n",
    "        \n",
    "class Child(parent):\n",
    "    pass\n",
    "obj1 = Child()\n",
    "print(obj1.home(\"Bhagat Nivas\"))"
   ]
  },
  {
   "cell_type": "code",
   "execution_count": 4,
   "id": "cf21e199",
   "metadata": {},
   "outputs": [
    {
     "name": "stdout",
     "output_type": "stream",
     "text": [
      "(12, 34)\n",
      "46\n"
     ]
    }
   ],
   "source": [
    "class parent:\n",
    "    def number(self,a,b):\n",
    "        self.a = a\n",
    "        self.b = b\n",
    "        return a,b\n",
    "    \n",
    "class child(parent):\n",
    "    def add(self):\n",
    "        return self.a+self.b \n",
    "    \n",
    "obj1 = child()\n",
    "print(obj1.number(12,34))\n",
    "print(obj1.add())       "
   ]
  },
  {
   "cell_type": "markdown",
   "id": "c9d5337d",
   "metadata": {},
   "source": [
    "Types of Inheritance\n",
    "1.single In"
   ]
  },
  {
   "cell_type": "code",
   "execution_count": null,
   "id": "d11c4df3",
   "metadata": {},
   "outputs": [],
   "source": [
    "#synatax class Parent:\n",
    "           stat\n",
    "        classs child:\n",
    "            stat"
   ]
  },
  {
   "cell_type": "markdown",
   "metadata": {},
   "source": [
    "T"
   ]
  },
  {
   "cell_type": "code",
   "execution_count": 5,
   "id": "b30ef70e",
   "metadata": {},
   "outputs": [
    {
     "name": "stdout",
     "output_type": "stream",
     "text": [
      "The value of Two numbers a=12 and b=13\n",
      "Multiplication of two numbers 12 and 13 is 156\n"
     ]
    }
   ],
   "source": [
    "#WAp to demo single inheritance\n",
    "class Parent:\n",
    "    def cal(self,a,b):\n",
    "        self.a=a\n",
    "        self.b=b\n",
    "        return f\"The value of Two numbers a={a} and b={b}\"\n",
    "class Child(Parent):\n",
    "\n",
    "    def Mul(self):\n",
    "        return f\"Multiplication of two numbers {self.a} and {self.b} is {self.a*self.b}\"\n",
    "    \n",
    "obj1 = Child()\n",
    "print(obj1.cal(12,13))\n",
    "print(obj1.Mul())\n",
    "        "
   ]
  },
  {
   "cell_type": "markdown",
   "id": "c58b9333",
   "metadata": {},
   "source": [
    "#2.Multiple Inh.\n",
    "Syntax:class Parent1:\n",
    "           stat\n",
    "       class Parent2:\n",
    "            sta\n",
    "       class child(parent1,parent2):\n",
    "           stat         "
   ]
  },
  {
   "cell_type": "code",
   "execution_count": 3,
   "id": "97426acd",
   "metadata": {},
   "outputs": [
    {
     "name": "stdout",
     "output_type": "stream",
     "text": [
      "The value of n is : 23\n",
      "The Value of n1 is :45\n",
      "Multiplication of Two numbers 23 and 45 is 1035\n"
     ]
    }
   ],
   "source": [
    "class Number :\n",
    "    def Num1(self,n):\n",
    "        self.n=n\n",
    "        return f\"The value of n is : {n}\"\n",
    "    \n",
    "class Number2:\n",
    "    def Num2(self,n1):\n",
    "        self.n1=n1\n",
    "        return f\"The Value of n1 is :{n1}\"\n",
    "    \n",
    "class Child(Number,Number2):\n",
    "    def Mul(self):\n",
    "        return f\"Multiplication of Two numbers {self.n} and {self.n1} is {self.n *self.n1}\"\n",
    "\n",
    "obj2 = Child()\n",
    "print(obj2.Num1(23))\n",
    "print(obj2.Num2(45))\n",
    "print(obj2.Mul())            "
   ]
  },
  {
   "cell_type": "code",
   "execution_count": null,
   "id": "dee3c7dd",
   "metadata": {},
   "outputs": [],
   "source": [
    "#Multi-level Inh.\n",
    "Syntax:\n",
    "    class Subperclass:\n",
    "        stat\n",
    "    class Parent(Superclass):\n",
    "        sta\n",
    "    class Child(Parent):\n",
    "        sta \n",
    "        \n",
    " obj1 = child              "
   ]
  },
  {
   "cell_type": "code",
   "execution_count": 6,
   "id": "46f16883",
   "metadata": {},
   "outputs": [
    {
     "name": "stdout",
     "output_type": "stream",
     "text": [
      "MY Grandparent Name is BapuSaheb\n",
      "My Parent Name is Ram Krushn\n",
      "My Name is Prnav , my papa's name is Ram Krushn and Dadaji's name is BapuSaheb\n"
     ]
    }
   ],
   "source": [
    "#MULTI-LEVEL INH\n",
    "class GrandParent:\n",
    "    def Name1(self,name):\n",
    "        self.name=name\n",
    "        return f\"MY Grandparent Name is {name}\"\n",
    "    \n",
    "class Parent(GrandParent):\n",
    "    def Name2(self,name1):\n",
    "        self.name1=name1 \n",
    "        return f\"My Parent Name is {name1}\"\n",
    "    \n",
    "class child(Parent):\n",
    "    def myname(self,name2):\n",
    "        self.name2=name2\n",
    "        return f\"My Name is {name2} , my papa's name is {self.name1} and Dadaji's name is {self.name}\" \n",
    "\n",
    "NAME = child()\n",
    "print(NAME.Name1(\"BapuSaheb\"))\n",
    "print(NAME.Name2(\"Ram Krushn\"))\n",
    "print(NAME.myname(\"Prnav\"))         \n"
   ]
  },
  {
   "cell_type": "code",
   "execution_count": 8,
   "id": "90818441",
   "metadata": {},
   "outputs": [
    {
     "name": "stdout",
     "output_type": "stream",
     "text": [
      "Value of a is 34,b is 32,c is 30\n",
      "Addition of Threee numbers 34,32,30 :96\n",
      "Value of a is 100,b is 10,c is 30\n",
      "SubStraction of Threee numbers 100,10,30 :60\n"
     ]
    }
   ],
   "source": [
    "#Hirch.Inh.\n",
    "class Calulation:\n",
    "    def Number(self,a,b,c):\n",
    "        self.a=a\n",
    "        self.b=b\n",
    "        self.c=c\n",
    "        return f\"Value of a is {a},b is {b},c is {c}\"\n",
    "    \n",
    "class Addition(Calulation):\n",
    "    def add(self):\n",
    "        return f\"Addition of Threee numbers {self.a},{self.b},{self.c} :{self.a+self.b+self.c}\"\n",
    " \n",
    "class Substraction(Calulation):\n",
    "    def sub(self):\n",
    "        return f\"SubStraction of Threee numbers {self.a},{self.b},{self.c} :{self.a-self.b-self.c}\"\n",
    "\n",
    "obj1 = Addition()\n",
    "print(obj1.Number(34,32,30))\n",
    "print(obj1.add())\n",
    "obj2 = Substraction()\n",
    "print(obj2.Number(100,10,30))\n",
    "print(obj2.sub())\n",
    "    \n",
    "          \n",
    "    \n",
    "           "
   ]
  },
  {
   "cell_type": "markdown",
   "id": "aad045c5",
   "metadata": {},
   "source": [
    "            *\n",
    "          *   *\n",
    "            *  \n",
    "            a\n",
    "         b     c\n",
    "            d"
   ]
  },
  {
   "cell_type": "code",
   "execution_count": null,
   "id": "4626bea1",
   "metadata": {},
   "outputs": [
    {
     "name": "stdout",
     "output_type": "stream",
     "text": [
      "Sanket am from parent class A\n",
      "Ankit am from class B which is Child of class A\n",
      "Adi am from class C which is child of class A\n",
      "Sandesh am from class D which is child class of class B and C\n"
     ]
    }
   ],
   "source": [
    "#Hybride Inh.\n",
    "class A:\n",
    "    def Name(self,a):\n",
    "        self.a=a\n",
    "        return f\"{a} am from parent class A\"\n",
    "    \n",
    "class B(A):\n",
    "    def Name1(self,b):\n",
    "        self.b = b \n",
    "        return f\"{b} am from class B which is Child of class A\"  \n",
    "class C(A):\n",
    "    def Name2(self,c):\n",
    "        self.c=c \n",
    "        return f\"{c} am from class C which is child of class A\"\n",
    "    \n",
    "class D(B,C):\n",
    "    def Name3(self,d):\n",
    "        self.d = d \n",
    "        return f\"{d} am from class D which is child class of class B and C\"          \n",
    "    \n",
    "obj1 = B()\n",
    "print(obj1.Name(\"Sanket\"))\n",
    "print(obj1.Name1(\"Ankit\"))\n",
    "obj2 = C()\n",
    "print(obj2.Name2(\"Adi\"))\n",
    "obj3 = D()  \n",
    "print(obj3.Name3(\"Sandesh\"))  "
   ]
  },
  {
   "cell_type": "markdown",
   "id": "2d77fb1d",
   "metadata": {},
   "source": [
    "                          Sanket\n",
    "                       Ankit    Adi\n",
    "                           Sandesh    "
   ]
  },
  {
   "cell_type": "code",
   "execution_count": 13,
   "id": "101b5b02",
   "metadata": {},
   "outputs": [
    {
     "name": "stdout",
     "output_type": "stream",
     "text": [
      "priya am from parent class A\n",
      "rutuja am from class B which is Child of class A\n",
      "trupti am from class C which is child of class A\n",
      "ankita am from class D which is child class of class B and C\n"
     ]
    }
   ],
   "source": [
    "class A:\n",
    "    def Name(self,a):\n",
    "        self.a=a\n",
    "        return f\"{a} am from parent class A\"\n",
    "    \n",
    "class B(A):\n",
    "    def Name1(self,b):\n",
    "        self.b = b \n",
    "        return f\"{b} am from class B which is Child of class A\"  \n",
    "class C(A):\n",
    "    def Name2(self,c):\n",
    "        self.c=c \n",
    "        return f\"{c} am from class C which is child of class A\"\n",
    "    \n",
    "class D(B,C):\n",
    "    def Name3(self,d):\n",
    "        self.d = d \n",
    "        return f\"{d} am from class D which is child class of class B and C\"          \n",
    "    \n",
    "obj1 = B()\n",
    "print(obj1.Name(input(\"Enter the name\")))\n",
    "print(obj1.Name1(input(\"Enter the name\")))\n",
    "obj2 = C()\n",
    "print(obj2.Name2(input(\"Enter the name\")))\n",
    "obj3 = D()  \n",
    "print(obj3.Name3(input(\"Enter the name\")))  "
   ]
  },
  {
   "cell_type": "markdown",
   "id": "8a724609",
   "metadata": {},
   "source": [
    "                                  Manager\n",
    "                            owner1       owner 2 \n",
    "                                    HR\n",
    "                            ass1  ass2    ass3    "
   ]
  }
 ],
 "metadata": {
  "kernelspec": {
   "display_name": "Python 3",
   "language": "python",
   "name": "python3"
  },
  "language_info": {
   "codemirror_mode": {
    "name": "ipython",
    "version": 3
   },
   "file_extension": ".py",
   "mimetype": "text/x-python",
   "name": "python",
   "nbconvert_exporter": "python",
   "pygments_lexer": "ipython3",
   "version": "3.11.9"
  }
 },
 "nbformat": 4,
 "nbformat_minor": 5
}
