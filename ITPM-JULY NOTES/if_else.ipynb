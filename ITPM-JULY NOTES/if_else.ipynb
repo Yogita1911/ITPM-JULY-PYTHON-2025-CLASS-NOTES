{
 "cells": [
  {
   "cell_type": "markdown",
   "id": "7a76bbf6",
   "metadata": {},
   "source": [
    "Conditional Statments:\n",
    "1.if\n",
    "2.if else\n",
    "3.if elif...........else\n",
    "\n",
    "1.if\n",
    "Syntax : if condition/(cond) :\n",
    "             stat"
   ]
  },
  {
   "cell_type": "code",
   "execution_count": 1,
   "id": "8055ba12",
   "metadata": {},
   "outputs": [
    {
     "name": "stdout",
     "output_type": "stream",
     "text": [
      "x is even\n"
     ]
    }
   ],
   "source": [
    "#WAp to check number is even or not.\n",
    "x=10\n",
    "if x%2==0:\n",
    "    print(\"x is even\")"
   ]
  },
  {
   "cell_type": "code",
   "execution_count": 6,
   "id": "275721fb",
   "metadata": {},
   "outputs": [
    {
     "name": "stdout",
     "output_type": "stream",
     "text": [
      "Number is greater then 50\n"
     ]
    }
   ],
   "source": [
    "#WAp to check the given number is greater then 50 or not.\n",
    "x=80\n",
    "if x>50:\n",
    "    print(\"Number is greater then 50\")"
   ]
  },
  {
   "cell_type": "code",
   "execution_count": 13,
   "id": "45e46aa1",
   "metadata": {},
   "outputs": [
    {
     "name": "stdout",
     "output_type": "stream",
     "text": [
      "Eligible for voting\n"
     ]
    }
   ],
   "source": [
    "#wap to check person is eligible for voting or not.\n",
    "age = 22\n",
    "if age>21:\n",
    "    print(\"Eligible for voting\")"
   ]
  },
  {
   "cell_type": "code",
   "execution_count": 15,
   "id": "4c3ccdba",
   "metadata": {},
   "outputs": [
    {
     "name": "stdout",
     "output_type": "stream",
     "text": [
      "The x is odd so print False\n"
     ]
    }
   ],
   "source": [
    "#if...else\n",
    "#Wap to check number is even or odd.if the number is even then print True or else print False.\n",
    "x=43\n",
    "if x%2==0:\n",
    "    print(\"The x is even so print True\")\n",
    "else:\n",
    "    print(\"The x is odd so print False\")\n"
   ]
  },
  {
   "cell_type": "code",
   "execution_count": 16,
   "id": "b32406f7",
   "metadata": {},
   "outputs": [
    {
     "name": "stdout",
     "output_type": "stream",
     "text": [
      "The 43 is odd so print False\n"
     ]
    }
   ],
   "source": [
    "x=43\n",
    "if x%2==0:\n",
    "    print(f\"The {x} is even so print True\")\n",
    "else:\n",
    "    print(f\"The {x} is odd so print False\")\n"
   ]
  },
  {
   "cell_type": "code",
   "execution_count": 17,
   "id": "cd7fe4a4",
   "metadata": {},
   "outputs": [
    {
     "ename": "ValueError",
     "evalue": "invalid literal for int() with base 10: ''",
     "output_type": "error",
     "traceback": [
      "\u001b[31m---------------------------------------------------------------------------\u001b[39m",
      "\u001b[31mValueError\u001b[39m                                Traceback (most recent call last)",
      "\u001b[36mCell\u001b[39m\u001b[36m \u001b[39m\u001b[32mIn[17]\u001b[39m\u001b[32m, line 1\u001b[39m\n\u001b[32m----> \u001b[39m\u001b[32m1\u001b[39m x=\u001b[38;5;28;43mint\u001b[39;49m\u001b[43m(\u001b[49m\u001b[38;5;28;43minput\u001b[39;49m\u001b[43m(\u001b[49m\u001b[33;43m\"\u001b[39;49m\u001b[33;43mEnter a number\u001b[39;49m\u001b[33;43m\"\u001b[39;49m\u001b[43m)\u001b[49m\u001b[43m)\u001b[49m\n\u001b[32m      2\u001b[39m \u001b[38;5;28;01mif\u001b[39;00m x>\u001b[32m20\u001b[39m:\n\u001b[32m      3\u001b[39m     \u001b[38;5;28mprint\u001b[39m(\u001b[33m\"\u001b[39m\u001b[33mGreter then 20\u001b[39m\u001b[33m\"\u001b[39m)\n",
      "\u001b[31mValueError\u001b[39m: invalid literal for int() with base 10: ''"
     ]
    }
   ],
   "source": [
    "x=int(input(\"Enter a number\"))\n",
    "if x>20:\n",
    "    print(\"Greter then 20\")\n",
    "else:\n",
    "    print(\"less then 20\")"
   ]
  },
  {
   "cell_type": "code",
   "execution_count": 18,
   "id": "1d34b96d",
   "metadata": {},
   "outputs": [
    {
     "name": "stdout",
     "output_type": "stream",
     "text": [
      "97 is greatest number\n"
     ]
    }
   ],
   "source": [
    "#Wap to check greatest number mong 3 number.\n",
    "a=12\n",
    "b=23\n",
    "c=97\n",
    "if a>b and a>c:\n",
    "    print(f\"{a} is greatest number\")\n",
    "elif b>a and b>c:\n",
    "    print(f\"{b} is greatest number.\")\n",
    "else:\n",
    "    print(f\"{c} is greatest number\")"
   ]
  },
  {
   "cell_type": "code",
   "execution_count": 23,
   "id": "3603c069",
   "metadata": {},
   "outputs": [
    {
     "name": "stdout",
     "output_type": "stream",
     "text": [
      "olleh\n"
     ]
    }
   ],
   "source": [
    "string = \"hello\"\n",
    "print(string[::-1])"
   ]
  },
  {
   "cell_type": "code",
   "execution_count": 25,
   "id": "63ecf312",
   "metadata": {},
   "outputs": [
    {
     "name": "stdout",
     "output_type": "stream",
     "text": [
      "pop is palimdrom\n"
     ]
    }
   ],
   "source": [
    "#WAp to print give string is palimdrom or not.\n",
    "string1 = \"pop\"\n",
    "if string1==string1[::-1]:\n",
    "    print(f\"{string1} is palimdrom\")\n",
    "else:\n",
    "    print(f\"{string1} is not palimdrom\")\n"
   ]
  },
  {
   "cell_type": "code",
   "execution_count": 26,
   "id": "c2590631",
   "metadata": {},
   "outputs": [
    {
     "name": "stdout",
     "output_type": "stream",
     "text": [
      "Two strings are equal\n"
     ]
    }
   ],
   "source": [
    "#Wap to check two strings are equal or not.\n",
    "string2=\"Gaurav\"\n",
    "string3=\"Gaurav\"\n",
    "if string2==string3:\n",
    "    print(\"Two strings are equal\")\n",
    "else:\n",
    "    print(\"Strings are not equal\")"
   ]
  }
 ],
 "metadata": {
  "kernelspec": {
   "display_name": "Python 3",
   "language": "python",
   "name": "python3"
  },
  "language_info": {
   "codemirror_mode": {
    "name": "ipython",
    "version": 3
   },
   "file_extension": ".py",
   "mimetype": "text/x-python",
   "name": "python",
   "nbconvert_exporter": "python",
   "pygments_lexer": "ipython3",
   "version": "3.11.9"
  }
 },
 "nbformat": 4,
 "nbformat_minor": 5
}
