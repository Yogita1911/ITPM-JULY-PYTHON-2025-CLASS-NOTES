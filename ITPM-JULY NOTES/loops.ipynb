{
 "cells": [
  {
   "cell_type": "markdown",
   "id": "446a384e",
   "metadata": {},
   "source": [
    "Loops:\n",
    "1.While\n",
    "syntax:\n",
    "        inti\n",
    "        while condition/(condition):\n",
    "              statment\n",
    "              ince/dec\n",
    "2.for loop"
   ]
  },
  {
   "cell_type": "code",
   "execution_count": null,
   "id": "bcc91dc6",
   "metadata": {},
   "outputs": [
    {
     "name": "stdout",
     "output_type": "stream",
     "text": [
      "1\n",
      "2\n",
      "3\n",
      "4\n",
      "5\n",
      "6\n",
      "7\n",
      "8\n",
      "9\n",
      "10\n"
     ]
    }
   ],
   "source": [
    "#Wap to print numbers from 1 to 10.\n",
    "x=1  #inti. value of number.\n",
    "while x<11: #condition\n",
    "    print(x) #stat\n",
    "    x +=1 #x=x+1  #increase\n",
    "    "
   ]
  },
  {
   "cell_type": "code",
   "execution_count": 4,
   "id": "cc02730a",
   "metadata": {},
   "outputs": [
    {
     "name": "stdout",
     "output_type": "stream",
     "text": [
      "1 2 3 4 5 6 7 8 9 10 "
     ]
    }
   ],
   "source": [
    "#1 2 3 4 5 6 7 8 9 10\n",
    "x=1\n",
    "while x<11:\n",
    "    print(x ,end = \" \")\n",
    "    x+=1"
   ]
  },
  {
   "cell_type": "code",
   "execution_count": null,
   "id": "b970336d",
   "metadata": {},
   "outputs": [
    {
     "name": "stdout",
     "output_type": "stream",
     "text": [
      "1\n",
      "3\n",
      "6\n",
      "10\n",
      "15\n",
      "21\n",
      "28\n",
      "36\n",
      "45\n",
      "55\n"
     ]
    }
   ],
   "source": [
    "#Wap to print sum of numbers from 1 to 10.\n",
    "x = 1  #inti\n",
    "sum = 0 #empty variable to store value of sum =1,3\n",
    "while x<11: #x=1,x=2 x=3...................x=10,when x=11 False exit the loop\n",
    "    sum = sum+x #0+1=1,1+2=3,3+3=9\n",
    "    x+=1 #2,3,4..............................10,11\n",
    "print(sum)\n"
   ]
  },
  {
   "cell_type": "code",
   "execution_count": 9,
   "id": "eb9e33b2",
   "metadata": {},
   "outputs": [
    {
     "name": "stdout",
     "output_type": "stream",
     "text": [
      "5\n",
      "10\n",
      "15\n",
      "20\n",
      "25\n",
      "30\n",
      "35\n",
      "40\n",
      "45\n",
      "50\n"
     ]
    }
   ],
   "source": [
    "#Wap to print table of 5.\n",
    "x=5\n",
    "while x<51:\n",
    "    print(x)\n",
    "    x +=5"
   ]
  },
  {
   "cell_type": "code",
   "execution_count": 10,
   "id": "9dcc20c4",
   "metadata": {},
   "outputs": [
    {
     "name": "stdout",
     "output_type": "stream",
     "text": [
      "10\n",
      "9\n",
      "8\n",
      "7\n",
      "6\n",
      "5\n",
      "4\n",
      "3\n",
      "2\n",
      "1\n"
     ]
    }
   ],
   "source": [
    "#Wap to print 1 to 10 in reverse order.\n",
    "x=10\n",
    "while x>0:\n",
    "    print(x)\n",
    "    x -=1"
   ]
  },
  {
   "cell_type": "code",
   "execution_count": 11,
   "id": "6e7ba58b",
   "metadata": {},
   "outputs": [
    {
     "name": "stdout",
     "output_type": "stream",
     "text": [
      "2\n",
      "4\n",
      "6\n",
      "8\n",
      "10\n",
      "12\n",
      "14\n",
      "16\n",
      "18\n",
      "20\n",
      "22\n",
      "24\n",
      "26\n",
      "28\n",
      "30\n",
      "32\n",
      "34\n",
      "36\n",
      "38\n",
      "40\n",
      "42\n",
      "44\n",
      "46\n",
      "48\n",
      "50\n"
     ]
    }
   ],
   "source": [
    "#Wap to print even numbers from 1 to 50.\n",
    "x=2\n",
    "while x<51:\n",
    "    print(x)\n",
    "    x +=2\n"
   ]
  },
  {
   "cell_type": "code",
   "execution_count": 12,
   "id": "959b62f3",
   "metadata": {},
   "outputs": [
    {
     "name": "stdout",
     "output_type": "stream",
     "text": [
      "2\n",
      "4\n",
      "6\n",
      "8\n",
      "10\n",
      "12\n",
      "14\n",
      "16\n",
      "18\n",
      "20\n",
      "22\n",
      "24\n",
      "26\n",
      "28\n",
      "30\n",
      "32\n",
      "34\n",
      "36\n",
      "38\n",
      "40\n",
      "42\n",
      "44\n",
      "46\n",
      "48\n",
      "50\n"
     ]
    }
   ],
   "source": [
    "x=1\n",
    "while x<51:\n",
    "    if x%2==0:\n",
    "        print(x)\n",
    "    x+=1    "
   ]
  },
  {
   "cell_type": "code",
   "execution_count": 16,
   "id": "ea3ccb9a",
   "metadata": {},
   "outputs": [
    {
     "name": "stdout",
     "output_type": "stream",
     "text": [
      "1\n",
      "3\n",
      "5\n",
      "7\n",
      "9\n",
      "11\n",
      "13\n",
      "15\n",
      "17\n",
      "19\n",
      "21\n",
      "23\n",
      "25\n",
      "27\n",
      "29\n",
      "31\n",
      "33\n",
      "35\n",
      "37\n",
      "39\n",
      "41\n",
      "43\n",
      "45\n",
      "47\n",
      "49\n"
     ]
    }
   ],
   "source": [
    "#WAp to print odd numbers from 1 to 50.\n",
    "x=1\n",
    "while x<=50:\n",
    "    if x%2!=0:\n",
    "        print(x)\n",
    "    x+=1    "
   ]
  },
  {
   "cell_type": "code",
   "execution_count": 17,
   "id": "cf01414c",
   "metadata": {},
   "outputs": [
    {
     "name": "stdout",
     "output_type": "stream",
     "text": [
      "50\n",
      "48\n",
      "46\n",
      "44\n",
      "42\n",
      "40\n",
      "38\n",
      "36\n",
      "34\n",
      "32\n",
      "30\n",
      "28\n",
      "26\n",
      "24\n",
      "22\n",
      "20\n",
      "18\n",
      "16\n",
      "14\n",
      "12\n",
      "10\n",
      "8\n",
      "6\n",
      "4\n",
      "2\n"
     ]
    }
   ],
   "source": [
    "#Wap to print even numbers from 1 to 50 in reverse order.\n",
    "x=50\n",
    "while x > 0:\n",
    "    if x%2==0:\n",
    "        print(x)\n",
    "    x -=2    \n"
   ]
  },
  {
   "cell_type": "code",
   "execution_count": 18,
   "id": "e3e9f5b0",
   "metadata": {},
   "outputs": [
    {
     "name": "stdout",
     "output_type": "stream",
     "text": [
      "2 4 6 8 10 12 14 16 18 20 22 24 26 28 30 32 34 36 38 40 42 44 46 48 50 52 54 56 58 60 62 64 66 68 70 72 74 76 78 80 82 84 86 88 90 92 94 96 98 100 \n",
      "1 3 5 7 9 11 13 15 17 19 21 23 25 27 29 31 33 35 37 39 41 43 45 47 49 51 53 55 57 59 61 63 65 67 69 71 73 75 77 79 81 83 85 87 89 91 93 95 97 99 "
     ]
    }
   ],
   "source": [
    "#Wap to print even numbers and odd numbers from 1 to 100.\n",
    "#o/p even numbers = [2,4,6,8................]\n",
    "#    odd numners=[1,3,5,7,9,...............]\n",
    "x = 1\n",
    "while x <= 100:\n",
    "    if x % 2 == 0:\n",
    "        print(x, end=\" \")\n",
    "    x += 1\n",
    "print() \n",
    "x = 1\n",
    "while x <= 100:\n",
    "    if x % 2 != 0:\n",
    "        print(x, end=\" \")\n",
    "    x += 1"
   ]
  },
  {
   "cell_type": "code",
   "execution_count": 19,
   "id": "2ee5d5e5",
   "metadata": {},
   "outputs": [
    {
     "name": "stdout",
     "output_type": "stream",
     "text": [
      "Even number from 1 to 100 are : [2, 4, 6, 8, 10, 12, 14, 16, 18, 20, 22, 24, 26, 28, 30, 32, 34, 36, 38, 40, 42, 44, 46, 48, 50, 52, 54, 56, 58, 60, 62, 64, 66, 68, 70, 72, 74, 76, 78, 80, 82, 84, 86, 88, 90, 92, 94, 96, 98, 100]\n",
      "Odd number from 1 to 100 are : [1, 3, 5, 7, 9, 11, 13, 15, 17, 19, 21, 23, 25, 27, 29, 31, 33, 35, 37, 39, 41, 43, 45, 47, 49, 51, 53, 55, 57, 59, 61, 63, 65, 67, 69, 71, 73, 75, 77, 79, 81, 83, 85, 87, 89, 91, 93, 95, 97, 99]\n"
     ]
    }
   ],
   "source": [
    "i=1\n",
    "Even_number=[]\n",
    "Odd_number=[]\n",
    "while i<=100:\n",
    "    if i%2==0:\n",
    "        Even_number.append(i)\n",
    "    else:\n",
    "        Odd_number.append(i)\n",
    "    i+=1\n",
    "print(\"Even number from 1 to 100 are :\",Even_number)\n",
    "print(\"Odd number from 1 to 100 are :\",Odd_number)"
   ]
  },
  {
   "cell_type": "code",
   "execution_count": null,
   "id": "c5bcf30d",
   "metadata": {},
   "outputs": [
    {
     "name": "stdout",
     "output_type": "stream",
     "text": [
      "Divisible by both of them [15, 30, 45, 60, 75, 90]\n",
      "The numbers are divisible by any one of them [3, 5, 6, 9, 10, 12, 18, 20, 21, 24, 25, 27, 33, 35, 36, 39, 40, 42, 48, 50, 51, 54, 55, 57, 63, 65, 66, 69, 70, 72, 78, 80, 81, 84, 85, 87, 93, 95, 96, 99, 100]\n",
      "The numbers are not divisible by any one of them [1, 2, 4, 7, 8, 11, 13, 14, 16, 17, 19, 22, 23, 26, 28, 29, 31, 32, 34, 37, 38, 41, 43, 44, 46, 47, 49, 52, 53, 56, 58, 59, 61, 62, 64, 67, 68, 71, 73, 74, 76, 77, 79, 82, 83, 86, 88, 89, 91, 92, 94, 97, 98]\n"
     ]
    }
   ],
   "source": [
    "#Wap to check number between 1 to 100 is \n",
    "# 1.divisible by 3 and 5 both,\n",
    "# 2.Either divisible by 3 or 5\n",
    "# 3.Not Divisible by 3 nor 5\n",
    "#  store it into Sepreted list.\n",
    "x = 1\n",
    "divisible_by_both=[]\n",
    "Divisible_by_one_of_them =[]\n",
    "Not_divisible =[]\n",
    "while x<=100:\n",
    "    if x%3==0 and x%5==0:\n",
    "        divisible_by_both.append(x)\n",
    "    elif x%3==0 or x%5==0:\n",
    "        Divisible_by_one_of_them.append(x)\n",
    "    else :\n",
    "        Not_divisible.append(x)\n",
    "        \n",
    "    x+=1\n",
    "print(\"Divisible by both of them\",divisible_by_both)\n",
    "print(\"The numbers are divisible by any one of them\",Divisible_by_one_of_them )\n",
    "print(\"The numbers are not divisible by any one of them\",Not_divisible )\n"
   ]
  },
  {
   "cell_type": "code",
   "execution_count": 24,
   "id": "02f8c4ac",
   "metadata": {},
   "outputs": [
    {
     "ename": "ValueError",
     "evalue": "invalid literal for int() with base 10: ''",
     "output_type": "error",
     "traceback": [
      "\u001b[31m---------------------------------------------------------------------------\u001b[39m",
      "\u001b[31mValueError\u001b[39m                                Traceback (most recent call last)",
      "\u001b[36mCell\u001b[39m\u001b[36m \u001b[39m\u001b[32mIn[24]\u001b[39m\u001b[32m, line 2\u001b[39m\n\u001b[32m      1\u001b[39m X=\u001b[32m1\u001b[39m\n\u001b[32m----> \u001b[39m\u001b[32m2\u001b[39m y = \u001b[38;5;28;43mint\u001b[39;49m\u001b[43m(\u001b[49m\u001b[38;5;28;43minput\u001b[39;49m\u001b[43m(\u001b[49m\u001b[33;43m\"\u001b[39;49m\u001b[33;43mEnter limit\u001b[39;49m\u001b[33;43m\"\u001b[39;49m\u001b[43m)\u001b[49m\u001b[43m)\u001b[49m\n\u001b[32m      3\u001b[39m \u001b[38;5;28;01mwhile\u001b[39;00m x<=y:\n\u001b[32m      4\u001b[39m     \u001b[38;5;28mprint\u001b[39m(x)\n",
      "\u001b[31mValueError\u001b[39m: invalid literal for int() with base 10: ''"
     ]
    }
   ],
   "source": [
    "X=1\n",
    "y = int(input(\"Enter limit\"))\n",
    "while x<=y:\n",
    "    print(x)"
   ]
  }
 ],
 "metadata": {
  "kernelspec": {
   "display_name": "Python 3",
   "language": "python",
   "name": "python3"
  },
  "language_info": {
   "codemirror_mode": {
    "name": "ipython",
    "version": 3
   },
   "file_extension": ".py",
   "mimetype": "text/x-python",
   "name": "python",
   "nbconvert_exporter": "python",
   "pygments_lexer": "ipython3",
   "version": "3.11.9"
  }
 },
 "nbformat": 4,
 "nbformat_minor": 5
}
