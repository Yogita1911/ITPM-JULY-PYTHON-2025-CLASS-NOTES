{
 "cells": [
  {
   "cell_type": "code",
   "execution_count": 1,
   "id": "ad0a10ba",
   "metadata": {},
   "outputs": [
    {
     "name": "stdout",
     "output_type": "stream",
     "text": [
      "2\n",
      "3\n"
     ]
    }
   ],
   "source": [
    "x=2\n",
    "y=3\n",
    "print(x)\n",
    "print(y)"
   ]
  },
  {
   "cell_type": "code",
   "execution_count": 2,
   "id": "925ec71a",
   "metadata": {},
   "outputs": [
    {
     "name": "stdout",
     "output_type": "stream",
     "text": [
      "2 10\n"
     ]
    }
   ],
   "source": [
    "x=2\n",
    "y=10\n",
    "print(x,y)"
   ]
  },
  {
   "cell_type": "code",
   "execution_count": 5,
   "id": "0c85318f",
   "metadata": {},
   "outputs": [
    {
     "name": "stdout",
     "output_type": "stream",
     "text": [
      "This is the value of x : 50\n"
     ]
    }
   ],
   "source": [
    "x=50\n",
    "print(\"This is the value of x :\",x)"
   ]
  },
  {
   "cell_type": "code",
   "execution_count": 8,
   "id": "8679598d",
   "metadata": {},
   "outputs": [
    {
     "name": "stdout",
     "output_type": "stream",
     "text": [
      "This is the value of y : 50\n"
     ]
    }
   ],
   "source": [
    "y=50\n",
    "print(\"This is the value of y :\",y)"
   ]
  },
  {
   "cell_type": "code",
   "execution_count": 9,
   "id": "f6088f8b",
   "metadata": {},
   "outputs": [
    {
     "name": "stdout",
     "output_type": "stream",
     "text": [
      "This is the value of y: 30\n"
     ]
    }
   ],
   "source": [
    "y = 30\n",
    "print(f\"This is the value of y: {y}\")"
   ]
  },
  {
   "cell_type": "code",
   "execution_count": 12,
   "id": "f8634ada",
   "metadata": {},
   "outputs": [
    {
     "name": "stdout",
     "output_type": "stream",
     "text": [
      "This is the value of y: 30\n"
     ]
    }
   ],
   "source": [
    "print(f\"This is the value of y: {y}\")"
   ]
  },
  {
   "cell_type": "code",
   "execution_count": 15,
   "id": "53336b95",
   "metadata": {},
   "outputs": [
    {
     "name": "stdout",
     "output_type": "stream",
     "text": [
      "x value is 10 and y value is 30 and addition of them 40\n"
     ]
    }
   ],
   "source": [
    "x=10\n",
    "y = 30\n",
    "print(f\"x value is {x} and y value is {y} and addition of them {x+y}\")"
   ]
  },
  {
   "cell_type": "code",
   "execution_count": null,
   "id": "5258e588",
   "metadata": {},
   "outputs": [
    {
     "name": "stdout",
     "output_type": "stream",
     "text": [
      "x=5,y=10 x+y\n"
     ]
    }
   ],
   "source": [
    "print(\"x=5,y=10\")"
   ]
  },
  {
   "cell_type": "code",
   "execution_count": 22,
   "id": "a5081cc2",
   "metadata": {},
   "outputs": [
    {
     "name": "stdout",
     "output_type": "stream",
     "text": [
      "Sanket 22\n",
      "My name is : Sanket My age is : 22\n",
      "My name is Sanket and my age is 22\n"
     ]
    }
   ],
   "source": [
    "name = \"Sanket\"\n",
    "Age = 22\n",
    "print(name,Age)\n",
    "print(\"My name is :\",name ,\"My age is :\",Age)\n",
    "print(f\"My name is {name} and my age is {Age}\")"
   ]
  },
  {
   "cell_type": "markdown",
   "id": "3ae93abe",
   "metadata": {},
   "source": [
    "Comments : 1.Single line comments we use #\n",
    "           2.Multi line comments we use '''     '''"
   ]
  },
  {
   "cell_type": "code",
   "execution_count": 23,
   "id": "95110ca3",
   "metadata": {},
   "outputs": [
    {
     "name": "stdout",
     "output_type": "stream",
     "text": [
      "Hello World\n"
     ]
    }
   ],
   "source": [
    "#This is my first python program.\n",
    "print(\"Hello World\")"
   ]
  },
  {
   "cell_type": "code",
   "execution_count": 25,
   "id": "4cbccb3e",
   "metadata": {},
   "outputs": [
    {
     "name": "stdout",
     "output_type": "stream",
     "text": [
      "22\n"
     ]
    }
   ],
   "source": [
    "''' This is python program which use to perform additon,sub,multi,gdfvsjhdbjmsdhcbjmsdcvjmvchxcv\n",
    "dgsdjhjmsdhcbjmdhcbjmchb'''\n",
    "x=2\n",
    "y=20\n",
    "print(x+y)"
   ]
  },
  {
   "cell_type": "markdown",
   "id": "616f23f9",
   "metadata": {},
   "source": [
    "Keywords in python : key words are the reseverd words whose functionalities are reserved.\n",
    "ex:if,else,for,continue,break.................."
   ]
  },
  {
   "cell_type": "code",
   "execution_count": 1,
   "id": "d5ff59c6",
   "metadata": {},
   "outputs": [
    {
     "name": "stdout",
     "output_type": "stream",
     "text": [
      "['False', 'None', 'True', 'and', 'as', 'assert', 'async', 'await', 'break', 'class', 'continue', 'def', 'del', 'elif', 'else', 'except', 'finally', 'for', 'from', 'global', 'if', 'import', 'in', 'is', 'lambda', 'nonlocal', 'not', 'or', 'pass', 'raise', 'return', 'try', 'while', 'with', 'yield']\n"
     ]
    }
   ],
   "source": [
    "import keyword\n",
    "print(keyword.kwlist)"
   ]
  },
  {
   "cell_type": "code",
   "execution_count": 4,
   "id": "f4cb8df0",
   "metadata": {},
   "outputs": [
    {
     "name": "stdout",
     "output_type": "stream",
     "text": [
      "True\n"
     ]
    }
   ],
   "source": [
    "print('True' in keyword.kwlist)"
   ]
  },
  {
   "cell_type": "code",
   "execution_count": 27,
   "id": "8434df07",
   "metadata": {},
   "outputs": [
    {
     "name": "stdout",
     "output_type": "stream",
     "text": [
      "This is the value of x 10 and  y:30 and bitwise and operations result is 10 \n"
     ]
    }
   ],
   "source": [
    "x=10\n",
    "y=30\n",
    "print(f'This is the value of x {x} and  y:{y} and bitwise and operations result is {x&y} ')"
   ]
  }
 ],
 "metadata": {
  "kernelspec": {
   "display_name": "Python 3",
   "language": "python",
   "name": "python3"
  },
  "language_info": {
   "codemirror_mode": {
    "name": "ipython",
    "version": 3
   },
   "file_extension": ".py",
   "mimetype": "text/x-python",
   "name": "python",
   "nbconvert_exporter": "python",
   "pygments_lexer": "ipython3",
   "version": "3.11.9"
  }
 },
 "nbformat": 4,
 "nbformat_minor": 5
}
