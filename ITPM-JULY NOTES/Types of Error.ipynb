{
 "cells": [
  {
   "cell_type": "markdown",
   "id": "d10bfc92",
   "metadata": {},
   "source": [
    "Types of Error:\n",
    "1.Compile Time\n",
    "2.Run Time "
   ]
  },
  {
   "cell_type": "code",
   "execution_count": 27,
   "id": "e871edf3",
   "metadata": {},
   "outputs": [
    {
     "ename": "SyntaxError",
     "evalue": "invalid decimal literal (4155378986.py, line 1)",
     "output_type": "error",
     "traceback": [
      "  \u001b[36mCell\u001b[39m\u001b[36m \u001b[39m\u001b[32mIn[27]\u001b[39m\u001b[32m, line 1\u001b[39m\n\u001b[31m    \u001b[39m\u001b[31m1.Compile Time\u001b[39m\n     ^\n\u001b[31mSyntaxError\u001b[39m\u001b[31m:\u001b[39m invalid decimal literal\n"
     ]
    }
   ],
   "source": [
    "1.Compile Time \n",
    "1.Indent\n"
   ]
  },
  {
   "cell_type": "code",
   "execution_count": null,
   "id": "27af8bf5",
   "metadata": {},
   "outputs": [
    {
     "ename": "IndentationError",
     "evalue": "expected an indented block after class definition on line 1 (3418803783.py, line 2)",
     "output_type": "error",
     "traceback": [
      "  \u001b[36mCell\u001b[39m\u001b[36m \u001b[39m\u001b[32mIn[2]\u001b[39m\u001b[32m, line 2\u001b[39m\n\u001b[31m    \u001b[39m\u001b[31mprint(\"hello\")\u001b[39m\n    ^\n\u001b[31mIndentationError\u001b[39m\u001b[31m:\u001b[39m expected an indented block after class definition on line 1\n"
     ]
    }
   ],
   "source": [
    "class abc:\n",
    "print(\"hello\")\n",
    "    \n",
    "obj1 = abc()\n"
   ]
  },
  {
   "cell_type": "code",
   "execution_count": null,
   "id": "9461b47b",
   "metadata": {},
   "outputs": [
    {
     "ename": "SyntaxError",
     "evalue": "incomplete input (1647630127.py, line 1)",
     "output_type": "error",
     "traceback": [
      "  \u001b[36mCell\u001b[39m\u001b[36m \u001b[39m\u001b[32mIn[3]\u001b[39m\u001b[32m, line 1\u001b[39m\n\u001b[31m    \u001b[39m\u001b[31mprint(\"Hello\"\u001b[39m\n                 ^\n\u001b[31mSyntaxError\u001b[39m\u001b[31m:\u001b[39m incomplete input\n"
     ]
    }
   ],
   "source": [
    "#2.Syntax\n",
    "print(\"Hello\""
   ]
  },
  {
   "cell_type": "markdown",
   "id": "9281b527",
   "metadata": {},
   "source": [
    "2.Run-Time Error:\n",
    "1.Value Error\n",
    "2.Name Error\n",
    "3.Index Error\n",
    "4.Type Error\n",
    "5.Zero division Error\n",
    "6.Module not found Error"
   ]
  },
  {
   "cell_type": "code",
   "execution_count": null,
   "id": "0507d2ce",
   "metadata": {},
   "outputs": [
    {
     "ename": "ValueError",
     "evalue": "invalid literal for int() with base 10: '4.5'",
     "output_type": "error",
     "traceback": [
      "\u001b[31m---------------------------------------------------------------------------\u001b[39m",
      "\u001b[31mValueError\u001b[39m                                Traceback (most recent call last)",
      "\u001b[36mCell\u001b[39m\u001b[36m \u001b[39m\u001b[32mIn[4]\u001b[39m\u001b[32m, line 1\u001b[39m\n\u001b[32m----> \u001b[39m\u001b[32m1\u001b[39m x = \u001b[38;5;28;43mint\u001b[39;49m\u001b[43m(\u001b[49m\u001b[38;5;28;43minput\u001b[39;49m\u001b[43m(\u001b[49m\u001b[33;43m\"\u001b[39;49m\u001b[33;43mEnter a number\u001b[39;49m\u001b[33;43m\"\u001b[39;49m\u001b[43m)\u001b[49m\u001b[43m)\u001b[49m\n\u001b[32m      2\u001b[39m x\n",
      "\u001b[31mValueError\u001b[39m: invalid literal for int() with base 10: '4.5'"
     ]
    }
   ],
   "source": [
    "x = int(input(\"Enter a number\"))\n",
    "x"
   ]
  },
  {
   "cell_type": "code",
   "execution_count": null,
   "id": "4e65cbaf",
   "metadata": {},
   "outputs": [
    {
     "ename": "NameError",
     "evalue": "name 'X' is not defined",
     "output_type": "error",
     "traceback": [
      "\u001b[31m---------------------------------------------------------------------------\u001b[39m",
      "\u001b[31mNameError\u001b[39m                                 Traceback (most recent call last)",
      "\u001b[36mCell\u001b[39m\u001b[36m \u001b[39m\u001b[32mIn[8]\u001b[39m\u001b[32m, line 3\u001b[39m\n\u001b[32m      1\u001b[39m \u001b[38;5;66;03m#Name Error\u001b[39;00m\n\u001b[32m      2\u001b[39m x = \u001b[32m5\u001b[39m\n\u001b[32m----> \u001b[39m\u001b[32m3\u001b[39m \u001b[38;5;28mprint\u001b[39m(\u001b[43mX\u001b[49m)\n",
      "\u001b[31mNameError\u001b[39m: name 'X' is not defined"
     ]
    }
   ],
   "source": [
    "#Name Error\n",
    "x = 5\n",
    "print(X)"
   ]
  },
  {
   "cell_type": "code",
   "execution_count": null,
   "id": "74925fbf",
   "metadata": {},
   "outputs": [
    {
     "ename": "TypeError",
     "evalue": "can only concatenate str (not \"int\") to str",
     "output_type": "error",
     "traceback": [
      "\u001b[31m---------------------------------------------------------------------------\u001b[39m",
      "\u001b[31mTypeError\u001b[39m                                 Traceback (most recent call last)",
      "\u001b[36mCell\u001b[39m\u001b[36m \u001b[39m\u001b[32mIn[9]\u001b[39m\u001b[32m, line 4\u001b[39m\n\u001b[32m      2\u001b[39m name = \u001b[33m\"\u001b[39m\u001b[33mSanket\u001b[39m\u001b[33m\"\u001b[39m\n\u001b[32m      3\u001b[39m age = \u001b[32m22\u001b[39m\n\u001b[32m----> \u001b[39m\u001b[32m4\u001b[39m \u001b[38;5;28mprint\u001b[39m(\u001b[43mname\u001b[49m\u001b[43m+\u001b[49m\u001b[43mage\u001b[49m)\n",
      "\u001b[31mTypeError\u001b[39m: can only concatenate str (not \"int\") to str"
     ]
    }
   ],
   "source": [
    "#3.Type Error:\n",
    "name = \"Sanket\"\n",
    "age = 22\n",
    "print(name+age)"
   ]
  },
  {
   "cell_type": "code",
   "execution_count": null,
   "id": "033793d9",
   "metadata": {},
   "outputs": [
    {
     "ename": "IndexError",
     "evalue": "list index out of range",
     "output_type": "error",
     "traceback": [
      "\u001b[31m---------------------------------------------------------------------------\u001b[39m",
      "\u001b[31mIndexError\u001b[39m                                Traceback (most recent call last)",
      "\u001b[36mCell\u001b[39m\u001b[36m \u001b[39m\u001b[32mIn[10]\u001b[39m\u001b[32m, line 2\u001b[39m\n\u001b[32m      1\u001b[39m x = [\u001b[32m1\u001b[39m,\u001b[32m2\u001b[39m,\u001b[32m3\u001b[39m,\u001b[32m4\u001b[39m]\n\u001b[32m----> \u001b[39m\u001b[32m2\u001b[39m \u001b[38;5;28mprint\u001b[39m(\u001b[43mx\u001b[49m\u001b[43m[\u001b[49m\u001b[32;43m4\u001b[39;49m\u001b[43m]\u001b[49m)\n",
      "\u001b[31mIndexError\u001b[39m: list index out of range"
     ]
    }
   ],
   "source": [
    "#4.Index Error\n",
    "x = [1,2,3,4]\n",
    "print(x[4])"
   ]
  },
  {
   "cell_type": "code",
   "execution_count": null,
   "id": "94bf7e4e",
   "metadata": {},
   "outputs": [
    {
     "ename": "ZeroDivisionError",
     "evalue": "division by zero",
     "output_type": "error",
     "traceback": [
      "\u001b[31m---------------------------------------------------------------------------\u001b[39m",
      "\u001b[31mZeroDivisionError\u001b[39m                         Traceback (most recent call last)",
      "\u001b[36mCell\u001b[39m\u001b[36m \u001b[39m\u001b[32mIn[11]\u001b[39m\u001b[32m, line 4\u001b[39m\n\u001b[32m      2\u001b[39m x = \u001b[32m10\u001b[39m\n\u001b[32m      3\u001b[39m y=\u001b[32m0\u001b[39m\n\u001b[32m----> \u001b[39m\u001b[32m4\u001b[39m \u001b[38;5;28mprint\u001b[39m(\u001b[43mx\u001b[49m\u001b[43m/\u001b[49m\u001b[43my\u001b[49m)\n",
      "\u001b[31mZeroDivisionError\u001b[39m: division by zero"
     ]
    }
   ],
   "source": [
    "#Zero Division Error\n",
    "x = 10\n",
    "y=0\n",
    "print(x/y)"
   ]
  },
  {
   "cell_type": "code",
   "execution_count": null,
   "id": "3bc3a9a6",
   "metadata": {},
   "outputs": [],
   "source": [
    "import math\n"
   ]
  },
  {
   "cell_type": "code",
   "execution_count": null,
   "id": "5f0c774b",
   "metadata": {},
   "outputs": [
    {
     "ename": "ModuleNotFoundError",
     "evalue": "No module named 'MATH'",
     "output_type": "error",
     "traceback": [
      "\u001b[31m---------------------------------------------------------------------------\u001b[39m",
      "\u001b[31mModuleNotFoundError\u001b[39m                       Traceback (most recent call last)",
      "\u001b[36mCell\u001b[39m\u001b[36m \u001b[39m\u001b[32mIn[13]\u001b[39m\u001b[32m, line 1\u001b[39m\n\u001b[32m----> \u001b[39m\u001b[32m1\u001b[39m \u001b[38;5;28;01mimport\u001b[39;00m\u001b[38;5;250m \u001b[39m\u001b[34;01mMATH\u001b[39;00m\n",
      "\u001b[31mModuleNotFoundError\u001b[39m: No module named 'MATH'"
     ]
    }
   ],
   "source": [
    "import MATH"
   ]
  },
  {
   "cell_type": "code",
   "execution_count": null,
   "id": "ae25538e",
   "metadata": {},
   "outputs": [
    {
     "ename": "ModuleNotFoundError",
     "evalue": "No module named 'ankit'",
     "output_type": "error",
     "traceback": [
      "\u001b[31m---------------------------------------------------------------------------\u001b[39m",
      "\u001b[31mModuleNotFoundError\u001b[39m                       Traceback (most recent call last)",
      "\u001b[36mCell\u001b[39m\u001b[36m \u001b[39m\u001b[32mIn[14]\u001b[39m\u001b[32m, line 1\u001b[39m\n\u001b[32m----> \u001b[39m\u001b[32m1\u001b[39m \u001b[38;5;28;01mimport\u001b[39;00m\u001b[38;5;250m \u001b[39m\u001b[34;01mankit\u001b[39;00m\n",
      "\u001b[31mModuleNotFoundError\u001b[39m: No module named 'ankit'"
     ]
    }
   ],
   "source": [
    "import ankit"
   ]
  },
  {
   "cell_type": "code",
   "execution_count": null,
   "id": "03002f10",
   "metadata": {},
   "outputs": [
    {
     "ename": "ZeroDivisionError",
     "evalue": "division by zero",
     "output_type": "error",
     "traceback": [
      "\u001b[31m---------------------------------------------------------------------------\u001b[39m",
      "\u001b[31mZeroDivisionError\u001b[39m                         Traceback (most recent call last)",
      "\u001b[36mCell\u001b[39m\u001b[36m \u001b[39m\u001b[32mIn[15]\u001b[39m\u001b[32m, line 3\u001b[39m\n\u001b[32m      1\u001b[39m x = \u001b[32m10\u001b[39m\n\u001b[32m      2\u001b[39m y = \u001b[32m0\u001b[39m\n\u001b[32m----> \u001b[39m\u001b[32m3\u001b[39m z = \u001b[43mx\u001b[49m\u001b[43m/\u001b[49m\u001b[43my\u001b[49m\n\u001b[32m      4\u001b[39m \u001b[38;5;28mprint\u001b[39m(z)\n\u001b[32m      5\u001b[39m \u001b[38;5;28mprint\u001b[39m(\u001b[33m\"\u001b[39m\u001b[33mThank you\u001b[39m\u001b[33m\"\u001b[39m)\n",
      "\u001b[31mZeroDivisionError\u001b[39m: division by zero"
     ]
    }
   ],
   "source": [
    "x = 10\n",
    "y = 0\n",
    "z = x/y\n",
    "print(z)\n",
    "print(\"Thank you\")"
   ]
  },
  {
   "cell_type": "code",
   "execution_count": null,
   "id": "b8056485",
   "metadata": {},
   "outputs": [
    {
     "name": "stdout",
     "output_type": "stream",
     "text": [
      "Division of Two numbers 0.9230769230769231\n",
      "Thank you\n"
     ]
    }
   ],
   "source": [
    "try :\n",
    "    x = int(input(\"Enter a number\"))\n",
    "    y = int(input(\"Enter a number\"))\n",
    "    z = x/y\n",
    "\n",
    "except ZeroDivisionError:\n",
    "    print(\"Division with zero is not allowed plz use another number.\")\n",
    "    \n",
    "else :\n",
    "    print(f\"Division of Two numbers {z}\")   \n",
    "    \n",
    "finally:\n",
    "    print(\"Thank you\")         "
   ]
  },
  {
   "cell_type": "code",
   "execution_count": null,
   "id": "3c9d2c07",
   "metadata": {},
   "outputs": [
    {
     "ename": "ValueError",
     "evalue": "invalid literal for int() with base 10: '34.6'",
     "output_type": "error",
     "traceback": [
      "\u001b[31m---------------------------------------------------------------------------\u001b[39m",
      "\u001b[31mValueError\u001b[39m                                Traceback (most recent call last)",
      "\u001b[36mCell\u001b[39m\u001b[36m \u001b[39m\u001b[32mIn[1]\u001b[39m\u001b[32m, line 2\u001b[39m\n\u001b[32m      1\u001b[39m x = \u001b[38;5;28mint\u001b[39m(\u001b[38;5;28minput\u001b[39m(\u001b[33m\"\u001b[39m\u001b[33mEnter a number\u001b[39m\u001b[33m\"\u001b[39m))\n\u001b[32m----> \u001b[39m\u001b[32m2\u001b[39m y = \u001b[38;5;28;43mint\u001b[39;49m\u001b[43m(\u001b[49m\u001b[38;5;28;43minput\u001b[39;49m\u001b[43m(\u001b[49m\u001b[33;43m\"\u001b[39;49m\u001b[33;43mEnter a number\u001b[39;49m\u001b[33;43m\"\u001b[39;49m\u001b[43m)\u001b[49m\u001b[43m)\u001b[49m\n\u001b[32m      3\u001b[39m z = x*y\n\u001b[32m      4\u001b[39m \u001b[38;5;28mprint\u001b[39m(z)\n",
      "\u001b[31mValueError\u001b[39m: invalid literal for int() with base 10: '34.6'"
     ]
    }
   ],
   "source": [
    "x = int(input(\"Enter a number\"))\n",
    "y = int(input(\"Enter a number\"))\n",
    "z = x*y\n",
    "print(z)"
   ]
  },
  {
   "cell_type": "code",
   "execution_count": null,
   "id": "a17083fd",
   "metadata": {},
   "outputs": [
    {
     "name": "stdout",
     "output_type": "stream",
     "text": [
      "Plz enter a int number \n",
      "Thank you....\n"
     ]
    }
   ],
   "source": [
    "try :\n",
    "    x = int(input(\"Enter number\"))\n",
    "    y = int(input(\"Enter a number\"))\n",
    "    z = x*y\n",
    "    print(z)\n",
    "except ValueError : \n",
    "    print(\"Plz enter a int number \")  \n",
    "else :\n",
    "    print(\"Multiplication perform sucessfully\") \n",
    "finally :\n",
    "    print(\"Thank you....\")       "
   ]
  },
  {
   "cell_type": "code",
   "execution_count": null,
   "id": "44f24e6b",
   "metadata": {},
   "outputs": [
    {
     "name": "stdout",
     "output_type": "stream",
     "text": [
      "Plz enter a int number \n",
      "Thank you....\n"
     ]
    }
   ],
   "source": [
    "try :\n",
    "    x = int(input(\"Enter number\"))\n",
    "    y = int(input(\"Enter a number\"))\n",
    "    z = x/y\n",
    "    print(z)\n",
    "except ValueError : \n",
    "    print(\"Plz enter a int number \")  \n",
    "except ZeroDivisionError :\n",
    "    print (\"zero is not allowed as value of y \")   \n",
    "else :\n",
    "    print(\"Multiplication perform sucessfully\") \n",
    "finally :\n",
    "    print(\"Thank you....\")       "
   ]
  },
  {
   "cell_type": "code",
   "execution_count": null,
   "id": "fe5fb0dd",
   "metadata": {},
   "outputs": [
    {
     "ename": "IndexError",
     "evalue": "list index out of range",
     "output_type": "error",
     "traceback": [
      "\u001b[31m---------------------------------------------------------------------------\u001b[39m",
      "\u001b[31mIndexError\u001b[39m                                Traceback (most recent call last)",
      "\u001b[36mCell\u001b[39m\u001b[36m \u001b[39m\u001b[32mIn[12]\u001b[39m\u001b[32m, line 3\u001b[39m\n\u001b[32m      1\u001b[39m l1 = [\u001b[32m1\u001b[39m,\u001b[32m2\u001b[39m,\u001b[32m3\u001b[39m,\u001b[32m4\u001b[39m,\u001b[32m5\u001b[39m,\u001b[32m6\u001b[39m]\n\u001b[32m      2\u001b[39m x = \u001b[38;5;28mint\u001b[39m(\u001b[38;5;28minput\u001b[39m(\u001b[33m\"\u001b[39m\u001b[33mEnter index number\u001b[39m\u001b[33m\"\u001b[39m))\n\u001b[32m----> \u001b[39m\u001b[32m3\u001b[39m \u001b[38;5;28mprint\u001b[39m(\u001b[43ml1\u001b[49m\u001b[43m[\u001b[49m\u001b[43mx\u001b[49m\u001b[43m]\u001b[49m)\n",
      "\u001b[31mIndexError\u001b[39m: list index out of range"
     ]
    }
   ],
   "source": [
    "l1 = [1,2,3,4,5,6]\n",
    "x = int(input(\"Enter index number\"))\n",
    "print(l1[x])"
   ]
  },
  {
   "cell_type": "code",
   "execution_count": null,
   "id": "b2bd2d38",
   "metadata": {},
   "outputs": [
    {
     "name": "stdout",
     "output_type": "stream",
     "text": [
      "Value on 4 index in list l1 is  : 5\n",
      "[1, 2, 3, 4, 5, 6, 7, 8]\n",
      "Thank you.....\n"
     ]
    }
   ],
   "source": [
    "try :\n",
    "    l1 = [1,2,3,4,5,6,7,8]\n",
    "    x = int(input(\"Enter a index number\"))\n",
    "except IndexError :\n",
    "    print(\"plz enter index number between 0 to 7\")\n",
    "    \n",
    "else :\n",
    "    print(f\"Value on {x} index in list l1 is  : {l1[x]}\")  \n",
    "    \n",
    "finally :\n",
    "    print(l1)\n",
    "    print(\"Thank you.....\")    "
   ]
  },
  {
   "cell_type": "code",
   "execution_count": 29,
   "id": "664b33e6",
   "metadata": {},
   "outputs": [
    {
     "name": "stdout",
     "output_type": "stream",
     "text": [
      "[1, 2, 3, 4, 5, 6, 7, 8]\n",
      "Thank you.....\n"
     ]
    },
    {
     "ename": "ValueError",
     "evalue": "invalid literal for int() with base 10: '2.3'",
     "output_type": "error",
     "traceback": [
      "\u001b[31m---------------------------------------------------------------------------\u001b[39m",
      "\u001b[31mValueError\u001b[39m                                Traceback (most recent call last)",
      "\u001b[36mCell\u001b[39m\u001b[36m \u001b[39m\u001b[32mIn[29]\u001b[39m\u001b[32m, line 4\u001b[39m\n\u001b[32m      2\u001b[39m \u001b[38;5;28;01mtry\u001b[39;00m :\n\u001b[32m      3\u001b[39m     l1 = [\u001b[32m1\u001b[39m,\u001b[32m2\u001b[39m,\u001b[32m3\u001b[39m,\u001b[32m4\u001b[39m,\u001b[32m5\u001b[39m,\u001b[32m6\u001b[39m,\u001b[32m7\u001b[39m,\u001b[32m8\u001b[39m]\n\u001b[32m----> \u001b[39m\u001b[32m4\u001b[39m     x = \u001b[38;5;28;43mint\u001b[39;49m\u001b[43m(\u001b[49m\u001b[38;5;28;43minput\u001b[39;49m\u001b[43m(\u001b[49m\u001b[33;43m\"\u001b[39;49m\u001b[33;43mEnter a index number\u001b[39;49m\u001b[33;43m\"\u001b[39;49m\u001b[43m)\u001b[49m\u001b[43m)\u001b[49m\n\u001b[32m      6\u001b[39m     \u001b[38;5;28;01mwhile\u001b[39;00m x > \u001b[38;5;28mlen\u001b[39m(l1):\n\u001b[32m      7\u001b[39m          \u001b[38;5;28mprint\u001b[39m(l1[x])\n",
      "\u001b[31mValueError\u001b[39m: invalid literal for int() with base 10: '2.3'"
     ]
    }
   ],
   "source": [
    "#Exception handling in list\n",
    "try :\n",
    "    l1 = [1,2,3,4,5,6,7,8]\n",
    "    x = int(input(\"Enter a index number\"))\n",
    "    \n",
    "    while x > len(l1):\n",
    "         print(l1[x])\n",
    "         break\n",
    "        \n",
    "except IndexError :\n",
    "    print(\"plz enter index number between 0 to 7\")\n",
    "    \n",
    "else :\n",
    "    print(f\"Value on {x} index in list l1 is  : {l1[x]}\")  \n",
    "    \n",
    "finally :\n",
    "    print(l1)\n",
    "    print(\"Thank you.....\")    "
   ]
  },
  {
   "cell_type": "code",
   "execution_count": null,
   "id": "b3762b6b",
   "metadata": {},
   "outputs": [
    {
     "name": "stdout",
     "output_type": "stream",
     "text": [
      "6\n"
     ]
    }
   ],
   "source": [
    "l1 = [1,2,3,4,5,6,7,8,9,10]\n",
    "x = int(input(\"enter a numer\"))\n",
    "while x < len(l1):\n",
    "    print(l1[x])\n",
    "    break\n",
    "    "
   ]
  },
  {
   "cell_type": "code",
   "execution_count": 35,
   "id": "0ea8643c",
   "metadata": {},
   "outputs": [
    {
     "name": "stdout",
     "output_type": "stream",
     "text": [
      "[1, 2, 3, 4, 5, 6, 7, 8]\n",
      "Thank you.....\n"
     ]
    },
    {
     "ename": "IndexError",
     "evalue": "list index out of range",
     "output_type": "error",
     "traceback": [
      "\u001b[31m---------------------------------------------------------------------------\u001b[39m",
      "\u001b[31mIndexError\u001b[39m                                Traceback (most recent call last)",
      "\u001b[36mCell\u001b[39m\u001b[36m \u001b[39m\u001b[32mIn[35]\u001b[39m\u001b[32m, line 16\u001b[39m\n\u001b[32m     13\u001b[39m     \u001b[38;5;28mprint\u001b[39m(\u001b[33m\"\u001b[39m\u001b[33mplz enter x value in int formate \u001b[39m\u001b[33m\"\u001b[39m)   \n\u001b[32m     15\u001b[39m \u001b[38;5;28;01melse\u001b[39;00m :\n\u001b[32m---> \u001b[39m\u001b[32m16\u001b[39m     \u001b[38;5;28mprint\u001b[39m(\u001b[33mf\u001b[39m\u001b[33m\"\u001b[39m\u001b[33mValue on \u001b[39m\u001b[38;5;132;01m{\u001b[39;00mx\u001b[38;5;132;01m}\u001b[39;00m\u001b[33m index in list l1 is  : \u001b[39m\u001b[38;5;132;01m{\u001b[39;00m\u001b[43ml1\u001b[49m\u001b[43m[\u001b[49m\u001b[43mx\u001b[49m\u001b[43m]\u001b[49m\u001b[38;5;132;01m}\u001b[39;00m\u001b[33m\"\u001b[39m)  \n\u001b[32m     18\u001b[39m \u001b[38;5;28;01mfinally\u001b[39;00m :\n\u001b[32m     19\u001b[39m     \u001b[38;5;28mprint\u001b[39m(l1)\n",
      "\u001b[31mIndexError\u001b[39m: list index out of range"
     ]
    }
   ],
   "source": [
    "#Exception handling in list\n",
    "try :\n",
    "    l1 = [1,2,3,4,5,6,7,8]\n",
    "    x = int(input(\"Enter a index number\"))\n",
    "    \n",
    "    while x > len(l1):\n",
    "         print(l1[x])\n",
    "         break\n",
    "        \n",
    "except IndexError :\n",
    "    print(\"plz enter index number between 0 to 7\")\n",
    "except ValueError :\n",
    "    print(\"plz enter x value in int formate \")   \n",
    "    \n",
    "else :\n",
    "    print(f\"Value on {x} index in list l1 is  : {l1[x]}\")  \n",
    "    \n",
    "finally :\n",
    "    print(l1)\n",
    "    print(\"Thank you.....\")    "
   ]
  },
  {
   "cell_type": "code",
   "execution_count": 39,
   "id": "8e2d2746",
   "metadata": {},
   "outputs": [
    {
     "name": "stdout",
     "output_type": "stream",
     "text": [
      "7\n",
      "Value on 6 index in list l1 is  : 7\n",
      "[1, 2, 3, 4, 5, 6, 7, 8]\n",
      "Thank you.....\n"
     ]
    }
   ],
   "source": [
    "#Exception handling in list\n",
    "try :\n",
    "    l1 = [1,2,3,4,5,6,7,8]\n",
    "    x = int(input(\"Enter a index number\"))\n",
    "    \n",
    "    while x > len(l1) or x < len(l1):\n",
    "         print(l1[x])\n",
    "         break\n",
    "        \n",
    "except IndexError :\n",
    "    print(\"plz enter index number between 0 to 7\")\n",
    "except ValueError :\n",
    "    print(\"plz enter x value in int formate \")   \n",
    "    \n",
    "else :\n",
    "    print(f\"Value on {x} index in list l1 is  : {l1[x]}\")  \n",
    "    \n",
    "finally :\n",
    "    print(l1)\n",
    "    print(\"Thank you.....\")    "
   ]
  },
  {
   "cell_type": "code",
   "execution_count": 43,
   "id": "beb4ed01",
   "metadata": {},
   "outputs": [
    {
     "name": "stdout",
     "output_type": "stream",
     "text": [
      "230\n",
      "Multiplication perform ....\n"
     ]
    }
   ],
   "source": [
    "try :\n",
    "    x = int(input(\"enter a number\"))\n",
    "    y = int(input(\"Enter a number\"))\n",
    "    def add(x,y):\n",
    "        return x*y\n",
    "    print(add(x,y))\n",
    "\n",
    "except ValueError :\n",
    "    print (\"Enter x and y values in int formate\")\n",
    "    \n",
    "else :\n",
    "    print(\"Multiplication perform ....\")    \n",
    "        "
   ]
  },
  {
   "cell_type": "code",
   "execution_count": 2,
   "id": "c1eb1b15",
   "metadata": {},
   "outputs": [
    {
     "name": "stdout",
     "output_type": "stream",
     "text": [
      "@gmail.com\n"
     ]
    }
   ],
   "source": [
    "try :\n",
    "    email_id = input(\"Enter a email id\")\n",
    "    \n",
    "except NameError :\n",
    "    print(\"Plz enter valid name\")  \n",
    "\n",
    "else :\n",
    "    print(email_id)      "
   ]
  },
  {
   "cell_type": "code",
   "execution_count": 5,
   "id": "864d1a30",
   "metadata": {},
   "outputs": [
    {
     "name": "stdout",
     "output_type": "stream",
     "text": [
      "-25\n",
      "Eligible for Voting\n"
     ]
    }
   ],
   "source": [
    "try : \n",
    "    age = int(input(\"Enter your age\"))\n",
    "    print(age)\n",
    "    \n",
    "except ValueError :\n",
    "    print(\"plz enter a valid age\")\n",
    "    \n",
    "else :\n",
    "    print(\"Eligible for Voting\")\n",
    "            "
   ]
  },
  {
   "cell_type": "code",
   "execution_count": 16,
   "id": "d2bdee6e",
   "metadata": {},
   "outputs": [
    {
     "name": "stdout",
     "output_type": "stream",
     "text": [
      "Not Eligible for Voting\n",
      "Plz Enter age above 21: Enter a valid age\n"
     ]
    }
   ],
   "source": [
    "x = int(input(\"Enter your age\"))\n",
    "class Age_checker_error(Exception):\n",
    "    \"This is custom Exception for Age Checker\"\n",
    "    \n",
    "    if x>=21 :\n",
    "        print(\"Person is Eligible for voting\")\n",
    "    else :\n",
    "        print(\"Not Eligible for Voting\") \n",
    "try :\n",
    "    if x < 0 or x<21:\n",
    "        raise Age_checker_error(\"Enter a valid age\")\n",
    "except Age_checker_error as Ac :\n",
    "    print(\"Plz Enter age above 21:\" ,Ac)\n",
    "            "
   ]
  },
  {
   "cell_type": "code",
   "execution_count": null,
   "id": "b285d6ff",
   "metadata": {},
   "outputs": [],
   "source": []
  },
  {
   "cell_type": "code",
   "execution_count": null,
   "id": "3a530c4c",
   "metadata": {},
   "outputs": [],
   "source": [
    "### Example 1: Basic Custom Exception\n",
    "\n",
    "class MyCustomError(Exception):\n",
    "    \"\"\"Custom exception for specific error handling.\"\"\"\n",
    "    pass\n",
    "\n",
    "# Raising the exception\n",
    "try:\n",
    "    raise MyCustomError(\"Something went wrong!\")\n",
    "except MyCustomError as e:\n",
    "    print(f\"Caught an exception: {e}\")"
   ]
  },
  {
   "cell_type": "code",
   "execution_count": null,
   "id": "bb0e6eec",
   "metadata": {},
   "outputs": [],
   "source": [
    "Exceptions in Python An exception in Python is an event that occurs during the execution of a program that disrupts its normal flow. It usually indicates an error or an unusual condition that the program was not prepared to handle.\n",
    "\n",
    "1.try Block:\n",
    "\n",
    "Contains code that might raise an exception. If an exception occurs, execution jumps to the corresponding except block.\n",
    "\n",
    "2.except Block:\n",
    "\n",
    "Handles specific exceptions raised in the try block. You can specify the type of exception to catch or use a generic except to handle any exception. Multiple except blocks can be used to handle different exceptions.\n",
    "\n",
    "3.else Block (Optional):\n",
    "\n",
    "Executes only if the try block completes without raising any exceptions. Useful for code that should only run when no errors occur.\n",
    "\n",
    "4.finally Block (Optional):\n",
    "\n",
    "Always executes after the try block (and any except or else block), whether an exception was raised or not. Typically used for cleanup operations, like closing files or releasing resources.\n",
    "\n",
    " \n",
    "try:\n",
    "    # Code that might cause an exception\n",
    "    risky_code()\n",
    "except ExceptionType:\n",
    "    # Code to handle the exception\n",
    "    handle_error()\n",
    "x = 3\n",
    "y = 0\n",
    "print(x/y)\n",
    "print(\"hello\")\n",
    "num = int(input(\"Enter a number: \"))\n",
    "result = 10 / num\n",
    "print(f\"Result: {result}\")\n",
    "print(\"Error: Cannot divide by zero!\")\n",
    "---------------------------------------------------------------------------\n",
    "ZeroDivisionError                         Traceback (most recent call last)\n",
    "Cell In[3], line 2\n",
    "      1 num = int(input(\"Enter a number: \"))\n",
    "----> 2 result = 10 / num\n",
    "      3 print(f\"Result: {result}\")\n",
    "      4 print(\"Error: Cannot divide by zero!\")\n",
    "\n",
    "ZeroDivisionError: division by zero\n",
    "try:\n",
    "    result = 10 / 0\n",
    "except ZeroDivisionError:\n",
    "    print(\"Error: Cannot divide by zero!\")\n",
    "try:\n",
    "    result = 10 / 0\n",
    "except :\n",
    "    print(\"Error: Cannot divide by zero!\")\n",
    "try:\n",
    "    x = int(input(\"Enter a number: \"))\n",
    "    result = 10 / x\n",
    "    print(result)\n",
    "except :\n",
    "    print(\"Error: Cannot divide by zero!\")\n",
    "try:\n",
    "    x= int(input(\"enter integer number :- \"))\n",
    "    y= int(input(\"enter integer number :- \"))\n",
    "    r=x*y\n",
    "    print(f\"result = {r}\")\n",
    "\n",
    "except ValueError :\n",
    "    print(\"value error  : integer can not multiply with anoter type of data \")\n",
    "result = 4\n",
    "try:\n",
    "    name = \"snehal\"\n",
    "    print(Name)\n",
    "except NameError:\n",
    "      print(\"parameter is incorrect\")\n",
    "else:\n",
    "    print(\"code is successfully run\")\n",
    "parameter is incorrect\n",
    "try:\n",
    "    num = int(input(\"Enter a number: \"))\n",
    "    result = 10 / num\n",
    "except ZeroDivisionError:\n",
    "    print(\"Error: Division by zero is not allowed.\")\n",
    "except ValueError:\n",
    "    print(\"Error: Invalid input. Please enter a valid number.\")\n",
    "Error: Invalid input. Please enter a valid number.\n",
    "try:\n",
    "    num = int(input(\"Enter a number: \"))\n",
    "    result = 10 / num\n",
    "    print(f\"Result: {result}\")\n",
    "except ZeroDivisionError:\n",
    "    print(\"Error: Cannot divide by zero!\")\n",
    "\n",
    "else:\n",
    "    print(\"No exceptions occurred. Calculation successful.\")\n",
    "Result: 2.0\n",
    "No exceptions occurred. Calculation successful.\n",
    "try:\n",
    "    num = int(input(\"Enter a number: \"))\n",
    "    result = 10 / num\n",
    "    print(f\"Result: {result}\")\n",
    "except ZeroDivisionError:\n",
    "    print(\"Error: Cannot divide by zero!\")\n",
    "\n",
    "else:\n",
    "    print(\"No exceptions occurred. Calculation successful.\")\n",
    "Error: Cannot divide by zero!\n",
    "try:\n",
    "    num = int(input(\"Enter a number: \"))\n",
    "    result = 10 / num\n",
    "    print(f\"Result: {result}\")\n",
    "except ZeroDivisionError:\n",
    "    print(\"Error: Cannot divide by zero!\")\n",
    "else:\n",
    "    print(\"No exceptions occurred. Calculation successful.\")\n",
    "finally:\n",
    "    print(\"Program execution complete.\")\n",
    "Result: 3.3333333333333335\n",
    "No exceptions occurred. Calculation successful.\n",
    "Program execution complete.\n",
    "try:\n",
    "    num = int(input(\"Enter a number: \"))\n",
    "    result = 10 / num\n",
    "    print(f\"Result: {result}\")\n",
    "except ZeroDivisionError as e:\n",
    "    print(\"Error: Cannot divide by zero!\")\n",
    "else:\n",
    "    print(\"No exceptions occurred. Calculation successful.\")\n",
    "finally:\n",
    "    print(\"Program execution complete.\")\n",
    "#WAP to check email_id is valid.(Example  of custome exception )\n",
    "# import re\n",
    "\n",
    "def validate_email(email):\n",
    "    # Regular expression for a valid email\n",
    "    email_regex = r'^[a-zA-Z0-9._%+-]+@[a-zA-Z0-9.-]+.[a-zA-Z]'\n",
    "\n",
    "    if not re.match(email_regex, email):\n",
    "        raise ValueError(\"Invalid email format!\")\n",
    "    return True\n",
    "\n",
    "try:\n",
    "    email_id = input(\"Enter your email ID: \")\n",
    "    if validate_email(email_id):\n",
    "        print(\"Email ID is valid!\")\n",
    "        \n",
    "except ValueError as ve:\n",
    "    print(f\"Error: {ve}\")\n",
    "    print(\"please try again\")\n",
    "except Exception as e:\n",
    "    print(f\"An unexpected error occurred: {e}\")\n",
    "    print(\"please try again\")\n",
    "\n",
    "else :\n",
    "    password = int(input(\"Enter a password\"))\n",
    "    print(\"password enter successfully\")\n",
    "finally :\n",
    "    print(\"Thank you for visiting this site....\")\n",
    "In Python, the raise keyword is used to explicitly trigger an exception. You can use raise both to throw a new exception and to re-raise a caught exception. Here's a detailed explanation:\n",
    "\n",
    "Raising an Exception You can use raise to trigger an exception, either a built-in exception or a custom exception.\n",
    "In Python, you can define custom exceptions by creating a new class that inherits from the built-in Exception class or one of its subclasses. This allows you to represent specific error conditions in your application more clearly. Here's a guide on creating and using user-defined exceptions:\n",
    "\n",
    "Creating a Custom Exception\n",
    "Define a class for the exception.\n",
    "Inherit from Exception (or a subclass, like ValueError).\n",
    "Optionally, add custom methods or attributes to provide more details about the excewithdraw(150) except WithdrawalError as e: print(e) ```\n",
    "By creating user-defined exceptions, you can handle specific error cases in a meaningful and organized way, improving code readability and maintainability.\n",
    "\n",
    "### \n",
    "### Example 3: Using Custom Exceptions in Applications\n",
    "\n"
   ]
  },
  {
   "cell_type": "code",
   "execution_count": null,
   "id": "68f9ffd0",
   "metadata": {},
   "outputs": [],
   "source": [
    "Example 1: Basic Custom Exception\n",
    "\n",
    "class MyCustomError(Exception):\n",
    "    \"\"\"Custom exception for specific error handling.\"\"\"\n",
    "    pass\n",
    "\n",
    "# Raising the exception\n",
    "try:\n",
    "    raise MyCustomError(\"Something went wrong!\")\n",
    "except MyCustomError as e:\n",
    "    print(f\"Caught an exception: {e}\")\n",
    "#Create custom exception to check age is valid or not \n",
    "class InvalidAgeError(Exception):\n",
    "    \"\"\"Exception raised for invalid age input.\"\"\"\n",
    "\n",
    "    def __init__(self, age, message=\"Age must be between 0 and 120\"):\n",
    "        self.age = age\n",
    "        self.message = message\n",
    "        super().__init__(self.message)\n",
    "        \n",
    "\n",
    "# Raising the exception with attributes\n",
    "try:\n",
    "    age = int(input(\"Enter a age\"))\n",
    "    if not (0 <= age <= 21):\n",
    "        raise InvalidAgeError(age)\n",
    "    else :\n",
    "        print(\"Valid Age\")\n",
    "except InvalidAgeError as e:\n",
    "    print(f\"InvalidAgeError: {e.message} (age: {e.age})\")i\n",
    "else : \n",
    "    print(\"Eligible for voting\")\n",
    "finally:\n",
    "    print(\"Rest of the code\")#"
   ]
  },
  {
   "cell_type": "code",
   "execution_count": null,
   "id": "942c0c00",
   "metadata": {},
   "outputs": [],
   "source": [
    "class WithdrawalError(Exception):\n",
    "    \"\"\"Custom exception for withdrawal errors in a bank application.\"\"\"\n",
    "    pass\n",
    "\n",
    "class BankAccount:\n",
    "    def __init__(self, balance):\n",
    "        self.balance = balance\n",
    "\n",
    "    def withdraw(self, amount):\n",
    "        if amount > self.balance:\n",
    "            raise WithdrawalError(f\"Cannot withdraw {amount}. Available balance: {self.balance}\")\n",
    "        self.balance -= amount\n",
    "        return self.balance\n",
    "\n",
    "# Usage\n",
    "try:\n",
    "    account = BankAccount(100)\n",
    "    account.withdraw(150)\n",
    "except WithdrawalError as e:\n",
    "    print(e)\n",
    " "
   ]
  },
  {
   "cell_type": "code",
   "execution_count": 2,
   "id": "4406e070",
   "metadata": {},
   "outputs": [
    {
     "name": "stdout",
     "output_type": "stream",
     "text": [
      "you have recived Rs :50000 sucessfully \n",
      "your balance is -10000\n"
     ]
    }
   ],
   "source": [
    "bal = 40000\n",
    "money = int(input(\"Enter money to withdrowl\"))\n",
    "current_bal = bal- money\n",
    "print(f\"you have recived Rs :{money} sucessfully \")\n",
    "print(f\"your balance is {current_bal}\")"
   ]
  },
  {
   "cell_type": "code",
   "execution_count": 10,
   "id": "775f80ee",
   "metadata": {},
   "outputs": [
    {
     "name": "stdout",
     "output_type": "stream",
     "text": [
      "Plz Enter a valid amount\n",
      "Thank you for Visting....\n"
     ]
    }
   ],
   "source": [
    "#bal = 40000\n",
    "#money = int(input(\"Enter money to withdrowl\"))\n",
    "#current_bal = bal- money\n",
    "class bank_stat(Exception):\n",
    "    pass\n",
    "try :\n",
    "    bal = 40000\n",
    "    money = int(input(\"Enter money to withdrowl\"))\n",
    "    current_bal = bal- money\n",
    "    if money>bal :\n",
    "        raise bank_stat(\"Insafficent bal\")\n",
    "    \n",
    "except bank_stat as e:\n",
    "    print(\"Plz Check Your bal and try later\",e)\n",
    "except ValueError :\n",
    "    print(\"Plz Enter a valid amount\")    \n",
    "else :\n",
    "    print(f\"You have recived {money}\")\n",
    "    print(f\"Your Current bal is \",current_bal)    \n",
    "finally :\n",
    "    print(\"Thank you for Visting....\")    \n",
    "        \n",
    "    \n",
    " \n",
    "    "
   ]
  }
 ],
 "metadata": {
  "kernelspec": {
   "display_name": "Python 3",
   "language": "python",
   "name": "python3"
  },
  "language_info": {
   "codemirror_mode": {
    "name": "ipython",
    "version": 3
   },
   "file_extension": ".py",
   "mimetype": "text/x-python",
   "name": "python",
   "nbconvert_exporter": "python",
   "pygments_lexer": "ipython3",
   "version": "3.11.9"
  }
 },
 "nbformat": 4,
 "nbformat_minor": 5
}
