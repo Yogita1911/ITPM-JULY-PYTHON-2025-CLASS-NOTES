{
 "cells": [
  {
   "cell_type": "code",
   "execution_count": 4,
   "id": "a0402f37",
   "metadata": {},
   "outputs": [
    {
     "name": "stdout",
     "output_type": "stream",
     "text": [
      "Hi am from itpm jun batch.\n",
      "I am attending Python Sessions right now.\n"
     ]
    }
   ],
   "source": [
    "with open(\"demo.txt\", \"r\") as file:\n",
    "         content = file.read()\n",
    "         print(content)"
   ]
  },
  {
   "cell_type": "code",
   "execution_count": 7,
   "id": "0c83dc99",
   "metadata": {},
   "outputs": [],
   "source": [
    "with open(\"demo.txt\",\"w\") as file:\n",
    "     file.write(\"I am Dipak and am from itpm jun batch\")\n",
    "     "
   ]
  },
  {
   "cell_type": "code",
   "execution_count": 9,
   "id": "1190e26b",
   "metadata": {},
   "outputs": [],
   "source": [
    "with open(\"demo.txt\",\"a\") as file:\n",
    "     file.write(\"I am Prtik and am also from itpm jun batch\")\n",
    "     "
   ]
  },
  {
   "cell_type": "code",
   "execution_count": 11,
   "id": "97424aea",
   "metadata": {},
   "outputs": [
    {
     "name": "stdout",
     "output_type": "stream",
     "text": [
      "I am Dipak and am from itpm jun batch\n",
      "I am Prtik and am also from itpm jun batch\n"
     ]
    }
   ],
   "source": [
    "with open(\"demo.txt\", \"r\") as file:\n",
    "         content = file.read()\n",
    "         print(content)"
   ]
  },
  {
   "cell_type": "code",
   "execution_count": 13,
   "id": "ff034674",
   "metadata": {},
   "outputs": [
    {
     "name": "stdout",
     "output_type": "stream",
     "text": [
      "I am Prtik and am also from itpm jun batch\n"
     ]
    }
   ],
   "source": [
    "with open(\"demo.txt\", \"r\") as file:\n",
    "         lines = file.readlines()\n",
    "         print(lines[1])"
   ]
  },
  {
   "cell_type": "code",
   "execution_count": 15,
   "id": "1fd50897",
   "metadata": {},
   "outputs": [],
   "source": [
    "with open(\"demo.txt\", \"r\") as file:\n",
    "         content = file.read()\n",
    "         file.close()"
   ]
  }
 ],
 "metadata": {
  "kernelspec": {
   "display_name": "Python 3",
   "language": "python",
   "name": "python3"
  },
  "language_info": {
   "codemirror_mode": {
    "name": "ipython",
    "version": 3
   },
   "file_extension": ".py",
   "mimetype": "text/x-python",
   "name": "python",
   "nbconvert_exporter": "python",
   "pygments_lexer": "ipython3",
   "version": "3.11.9"
  }
 },
 "nbformat": 4,
 "nbformat_minor": 5
}
