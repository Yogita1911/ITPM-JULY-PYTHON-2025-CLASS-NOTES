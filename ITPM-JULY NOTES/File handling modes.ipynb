{
 "cells": [
  {
   "cell_type": "code",
   "execution_count": 1,
   "id": "a0402f37",
   "metadata": {},
   "outputs": [
    {
     "name": "stdout",
     "output_type": "stream",
     "text": [
      "I am Dipak and am from itpm jun batch\n",
      "I am Prtik and am also from itpm jun batch\n"
     ]
    }
   ],
   "source": [
    "with open(\"demo.txt\", \"r\") as file:\n",
    "         content = file.read()\n",
    "         print(content)"
   ]
  },
  {
   "cell_type": "code",
   "execution_count": 7,
   "id": "0c83dc99",
   "metadata": {},
   "outputs": [],
   "source": [
    "with open(\"demo.txt\",\"w\") as file:\n",
    "     file.write(\"I am Dipak and am from itpm jun batch\")\n",
    "     "
   ]
  },
  {
   "cell_type": "code",
   "execution_count": 9,
   "id": "1190e26b",
   "metadata": {},
   "outputs": [],
   "source": [
    "with open(\"demo.txt\",\"a\") as file:\n",
    "     file.write(\"I am Prtik and am also from itpm jun batch\")\n",
    "     "
   ]
  },
  {
   "cell_type": "code",
   "execution_count": 11,
   "id": "97424aea",
   "metadata": {},
   "outputs": [
    {
     "name": "stdout",
     "output_type": "stream",
     "text": [
      "I am Dipak and am from itpm jun batch\n",
      "I am Prtik and am also from itpm jun batch\n"
     ]
    }
   ],
   "source": [
    "with open(\"demo.txt\", \"r\") as file:\n",
    "         content = file.read()\n",
    "         print(content)"
   ]
  },
  {
   "cell_type": "code",
   "execution_count": 13,
   "id": "ff034674",
   "metadata": {},
   "outputs": [
    {
     "name": "stdout",
     "output_type": "stream",
     "text": [
      "I am Prtik and am also from itpm jun batch\n"
     ]
    }
   ],
   "source": [
    "with open(\"demo.txt\", \"r\") as file:\n",
    "         lines = file.readlines()\n",
    "         print(lines[1])"
   ]
  },
  {
   "cell_type": "code",
   "execution_count": 15,
   "id": "1fd50897",
   "metadata": {},
   "outputs": [],
   "source": [
    "with open(\"demo.txt\", \"r\") as file:\n",
    "         content = file.read()\n",
    "         file.close()"
   ]
  },
  {
   "cell_type": "code",
   "execution_count": null,
   "id": "a033046e",
   "metadata": {},
   "outputs": [],
   "source": []
  },
  {
   "cell_type": "code",
   "execution_count": 6,
   "id": "d2899aac",
   "metadata": {},
   "outputs": [
    {
     "name": "stdout",
     "output_type": "stream",
     "text": [
      "I am from itpm july python\n",
      "I am learning Python\n"
     ]
    }
   ],
   "source": [
    "with open(\"demo1.txt\") as file:\n",
    "         content = file.read()\n",
    "         print(content)"
   ]
  },
  {
   "cell_type": "code",
   "execution_count": 7,
   "id": "93c1f6f2",
   "metadata": {},
   "outputs": [
    {
     "name": "stdout",
     "output_type": "stream",
     "text": [
      "16\n"
     ]
    }
   ],
   "source": [
    "with open(\"demo1.txt\",\"w\") as file:\n",
    "    modify_file = file.write(\"I am learning UI\")\n",
    "    print(modify_file)"
   ]
  },
  {
   "cell_type": "code",
   "execution_count": 8,
   "id": "7e2f8e62",
   "metadata": {},
   "outputs": [
    {
     "name": "stdout",
     "output_type": "stream",
     "text": [
      "I am learning UI\n"
     ]
    }
   ],
   "source": [
    "with open(\"demo1.txt\") as file:\n",
    "    c1 = file.read()\n",
    "    print(c1)"
   ]
  },
  {
   "cell_type": "code",
   "execution_count": 10,
   "id": "e18b56b9",
   "metadata": {},
   "outputs": [
    {
     "name": "stdout",
     "output_type": "stream",
     "text": [
      "I am learning UII am learning python also\n",
      " I am learning python also\n"
     ]
    }
   ],
   "source": [
    "with open(\"demo1.txt\",\"a\") as file:\n",
    "    c2 = file.write(\"\\n I am learning python also\")\n",
    "with open (\"demo1.txt\",\"r\") as file:\n",
    "    c3 = file.read()\n",
    "    print(c3)\n",
    "    "
   ]
  },
  {
   "cell_type": "code",
   "execution_count": 13,
   "id": "a1022365",
   "metadata": {},
   "outputs": [
    {
     "name": "stdout",
     "output_type": "stream",
     "text": [
      "I am learning UI \n",
      "I am learning python also\n",
      " I am learning DA also\n",
      " I am learning DA also\n",
      " I am learning DA also\n"
     ]
    }
   ],
   "source": [
    "with open(\"demo1.txt\",\"a\") as file:\n",
    "    x = file.write(\"\\n I am learning DA also\")\n",
    "with open(\"demo1.txt\",\"r\") as file:\n",
    "    y = file.read()\n",
    "    print(y)    "
   ]
  },
  {
   "cell_type": "code",
   "execution_count": 15,
   "id": "616b1358",
   "metadata": {},
   "outputs": [
    {
     "name": "stdout",
     "output_type": "stream",
     "text": [
      "print(\"hello\")\n",
      "print(\"I am from Python batch\")\n"
     ]
    }
   ],
   "source": [
    "with open(\"fdemo.py\",\"r\") as file:\n",
    "    python = file.read()\n",
    "    print(python)"
   ]
  },
  {
   "cell_type": "code",
   "execution_count": 16,
   "id": "9bffbeac",
   "metadata": {},
   "outputs": [
    {
     "ename": "FileNotFoundError",
     "evalue": "[Errno 2] No such file or directory: 'hello.py'",
     "output_type": "error",
     "traceback": [
      "\u001b[31m---------------------------------------------------------------------------\u001b[39m",
      "\u001b[31mFileNotFoundError\u001b[39m                         Traceback (most recent call last)",
      "\u001b[36mCell\u001b[39m\u001b[36m \u001b[39m\u001b[32mIn[16]\u001b[39m\u001b[32m, line 1\u001b[39m\n\u001b[32m----> \u001b[39m\u001b[32m1\u001b[39m \u001b[38;5;28;01mwith\u001b[39;00m \u001b[38;5;28;43mopen\u001b[39;49m\u001b[43m(\u001b[49m\u001b[33;43m\"\u001b[39;49m\u001b[33;43mhello.py\u001b[39;49m\u001b[33;43m\"\u001b[39;49m\u001b[43m)\u001b[49m \u001b[38;5;28;01mas\u001b[39;00m file:\n\u001b[32m      2\u001b[39m     p1 = file.read()\n\u001b[32m      3\u001b[39m     \u001b[38;5;28mprint\u001b[39m(p1)\n",
      "\u001b[36mFile \u001b[39m\u001b[32m~\\AppData\\Local\\Packages\\PythonSoftwareFoundation.Python.3.11_qbz5n2kfra8p0\\LocalCache\\local-packages\\Python311\\site-packages\\IPython\\core\\interactiveshell.py:343\u001b[39m, in \u001b[36m_modified_open\u001b[39m\u001b[34m(file, *args, **kwargs)\u001b[39m\n\u001b[32m    336\u001b[39m \u001b[38;5;28;01mif\u001b[39;00m file \u001b[38;5;129;01min\u001b[39;00m {\u001b[32m0\u001b[39m, \u001b[32m1\u001b[39m, \u001b[32m2\u001b[39m}:\n\u001b[32m    337\u001b[39m     \u001b[38;5;28;01mraise\u001b[39;00m \u001b[38;5;167;01mValueError\u001b[39;00m(\n\u001b[32m    338\u001b[39m         \u001b[33mf\u001b[39m\u001b[33m\"\u001b[39m\u001b[33mIPython won\u001b[39m\u001b[33m'\u001b[39m\u001b[33mt let you open fd=\u001b[39m\u001b[38;5;132;01m{\u001b[39;00mfile\u001b[38;5;132;01m}\u001b[39;00m\u001b[33m by default \u001b[39m\u001b[33m\"\u001b[39m\n\u001b[32m    339\u001b[39m         \u001b[33m\"\u001b[39m\u001b[33mas it is likely to crash IPython. If you know what you are doing, \u001b[39m\u001b[33m\"\u001b[39m\n\u001b[32m    340\u001b[39m         \u001b[33m\"\u001b[39m\u001b[33myou can use builtins\u001b[39m\u001b[33m'\u001b[39m\u001b[33m open.\u001b[39m\u001b[33m\"\u001b[39m\n\u001b[32m    341\u001b[39m     )\n\u001b[32m--> \u001b[39m\u001b[32m343\u001b[39m \u001b[38;5;28;01mreturn\u001b[39;00m \u001b[43mio_open\u001b[49m\u001b[43m(\u001b[49m\u001b[43mfile\u001b[49m\u001b[43m,\u001b[49m\u001b[43m \u001b[49m\u001b[43m*\u001b[49m\u001b[43margs\u001b[49m\u001b[43m,\u001b[49m\u001b[43m \u001b[49m\u001b[43m*\u001b[49m\u001b[43m*\u001b[49m\u001b[43mkwargs\u001b[49m\u001b[43m)\u001b[49m\n",
      "\u001b[31mFileNotFoundError\u001b[39m: [Errno 2] No such file or directory: 'hello.py'"
     ]
    }
   ],
   "source": [
    "with open(\"hello.py\") as file:\n",
    "    p1 = file.read()\n",
    "    print(p1)"
   ]
  },
  {
   "cell_type": "code",
   "execution_count": 21,
   "id": "94fd448e",
   "metadata": {},
   "outputs": [
    {
     "ename": "FileNotFoundError",
     "evalue": "[Errno 2] No such file or directory: 'Dem.txt'",
     "output_type": "error",
     "traceback": [
      "\u001b[31m---------------------------------------------------------------------------\u001b[39m",
      "\u001b[31mFileNotFoundError\u001b[39m                         Traceback (most recent call last)",
      "\u001b[36mCell\u001b[39m\u001b[36m \u001b[39m\u001b[32mIn[21]\u001b[39m\u001b[32m, line 1\u001b[39m\n\u001b[32m----> \u001b[39m\u001b[32m1\u001b[39m \u001b[38;5;28;01mwith\u001b[39;00m \u001b[38;5;28;43mopen\u001b[39;49m\u001b[43m(\u001b[49m\u001b[33;43m\"\u001b[39;49m\u001b[33;43mDem.txt\u001b[39;49m\u001b[33;43m\"\u001b[39;49m\u001b[43m)\u001b[49m \u001b[38;5;28;01mas\u001b[39;00m file:\n\u001b[32m      2\u001b[39m     p2 = file.read()\n\u001b[32m      3\u001b[39m     \u001b[38;5;28mprint\u001b[39m(p2)\n",
      "\u001b[36mFile \u001b[39m\u001b[32m~\\AppData\\Local\\Packages\\PythonSoftwareFoundation.Python.3.11_qbz5n2kfra8p0\\LocalCache\\local-packages\\Python311\\site-packages\\IPython\\core\\interactiveshell.py:343\u001b[39m, in \u001b[36m_modified_open\u001b[39m\u001b[34m(file, *args, **kwargs)\u001b[39m\n\u001b[32m    336\u001b[39m \u001b[38;5;28;01mif\u001b[39;00m file \u001b[38;5;129;01min\u001b[39;00m {\u001b[32m0\u001b[39m, \u001b[32m1\u001b[39m, \u001b[32m2\u001b[39m}:\n\u001b[32m    337\u001b[39m     \u001b[38;5;28;01mraise\u001b[39;00m \u001b[38;5;167;01mValueError\u001b[39;00m(\n\u001b[32m    338\u001b[39m         \u001b[33mf\u001b[39m\u001b[33m\"\u001b[39m\u001b[33mIPython won\u001b[39m\u001b[33m'\u001b[39m\u001b[33mt let you open fd=\u001b[39m\u001b[38;5;132;01m{\u001b[39;00mfile\u001b[38;5;132;01m}\u001b[39;00m\u001b[33m by default \u001b[39m\u001b[33m\"\u001b[39m\n\u001b[32m    339\u001b[39m         \u001b[33m\"\u001b[39m\u001b[33mas it is likely to crash IPython. If you know what you are doing, \u001b[39m\u001b[33m\"\u001b[39m\n\u001b[32m    340\u001b[39m         \u001b[33m\"\u001b[39m\u001b[33myou can use builtins\u001b[39m\u001b[33m'\u001b[39m\u001b[33m open.\u001b[39m\u001b[33m\"\u001b[39m\n\u001b[32m    341\u001b[39m     )\n\u001b[32m--> \u001b[39m\u001b[32m343\u001b[39m \u001b[38;5;28;01mreturn\u001b[39;00m \u001b[43mio_open\u001b[49m\u001b[43m(\u001b[49m\u001b[43mfile\u001b[49m\u001b[43m,\u001b[49m\u001b[43m \u001b[49m\u001b[43m*\u001b[49m\u001b[43margs\u001b[49m\u001b[43m,\u001b[49m\u001b[43m \u001b[49m\u001b[43m*\u001b[49m\u001b[43m*\u001b[49m\u001b[43mkwargs\u001b[49m\u001b[43m)\u001b[49m\n",
      "\u001b[31mFileNotFoundError\u001b[39m: [Errno 2] No such file or directory: 'Dem.txt'"
     ]
    }
   ],
   "source": [
    "with open(\"Dem.txt\") as file:\n",
    "    p2 = file.read()\n",
    "    print(p2)"
   ]
  }
 ],
 "metadata": {
  "kernelspec": {
   "display_name": "Python 3",
   "language": "python",
   "name": "python3"
  },
  "language_info": {
   "codemirror_mode": {
    "name": "ipython",
    "version": 3
   },
   "file_extension": ".py",
   "mimetype": "text/x-python",
   "name": "python",
   "nbconvert_exporter": "python",
   "pygments_lexer": "ipython3",
   "version": "3.11.9"
  }
 },
 "nbformat": 4,
 "nbformat_minor": 5
}
