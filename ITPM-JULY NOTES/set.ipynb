{
 "cells": [
  {
   "cell_type": "markdown",
   "id": "6006e33b",
   "metadata": {},
   "source": [
    "Set : \n",
    "     Set is a collection of unique,which are unordered in nature.\n",
    "     we declear set ueing {}\n",
    "Operations:\n",
    "1.add()\n",
    "2.remove()\n",
    "3.clear()\n",
    "4.del\n",
    "5.update()\n",
    "6.union()\n",
    "7.intersection()\n",
    "8.difference()\n",
    "9.symmetricdifference()\n",
    "10.len\n",
    "11.min()\n",
    "12.max()\n",
    "13.in\n",
    "14.difference_update()\n",
    "15.sum()\n",
    "\n",
    "    "
   ]
  },
  {
   "cell_type": "code",
   "execution_count": 1,
   "id": "faa62079",
   "metadata": {},
   "outputs": [
    {
     "name": "stdout",
     "output_type": "stream",
     "text": [
      "{1, 2, 3, 4, 5}\n"
     ]
    }
   ],
   "source": [
    "#Unique in nature\n",
    "set1 = {1,2,3,4,5,1,2,3,4,5}\n",
    "print(set1)"
   ]
  },
  {
   "cell_type": "code",
   "execution_count": 2,
   "id": "7f927b56",
   "metadata": {},
   "outputs": [
    {
     "name": "stdout",
     "output_type": "stream",
     "text": [
      "{1}\n"
     ]
    }
   ],
   "source": [
    "set2 = {1,1,1,1,1,1}\n",
    "print(set2)"
   ]
  },
  {
   "cell_type": "code",
   "execution_count": 4,
   "id": "1c9bbacf",
   "metadata": {},
   "outputs": [
    {
     "name": "stdout",
     "output_type": "stream",
     "text": [
      "False\n"
     ]
    }
   ],
   "source": [
    "list1 = [1,2,3,4,5]\n",
    "list2 = [4,3,5,2,1]\n",
    "print(list1==list2)"
   ]
  },
  {
   "cell_type": "code",
   "execution_count": 3,
   "id": "33a19ea8",
   "metadata": {},
   "outputs": [
    {
     "name": "stdout",
     "output_type": "stream",
     "text": [
      "True\n"
     ]
    }
   ],
   "source": [
    "#unordered \n",
    "set3 = {1,2,3,4,5}\n",
    "set4 = {4,3,5,2,1}\n",
    "print(set3==set4)"
   ]
  },
  {
   "cell_type": "code",
   "execution_count": 18,
   "id": "bdfc3fbf",
   "metadata": {},
   "outputs": [
    {
     "name": "stdout",
     "output_type": "stream",
     "text": [
      "{1, 2, 3, 4, 5, 6}\n"
     ]
    }
   ],
   "source": [
    "#add\n",
    "set5 = {1,2,3,4,5}\n",
    "set5.add(6)\n",
    "print(set5)"
   ]
  },
  {
   "cell_type": "code",
   "execution_count": 19,
   "id": "4335c52a",
   "metadata": {},
   "outputs": [
    {
     "name": "stdout",
     "output_type": "stream",
     "text": [
      "{1, 2, 4, 5, 6}\n"
     ]
    }
   ],
   "source": [
    "set5.remove(3)\n",
    "print(set5)"
   ]
  },
  {
   "cell_type": "code",
   "execution_count": 20,
   "id": "079c4a25",
   "metadata": {},
   "outputs": [
    {
     "name": "stdout",
     "output_type": "stream",
     "text": [
      "set()\n"
     ]
    }
   ],
   "source": [
    "set5.clear()\n",
    "print(set5)"
   ]
  },
  {
   "cell_type": "code",
   "execution_count": 21,
   "id": "a99c2172",
   "metadata": {},
   "outputs": [
    {
     "ename": "NameError",
     "evalue": "name 'set5' is not defined",
     "output_type": "error",
     "traceback": [
      "\u001b[31m---------------------------------------------------------------------------\u001b[39m",
      "\u001b[31mNameError\u001b[39m                                 Traceback (most recent call last)",
      "\u001b[36mCell\u001b[39m\u001b[36m \u001b[39m\u001b[32mIn[21]\u001b[39m\u001b[32m, line 2\u001b[39m\n\u001b[32m      1\u001b[39m \u001b[38;5;28;01mdel\u001b[39;00m set5 \n\u001b[32m----> \u001b[39m\u001b[32m2\u001b[39m \u001b[38;5;28mprint\u001b[39m(\u001b[43mset5\u001b[49m)\n",
      "\u001b[31mNameError\u001b[39m: name 'set5' is not defined"
     ]
    }
   ],
   "source": [
    "del set5 \n",
    "print(set5)"
   ]
  },
  {
   "cell_type": "code",
   "execution_count": 23,
   "id": "fbc4857a",
   "metadata": {},
   "outputs": [
    {
     "name": "stdout",
     "output_type": "stream",
     "text": [
      "{1, 2, 3, 4, 5, 6, 7, 8, 9}\n"
     ]
    }
   ],
   "source": [
    "s7 = {1,2,3,4,5,6,7}\n",
    "s7.update([8,9])\n",
    "print(s7)"
   ]
  },
  {
   "cell_type": "code",
   "execution_count": null,
   "id": "8b9428ef",
   "metadata": {},
   "outputs": [
    {
     "name": "stdout",
     "output_type": "stream",
     "text": [
      "{1, 2, 3, 4, 5, 6, 7, 8, 9}\n"
     ]
    }
   ],
   "source": [
    "s7.update()\n",
    "print(s7)"
   ]
  },
  {
   "cell_type": "code",
   "execution_count": 34,
   "id": "569d7e1d",
   "metadata": {},
   "outputs": [
    {
     "name": "stdout",
     "output_type": "stream",
     "text": [
      "{1, 2, 5}\n"
     ]
    }
   ],
   "source": [
    "#remove multiple\n",
    "s1 = {1,2,3,4,5}\n",
    "s1.difference_update([3,4])\n",
    "print(s1)"
   ]
  },
  {
   "cell_type": "code",
   "execution_count": 39,
   "id": "2c4fae3f",
   "metadata": {},
   "outputs": [
    {
     "name": "stdout",
     "output_type": "stream",
     "text": [
      "{1, 2, 3, 4, 5, 6, 7, 8, 9}\n",
      "{1, 2, 3, 4, 5, 6, 7, 8, 9}\n"
     ]
    }
   ],
   "source": [
    "s1 = {1,2,3,4,5}\n",
    "s2 = {4,5,6,7,8,9}\n",
    "print(s1.union(s2))\n",
    "print(s1|s2)"
   ]
  },
  {
   "cell_type": "code",
   "execution_count": 40,
   "id": "b5339486",
   "metadata": {},
   "outputs": [
    {
     "name": "stdout",
     "output_type": "stream",
     "text": [
      "{4, 5}\n",
      "{4, 5}\n"
     ]
    }
   ],
   "source": [
    "print(s1.intersection(s2))\n",
    "print(s1&s2)"
   ]
  },
  {
   "cell_type": "code",
   "execution_count": 41,
   "id": "6cc011d8",
   "metadata": {},
   "outputs": [
    {
     "name": "stdout",
     "output_type": "stream",
     "text": [
      "{1, 2, 3}\n",
      "{1, 2, 3}\n"
     ]
    }
   ],
   "source": [
    "print(s1.difference(s2))\n",
    "print(s1-s2)\n",
    "#set1-set2 = 1,2,3,4,5 - 4,5,6,7,8"
   ]
  },
  {
   "cell_type": "code",
   "execution_count": 15,
   "id": "90899e4a",
   "metadata": {},
   "outputs": [
    {
     "name": "stdout",
     "output_type": "stream",
     "text": [
      "{'Ankit', 'Dishank'}\n"
     ]
    }
   ],
   "source": [
    "s1 = {\"Sanket\",\"Sushant\",\"Dishank\",\"Ankit\"}\n",
    "s2 = {\"Sushant\",\"Sanket\",\"Vaishnavi\",\"Priya\",\"Rutuja\"}\n",
    "print(s1.difference(s2))"
   ]
  },
  {
   "cell_type": "code",
   "execution_count": 16,
   "id": "75d7e09e",
   "metadata": {},
   "outputs": [
    {
     "name": "stdout",
     "output_type": "stream",
     "text": [
      "{'Vaishnavi', 'Priya', 'Rutuja'}\n"
     ]
    }
   ],
   "source": [
    "print(s2.difference(s1))"
   ]
  },
  {
   "cell_type": "code",
   "execution_count": 42,
   "id": "1842089f",
   "metadata": {},
   "outputs": [
    {
     "name": "stdout",
     "output_type": "stream",
     "text": [
      "{'Dishank', 'Vaishnavi', 'Ankit', 'Priya', 'Rutuja'}\n",
      "{'Dishank', 'Vaishnavi', 'Ankit', 'Priya', 'Rutuja'}\n"
     ]
    }
   ],
   "source": [
    "s1 = {\"Sanket\",\"Sushant\",\"Dishank\",\"Ankit\"}\n",
    "s2 = {\"Sushant\",\"Sanket\",\"Vaishnavi\",\"Priya\",\"Rutuja\"}\n",
    "print(s1.symmetric_difference(s2))\n",
    "print(s1^s2)"
   ]
  },
  {
   "cell_type": "code",
   "execution_count": 28,
   "id": "1cceb755",
   "metadata": {},
   "outputs": [
    {
     "name": "stdout",
     "output_type": "stream",
     "text": [
      "65\n"
     ]
    }
   ],
   "source": [
    "set6 = {23,43,54,65,32}\n",
    "print(max(set6))"
   ]
  },
  {
   "cell_type": "code",
   "execution_count": 29,
   "id": "b0db2b51",
   "metadata": {},
   "outputs": [
    {
     "name": "stdout",
     "output_type": "stream",
     "text": [
      "23\n"
     ]
    }
   ],
   "source": [
    "print(min(set6))"
   ]
  },
  {
   "cell_type": "code",
   "execution_count": 30,
   "id": "e54c5fd3",
   "metadata": {},
   "outputs": [
    {
     "name": "stdout",
     "output_type": "stream",
     "text": [
      "5\n"
     ]
    }
   ],
   "source": [
    "print(len(set6))"
   ]
  },
  {
   "cell_type": "code",
   "execution_count": 32,
   "id": "e51e954a",
   "metadata": {},
   "outputs": [
    {
     "name": "stdout",
     "output_type": "stream",
     "text": [
      "True\n"
     ]
    }
   ],
   "source": [
    "set7 = {2,4,6,3,7,8,1,5}\n",
    "print(7 in set7)"
   ]
  },
  {
   "cell_type": "code",
   "execution_count": 36,
   "id": "1eaa1946",
   "metadata": {},
   "outputs": [
    {
     "name": "stdout",
     "output_type": "stream",
     "text": [
      "112\n"
     ]
    }
   ],
   "source": [
    "#Wap to print sum of all elements in set.\n",
    "Number = {2,3,54,32,21}\n",
    "print(sum(Number))"
   ]
  }
 ],
 "metadata": {
  "kernelspec": {
   "display_name": "Python 3",
   "language": "python",
   "name": "python3"
  },
  "language_info": {
   "codemirror_mode": {
    "name": "ipython",
    "version": 3
   },
   "file_extension": ".py",
   "mimetype": "text/x-python",
   "name": "python",
   "nbconvert_exporter": "python",
   "pygments_lexer": "ipython3",
   "version": "3.11.9"
  }
 },
 "nbformat": 4,
 "nbformat_minor": 5
}
