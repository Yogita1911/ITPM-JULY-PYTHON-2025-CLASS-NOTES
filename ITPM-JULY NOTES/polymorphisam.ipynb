{
 "cells": [
  {
   "cell_type": "code",
   "execution_count": 1,
   "id": "ce0f61a8",
   "metadata": {},
   "outputs": [
    {
     "data": {
      "text/plain": [
       "(2,)"
      ]
     },
     "execution_count": 1,
     "metadata": {},
     "output_type": "execute_result"
    },
    {
     "name": "stdout",
     "output_type": "stream",
     "text": [
      "ERROR! Session/line number was not unique in database. History logging moved to new session 59\n"
     ]
    }
   ],
   "source": [
    "def add(*a):\n",
    "    return a\n",
    "add(2)"
   ]
  },
  {
   "cell_type": "code",
   "execution_count": 5,
   "id": "1e556be8",
   "metadata": {},
   "outputs": [
    {
     "ename": "TypeError",
     "evalue": "marks() takes 1 positional argument but 2 were given",
     "output_type": "error",
     "traceback": [
      "\u001b[31m---------------------------------------------------------------------------\u001b[39m",
      "\u001b[31mTypeError\u001b[39m                                 Traceback (most recent call last)",
      "\u001b[36mCell\u001b[39m\u001b[36m \u001b[39m\u001b[32mIn[5]\u001b[39m\u001b[32m, line 3\u001b[39m\n\u001b[32m      1\u001b[39m \u001b[38;5;28;01mdef\u001b[39;00m\u001b[38;5;250m \u001b[39m\u001b[34mmarks\u001b[39m(marks):\n\u001b[32m      2\u001b[39m     \u001b[38;5;28;01mreturn\u001b[39;00m marks\n\u001b[32m----> \u001b[39m\u001b[32m3\u001b[39m \u001b[43mmarks\u001b[49m\u001b[43m(\u001b[49m\u001b[32;43m2\u001b[39;49m\u001b[43m,\u001b[49m\u001b[32;43m5\u001b[39;49m\u001b[43m)\u001b[49m\n",
      "\u001b[31mTypeError\u001b[39m: marks() takes 1 positional argument but 2 were given"
     ]
    }
   ],
   "source": [
    "def marks(marks):\n",
    "    return marks\n",
    "marks(2,5)"
   ]
  },
  {
   "cell_type": "code",
   "execution_count": 3,
   "id": "de983b4b",
   "metadata": {},
   "outputs": [
    {
     "name": "stdout",
     "output_type": "stream",
     "text": [
      "(12, 43, 54)\n",
      "(23, 32, 3, 12, 54, 76)\n"
     ]
    }
   ],
   "source": [
    "def marks(*marks):\n",
    "    return marks\n",
    "print(marks(12,43,54))\n",
    "print(marks(23,32,3,12,54,76))"
   ]
  },
  {
   "cell_type": "code",
   "execution_count": 7,
   "id": "ffb34505",
   "metadata": {},
   "outputs": [
    {
     "name": "stdout",
     "output_type": "stream",
     "text": [
      "(12, 32, 43)\n",
      "(12, 43, 0)\n"
     ]
    }
   ],
   "source": [
    "def marks(a,b,c=0):\n",
    "    return a,b,c\n",
    "print(marks(12,32,43))\n",
    "print(marks(12,43))"
   ]
  },
  {
   "cell_type": "code",
   "execution_count": 9,
   "id": "0ac56b6b",
   "metadata": {},
   "outputs": [
    {
     "data": {
      "text/plain": [
       "[12, 43, 54, 64]"
      ]
     },
     "execution_count": 9,
     "metadata": {},
     "output_type": "execute_result"
    }
   ],
   "source": [
    "def marks(marks):\n",
    "    return marks\n",
    "marks([12,43,54,64])"
   ]
  },
  {
   "cell_type": "code",
   "execution_count": 12,
   "id": "08efb391",
   "metadata": {},
   "outputs": [
    {
     "data": {
      "text/plain": [
       "12"
      ]
     },
     "execution_count": 12,
     "metadata": {},
     "output_type": "execute_result"
    }
   ],
   "source": [
    "def number(a,b,c):\n",
    "    return b\n",
    "number(b=12,c=43,a=65)"
   ]
  }
 ],
 "metadata": {
  "kernelspec": {
   "display_name": "Python 3",
   "language": "python",
   "name": "python3"
  },
  "language_info": {
   "codemirror_mode": {
    "name": "ipython",
    "version": 3
   },
   "file_extension": ".py",
   "mimetype": "text/x-python",
   "name": "python",
   "nbconvert_exporter": "python",
   "pygments_lexer": "ipython3",
   "version": "3.11.9"
  }
 },
 "nbformat": 4,
 "nbformat_minor": 5
}
