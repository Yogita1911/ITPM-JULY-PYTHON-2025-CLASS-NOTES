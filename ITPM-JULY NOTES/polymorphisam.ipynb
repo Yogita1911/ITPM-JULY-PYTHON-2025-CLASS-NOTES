{
 "cells": [
  {
   "cell_type": "code",
   "execution_count": 1,
   "id": "ce0f61a8",
   "metadata": {},
   "outputs": [
    {
     "data": {
      "text/plain": [
       "(2,)"
      ]
     },
     "execution_count": 1,
     "metadata": {},
     "output_type": "execute_result"
    },
    {
     "name": "stdout",
     "output_type": "stream",
     "text": [
      "ERROR! Session/line number was not unique in database. History logging moved to new session 59\n"
     ]
    }
   ],
   "source": [
    "def add(*a):\n",
    "    return a\n",
    "add(2)"
   ]
  },
  {
   "cell_type": "code",
   "execution_count": 5,
   "id": "1e556be8",
   "metadata": {},
   "outputs": [
    {
     "ename": "TypeError",
     "evalue": "marks() takes 1 positional argument but 2 were given",
     "output_type": "error",
     "traceback": [
      "\u001b[31m---------------------------------------------------------------------------\u001b[39m",
      "\u001b[31mTypeError\u001b[39m                                 Traceback (most recent call last)",
      "\u001b[36mCell\u001b[39m\u001b[36m \u001b[39m\u001b[32mIn[5]\u001b[39m\u001b[32m, line 3\u001b[39m\n\u001b[32m      1\u001b[39m \u001b[38;5;28;01mdef\u001b[39;00m\u001b[38;5;250m \u001b[39m\u001b[34mmarks\u001b[39m(marks):\n\u001b[32m      2\u001b[39m     \u001b[38;5;28;01mreturn\u001b[39;00m marks\n\u001b[32m----> \u001b[39m\u001b[32m3\u001b[39m \u001b[43mmarks\u001b[49m\u001b[43m(\u001b[49m\u001b[32;43m2\u001b[39;49m\u001b[43m,\u001b[49m\u001b[32;43m5\u001b[39;49m\u001b[43m)\u001b[49m\n",
      "\u001b[31mTypeError\u001b[39m: marks() takes 1 positional argument but 2 were given"
     ]
    }
   ],
   "source": [
    "def marks(marks):\n",
    "    return marks\n",
    "marks(2,5)"
   ]
  },
  {
   "cell_type": "code",
   "execution_count": 3,
   "id": "de983b4b",
   "metadata": {},
   "outputs": [
    {
     "name": "stdout",
     "output_type": "stream",
     "text": [
      "(12, 43, 54)\n",
      "(23, 32, 3, 12, 54, 76)\n"
     ]
    }
   ],
   "source": [
    "def marks(*marks):\n",
    "    return marks\n",
    "print(marks(12,43,54))\n",
    "print(marks(23,32,3,12,54,76))"
   ]
  },
  {
   "cell_type": "code",
   "execution_count": 7,
   "id": "ffb34505",
   "metadata": {},
   "outputs": [
    {
     "name": "stdout",
     "output_type": "stream",
     "text": [
      "(12, 32, 43)\n",
      "(12, 43, 0)\n"
     ]
    }
   ],
   "source": [
    "def marks(a,b,c=0):\n",
    "    return a,b,c\n",
    "print(marks(12,32,43))\n",
    "print(marks(12,43))"
   ]
  },
  {
   "cell_type": "code",
   "execution_count": 9,
   "id": "0ac56b6b",
   "metadata": {},
   "outputs": [
    {
     "data": {
      "text/plain": [
       "[12, 43, 54, 64]"
      ]
     },
     "execution_count": 9,
     "metadata": {},
     "output_type": "execute_result"
    }
   ],
   "source": [
    "def marks(marks):\n",
    "    return marks\n",
    "marks([12,43,54,64])"
   ]
  },
  {
   "cell_type": "code",
   "execution_count": 12,
   "id": "08efb391",
   "metadata": {},
   "outputs": [
    {
     "data": {
      "text/plain": [
       "12"
      ]
     },
     "execution_count": 12,
     "metadata": {},
     "output_type": "execute_result"
    }
   ],
   "source": [
    "def number(a,b,c):\n",
    "    return b\n",
    "number(b=12,c=43,a=65)"
   ]
  },
  {
   "cell_type": "code",
   "execution_count": 1,
   "id": "ecce8244",
   "metadata": {},
   "outputs": [
    {
     "name": "stdout",
     "output_type": "stream",
     "text": [
      "(4,)\n",
      "(5, 6)\n"
     ]
    }
   ],
   "source": [
    "def number(*a):\n",
    "    return a\n",
    "print(number(4))\n",
    "print(number(5,6))"
   ]
  },
  {
   "cell_type": "code",
   "execution_count": 2,
   "id": "fadc9b0a",
   "metadata": {},
   "outputs": [
    {
     "name": "stdout",
     "output_type": "stream",
     "text": [
      "(1,)\n",
      "(1, 2)\n"
     ]
    }
   ],
   "source": [
    "def lock_button(*Press):\n",
    "    return Press\n",
    "print(lock_button(1))\n",
    "print(lock_button(1,2))"
   ]
  },
  {
   "cell_type": "code",
   "execution_count": null,
   "id": "e934eb69",
   "metadata": {},
   "outputs": [
    {
     "name": "stdout",
     "output_type": "stream",
     "text": [
      "77\n",
      "175\n"
     ]
    }
   ],
   "source": [
    "#EX:polymorphisam\n",
    "class math:\n",
    "    def add(self,*a):\n",
    "        return sum(a)\n",
    "obj1 = math()\n",
    "print(obj1.add(23,54))\n",
    "print(obj1.add(34,65,76))\n",
    "    "
   ]
  },
  {
   "cell_type": "code",
   "execution_count": 14,
   "id": "088fe64d",
   "metadata": {},
   "outputs": [
    {
     "name": "stdout",
     "output_type": "stream",
     "text": [
      "The Students name are Ankita,Vaishnavi and Rutuja\n",
      "The Students name are Sanket,Adinath and Dishank\n"
     ]
    }
   ],
   "source": [
    "class marks:\n",
    "    def Student(self,Name1,Name2,Name3=\"Dishank\"):\n",
    "        self.Name1 = Name1\n",
    "        self.Name2 = Name2\n",
    "        self.Name3 = Name3\n",
    "        return f\"The Students name are {Name1} and {Name2}\"\n",
    "    def Student(self,Name1,Name2,Name3=\"Dishank\"):\n",
    "        self.Name1 = Name1\n",
    "        self.Name2 = Name2\n",
    "        self.Name3 = Name3\n",
    "        return f\"The Students name are {Name1},{Name2} and {Name3}\"\n",
    "obj1 = marks()\n",
    "\n",
    "print(obj1.Student(\"Ankita\",\"Vaishnavi\",\"Rutuja\"))  \n",
    "print(obj1.Student(\"Sanket\",\"Adinath\"))      \n",
    "        "
   ]
  },
  {
   "cell_type": "code",
   "execution_count": null,
   "id": "e8733905",
   "metadata": {},
   "outputs": [],
   "source": []
  },
  {
   "cell_type": "code",
   "execution_count": null,
   "id": "db07ee26",
   "metadata": {},
   "outputs": [],
   "source": [
    "#operator Overloading\n",
    "x=2\n",
    "y=5\n",
    "print(x+y)#7\n",
    "a=\"Gaurav\"\n",
    "b=\"Kuvar\"\n",
    "print(a+b)#"
   ]
  },
  {
   "cell_type": "code",
   "execution_count": 16,
   "id": "bc910780",
   "metadata": {},
   "outputs": [
    {
     "name": "stdout",
     "output_type": "stream",
     "text": [
      "50\n",
      "PrnavPrnavPrnav\n"
     ]
    }
   ],
   "source": [
    "x = 5\n",
    "y = 10\n",
    "print(x*y)\n",
    "z = \"Prnav\"\n",
    "print(z*3)"
   ]
  }
 ],
 "metadata": {
  "kernelspec": {
   "display_name": "Python 3",
   "language": "python",
   "name": "python3"
  },
  "language_info": {
   "codemirror_mode": {
    "name": "ipython",
    "version": 3
   },
   "file_extension": ".py",
   "mimetype": "text/x-python",
   "name": "python",
   "nbconvert_exporter": "python",
   "pygments_lexer": "ipython3",
   "version": "3.11.9"
  }
 },
 "nbformat": 4,
 "nbformat_minor": 5
}
