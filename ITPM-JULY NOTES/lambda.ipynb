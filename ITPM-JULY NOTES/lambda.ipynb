{
 "cells": [
  {
   "cell_type": "markdown",
   "id": "bd9c704c",
   "metadata": {},
   "source": [
    "A lambda function is an anonymous function that is defined using the lambda keyword. It is often used for small, simple operations, particularly when the function is only needed temporarily.\n",
    "\n",
    "Syntax:\n",
    "lambda arguments: expression\n",
    "Arguments: The input to the function.\n",
    "Expression: A single expression that is evaluated and returned.\n",
    "Common Use Cases:\n",
    "Used as arguments to functions like map(), filter(), and reduce().\n",
    "Small utility functions that don’t require naming."
   ]
  },
  {
   "cell_type": "code",
   "execution_count": 1,
   "id": "c10ccc30",
   "metadata": {},
   "outputs": [
    {
     "data": {
      "text/plain": [
       "25"
      ]
     },
     "execution_count": 1,
     "metadata": {},
     "output_type": "execute_result"
    }
   ],
   "source": [
    "#WAp to print Squ. of given number.\n",
    "def seq(a):\n",
    "    return a**2\n",
    "seq(5)\n",
    "    "
   ]
  },
  {
   "cell_type": "code",
   "execution_count": 2,
   "id": "2e809cd4",
   "metadata": {},
   "outputs": [
    {
     "name": "stdout",
     "output_type": "stream",
     "text": [
      "36\n"
     ]
    }
   ],
   "source": [
    "seq = lambda a:a**2\n",
    "print(seq(6))"
   ]
  },
  {
   "cell_type": "code",
   "execution_count": 3,
   "id": "ea83bfd4",
   "metadata": {},
   "outputs": [
    {
     "data": {
      "text/plain": [
       "'7 is odd'"
      ]
     },
     "execution_count": 3,
     "metadata": {},
     "output_type": "execute_result"
    }
   ],
   "source": [
    "def even(num):\n",
    "    if num%2==0:\n",
    "        return f\"{num} is Even\"\n",
    "    else:\n",
    "        return f\"{num} is odd\"\n",
    "    \n",
    "even(7)"
   ]
  },
  {
   "cell_type": "code",
   "execution_count": 4,
   "id": "eaf15dc2",
   "metadata": {},
   "outputs": [
    {
     "name": "stdout",
     "output_type": "stream",
     "text": [
      "True\n"
     ]
    }
   ],
   "source": [
    "even = lambda num:num%2==0\n",
    "print(even(8))"
   ]
  },
  {
   "cell_type": "code",
   "execution_count": 5,
   "id": "8fe7a49f",
   "metadata": {},
   "outputs": [
    {
     "data": {
      "text/plain": [
       "12"
      ]
     },
     "execution_count": 5,
     "metadata": {},
     "output_type": "execute_result"
    }
   ],
   "source": [
    "add = lambda a,b :a*b\n",
    "add(3,4)\n"
   ]
  },
  {
   "cell_type": "code",
   "execution_count": 7,
   "id": "79c27907",
   "metadata": {},
   "outputs": [
    {
     "name": "stdout",
     "output_type": "stream",
     "text": [
      "x is Greater then y  True\n"
     ]
    }
   ],
   "source": [
    "Greatest_number = lambda x,y : x>y\n",
    "print(\"x is Greater then y \" ,Greatest_number(98,45))\n"
   ]
  },
  {
   "cell_type": "code",
   "execution_count": 11,
   "id": "945c1a63",
   "metadata": {},
   "outputs": [
    {
     "name": "stdout",
     "output_type": "stream",
     "text": [
      "46\n"
     ]
    }
   ],
   "source": [
    "y = int(input(\"Enter a number\"))\n",
    "add = lambda x,y:x+y\n",
    "print(add(23,y))"
   ]
  },
  {
   "cell_type": "code",
   "execution_count": 9,
   "id": "dd8eade9",
   "metadata": {},
   "outputs": [
    {
     "name": "stdout",
     "output_type": "stream",
     "text": [
      "34\n"
     ]
    }
   ],
   "source": [
    "x = int(input(\"Enter a number\"))\n",
    "number = lambda x:x\n",
    "print(number(x))"
   ]
  },
  {
   "cell_type": "code",
   "execution_count": 10,
   "id": "1ab1f980",
   "metadata": {},
   "outputs": [
    {
     "name": "stdout",
     "output_type": "stream",
     "text": [
      "X is odd True\n"
     ]
    }
   ],
   "source": [
    "x = int(input(\"Enter a number\"))\n",
    "even = lambda x : x%2!=0\n",
    "print(\"X is odd\",even(x))"
   ]
  },
  {
   "cell_type": "code",
   "execution_count": null,
   "id": "78b19a58",
   "metadata": {},
   "outputs": [
    {
     "name": "stdout",
     "output_type": "stream",
     "text": [
      "<function <lambda> at 0x00000235C9AADF80>\n"
     ]
    }
   ],
   "source": []
  },
  {
   "cell_type": "code",
   "execution_count": null,
   "id": "16ee57f6",
   "metadata": {},
   "outputs": [],
   "source": [
    "numbers = [1, 2, 3, 4, 5, 6, 7, 8, 9, 10]\n",
    "odd_numbers = list(filter(lambda x: x % 2 != 0, numbers))\n",
    "#even_numbers = list(filter(numbers,lambda x: x % 2 == 0))\n",
    "print(\"Odd numbers:\", odd_numbers)\n"
   ]
  },
  {
   "cell_type": "code",
   "execution_count": 16,
   "id": "6124cad6",
   "metadata": {},
   "outputs": [
    {
     "name": "stdout",
     "output_type": "stream",
     "text": [
      "{1, 3, 5, 7, 9}\n"
     ]
    }
   ],
   "source": [
    "numbers = [1, 2, 3, 4, 5, 6, 7, 8, 9, 10]\n",
    "odd_numbers = set(filter(lambda x: x % 2 != 0, numbers))\n",
    "print(odd_numbers)"
   ]
  },
  {
   "cell_type": "code",
   "execution_count": 19,
   "id": "6f68b496",
   "metadata": {},
   "outputs": [
    {
     "name": "stdout",
     "output_type": "stream",
     "text": [
      "{2, 4, 6, 8, 10}\n"
     ]
    }
   ],
   "source": [
    "numbers = [1, 2, 3, 4, 5, 6, 7, 8, 9, 10]\n",
    "Even_numbers = set(filter(lambda x: x % 2 == 0, numbers))\n",
    "print(Even_numbers)"
   ]
  },
  {
   "cell_type": "code",
   "execution_count": null,
   "id": "d4bd0a68",
   "metadata": {},
   "outputs": [],
   "source": []
  },
  {
   "cell_type": "code",
   "execution_count": null,
   "id": "8289b13e",
   "metadata": {},
   "outputs": [],
   "source": [
    "#using Userdefined function.\n",
    "def factorial(x):\n",
    "    if x>0:\n",
    "     fact=1\n",
    "     for i in range(1,x+1):\n",
    "        fact *=i\n",
    "    return fact\n",
    "print(factorial(5))\n",
    "print(factorial(2))\n",
    "print(factorial(4))"
   ]
  },
  {
   "cell_type": "code",
   "execution_count": null,
   "id": "1787ee7c",
   "metadata": {},
   "outputs": [],
   "source": [
    "#Using Recurcive fun\n",
    "def factorial(n):#2.n=5\n",
    "    if n == 0:#3.F\n",
    "        return 1\n",
    "    else:#4.\n",
    "        return n * factorial(n-1)#5*factiorial(5-1)....5*4!\n",
    "print(factorial(5)) # 1.5"
   ]
  }
 ],
 "metadata": {
  "kernelspec": {
   "display_name": "Python 3",
   "language": "python",
   "name": "python3"
  },
  "language_info": {
   "codemirror_mode": {
    "name": "ipython",
    "version": 3
   },
   "file_extension": ".py",
   "mimetype": "text/x-python",
   "name": "python",
   "nbconvert_exporter": "python",
   "pygments_lexer": "ipython3",
   "version": "3.11.9"
  }
 },
 "nbformat": 4,
 "nbformat_minor": 5
}
