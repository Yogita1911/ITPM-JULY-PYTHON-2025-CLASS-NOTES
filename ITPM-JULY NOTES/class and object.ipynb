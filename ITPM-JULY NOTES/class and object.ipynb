{
 "cells": [
  {
   "cell_type": "markdown",
   "id": "ad060f1b",
   "metadata": {},
   "source": [
    "Classes and Object"
   ]
  },
  {
   "cell_type": "markdown",
   "id": "5c64b868",
   "metadata": {},
   "source": [
    "class Syntax:\n",
    "      class ClassName :\n",
    "           data\n",
    "           function\n",
    "\n",
    "Object Syntax\n",
    "         obj_Name = className()     "
   ]
  },
  {
   "cell_type": "code",
   "execution_count": null,
   "id": "72c1eeba",
   "metadata": {},
   "outputs": [
    {
     "name": "stdout",
     "output_type": "stream",
     "text": [
      "Hello-World\n"
     ]
    }
   ],
   "source": [
    "#WAP to print Hello.\n",
    "class Demo: #Created Class with name demo\n",
    "    print(\"Hello-World\")\n",
    "    \n",
    "obj1 = Demo() #created object with name obj1"
   ]
  },
  {
   "cell_type": "code",
   "execution_count": 5,
   "id": "b1e4a527",
   "metadata": {},
   "outputs": [
    {
     "name": "stdout",
     "output_type": "stream",
     "text": [
      "My Name is Ankit Kumar\n"
     ]
    }
   ],
   "source": [
    "class Name:\n",
    "    Name = \"Ankit\"\n",
    "    Last_name = \"Kumar\"\n",
    "    print(f\"My Name is {Name} {Last_name}\")\n",
    "    \n",
    "#obj2 = Name()"
   ]
  },
  {
   "cell_type": "code",
   "execution_count": 8,
   "id": "2ae77be0",
   "metadata": {},
   "outputs": [
    {
     "name": "stdout",
     "output_type": "stream",
     "text": [
      "Addition of Two numbwer: 5\n"
     ]
    }
   ],
   "source": [
    "#WAp to print Addtion of two numbers using. \n",
    "class add:\n",
    "    def add1():\n",
    "        n1=int(input(\"Enter number\"))\n",
    "        n2=int(input(\"Enter second number\"))\n",
    "        result = n1+n2\n",
    "        print(\"Addition of Two numbwer:\",result)\n",
    "    add1()\n",
    "    \n",
    "obj3 = add()        "
   ]
  },
  {
   "cell_type": "code",
   "execution_count": 11,
   "id": "bcee2edc",
   "metadata": {},
   "outputs": [
    {
     "name": "stdout",
     "output_type": "stream",
     "text": [
      "7\n",
      "30\n"
     ]
    }
   ],
   "source": [
    "class Cal:\n",
    "    def add(self,a,b):\n",
    "        self.a=a\n",
    "        self.b=b\n",
    "        return a+b\n",
    "    \n",
    "Addition=Cal()\n",
    "print(Addition.add(3,4))\n",
    "print(Addition.add(10,20))\n",
    "    "
   ]
  },
  {
   "cell_type": "code",
   "execution_count": 12,
   "id": "25ca8a34",
   "metadata": {},
   "outputs": [
    {
     "name": "stdout",
     "output_type": "stream",
     "text": [
      "7\n",
      "-10\n"
     ]
    }
   ],
   "source": [
    "class Cal:\n",
    "    def add(self,a,b):\n",
    "        self.a=a\n",
    "        self.b=b\n",
    "        return a+b\n",
    "    def sub(self,a,b):\n",
    "        self.a=a\n",
    "        self.b=b\n",
    "        return a-b\n",
    "    \n",
    "Addition=Cal()\n",
    "print(Addition.add(3,4))\n",
    "print(Addition.sub(10,20))\n",
    "    "
   ]
  },
  {
   "cell_type": "code",
   "execution_count": null,
   "id": "d7c14087",
   "metadata": {},
   "outputs": [
    {
     "name": "stdout",
     "output_type": "stream",
     "text": [
      "5\n",
      "-1\n",
      "6\n"
     ]
    }
   ],
   "source": [
    "\n",
    "class Cal:\n",
    "    def __init__(self,a,b):\n",
    "        self.a=a\n",
    "        self.b=b\n",
    "    def add(self):\n",
    "        return self.a+self.b\n",
    "    def sub(self):\n",
    "        return self.a-self.b\n",
    "    def mul(self):\n",
    "        return self.a*self.b\n",
    "    \n",
    "Addition=Cal(3,4)\n",
    "print(Addition.add())\n",
    "print(Addition.sub())\n",
    "print(Addition.mul())\n",
    "\n",
    "    "
   ]
  },
  {
   "cell_type": "code",
   "execution_count": null,
   "id": "2c13ada7",
   "metadata": {},
   "outputs": [
    {
     "name": "stdout",
     "output_type": "stream",
     "text": [
      "BMW Car  has Black and its Start at 9:00AM\n",
      "BMW its Mileage is 15km/li\n",
      "The Car Model BMW is Start at 9:00AM and Stop  at 11:00AM\n"
     ]
    }
   ],
   "source": [
    "#WAp to create car class.\n",
    "class Car:\n",
    "    def __init__(self,Start,Stop):\n",
    "        self.Start = Start\n",
    "        self.Stop = Stop\n",
    "    def color(self,Model,color):\n",
    "        self.Model = Model\n",
    "        self.color = color\n",
    "        return f\"{Model} Car  has {color} and its Start at {self.Start}\"\n",
    "    def Mileage (self,m):\n",
    "        self.m = m\n",
    "        return f\"{self.Model} its Mileage is {m}\"\n",
    "    def Engine(self):\n",
    "        return f\"The Car Model {self.Model} is Start at {self.Start} and Stop  at {self.Stop}\"\n",
    "obj1 = Car(\"9:00AM\",\"11:00AM\")\n",
    "print(obj1.color(\"BMW\",\"Black\"))\n",
    "print(obj1.Mileage(\"15km/li\"))\n",
    "print(obj1.Engine())     \n"
   ]
  },
  {
   "cell_type": "code",
   "execution_count": null,
   "id": "93811aa7",
   "metadata": {},
   "outputs": [],
   "source": [
    "#Create a class Animal with methods speak and move. \n",
    "#Create Dog and Bird classes and add  speak method. "
   ]
  },
  {
   "cell_type": "code",
   "execution_count": 25,
   "id": "86c2ecda",
   "metadata": {},
   "outputs": [
    {
     "name": "stdout",
     "output_type": "stream",
     "text": [
      "A Animal speak like Bark\n",
      "A Animal move like jump\n"
     ]
    }
   ],
   "source": [
    "class Animal:\n",
    "    def speak(self,sound):\n",
    "        self.sound=sound\n",
    "        return f\"A Animal speak like {sound}\"\n",
    "    \n",
    "    def move(self,m):\n",
    "        self.m=m\n",
    "        return f\"A Animal move like {m}\"\n",
    "    \n",
    "obj1=Animal()\n",
    "print(obj1.speak(\"Bark\"))\n",
    "print(obj1.move(\"jump\"))\n",
    "\n",
    "\n"
   ]
  },
  {
   "cell_type": "code",
   "execution_count": 24,
   "id": "bba22d25",
   "metadata": {},
   "outputs": [
    {
     "name": "stdout",
     "output_type": "stream",
     "text": [
      "A Dog speak like bark\n",
      "A Bird speak like chivchiv\n"
     ]
    }
   ],
   "source": [
    "class Dog:\n",
    "    def speak(self,sound):\n",
    "        self.sound=sound\n",
    "        return f\"A Dog speak like {sound}\"\n",
    "    \n",
    "obj1=Dog()\n",
    "print(obj1.speak(\"bark\"))\n",
    "\n",
    "class Bird:\n",
    "    def speak(self,sound):\n",
    "        self.sound=sound\n",
    "        return f\"A Bird speak like {sound}\"\n",
    "    \n",
    "obj1=Bird()\n",
    "print(obj1.speak(\"chivchiv\"))"
   ]
  }
 ],
 "metadata": {
  "kernelspec": {
   "display_name": "Python 3",
   "language": "python",
   "name": "python3"
  },
  "language_info": {
   "codemirror_mode": {
    "name": "ipython",
    "version": 3
   },
   "file_extension": ".py",
   "mimetype": "text/x-python",
   "name": "python",
   "nbconvert_exporter": "python",
   "pygments_lexer": "ipython3",
   "version": "3.11.9"
  }
 },
 "nbformat": 4,
 "nbformat_minor": 5
}
