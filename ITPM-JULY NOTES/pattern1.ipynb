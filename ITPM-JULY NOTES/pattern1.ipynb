{
 "cells": [
  {
   "cell_type": "code",
   "execution_count": 2,
   "id": "1b0c26a8",
   "metadata": {},
   "outputs": [
    {
     "name": "stdout",
     "output_type": "stream",
     "text": [
      "* \n",
      "* * \n",
      "* * * \n",
      "* * * * \n",
      "* * * * * \n"
     ]
    }
   ],
   "source": [
    "#Right-Angled Triangle**\n",
    "rows = 5\n",
    "for i in range(1, rows + 1):# i = 1\n",
    "    print(\"* \" * i)# \"*\" *2\n"
   ]
  },
  {
   "cell_type": "markdown",
   "id": "8c0c12c3",
   "metadata": {},
   "source": [
    "*    #1---*\n",
    "**   #2----**\n",
    "***  #3.....***\n",
    "****\n",
    "*****\n",
    "rows = 5\n",
    "for i in range(1,rows+1):\n",
    "    print(\"*\" * i)............... * *1=*\n",
    "                                  * *2=**"
   ]
  },
  {
   "cell_type": "code",
   "execution_count": 31,
   "id": "cabb3f2a",
   "metadata": {},
   "outputs": [
    {
     "name": "stdout",
     "output_type": "stream",
     "text": [
      "* \n",
      "* * \n",
      "* * * \n",
      "* * * * \n",
      "* * * * * \n"
     ]
    }
   ],
   "source": [
    "rows = 5\n",
    "for i in range(1, rows + 1):# i = 1\n",
    "    print((\"*\"+\" \") * i)# \"*\" *2\n"
   ]
  },
  {
   "cell_type": "markdown",
   "id": "dc244203",
   "metadata": {},
   "source": [
    "1 \n",
    "2 2 \n",
    "3 3 3 \n",
    "4 4 4 4 \n",
    "5 5 5 5 5 "
   ]
  },
  {
   "cell_type": "code",
   "execution_count": 4,
   "id": "f0a2effe",
   "metadata": {},
   "outputs": [
    {
     "name": "stdout",
     "output_type": "stream",
     "text": [
      "1 \n",
      "2 2 \n",
      "3 3 3 \n",
      "4 4 4 4 \n",
      "5 5 5 5 5 \n"
     ]
    }
   ],
   "source": [
    "rows = 5\n",
    "for i in range(1, rows + 1):# i = 1\n",
    "    print((str(i)+\" \") * i)# \""
   ]
  },
  {
   "cell_type": "code",
   "execution_count": null,
   "id": "6ea68515",
   "metadata": {},
   "outputs": [],
   "source": []
  },
  {
   "cell_type": "code",
   "execution_count": 7,
   "id": "248de994",
   "metadata": {},
   "outputs": [
    {
     "name": "stdout",
     "output_type": "stream",
     "text": [
      "* * * * * \n",
      "* * * * \n",
      "* * * \n",
      "* * \n",
      "* \n"
     ]
    }
   ],
   "source": [
    "# Inverted Right-Angled Triangle**\n",
    "rows = 5\n",
    "for i in range(rows, 0, -1):# range(5,0,-1),i=5,i=4\n",
    "    print(\"* \" * i)#"
   ]
  },
  {
   "cell_type": "code",
   "execution_count": 8,
   "id": "d61e19d2",
   "metadata": {},
   "outputs": [
    {
     "name": "stdout",
     "output_type": "stream",
     "text": [
      "5 5 5 5 5 \n",
      "4 4 4 4 \n",
      "3 3 3 \n",
      "2 2 \n",
      "1 \n"
     ]
    }
   ],
   "source": [
    "rows = 5\n",
    "for i in range(5,0,-1):\n",
    "    print((str(i)+\" \")*i)"
   ]
  },
  {
   "cell_type": "markdown",
   "id": "e93e7800",
   "metadata": {},
   "source": [
    "    *\n",
    "   **\n",
    "  ***\n",
    " ****\n",
    "*****"
   ]
  },
  {
   "cell_type": "code",
   "execution_count": 34,
   "id": "76c50585",
   "metadata": {},
   "outputs": [
    {
     "name": "stdout",
     "output_type": "stream",
     "text": [
      "* * * * * \n",
      "* * * * \n",
      "* * * \n",
      "* * \n",
      "* \n"
     ]
    }
   ],
   "source": [
    "for i in range(5, 0, -1):\n",
    "    print((\"*\"+\" \")*i)\n"
   ]
  },
  {
   "cell_type": "code",
   "execution_count": null,
   "id": "603f9650",
   "metadata": {},
   "outputs": [
    {
     "name": "stdout",
     "output_type": "stream",
     "text": [
      "    *\n",
      "   **\n",
      "  ***\n",
      " ****\n",
      "*****\n"
     ]
    }
   ],
   "source": [
    "#Left-Aligned Right angle Triangle (using *)\n",
    "rows = 5\n",
    "for i in range(1, rows + 1):# i =1\n",
    "    print(\" \" * (rows - i) + \"*\" * i)\n",
    "    #i=1 (\" \" * (5-1)=\" \"*4 space print 4....+\"*\"*1=* will print 1 time)\n",
    "    #i=2 (\" \"*(5-2)=\" \"*3+\"*\" * 2 = **)\n"
   ]
  },
  {
   "cell_type": "markdown",
   "id": "b9281b21",
   "metadata": {},
   "source": [
    "        *  # 4 space 1 *  ......(rows-i)(5-1)=4...\"*\" * i=*\n",
    "      * *  # 3 space 2 *  ......                  \"*\" *i = **\n",
    "    * * *  # 2 space 3 *\n",
    "  * * * *  # 1 space 4 *\n",
    "* * * * *  # 0 space 5 *"
   ]
  },
  {
   "cell_type": "code",
   "execution_count": 45,
   "id": "aa35ba79",
   "metadata": {},
   "outputs": [
    {
     "name": "stdout",
     "output_type": "stream",
     "text": [
      "        * \n",
      "      * * \n",
      "    * * * \n",
      "  * * * * \n",
      "* * * * * \n"
     ]
    }
   ],
   "source": [
    "rows = 5\n",
    "for i in range(1, rows + 1):# i =1\n",
    "    print(\"  \" * (rows - i) + \"* \" * i)\n",
    "    #i=1 (\" \" * (5-1)=\" \"*4 space print 4....+\"*\"*1=* will print 1 time)\n",
    "    #i=2 (\" \"*(5-2)=\" \"*3+\"*\" * 2 = **)\n"
   ]
  },
  {
   "cell_type": "code",
   "execution_count": null,
   "id": "81c67e5b",
   "metadata": {},
   "outputs": [
    {
     "name": "stdout",
     "output_type": "stream",
     "text": [
      "        1 \n",
      "      2 2 \n",
      "    3 3 3 \n",
      "  4 4 4 4 \n",
      "5 5 5 5 5 \n"
     ]
    }
   ],
   "source": [
    "#Left-Aligned Right angle Triangle (using numbers)\n",
    "rows = 5\n",
    "for i in range(1,rows+1):\n",
    "    print(\"  \"*(rows-i)+(str(i)+\" \")*i)"
   ]
  },
  {
   "cell_type": "markdown",
   "id": "a2389131",
   "metadata": {},
   "source": []
  },
  {
   "cell_type": "markdown",
   "id": "acb11ee7",
   "metadata": {},
   "source": [
    "#Left-Aligned  Invert Right angle Triangle\n",
    "*****\n",
    " ****\n",
    "  ***\n",
    "   **\n",
    "    *"
   ]
  },
  {
   "cell_type": "code",
   "execution_count": 12,
   "id": "9903b66d",
   "metadata": {},
   "outputs": [
    {
     "name": "stdout",
     "output_type": "stream",
     "text": [
      "* * * * * \n",
      "  * * * * \n",
      "    * * * \n",
      "      * * \n",
      "        * \n"
     ]
    }
   ],
   "source": [
    "#Left-Aligned Invert Right angle Triangle (using numbers)\n",
    "rows = 5\n",
    "for i in range(rows,0,-1):# i =1\n",
    "    print(\"  \" * (rows - i) + \"* \" * i)\n"
   ]
  },
  {
   "cell_type": "code",
   "execution_count": 13,
   "id": "126301d6",
   "metadata": {},
   "outputs": [
    {
     "name": "stdout",
     "output_type": "stream",
     "text": [
      "        1 \n",
      "      2 2 \n",
      "    3 3 3 \n",
      "  4 4 4 4 \n",
      "5 5 5 5 5 \n"
     ]
    }
   ],
   "source": [
    "rows = 5\n",
    "for i in range(1, rows + 1):# i =1\n",
    "    print(\"  \" * (rows - i) + (str(i)+\" \") * i)"
   ]
  },
  {
   "cell_type": "code",
   "execution_count": 15,
   "id": "13a947b3",
   "metadata": {},
   "outputs": [
    {
     "name": "stdout",
     "output_type": "stream",
     "text": [
      "    * \n",
      "   * * \n",
      "  * * * \n",
      " * * * * \n",
      "* * * * * \n"
     ]
    }
   ],
   "source": [
    "rows = 5\n",
    "for i in range(1, rows + 1):# i =1\n",
    "    print(\" \" * (rows - i) + \"* \" * i)"
   ]
  },
  {
   "cell_type": "code",
   "execution_count": 17,
   "id": "e692a0ff",
   "metadata": {},
   "outputs": [
    {
     "name": "stdout",
     "output_type": "stream",
     "text": [
      "    1 \n",
      "   2 2 \n",
      "  3 3 3 \n",
      " 4 4 4 4 \n",
      "5 5 5 5 5 \n"
     ]
    }
   ],
   "source": [
    "rows = 5\n",
    "for i in range(1, rows + 1):# i =1\n",
    "    print(\" \" * (rows - i) + (str(i)+\" \") * i)"
   ]
  },
  {
   "cell_type": "markdown",
   "id": "e3eb5be7",
   "metadata": {},
   "source": [
    "    *      # $ 4 space * 1 time  # r=5...r-i,(2*i-1)=2-1=1*@=@\n",
    "   ***     # $ 3 space * 3 time  # (5-2)=3,(2*2-1)=(4-1)=3*@=@@@\n",
    "  *****    # $ 2 space * 5 time  #(5-3)=2,(2*3-1)=(6-1)=5*@=@@@@@\n",
    " *******   # $ 1 space * 7 time\n",
    "*********  # $ 0 space * 9 time"
   ]
  },
  {
   "cell_type": "code",
   "execution_count": 18,
   "id": "e86fd039",
   "metadata": {},
   "outputs": [
    {
     "name": "stdout",
     "output_type": "stream",
     "text": [
      "    *\n",
      "   ***\n",
      "  *****\n",
      " *******\n",
      "*********\n"
     ]
    }
   ],
   "source": [
    "#Pyramid Pattern**\n",
    "rows = 5\n",
    "for i in range(1, rows + 1):\n",
    "    print(\" \" * (rows - i) + \"*\" * (2*i - 1))"
   ]
  },
  {
   "cell_type": "markdown",
   "id": "1fa9e757",
   "metadata": {},
   "source": [
    "*********\n",
    " *******\n",
    "  *****\n",
    "   ***\n",
    "    *"
   ]
  },
  {
   "cell_type": "code",
   "execution_count": 51,
   "id": "78f4826b",
   "metadata": {},
   "outputs": [
    {
     "name": "stdout",
     "output_type": "stream",
     "text": [
      "*********\n",
      " *******\n",
      "  *****\n",
      "   ***\n",
      "    *\n"
     ]
    }
   ],
   "source": [
    "#Inverted Pyramid**\n",
    "rows = 5\n",
    "for i in range(rows, 0, -1):\n",
    "    print(\" \" * (rows - i) + \"*\" * (2*i - 1))\n"
   ]
  },
  {
   "cell_type": "markdown",
   "id": "a6347e23",
   "metadata": {},
   "source": [
    "    *\n",
    "   ***\n",
    "  *****\n",
    " *******\n",
    "*********\n",
    " *******\n",
    "  *****\n",
    "   ***\n",
    "    *"
   ]
  },
  {
   "cell_type": "code",
   "execution_count": null,
   "id": "5bdaeb8c",
   "metadata": {},
   "outputs": [],
   "source": []
  },
  {
   "cell_type": "code",
   "execution_count": null,
   "id": "1cd6fd0a",
   "metadata": {},
   "outputs": [],
   "source": []
  },
  {
   "cell_type": "code",
   "execution_count": null,
   "id": "529d366b",
   "metadata": {},
   "outputs": [
    {
     "name": "stdout",
     "output_type": "stream",
     "text": [
      "    *\n",
      "   ***\n",
      "  *****\n",
      " *******\n",
      "*********\n",
      " *******\n",
      "  *****\n",
      "   ***\n",
      "    *\n"
     ]
    },
    {
     "ename": "",
     "evalue": "",
     "output_type": "error",
     "traceback": [
      "\u001b[1;31mThe Kernel crashed while executing code in the current cell or a previous cell. \n",
      "\u001b[1;31mPlease review the code in the cell(s) to identify a possible cause of the failure. \n",
      "\u001b[1;31mClick <a href='https://aka.ms/vscodeJupyterKernelCrash'>here</a> for more info. \n",
      "\u001b[1;31mView Jupyter <a href='command:jupyter.viewOutput'>log</a> for further details."
     ]
    }
   ],
   "source": [
    "#Diamond Shape\n",
    "rows = 5\n",
    "for i in range(1, rows + 1):\n",
    "    print(\" \" * (rows - i) + \"*\" * (2*i - 1))\n",
    "for i in range(rows-1, 0, -1):\n",
    "    print(\" \" * (rows - i) + \"*\" * (2*i - 1))\n"
   ]
  },
  {
   "cell_type": "markdown",
   "id": "c721f29f",
   "metadata": {},
   "source": [
    "* * * * * * # * .....5\n",
    "* * * * * * # *......5\n",
    "* * * * * * \n",
    "* * * * * * \n",
    "* * * * * * "
   ]
  },
  {
   "cell_type": "code",
   "execution_count": 63,
   "id": "76d02550",
   "metadata": {},
   "outputs": [
    {
     "name": "stdout",
     "output_type": "stream",
     "text": [
      "* * * * * \n",
      "* * * * * \n",
      "* * * * * \n",
      "* * * * * \n",
      "* * * * * \n"
     ]
    }
   ],
   "source": [
    "#Square Pattern**\n",
    "rows = 5\n",
    "for i in range(rows):  \n",
    "    print(\"* \"* rows)"
   ]
  },
  {
   "cell_type": "markdown",
   "id": "19ce8654",
   "metadata": {},
   "source": [
    "1 1 1 1 1\n",
    "2 2 2 2 2\n",
    "3 3 3 3 3\n",
    "4 4 4 4 4\n",
    "5 5 5 5 5"
   ]
  },
  {
   "cell_type": "code",
   "execution_count": 59,
   "id": "6491b356",
   "metadata": {},
   "outputs": [
    {
     "name": "stdout",
     "output_type": "stream",
     "text": [
      "1 1 1 1 1 \n",
      "2 2 2 2 2 \n",
      "3 3 3 3 3 \n",
      "4 4 4 4 4 \n",
      "5 5 5 5 5 \n"
     ]
    }
   ],
   "source": [
    "rows = 5\n",
    "for i in range(1,rows+1):\n",
    "    print((str(i)+\" \") * rows)"
   ]
  },
  {
   "cell_type": "markdown",
   "id": "bd1896b4",
   "metadata": {},
   "source": [
    "A A A A A\n",
    "B B B B B\n",
    "C C C C C\n",
    "D D D D D\n",
    "E E E E E"
   ]
  },
  {
   "cell_type": "code",
   "execution_count": 76,
   "id": "f88c4a53",
   "metadata": {},
   "outputs": [
    {
     "name": "stdout",
     "output_type": "stream",
     "text": [
      "A A A A A \n",
      "B B B B B \n",
      "C C C C C \n",
      "D D D D D \n",
      "E E E E E \n"
     ]
    }
   ],
   "source": [
    "rows = 5\n",
    "for i in range(65,65+rows):# i = 65\n",
    "    print((chr(i)+\" \") * rows)"
   ]
  },
  {
   "cell_type": "code",
   "execution_count": 30,
   "id": "1746bb51",
   "metadata": {},
   "outputs": [
    {
     "name": "stdout",
     "output_type": "stream",
     "text": [
      "X O X O X O \n",
      "O X O X O X \n",
      "X O X O X O \n",
      "O X O X O X \n",
      "X O X O X O \n",
      "O X O X O X \n"
     ]
    }
   ],
   "source": [
    "#Checkerboard Pattern**\n",
    "rows = 6\n",
    "for i in range(rows):\n",
    "    for j in range(rows):\n",
    "        if (i + j) % 2 == 0:\n",
    "            print(\"X\", end=\" \")\n",
    "        else:\n",
    "            print(\"O\", end=\" \")\n",
    "    print()\n"
   ]
  },
  {
   "cell_type": "code",
   "execution_count": 8,
   "id": "d0385e89",
   "metadata": {},
   "outputs": [
    {
     "name": "stdout",
     "output_type": "stream",
     "text": [
      "* * * * * \n",
      "*       *\n",
      "*       *\n",
      "*       *\n",
      "* * * * * \n"
     ]
    }
   ],
   "source": [
    "#Hollow Square**\n",
    "\n",
    "\n",
    "rows = 5\n",
    "for i in range(rows):\n",
    "    if i == 0 or i == rows - 1:\n",
    "        print(\"* \" * rows)\n",
    "    else:\n",
    "        print(\"*\" + \"  \" * (rows - 2) + \" *\")\n"
   ]
  },
  {
   "cell_type": "code",
   "execution_count": 9,
   "id": "6a8c37e2",
   "metadata": {},
   "outputs": [
    {
     "name": "stdout",
     "output_type": "stream",
     "text": [
      "1 \n",
      "1 2 \n",
      "1 2 3 \n",
      "1 2 3 4 \n",
      "1 2 3 4 5 \n"
     ]
    }
   ],
   "source": [
    "#Number Triangle**\n",
    "\n",
    "\n",
    "rows = 5\n",
    "for i in range(1, rows + 1):\n",
    "    for j in range(1, i + 1):\n",
    "        print(j, end=\" \")\n",
    "    print()"
   ]
  },
  {
   "cell_type": "code",
   "execution_count": 10,
   "id": "ae431ee5",
   "metadata": {},
   "outputs": [
    {
     "name": "stdout",
     "output_type": "stream",
     "text": [
      "    1 \n",
      "   1 2 \n",
      "  1 2 3 \n",
      " 1 2 3 4 \n",
      "1 2 3 4 5 \n"
     ]
    }
   ],
   "source": [
    "#Number Pyramid**\n",
    "\n",
    "\n",
    "rows = 5\n",
    "for i in range(1, rows + 1):\n",
    "    print(\" \" * (rows - i), end=\"\")\n",
    "    for j in range(1, i + 1):\n",
    "        print(j, end=\" \")\n",
    "    print()\n",
    "\n"
   ]
  },
  {
   "cell_type": "code",
   "execution_count": 11,
   "id": "94a00cda",
   "metadata": {},
   "outputs": [
    {
     "name": "stdout",
     "output_type": "stream",
     "text": [
      "1 2 3 4 5 \n",
      "1 2 3 4 \n",
      "1 2 3 \n",
      "1 2 \n",
      "1 \n"
     ]
    }
   ],
   "source": [
    "#Reverse Number Triangle**\n",
    "\n",
    "\n",
    "rows = 5\n",
    "for i in range(rows, 0, -1):\n",
    "    for j in range(1, i + 1):\n",
    "        print(j, end=\" \")\n",
    "    print()\n"
   ]
  },
  {
   "cell_type": "code",
   "execution_count": 12,
   "id": "5bd4b300",
   "metadata": {},
   "outputs": [
    {
     "name": "stdout",
     "output_type": "stream",
     "text": [
      "1 \n",
      "2 3 \n",
      "4 5 6 \n",
      "7 8 9 10 \n",
      "11 12 13 14 15 \n"
     ]
    }
   ],
   "source": [
    "#Continuous Number Triangle**\n",
    "\n",
    "\n",
    "rows = 5\n",
    "num = 1\n",
    "for i in range(1, rows + 1):\n",
    "    for j in range(1, i + 1):\n",
    "        print(num, end=\" \")\n",
    "        num += 1\n",
    "    print()\n"
   ]
  },
  {
   "cell_type": "code",
   "execution_count": 13,
   "id": "b8e295a2",
   "metadata": {},
   "outputs": [
    {
     "name": "stdout",
     "output_type": "stream",
     "text": [
      "    *\n",
      "   * *\n",
      "  *   *\n",
      " *     *\n",
      "*********\n"
     ]
    }
   ],
   "source": [
    "#Hollow Pyramid**\n",
    "\n",
    "\n",
    "rows = 5\n",
    "for i in range(1, rows + 1):\n",
    "    print(\" \" * (rows - i), end=\"\")\n",
    "    for j in range(1, 2*i):\n",
    "        if j == 1 or j == 2*i - 1 or i == rows:\n",
    "            print(\"*\", end=\"\")\n",
    "        else:\n",
    "            print(\" \", end=\"\")\n",
    "    print()"
   ]
  },
  {
   "cell_type": "code",
   "execution_count": null,
   "id": "98d6c4bc",
   "metadata": {},
   "outputs": [
    {
     "name": "stdout",
     "output_type": "stream",
     "text": [
      "1 \n",
      "2 3 \n",
      "4 5 6 \n",
      "7 8 9 10 \n",
      "11 12 13 14 15 \n"
     ]
    }
   ],
   "source": [
    "#Floyd’s Triangle**\n",
    "rows = 5\n",
    "num = 1\n",
    "for i in range(1, rows + 1):\n",
    "    for j in range(i):\n",
    "        print(num, end=\" \")\n",
    "        num += 1\n",
    "    print()\n",
    "\n"
   ]
  },
  {
   "cell_type": "code",
   "execution_count": 21,
   "id": "46c5cad8",
   "metadata": {},
   "outputs": [
    {
     "name": "stdout",
     "output_type": "stream",
     "text": [
      "*********\n",
      " *******\n",
      "  *****\n",
      "   ***\n",
      "    *\n",
      "   ***\n",
      "  *****\n",
      " *******\n",
      "*********\n"
     ]
    }
   ],
   "source": [
    "rows = 5\n",
    "for i in range(rows, 0, -1):\n",
    "    print(\" \" * (rows - i) + \"*\" * (2*i - 1))\n",
    "for i in range(2, rows + 1):\n",
    "    print(\" \" * (rows - i) + \"*\" * (2*i - 1))\n"
   ]
  },
  {
   "cell_type": "code",
   "execution_count": null,
   "id": "4fc7d99c",
   "metadata": {},
   "outputs": [
    {
     "name": "stdout",
     "output_type": "stream",
     "text": [
      "     1 \n",
      "    1 1 \n",
      "   1 2 1 \n",
      "  1 3 3 1 \n",
      " 1 4 6 4 1 \n"
     ]
    }
   ],
   "source": [
    "#Pascal’s Triangle**\n",
    "rows = 5\n",
    "for i in range(rows):\n",
    "    print(\" \" * (rows - i), end=\"\")\n",
    "    num = 1\n",
    "    for j in range(i + 1):\n",
    "        print(num, end=\" \")\n",
    "        num = num * (i - j) // (j + 1)\n",
    "    print()\n"
   ]
  },
  {
   "cell_type": "code",
   "execution_count": 23,
   "id": "65925338",
   "metadata": {},
   "outputs": [
    {
     "name": "stdout",
     "output_type": "stream",
     "text": [
      "*     *\n",
      " *   * \n",
      "  * *  \n",
      "   *   \n",
      "  * *  \n",
      " *   * \n",
      "*     *\n"
     ]
    }
   ],
   "source": [
    "#Cross Pattern**\n",
    "rows = 7\n",
    "for i in range(rows):\n",
    "    for j in range(rows):\n",
    "        if i == j or i + j == rows - 1:\n",
    "            print(\"*\", end=\"\")\n",
    "        else:\n",
    "            print(\" \", end=\"\")\n",
    "    print()"
   ]
  },
  {
   "cell_type": "code",
   "execution_count": 29,
   "id": "71e445d3",
   "metadata": {},
   "outputs": [
    {
     "name": "stdout",
     "output_type": "stream",
     "text": [
      "*        *\n",
      "**      **\n",
      "***    ***\n",
      "****  ****\n",
      "**********\n",
      "**********\n",
      "****  ****\n",
      "***    ***\n",
      "**      **\n",
      "*        *\n"
     ]
    }
   ],
   "source": [
    "#.#Butterfly Pattern\n",
    "rows = 5\n",
    "for i in range(1, rows + 1):\n",
    "    print(\"*\" * i + \" \" * (2*(rows - i)) + \"*\" * i)\n",
    "for i in range(rows, 0, -1):\n",
    "    print(\"*\" * i + \" \" * (2*(rows - i)) + \"*\" * i)\n"
   ]
  }
 ],
 "metadata": {
  "kernelspec": {
   "display_name": "Python 3",
   "language": "python",
   "name": "python3"
  },
  "language_info": {
   "codemirror_mode": {
    "name": "ipython",
    "version": 3
   },
   "file_extension": ".py",
   "mimetype": "text/x-python",
   "name": "python",
   "nbconvert_exporter": "python",
   "pygments_lexer": "ipython3",
   "version": "3.11.9"
  }
 },
 "nbformat": 4,
 "nbformat_minor": 5
}
