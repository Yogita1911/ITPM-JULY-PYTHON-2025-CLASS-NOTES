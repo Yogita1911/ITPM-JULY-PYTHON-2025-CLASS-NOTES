{
 "cells": [
  {
   "cell_type": "markdown",
   "id": "87ef36fe",
   "metadata": {},
   "source": [
    "For loop pattern programs."
   ]
  },
  {
   "cell_type": "markdown",
   "id": "8fadf4d2",
   "metadata": {},
   "source": [
    "1. * * * * *"
   ]
  },
  {
   "cell_type": "code",
   "execution_count": 1,
   "id": "5059bb05",
   "metadata": {},
   "outputs": [
    {
     "name": "stdout",
     "output_type": "stream",
     "text": [
      "*\n",
      "*\n",
      "*\n",
      "*\n",
      "*\n"
     ]
    }
   ],
   "source": [
    "for i in range(1,6):\n",
    "   print(\"*\")"
   ]
  },
  {
   "cell_type": "code",
   "execution_count": 2,
   "id": "197d364f",
   "metadata": {},
   "outputs": [
    {
     "name": "stdout",
     "output_type": "stream",
     "text": [
      "* * * * * "
     ]
    }
   ],
   "source": [
    "for i in range(1,6):\n",
    "    print(\"*\",end = \" \")"
   ]
  },
  {
   "cell_type": "markdown",
   "id": "b0f4ce8d",
   "metadata": {},
   "source": [
    "* * * *\n",
    "* * * * \n",
    "* * * *\n",
    "* * * *"
   ]
  },
  {
   "cell_type": "code",
   "execution_count": 4,
   "id": "35e1c491",
   "metadata": {},
   "outputs": [
    {
     "name": "stdout",
     "output_type": "stream",
     "text": [
      "* * * * \n",
      "* * * * \n",
      "* * * * \n",
      "* * * * \n"
     ]
    }
   ],
   "source": [
    "n=4\n",
    "for i in range(1,n+1):#1,5\n",
    "    print(\"* \" * n)"
   ]
  },
  {
   "cell_type": "code",
   "execution_count": 13,
   "id": "8c62685d",
   "metadata": {},
   "outputs": [
    {
     "name": "stdout",
     "output_type": "stream",
     "text": [
      "* * * *  \n",
      "* * * *  \n",
      "* * * *  \n",
      "* * * *  \n"
     ]
    }
   ],
   "source": [
    "for i in range(1,5):#Row \n",
    "    for j in range(1,5):#col\n",
    "        print(\"*\" , end = \" \")\n",
    "    print(\" \")"
   ]
  },
  {
   "cell_type": "markdown",
   "id": "a70a7918",
   "metadata": {},
   "source": [
    "1 1 1 1 \n",
    "2 2 2 2\n",
    "3 3 3 3\n",
    "4 4 4 4"
   ]
  },
  {
   "cell_type": "code",
   "execution_count": 11,
   "id": "60574818",
   "metadata": {},
   "outputs": [
    {
     "name": "stdout",
     "output_type": "stream",
     "text": [
      "4 4 4 4 \n"
     ]
    }
   ],
   "source": [
    "x = 4 #4 4 4 4\n",
    "print((str(x)+\" \")*4)"
   ]
  },
  {
   "cell_type": "code",
   "execution_count": 8,
   "id": "fc353324",
   "metadata": {},
   "outputs": [
    {
     "name": "stdout",
     "output_type": "stream",
     "text": [
      "1 1 1 1 \n",
      "2 2 2 2 \n",
      "3 3 3 3 \n",
      "4 4 4 4 \n"
     ]
    }
   ],
   "source": [
    "n=4\n",
    "for i in range(1,n+1):\n",
    "    print((str(i)+\" \") * n)"
   ]
  },
  {
   "cell_type": "markdown",
   "id": "02dba138",
   "metadata": {},
   "source": [
    "*\n",
    "* *\n",
    "* * *\n",
    "* * * *\n",
    "* * * * *"
   ]
  },
  {
   "cell_type": "code",
   "execution_count": 16,
   "id": "2107197f",
   "metadata": {},
   "outputs": [
    {
     "name": "stdout",
     "output_type": "stream",
     "text": [
      "* \n",
      "* * \n",
      "* * * \n",
      "* * * * \n",
      "* * * * * \n"
     ]
    }
   ],
   "source": [
    "for i in range(1,6):\n",
    "    print(\"* \"*i)"
   ]
  },
  {
   "cell_type": "markdown",
   "id": "332b30a4",
   "metadata": {},
   "source": [
    "* * * * *\n",
    "* * * *\n",
    "* * *\n",
    "* *\n",
    "*"
   ]
  },
  {
   "cell_type": "code",
   "execution_count": 17,
   "id": "59d36d2c",
   "metadata": {},
   "outputs": [
    {
     "name": "stdout",
     "output_type": "stream",
     "text": [
      "* * * * * \n",
      "* * * * \n",
      "* * * \n",
      "* * \n",
      "* \n"
     ]
    }
   ],
   "source": [
    "for i in range(5,0,-1):\n",
    "    print(\"* \"*i)"
   ]
  },
  {
   "cell_type": "markdown",
   "id": "91b8fb1f",
   "metadata": {},
   "source": [
    "1 \n",
    "2 2 \n",
    "3 3 3 \n",
    "4 4 4 4 \n",
    "5 5 5 5 5 "
   ]
  },
  {
   "cell_type": "code",
   "execution_count": 51,
   "id": "8e96eef3",
   "metadata": {},
   "outputs": [
    {
     "ename": "SyntaxError",
     "evalue": "invalid syntax (292816949.py, line 2)",
     "output_type": "error",
     "traceback": [
      "  \u001b[36mCell\u001b[39m\u001b[36m \u001b[39m\u001b[32mIn[51]\u001b[39m\u001b[32m, line 2\u001b[39m\n\u001b[31m    \u001b[39m\u001b[31mprint(str(i)+ * i)\u001b[39m\n                  ^\n\u001b[31mSyntaxError\u001b[39m\u001b[31m:\u001b[39m invalid syntax\n"
     ]
    }
   ],
   "source": [
    "for i in range(1,6):\n",
    "    print(str(i)+ * i)"
   ]
  },
  {
   "cell_type": "markdown",
   "id": "e3ab8ca9",
   "metadata": {},
   "source": [
    "A\n",
    "A B\n",
    "A B C"
   ]
  },
  {
   "cell_type": "code",
   "execution_count": 30,
   "id": "0c3980a1",
   "metadata": {},
   "outputs": [
    {
     "name": "stdout",
     "output_type": "stream",
     "text": [
      "A  \n",
      "A B  \n",
      "A B C  \n",
      "A B C D  \n",
      "A B C D E  \n"
     ]
    }
   ],
   "source": [
    "for i in range(1,6):#Rows\n",
    "    for j in range(65,65+i):#col\n",
    "        print(chr(j),end = \" \")\n",
    "        \n",
    "    print(\" \")"
   ]
  },
  {
   "cell_type": "code",
   "execution_count": 33,
   "id": "50c166ab",
   "metadata": {},
   "outputs": [
    {
     "name": "stdout",
     "output_type": "stream",
     "text": [
      "A B C D E F  \n",
      "A B C D E  \n",
      "A B C D  \n",
      "A B C  \n",
      "A B  \n",
      "A  \n"
     ]
    }
   ],
   "source": [
    "for i in range(6,0,-1):#Rows\n",
    "    for j in range(65,65+i):#col\n",
    "        print(chr(j),end = \" \")\n",
    "        \n",
    "    print(\" \")"
   ]
  },
  {
   "cell_type": "code",
   "execution_count": null,
   "id": "75bb52f3",
   "metadata": {},
   "outputs": [],
   "source": []
  },
  {
   "cell_type": "markdown",
   "id": "13a84467",
   "metadata": {},
   "source": [
    "1\n",
    "1 2\n",
    "1 2 3\n",
    "1 2 3 4\n",
    "1 2 3 4 5"
   ]
  },
  {
   "cell_type": "code",
   "execution_count": 57,
   "id": "df7b89b4",
   "metadata": {},
   "outputs": [
    {
     "name": "stdout",
     "output_type": "stream",
     "text": [
      "1 \n",
      "1 2 \n",
      "1 2 3 \n",
      "1 2 3 4 \n",
      "1 2 3 4 5 \n"
     ]
    }
   ],
   "source": [
    "n=5\n",
    "for i in range(1,n+1):\n",
    "    for j in range(1,i+1):\n",
    "        print(j,end=\" \")\n",
    "    print()\n",
    "  "
   ]
  },
  {
   "cell_type": "markdown",
   "id": "bf3f2ee9",
   "metadata": {},
   "source": [
    "1 - - - -\n",
    "1 2 - - -\n",
    "1 2 3 - -\n",
    "1 2 3 4 -\n",
    "1 2 3 4 5 "
   ]
  },
  {
   "cell_type": "code",
   "execution_count": null,
   "id": "79860350",
   "metadata": {},
   "outputs": [],
   "source": []
  }
 ],
 "metadata": {
  "kernelspec": {
   "display_name": "Python 3",
   "language": "python",
   "name": "python3"
  },
  "language_info": {
   "codemirror_mode": {
    "name": "ipython",
    "version": 3
   },
   "file_extension": ".py",
   "mimetype": "text/x-python",
   "name": "python",
   "nbconvert_exporter": "python",
   "pygments_lexer": "ipython3",
   "version": "3.11.9"
  }
 },
 "nbformat": 4,
 "nbformat_minor": 5
}
